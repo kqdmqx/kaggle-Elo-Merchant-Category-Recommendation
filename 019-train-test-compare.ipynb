{
 "cells": [
  {
   "cell_type": "code",
   "execution_count": 1,
   "metadata": {
    "ExecuteTime": {
     "end_time": "2019-02-17T14:56:59.216090Z",
     "start_time": "2019-02-17T14:56:17.478136Z"
    }
   },
   "outputs": [
    {
     "name": "stdout",
     "output_type": "stream",
     "text": [
      "train - done in 0s\n",
      "all_trans - done in 0s\n",
      "hist_trans - done in 6s\n",
      "new_trans - done in 8s\n",
      "newk - done in 1s\n",
      "psum - done in 1s\n",
      "monthly_pmax - done in 1s\n",
      "monthly_merchant_pmax - done in 1s\n",
      "main_merchant_count - done in 1s\n",
      "monthly_merchant_avg_std - done in 1s\n",
      "2019-02-17 22:56:39 train_predict_notebook019 >>> [info] train_data.shape : (201917, 1177)\n",
      "2019-02-17 22:56:39 train_predict_notebook019 >>> [info] train_data.head :    feature_1  feature_2  feature_3    target          card_id  fa_month  \\\n",
      "0        5.0        2.0        1.0 -0.820283  C_ID_92a2005557  201706.0   \n",
      "1        4.0        1.0        0.0  0.392913  C_ID_3d0044924f  201701.0   \n",
      "2        2.0        2.0        0.0  0.688056  C_ID_d639edf6cd  201608.0   \n",
      "3        4.0        3.0        0.0  0.142495  C_ID_186d6a6901  201709.0   \n",
      "4        1.0        3.0        0.0 -0.159749  C_ID_cdbd2c0db2  201711.0   \n",
      "\n",
      "   purchase_amount_sum_hist_trans  purchase_amount_mean_hist_trans  \\\n",
      "0                     -165.968735                        -0.638341   \n",
      "1                     -210.006332                        -0.600018   \n",
      "2                      -29.167391                        -0.678311   \n",
      "3                      -49.491364                        -0.642745   \n",
      "4                      -48.687656                        -0.366073   \n",
      "\n",
      "   purchase_amount_max_hist_trans  purchase_amount_min_hist_trans  \\\n",
      "0                        2.258394                       -0.739395   \n",
      "1                        4.630300                       -0.742400   \n",
      "2                       -0.145847                       -0.730138   \n",
      "3                        1.445596                       -0.740897   \n",
      "4                        7.193041                       -0.746156   \n",
      "\n",
      "                  ...                   ratio_4_lag1_monthly_merchant_avg_std  \\\n",
      "0                 ...                                                0.838850   \n",
      "1                 ...                                                1.198915   \n",
      "2                 ...                                                     NaN   \n",
      "3                 ...                                                0.628000   \n",
      "4                 ...                                                0.654410   \n",
      "\n",
      "   sum_1_lag1_monthly_merchant_avg_std  ratio_1_lag2_monthly_merchant_avg_std  \\\n",
      "0                             0.000000                                    inf   \n",
      "1                           129.429443                               0.356108   \n",
      "2                                  NaN                               0.139442   \n",
      "3                            31.392708                               0.327980   \n",
      "4                           132.356598                               1.713783   \n",
      "\n",
      "   sum_2_lag2_monthly_merchant_avg_std  ratio_2_lag2_monthly_merchant_avg_std  \\\n",
      "0                            42.624397                               0.799121   \n",
      "1                           175.520370                               0.960342   \n",
      "2                            64.346779                                    NaN   \n",
      "3                            41.688900                               0.327513   \n",
      "4                           359.187012                               1.349031   \n",
      "\n",
      "   sum_3_lag2_monthly_merchant_avg_std  ratio_3_lag2_monthly_merchant_avg_std  \\\n",
      "0                            95.963516                               0.758194   \n",
      "1                           228.859482                               0.821271   \n",
      "2                                  NaN                                    NaN   \n",
      "3                           137.585403                               0.708644   \n",
      "4                           493.085968                               1.634841   \n",
      "\n",
      "   sum_4_lag2_monthly_merchant_avg_std  ratio_4_lag2_monthly_merchant_avg_std  \\\n",
      "0                           169.192993                               0.609371   \n",
      "1                           324.755981                               0.978168   \n",
      "2                                  NaN                                    NaN   \n",
      "3                           204.449295                               0.301771   \n",
      "4                           528.441284                               1.610887   \n",
      "\n",
      "   sum_1_lag2_monthly_merchant_avg_std  \n",
      "0                            42.624397  \n",
      "1                            46.090923  \n",
      "2                             7.874598  \n",
      "3                            10.296194  \n",
      "4                           226.830429  \n",
      "\n",
      "[5 rows x 1177 columns]\n",
      "test - done in 0s\n",
      "all_trans - done in 0s\n",
      "hist_trans - done in 5s\n",
      "new_trans - done in 6s\n",
      "newk - done in 1s\n",
      "psum - done in 1s\n",
      "monthly_pmax - done in 1s\n",
      "monthly_merchant_pmax - done in 1s\n",
      "main_merchant_count - done in 1s\n",
      "monthly_merchant_avg_std - done in 1s\n"
     ]
    }
   ],
   "source": [
    "import addict\n",
    "import pandas as pd\n",
    "# from data_io import load_train_features, load_test_features\n",
    "from data_io import load_train_all_features, load_test_all_features\n",
    "from validator import KFoldValidator\n",
    "from models import LGBModel\n",
    "from my_logger import print_info, init_global_logger\n",
    "\n",
    "\n",
    "def encode_feature123(data, encoder, is_train=True):\n",
    "    if is_train:\n",
    "        data[\"outlier\"] = (data.target < -30)\n",
    "        encoder = addict.Dict()\n",
    "    for col in [\"feature_1\", \"feature_2\", \"feature_3\"]:\n",
    "        if is_train:\n",
    "            encoder[col] = data.groupby([col])['outlier'].mean()\n",
    "        data[col] = data[col].map(encoder[col])\n",
    "    return data, encoder\n",
    "\n",
    "\n",
    "model_name = \"notebook019\"\n",
    "init_global_logger(\"train_predict_\" + model_name)\n",
    "train_data = load_train_all_features()\n",
    "print_info(\"train_data.shape\", train_data.shape)\n",
    "print_info(\"train_data.head\", train_data.head())\n",
    "train_data, encoder_ = encode_feature123(train_data, None, is_train=True)\n",
    "\n",
    "# features = list(train_data.columns)\n",
    "# features.remove(\"outlier\")\n",
    "# features.remove(\"card_id\")\n",
    "# features.remove(\"target\")\n",
    "\n",
    "features = list(pd.read_csv(\"./models/lgb018.csv\").feature_name.values)\n",
    "\n",
    "test_data = load_test_all_features()\n",
    "test_data, encoder_ = encode_feature123(test_data, encoder_, is_train=False)"
   ]
  },
  {
   "cell_type": "code",
   "execution_count": 3,
   "metadata": {
    "ExecuteTime": {
     "end_time": "2019-02-17T14:58:47.749164Z",
     "start_time": "2019-02-17T14:58:30.823102Z"
    }
   },
   "outputs": [
    {
     "name": "stderr",
     "output_type": "stream",
     "text": [
      "100%|████████████████████████████████████████████████████████████████████████████████| 339/339 [00:16<00:00, 20.04it/s]\n"
     ]
    }
   ],
   "source": [
    "from scipy.stats import ks_2samp\n",
    "from tqdm import tqdm\n",
    "\n",
    "list_p_value =[]\n",
    "\n",
    "for ftr in tqdm(features):\n",
    "    list_p_value.append(ks_2samp(test_data[ftr] , train_data[ftr])[1])"
   ]
  },
  {
   "cell_type": "code",
   "execution_count": 4,
   "metadata": {
    "ExecuteTime": {
     "end_time": "2019-02-17T14:58:50.447339Z",
     "start_time": "2019-02-17T14:58:50.443328Z"
    }
   },
   "outputs": [],
   "source": [
    "train_test_cmp = pd.Series(list_p_value, index=features).sort_values() "
   ]
  },
  {
   "cell_type": "code",
   "execution_count": 5,
   "metadata": {
    "ExecuteTime": {
     "end_time": "2019-02-17T14:58:55.527844Z",
     "start_time": "2019-02-17T14:58:55.514840Z"
    }
   },
   "outputs": [
    {
     "data": {
      "text/plain": [
       "newk_price_max                           0.012798\n",
       "sum_3_lag2_psum                          0.026120\n",
       "ratio_1_lag0_psum                        0.037878\n",
       "purchase_amount_mean_new_trans           0.043279\n",
       "category_2_3.0_hist_trans                0.054424\n",
       "newk_hist_price_sum                      0.055230\n",
       "newk_new_hour_mean                       0.061459\n",
       "newk_new_duration_mean                   0.065316\n",
       "newk_price_mean                          0.069396\n",
       "newk_new_hour_min                        0.084506\n",
       "newk_hist_category_3_mean                0.096912\n",
       "purchase_amount_sum_new_trans            0.099088\n",
       "installments_mean_hist_trans             0.101061\n",
       "newk_hist_duration_mean                  0.105121\n",
       "newk_hist_duration_max                   0.106374\n",
       "newk_new_month_lag_mean                  0.112871\n",
       "newk_hist_category_2_mean_mean           0.129670\n",
       "newk_hist_Black_Friday_2017_mean         0.134762\n",
       "newk_days_feature1_ratio                 0.135311\n",
       "newk_hist_amount_month_ratio_var         0.146537\n",
       "ratio_4_lag0_psum                        0.152144\n",
       "subsector_id_21_hist_trans               0.160118\n",
       "purchase_amount_min_hist_trans           0.164235\n",
       "ratio_1_lag1_monthly_merchant_avg_std    0.170989\n",
       "installments_std_hist_trans              0.176058\n",
       "category_2_3.0_new_trans                 0.196148\n",
       "newk_new_price_min                       0.196917\n",
       "newk_new_category_3_mean_mean            0.201068\n",
       "newk_hist_month_lag_mean                 0.209110\n",
       "purchase_amount_max_new_trans            0.210023\n",
       "                                           ...   \n",
       "city_id_333_hist_trans                   1.000000\n",
       "state_id_4_hist_trans                    1.000000\n",
       "city_id_138_hist_trans                   1.000000\n",
       "merchant_category_id_661_hist_trans      1.000000\n",
       "city_id_283_hist_trans                   1.000000\n",
       "merchant_category_id_195_hist_trans      1.000000\n",
       "purchase_hour_1_hist_trans               1.000000\n",
       "city_id_88_hist_trans                    1.000000\n",
       "purchase_hour_6_hist_trans               1.000000\n",
       "city_id_233_hist_trans                   1.000000\n",
       "subsector_id_35_hist_trans               1.000000\n",
       "subsector_id_-1_hist_trans               1.000000\n",
       "purchase_hour_3_hist_trans               1.000000\n",
       "city_id_87_hist_trans                    1.000000\n",
       "merchant_category_id_19_hist_trans       1.000000\n",
       "subsector_id_5_hist_trans                1.000000\n",
       "state_id_24_hist_trans                   1.000000\n",
       "city_id_53_hist_trans                    1.000000\n",
       "installments_5_hist_trans                1.000000\n",
       "newk_quarter                             1.000000\n",
       "city_id_143_hist_trans                   1.000000\n",
       "state_id_10_hist_trans                   1.000000\n",
       "city_id_277_hist_trans                   1.000000\n",
       "state_id_1_hist_trans                    1.000000\n",
       "city_id_286_hist_trans                   1.000000\n",
       "city_id_107_hist_trans                   1.000000\n",
       "state_id_13_hist_trans                   1.000000\n",
       "state_id_12_hist_trans                   1.000000\n",
       "state_id_2_hist_trans                    1.000000\n",
       "city_id_331_hist_trans                   1.000000\n",
       "Length: 339, dtype: float64"
      ]
     },
     "execution_count": 5,
     "metadata": {},
     "output_type": "execute_result"
    }
   ],
   "source": [
    "train_test_cmp"
   ]
  },
  {
   "cell_type": "code",
   "execution_count": 7,
   "metadata": {
    "ExecuteTime": {
     "end_time": "2019-02-17T15:00:10.788955Z",
     "start_time": "2019-02-17T15:00:10.783940Z"
    }
   },
   "outputs": [
    {
     "data": {
      "text/plain": [
       "['newk_price_max',\n",
       " 'sum_3_lag2_psum',\n",
       " 'ratio_1_lag0_psum',\n",
       " 'purchase_amount_mean_new_trans',\n",
       " 'category_2_3.0_hist_trans',\n",
       " 'newk_hist_price_sum',\n",
       " 'newk_new_hour_mean',\n",
       " 'newk_new_duration_mean',\n",
       " 'newk_price_mean',\n",
       " 'newk_new_hour_min',\n",
       " 'newk_hist_category_3_mean',\n",
       " 'purchase_amount_sum_new_trans']"
      ]
     },
     "execution_count": 7,
     "metadata": {},
     "output_type": "execute_result"
    }
   ],
   "source": [
    "list_discarded = list(train_test_cmp[train_test_cmp < .1].index)\n",
    "list_discarded"
   ]
  }
 ],
 "metadata": {
  "kernelspec": {
   "display_name": "Python 3",
   "language": "python",
   "name": "python3"
  },
  "language_info": {
   "codemirror_mode": {
    "name": "ipython",
    "version": 3
   },
   "file_extension": ".py",
   "mimetype": "text/x-python",
   "name": "python",
   "nbconvert_exporter": "python",
   "pygments_lexer": "ipython3",
   "version": "3.6.6"
  },
  "toc": {
   "base_numbering": 1,
   "nav_menu": {},
   "number_sections": true,
   "sideBar": true,
   "skip_h1_title": false,
   "title_cell": "Table of Contents",
   "title_sidebar": "Contents",
   "toc_cell": false,
   "toc_position": {},
   "toc_section_display": true,
   "toc_window_display": false
  },
  "varInspector": {
   "cols": {
    "lenName": 16,
    "lenType": 16,
    "lenVar": 40
   },
   "kernels_config": {
    "python": {
     "delete_cmd_postfix": "",
     "delete_cmd_prefix": "del ",
     "library": "var_list.py",
     "varRefreshCmd": "print(var_dic_list())"
    },
    "r": {
     "delete_cmd_postfix": ") ",
     "delete_cmd_prefix": "rm(",
     "library": "var_list.r",
     "varRefreshCmd": "cat(var_dic_list()) "
    }
   },
   "types_to_exclude": [
    "module",
    "function",
    "builtin_function_or_method",
    "instance",
    "_Feature"
   ],
   "window_display": false
  }
 },
 "nbformat": 4,
 "nbformat_minor": 2
}
