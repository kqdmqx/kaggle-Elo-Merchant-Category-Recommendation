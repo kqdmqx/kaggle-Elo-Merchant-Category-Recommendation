{
 "cells": [
  {
   "cell_type": "markdown",
   "metadata": {},
   "source": [
    "# load data"
   ]
  },
  {
   "cell_type": "code",
   "execution_count": 2,
   "metadata": {
    "ExecuteTime": {
     "end_time": "2019-02-18T13:31:43.472497Z",
     "start_time": "2019-02-18T13:30:47.781272Z"
    }
   },
   "outputs": [
    {
     "name": "stdout",
     "output_type": "stream",
     "text": [
      "train - done in 0s\n",
      "test - done in 0s\n",
      "hist_trans - done in 11s\n",
      "new_trans - done in 14s\n",
      "newk - done in 2s\n",
      "monthly_psum - done in 2s\n",
      "monthly_pmax - done in 2s\n",
      "monthly_merchant_pmax - done in 3s\n",
      "main_merchant_count - done in 2s\n",
      "monthly_merchant_avg_std - done in 3s\n",
      "monthly_pmax_abs - done in 3s\n",
      "monthly_merchant_pmax_abs - done in 4s\n",
      "duar_count - done in 2s\n",
      "monthly_merchant_avg_std_abs - done in 3s\n",
      "2019-02-18 21:31:39 notebook_notebook025 >>> [info] train_data.shape : (201917, 1590)\n",
      "2019-02-18 21:31:39 notebook_notebook025 >>> [info] train_data.shape : (201917, 1590)\n",
      "2019-02-18 21:31:39 notebook_notebook025 >>> [info] train_data.head :    feature_1  feature_2  feature_3    target          card_id  fa_month  \\\n",
      "0        5.0        2.0        1.0 -0.820283  C_ID_92a2005557  201706.0   \n",
      "1        4.0        1.0        0.0  0.392913  C_ID_3d0044924f  201701.0   \n",
      "2        2.0        2.0        0.0  0.688056  C_ID_d639edf6cd  201608.0   \n",
      "3        4.0        3.0        0.0  0.142495  C_ID_186d6a6901  201709.0   \n",
      "4        1.0        3.0        0.0 -0.159749  C_ID_cdbd2c0db2  201711.0   \n",
      "\n",
      "   purchase_amount_sum_hist_trans  purchase_amount_mean_hist_trans  \\\n",
      "0                     -165.968735                        -0.638341   \n",
      "1                     -210.006332                        -0.600018   \n",
      "2                      -29.167391                        -0.678311   \n",
      "3                      -49.491364                        -0.642745   \n",
      "4                      -48.687656                        -0.366073   \n",
      "\n",
      "   purchase_amount_max_hist_trans  purchase_amount_min_hist_trans  \\\n",
      "0                        2.258394                       -0.739395   \n",
      "1                        4.630300                       -0.742400   \n",
      "2                       -0.145847                       -0.730138   \n",
      "3                        1.445596                       -0.740897   \n",
      "4                        7.193041                       -0.746156   \n",
      "\n",
      "                     ...                     \\\n",
      "0                    ...                      \n",
      "1                    ...                      \n",
      "2                    ...                      \n",
      "3                    ...                      \n",
      "4                    ...                      \n",
      "\n",
      "   ratio_4_lag14_monthly_merchant_avg_std_abs  \\\n",
      "0                                    0.838850   \n",
      "1                                    0.978168   \n",
      "2                                         NaN   \n",
      "3                                    0.628000   \n",
      "4                                    0.654410   \n",
      "\n",
      "   sum_1_lag14_monthly_merchant_avg_std_abs  \\\n",
      "0                                  0.000000   \n",
      "1                                 46.090923   \n",
      "2                                       NaN   \n",
      "3                                 31.392708   \n",
      "4                                132.356598   \n",
      "\n",
      "   ratio_1_lag15_monthly_merchant_avg_std_abs  \\\n",
      "0                                         inf   \n",
      "1                                         NaN   \n",
      "2                                    0.139442   \n",
      "3                                    0.327980   \n",
      "4                                    1.713783   \n",
      "\n",
      "   sum_2_lag15_monthly_merchant_avg_std_abs  \\\n",
      "0                                 42.624397   \n",
      "1                                       NaN   \n",
      "2                                 64.346779   \n",
      "3                                 41.688900   \n",
      "4                                359.187012   \n",
      "\n",
      "   ratio_2_lag15_monthly_merchant_avg_std_abs  \\\n",
      "0                                    0.799121   \n",
      "1                                         NaN   \n",
      "2                                         NaN   \n",
      "3                                    0.327513   \n",
      "4                                    1.349031   \n",
      "\n",
      "   sum_3_lag15_monthly_merchant_avg_std_abs  \\\n",
      "0                                 95.963516   \n",
      "1                                       NaN   \n",
      "2                                       NaN   \n",
      "3                                137.585403   \n",
      "4                                493.085968   \n",
      "\n",
      "   ratio_3_lag15_monthly_merchant_avg_std_abs  \\\n",
      "0                                    0.758194   \n",
      "1                                         NaN   \n",
      "2                                         NaN   \n",
      "3                                    0.708644   \n",
      "4                                    1.634841   \n",
      "\n",
      "   sum_4_lag15_monthly_merchant_avg_std_abs  \\\n",
      "0                                169.192993   \n",
      "1                                       NaN   \n",
      "2                                       NaN   \n",
      "3                                204.449295   \n",
      "4                                528.441284   \n",
      "\n",
      "   ratio_4_lag15_monthly_merchant_avg_std_abs  \\\n",
      "0                                    0.609371   \n",
      "1                                         NaN   \n",
      "2                                         NaN   \n",
      "3                                    0.301771   \n",
      "4                                    1.610887   \n",
      "\n",
      "   sum_1_lag15_monthly_merchant_avg_std_abs  \n",
      "0                                 42.624397  \n",
      "1                                       NaN  \n",
      "2                                  7.874598  \n",
      "3                                 10.296194  \n",
      "4                                226.830429  \n",
      "\n",
      "[5 rows x 1590 columns]\n",
      "2019-02-18 21:31:39 notebook_notebook025 >>> [info] train_data.head :    feature_1  feature_2  feature_3    target          card_id  fa_month  \\\n",
      "0        5.0        2.0        1.0 -0.820283  C_ID_92a2005557  201706.0   \n",
      "1        4.0        1.0        0.0  0.392913  C_ID_3d0044924f  201701.0   \n",
      "2        2.0        2.0        0.0  0.688056  C_ID_d639edf6cd  201608.0   \n",
      "3        4.0        3.0        0.0  0.142495  C_ID_186d6a6901  201709.0   \n",
      "4        1.0        3.0        0.0 -0.159749  C_ID_cdbd2c0db2  201711.0   \n",
      "\n",
      "   purchase_amount_sum_hist_trans  purchase_amount_mean_hist_trans  \\\n",
      "0                     -165.968735                        -0.638341   \n",
      "1                     -210.006332                        -0.600018   \n",
      "2                      -29.167391                        -0.678311   \n",
      "3                      -49.491364                        -0.642745   \n",
      "4                      -48.687656                        -0.366073   \n",
      "\n",
      "   purchase_amount_max_hist_trans  purchase_amount_min_hist_trans  \\\n",
      "0                        2.258394                       -0.739395   \n",
      "1                        4.630300                       -0.742400   \n",
      "2                       -0.145847                       -0.730138   \n",
      "3                        1.445596                       -0.740897   \n",
      "4                        7.193041                       -0.746156   \n",
      "\n",
      "                     ...                     \\\n",
      "0                    ...                      \n",
      "1                    ...                      \n",
      "2                    ...                      \n",
      "3                    ...                      \n",
      "4                    ...                      \n",
      "\n",
      "   ratio_4_lag14_monthly_merchant_avg_std_abs  \\\n",
      "0                                    0.838850   \n",
      "1                                    0.978168   \n",
      "2                                         NaN   \n",
      "3                                    0.628000   \n",
      "4                                    0.654410   \n",
      "\n",
      "   sum_1_lag14_monthly_merchant_avg_std_abs  \\\n",
      "0                                  0.000000   \n",
      "1                                 46.090923   \n",
      "2                                       NaN   \n",
      "3                                 31.392708   \n",
      "4                                132.356598   \n",
      "\n",
      "   ratio_1_lag15_monthly_merchant_avg_std_abs  \\\n",
      "0                                         inf   \n",
      "1                                         NaN   \n",
      "2                                    0.139442   \n",
      "3                                    0.327980   \n",
      "4                                    1.713783   \n",
      "\n",
      "   sum_2_lag15_monthly_merchant_avg_std_abs  \\\n",
      "0                                 42.624397   \n",
      "1                                       NaN   \n",
      "2                                 64.346779   \n",
      "3                                 41.688900   \n",
      "4                                359.187012   \n",
      "\n",
      "   ratio_2_lag15_monthly_merchant_avg_std_abs  \\\n",
      "0                                    0.799121   \n",
      "1                                         NaN   \n",
      "2                                         NaN   \n",
      "3                                    0.327513   \n",
      "4                                    1.349031   \n",
      "\n",
      "   sum_3_lag15_monthly_merchant_avg_std_abs  \\\n",
      "0                                 95.963516   \n",
      "1                                       NaN   \n",
      "2                                       NaN   \n",
      "3                                137.585403   \n",
      "4                                493.085968   \n",
      "\n",
      "   ratio_3_lag15_monthly_merchant_avg_std_abs  \\\n",
      "0                                    0.758194   \n",
      "1                                         NaN   \n",
      "2                                         NaN   \n",
      "3                                    0.708644   \n",
      "4                                    1.634841   \n",
      "\n",
      "   sum_4_lag15_monthly_merchant_avg_std_abs  \\\n",
      "0                                169.192993   \n",
      "1                                       NaN   \n",
      "2                                       NaN   \n",
      "3                                204.449295   \n",
      "4                                528.441284   \n",
      "\n",
      "   ratio_4_lag15_monthly_merchant_avg_std_abs  \\\n",
      "0                                    0.609371   \n",
      "1                                         NaN   \n",
      "2                                         NaN   \n",
      "3                                    0.301771   \n",
      "4                                    1.610887   \n",
      "\n",
      "   sum_1_lag15_monthly_merchant_avg_std_abs  \n",
      "0                                 42.624397  \n",
      "1                                       NaN  \n",
      "2                                  7.874598  \n",
      "3                                 10.296194  \n",
      "4                                226.830429  \n",
      "\n",
      "[5 rows x 1590 columns]\n"
     ]
    }
   ],
   "source": [
    "import addict\n",
    "import pandas as pd\n",
    "# from data_io import load_train_features, load_test_features\n",
    "from data_io import load_train_test_all\n",
    "from validator import KFoldValidator\n",
    "from models import LGBModel\n",
    "from my_logger import print_info, init_global_logger\n",
    "\n",
    "\n",
    "def encode_feature123(data, encoder, is_train=True):\n",
    "    if is_train:\n",
    "        data[\"outlier\"] = (data.target < -30)\n",
    "        encoder = addict.Dict()\n",
    "    for col in [\"feature_1\", \"feature_2\", \"feature_3\"]:\n",
    "        if is_train:\n",
    "            encoder[col] = data.groupby([col])['outlier'].mean()\n",
    "        data[col] = data[col].map(encoder[col])\n",
    "    return data, encoder\n",
    "\n",
    "\n",
    "model_name = \"notebook025\"\n",
    "init_global_logger(\"notebook_\" + model_name)\n",
    "train_data, test_data = load_train_test_all()\n",
    "print_info(\"train_data.shape\", train_data.shape)\n",
    "print_info(\"train_data.head\", train_data.head())\n",
    "train_data, encoder_ = encode_feature123(train_data, None, is_train=True)\n",
    "test_data, encoder_ = encode_feature123(test_data, encoder_, is_train=False)"
   ]
  },
  {
   "cell_type": "code",
   "execution_count": 3,
   "metadata": {
    "ExecuteTime": {
     "end_time": "2019-02-18T13:33:52.704598Z",
     "start_time": "2019-02-18T13:33:52.698081Z"
    }
   },
   "outputs": [],
   "source": [
    "train_dtypes = train_data.dtypes\n",
    "features = list(train_dtypes[(train_dtypes == 'float32') | (train_dtypes == 'float64')].index)"
   ]
  },
  {
   "cell_type": "code",
   "execution_count": 4,
   "metadata": {
    "ExecuteTime": {
     "end_time": "2019-02-18T13:33:56.497041Z",
     "start_time": "2019-02-18T13:33:56.494032Z"
    }
   },
   "outputs": [],
   "source": [
    "features.remove(\"target\")"
   ]
  },
  {
   "cell_type": "code",
   "execution_count": 6,
   "metadata": {
    "ExecuteTime": {
     "end_time": "2019-02-18T13:34:28.891325Z",
     "start_time": "2019-02-18T13:34:28.887314Z"
    }
   },
   "outputs": [
    {
     "data": {
      "text/plain": [
       "1588"
      ]
     },
     "execution_count": 6,
     "metadata": {},
     "output_type": "execute_result"
    }
   ],
   "source": [
    "len(features)"
   ]
  },
  {
   "cell_type": "code",
   "execution_count": 7,
   "metadata": {
    "ExecuteTime": {
     "end_time": "2019-02-18T13:34:32.023939Z",
     "start_time": "2019-02-18T13:34:31.954724Z"
    }
   },
   "outputs": [],
   "source": [
    "from tqdm import tqdm_notebook"
   ]
  },
  {
   "cell_type": "code",
   "execution_count": 8,
   "metadata": {
    "ExecuteTime": {
     "end_time": "2019-02-18T13:36:05.335657Z",
     "start_time": "2019-02-18T13:34:34.575440Z"
    }
   },
   "outputs": [
    {
     "data": {
      "application/vnd.jupyter.widget-view+json": {
       "model_id": "11a0c66553c6418b862b27d02aaf9c24",
       "version_major": 2,
       "version_minor": 0
      },
      "text/plain": [
       "HBox(children=(IntProgress(value=0, max=1588), HTML(value='')))"
      ]
     },
     "metadata": {},
     "output_type": "display_data"
    },
    {
     "name": "stdout",
     "output_type": "stream",
     "text": [
      "\n"
     ]
    }
   ],
   "source": [
    "from scipy.stats import ks_2samp\n",
    "from tqdm import tqdm\n",
    "\n",
    "list_p_value =[]\n",
    "\n",
    "for ftr in tqdm_notebook(features):\n",
    "    list_p_value.append(ks_2samp(test_data[ftr] , train_data[ftr])[1])"
   ]
  },
  {
   "cell_type": "code",
   "execution_count": 9,
   "metadata": {
    "ExecuteTime": {
     "end_time": "2019-02-18T13:36:05.479038Z",
     "start_time": "2019-02-18T13:36:05.473026Z"
    }
   },
   "outputs": [],
   "source": [
    "train_test_cmp = pd.Series(list_p_value, index=features).sort_values() "
   ]
  },
  {
   "cell_type": "code",
   "execution_count": 10,
   "metadata": {
    "ExecuteTime": {
     "end_time": "2019-02-18T13:36:05.625928Z",
     "start_time": "2019-02-18T13:36:05.621919Z"
    }
   },
   "outputs": [],
   "source": [
    "discard = list(train_test_cmp[train_test_cmp < .1].index)"
   ]
  },
  {
   "cell_type": "code",
   "execution_count": 13,
   "metadata": {
    "ExecuteTime": {
     "end_time": "2019-02-18T13:37:07.614510Z",
     "start_time": "2019-02-18T13:37:07.608496Z"
    }
   },
   "outputs": [
    {
     "data": {
      "text/plain": [
       "65"
      ]
     },
     "execution_count": 13,
     "metadata": {},
     "output_type": "execute_result"
    }
   ],
   "source": [
    "len(discard)"
   ]
  },
  {
   "cell_type": "code",
   "execution_count": 12,
   "metadata": {
    "ExecuteTime": {
     "end_time": "2019-02-18T13:36:05.923220Z",
     "start_time": "2019-02-18T13:36:05.917705Z"
    }
   },
   "outputs": [
    {
     "data": {
      "text/plain": [
       "['category_2_3.0_hist_trans',\n",
       " 'newk_amount_month_ratio_max_newk',\n",
       " 'newk_duration_max_newk',\n",
       " 'newk_duration_mean_newk',\n",
       " 'newk_hist_amount_month_ratio_max_newk',\n",
       " 'newk_hist_category_3_mean_newk',\n",
       " 'newk_hist_installments_mean_newk',\n",
       " 'newk_hist_price_max_newk',\n",
       " 'newk_hist_price_mean_newk',\n",
       " 'newk_hist_price_sum_newk',\n",
       " 'newk_hist_purchase_amount_max_newk',\n",
       " 'newk_installments_mean_newk',\n",
       " 'newk_new_category_2_mean_mean_newk',\n",
       " 'newk_new_category_2_mean_newk',\n",
       " 'newk_new_duration_mean_newk',\n",
       " 'newk_new_hour_mean_newk',\n",
       " 'newk_new_hour_min_newk',\n",
       " 'newk_new_price_mean_newk',\n",
       " 'newk_new_purchase_amount_mean_newk',\n",
       " 'newk_price_max_newk',\n",
       " 'newk_price_mean_newk',\n",
       " 'newk_price_total_newk',\n",
       " 'newk_purchase_amount_max_newk',\n",
       " 'newk_purchase_amount_mean_newk',\n",
       " 'purchase_amount_max_hist_trans',\n",
       " 'purchase_amount_mean_new_trans',\n",
       " 'purchase_amount_sum_new_trans',\n",
       " 'ratio_1_lag-4_monthly_merchant_avg_std',\n",
       " 'ratio_1_lag0_monthly_psum',\n",
       " 'ratio_1_lag12_monthly_merchant_pmax_abs',\n",
       " 'ratio_1_lag9_monthly_merchant_avg_std_abs',\n",
       " 'ratio_2_lag12_monthly_pmax_abs',\n",
       " 'ratio_3_lag12_monthly_pmax_abs',\n",
       " 'ratio_dura2_duar_count',\n",
       " 'sum_1_lag-4_monthly_psum',\n",
       " 'sum_1_lag12_monthly_merchant_avg_std_abs',\n",
       " 'sum_1_lag13_monthly_merchant_pmax_abs',\n",
       " 'sum_1_lag13_monthly_pmax_abs',\n",
       " 'sum_1_lag15_monthly_merchant_pmax_abs',\n",
       " 'sum_1_lag15_monthly_pmax_abs',\n",
       " 'sum_1_lag1_monthly_pmax',\n",
       " 'sum_1_lag2_monthly_merchant_pmax',\n",
       " 'sum_1_lag2_monthly_pmax',\n",
       " 'sum_2_lag-4_monthly_merchant_pmax',\n",
       " 'sum_2_lag15_monthly_merchant_pmax_abs',\n",
       " 'sum_2_lag15_monthly_pmax_abs',\n",
       " 'sum_2_lag1_monthly_merchant_pmax',\n",
       " 'sum_2_lag1_monthly_pmax',\n",
       " 'sum_2_lag2_monthly_psum',\n",
       " 'sum_3_lag15_monthly_merchant_pmax_abs',\n",
       " 'sum_3_lag15_monthly_pmax_abs',\n",
       " 'sum_3_lag1_monthly_merchant_avg_std',\n",
       " 'sum_3_lag1_monthly_pmax',\n",
       " 'sum_3_lag1_monthly_psum',\n",
       " 'sum_3_lag2_monthly_merchant_pmax',\n",
       " 'sum_3_lag2_monthly_pmax',\n",
       " 'sum_3_lag2_monthly_psum',\n",
       " 'sum_4_lag15_monthly_merchant_pmax_abs',\n",
       " 'sum_4_lag15_monthly_pmax_abs',\n",
       " 'sum_4_lag1_monthly_merchant_avg_std',\n",
       " 'sum_4_lag1_monthly_pmax',\n",
       " 'sum_4_lag1_monthly_psum',\n",
       " 'sum_4_lag2_monthly_merchant_pmax',\n",
       " 'sum_4_lag2_monthly_pmax',\n",
       " 'sum_4_lag2_monthly_psum']"
      ]
     },
     "execution_count": 12,
     "metadata": {},
     "output_type": "execute_result"
    }
   ],
   "source": [
    "sorted(discard)"
   ]
  }
 ],
 "metadata": {
  "kernelspec": {
   "display_name": "Python 3",
   "language": "python",
   "name": "python3"
  },
  "language_info": {
   "codemirror_mode": {
    "name": "ipython",
    "version": 3
   },
   "file_extension": ".py",
   "mimetype": "text/x-python",
   "name": "python",
   "nbconvert_exporter": "python",
   "pygments_lexer": "ipython3",
   "version": "3.6.6"
  },
  "toc": {
   "base_numbering": 1,
   "nav_menu": {},
   "number_sections": true,
   "sideBar": true,
   "skip_h1_title": false,
   "title_cell": "Table of Contents",
   "title_sidebar": "Contents",
   "toc_cell": false,
   "toc_position": {},
   "toc_section_display": true,
   "toc_window_display": true
  },
  "varInspector": {
   "cols": {
    "lenName": 16,
    "lenType": 16,
    "lenVar": 40
   },
   "kernels_config": {
    "python": {
     "delete_cmd_postfix": "",
     "delete_cmd_prefix": "del ",
     "library": "var_list.py",
     "varRefreshCmd": "print(var_dic_list())"
    },
    "r": {
     "delete_cmd_postfix": ") ",
     "delete_cmd_prefix": "rm(",
     "library": "var_list.r",
     "varRefreshCmd": "cat(var_dic_list()) "
    }
   },
   "types_to_exclude": [
    "module",
    "function",
    "builtin_function_or_method",
    "instance",
    "_Feature"
   ],
   "window_display": false
  }
 },
 "nbformat": 4,
 "nbformat_minor": 2
}
