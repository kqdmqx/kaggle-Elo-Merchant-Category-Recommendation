{
 "cells": [
  {
   "cell_type": "markdown",
   "metadata": {},
   "source": [
    "# null importance: feature selection"
   ]
  },
  {
   "cell_type": "code",
   "execution_count": 1,
   "metadata": {
    "ExecuteTime": {
     "end_time": "2019-02-22T23:45:01.265814Z",
     "start_time": "2019-02-22T23:44:59.745602Z"
    }
   },
   "outputs": [],
   "source": [
    "import pandas as pd\n",
    "import numpy as np\n",
    "import glob\n",
    "import pickle as pkl\n",
    "from models import load_model\n",
    "import matplotlib.pyplot as plt\n",
    "import seaborn as sns\n",
    "\n",
    "%matplotlib inline"
   ]
  },
  {
   "cell_type": "code",
   "execution_count": 2,
   "metadata": {
    "ExecuteTime": {
     "end_time": "2019-02-22T23:45:01.270654Z",
     "start_time": "2019-02-22T23:45:01.267645Z"
    }
   },
   "outputs": [],
   "source": [
    "def get_feature_importance(model):\n",
    "    # return np.log1p(model.estimator.feature_importance(importance_type='gain', iteration=model.estimator.best_iteration))\n",
    "    return model.estimator.feature_importance(importance_type='gain', iteration=model.estimator.best_iteration)"
   ]
  },
  {
   "cell_type": "code",
   "execution_count": 3,
   "metadata": {
    "ExecuteTime": {
     "end_time": "2019-02-22T23:45:01.687762Z",
     "start_time": "2019-02-22T23:45:01.273661Z"
    }
   },
   "outputs": [
    {
     "name": "stdout",
     "output_type": "stream",
     "text": [
      "[info] load model : ./models/lgb026_dart_0.pkl\n",
      "[info] load model : ./models/lgb026_dart_1.pkl\n",
      "[info] load model : ./models/lgb026_dart_2.pkl\n",
      "[info] load model : ./models/lgb026_dart_3.pkl\n",
      "[info] load model : ./models/lgb026_dart_4.pkl\n",
      "[info] load model : ./models/lgb026_dart_5.pkl\n"
     ]
    }
   ],
   "source": [
    "model_name = \"lgb026_dart\"\n",
    "\n",
    "feature_importance_df = pd.DataFrame()\n",
    "for i in range(6):\n",
    "    part = pd.read_csv(\"./models/lgb026.csv\")\n",
    "    model = load_model(\"./models/{}_{}.pkl\".format(model_name, i))\n",
    "\n",
    "    part[\"fi\"] = get_feature_importance(model)\n",
    "    feature_importance_df = pd.concat([feature_importance_df, part], axis=0)"
   ]
  },
  {
   "cell_type": "code",
   "execution_count": 4,
   "metadata": {
    "ExecuteTime": {
     "end_time": "2019-02-22T23:45:01.694781Z",
     "start_time": "2019-02-22T23:45:01.689768Z"
    }
   },
   "outputs": [],
   "source": [
    "def load_lgb_if(model_name, nsplit, features_fn):\n",
    "    feature_importance_df = pd.DataFrame()\n",
    "    for i in range(nsplit):\n",
    "        part = pd.read_csv(features_fn)\n",
    "        model = load_model(\"./models/{}_{}.pkl\".format(model_name, i))\n",
    "\n",
    "        part[\"fi\"] = get_feature_importance(model)\n",
    "        feature_importance_df = pd.concat([feature_importance_df, part], axis=0)\n",
    "    return feature_importance_df"
   ]
  },
  {
   "cell_type": "code",
   "execution_count": 5,
   "metadata": {
    "ExecuteTime": {
     "end_time": "2019-02-22T23:45:02.004604Z",
     "start_time": "2019-02-22T23:45:01.696787Z"
    }
   },
   "outputs": [
    {
     "name": "stdout",
     "output_type": "stream",
     "text": [
      "[info] load model : ./models/lgb026_dart_0.pkl\n",
      "[info] load model : ./models/lgb026_dart_1.pkl\n",
      "[info] load model : ./models/lgb026_dart_2.pkl\n",
      "[info] load model : ./models/lgb026_dart_3.pkl\n",
      "[info] load model : ./models/lgb026_dart_4.pkl\n",
      "[info] load model : ./models/lgb026_dart_5.pkl\n",
      "[info] load model : ./models/lgb026_dart_null_0.pkl\n",
      "[info] load model : ./models/lgb026_dart_null_1.pkl\n",
      "[info] load model : ./models/lgb026_dart_null_2.pkl\n",
      "[info] load model : ./models/lgb026_dart_null_3.pkl\n",
      "[info] load model : ./models/lgb026_dart_null_4.pkl\n",
      "[info] load model : ./models/lgb026_dart_null_5.pkl\n"
     ]
    }
   ],
   "source": [
    "nsplit = 6\n",
    "features_fn = \"./models/lgb026.csv\"\n",
    "\n",
    "fi024 = load_lgb_if(\"lgb026_dart\", nsplit, features_fn)\n",
    "fi024_null = load_lgb_if(\"lgb026_dart_null\", nsplit, features_fn)"
   ]
  },
  {
   "cell_type": "code",
   "execution_count": 6,
   "metadata": {
    "ExecuteTime": {
     "end_time": "2019-02-22T23:45:02.035687Z",
     "start_time": "2019-02-22T23:45:02.006610Z"
    }
   },
   "outputs": [],
   "source": [
    "avg_fi_cmp = pd.DataFrame()\n",
    "avg_fi_cmp[\"fi\"] = fi024.groupby(\"feature_name\").fi.mean()\n",
    "avg_fi_cmp[\"fi_null\"] = fi024_null.groupby(\"feature_name\").fi.mean()\n",
    "avg_fi_cmp[\"fi_complex\"] = (avg_fi_cmp.fi + 1) / (avg_fi_cmp.fi_null + 1)\n",
    "\n",
    "for col in avg_fi_cmp.columns:\n",
    "    avg_fi_cmp[col] = np.log1p(avg_fi_cmp[col])"
   ]
  },
  {
   "cell_type": "code",
   "execution_count": 7,
   "metadata": {
    "ExecuteTime": {
     "end_time": "2019-02-22T23:45:02.062759Z",
     "start_time": "2019-02-22T23:45:02.037692Z"
    }
   },
   "outputs": [
    {
     "data": {
      "text/html": [
       "<div>\n",
       "<style scoped>\n",
       "    .dataframe tbody tr th:only-of-type {\n",
       "        vertical-align: middle;\n",
       "    }\n",
       "\n",
       "    .dataframe tbody tr th {\n",
       "        vertical-align: top;\n",
       "    }\n",
       "\n",
       "    .dataframe thead th {\n",
       "        text-align: right;\n",
       "    }\n",
       "</style>\n",
       "<table border=\"1\" class=\"dataframe\">\n",
       "  <thead>\n",
       "    <tr style=\"text-align: right;\">\n",
       "      <th></th>\n",
       "      <th>fi</th>\n",
       "      <th>fi_null</th>\n",
       "      <th>fi_complex</th>\n",
       "    </tr>\n",
       "    <tr>\n",
       "      <th>feature_name</th>\n",
       "      <th></th>\n",
       "      <th></th>\n",
       "      <th></th>\n",
       "    </tr>\n",
       "  </thead>\n",
       "  <tbody>\n",
       "    <tr>\n",
       "      <th>sum_2_lag2_monthly_pmax_abs</th>\n",
       "      <td>9.105808</td>\n",
       "      <td>0.0</td>\n",
       "      <td>9.105919</td>\n",
       "    </tr>\n",
       "    <tr>\n",
       "      <th>sum_3_lag9_monthly_merchant_avg_std_abs</th>\n",
       "      <td>9.126180</td>\n",
       "      <td>0.0</td>\n",
       "      <td>9.126289</td>\n",
       "    </tr>\n",
       "    <tr>\n",
       "      <th>sum_1_lag-2_monthly_merchant_pmax</th>\n",
       "      <td>9.127577</td>\n",
       "      <td>0.0</td>\n",
       "      <td>9.127686</td>\n",
       "    </tr>\n",
       "    <tr>\n",
       "      <th>newk_new_merchant_id_nunique_newk</th>\n",
       "      <td>9.138545</td>\n",
       "      <td>0.0</td>\n",
       "      <td>9.138653</td>\n",
       "    </tr>\n",
       "    <tr>\n",
       "      <th>sum_3_lag11_monthly_pmax_abs</th>\n",
       "      <td>9.144200</td>\n",
       "      <td>0.0</td>\n",
       "      <td>9.144307</td>\n",
       "    </tr>\n",
       "    <tr>\n",
       "      <th>month_lag_-7_hist_trans</th>\n",
       "      <td>9.150495</td>\n",
       "      <td>0.0</td>\n",
       "      <td>9.150601</td>\n",
       "    </tr>\n",
       "    <tr>\n",
       "      <th>ratio_1_lag-8_monthly_merchant_pmax</th>\n",
       "      <td>9.150541</td>\n",
       "      <td>0.0</td>\n",
       "      <td>9.150647</td>\n",
       "    </tr>\n",
       "    <tr>\n",
       "      <th>sum_3_lag4_monthly_merchant_avg_std_abs</th>\n",
       "      <td>9.153321</td>\n",
       "      <td>0.0</td>\n",
       "      <td>9.153427</td>\n",
       "    </tr>\n",
       "    <tr>\n",
       "      <th>sum_1_lag-9_monthly_merchant_pmax</th>\n",
       "      <td>9.155737</td>\n",
       "      <td>0.0</td>\n",
       "      <td>9.155843</td>\n",
       "    </tr>\n",
       "    <tr>\n",
       "      <th>subsector_id_19_hist_trans</th>\n",
       "      <td>9.165559</td>\n",
       "      <td>0.0</td>\n",
       "      <td>9.165663</td>\n",
       "    </tr>\n",
       "    <tr>\n",
       "      <th>installments_sum_new_trans</th>\n",
       "      <td>9.174965</td>\n",
       "      <td>0.0</td>\n",
       "      <td>9.175068</td>\n",
       "    </tr>\n",
       "    <tr>\n",
       "      <th>authorized_flag_Y_new_trans</th>\n",
       "      <td>9.175660</td>\n",
       "      <td>0.0</td>\n",
       "      <td>9.175764</td>\n",
       "    </tr>\n",
       "    <tr>\n",
       "      <th>purchase_month_max_hist_trans</th>\n",
       "      <td>9.180695</td>\n",
       "      <td>0.0</td>\n",
       "      <td>9.180798</td>\n",
       "    </tr>\n",
       "    <tr>\n",
       "      <th>sum_3_lag10_monthly_merchant_avg_std_abs</th>\n",
       "      <td>9.185939</td>\n",
       "      <td>0.0</td>\n",
       "      <td>9.186041</td>\n",
       "    </tr>\n",
       "    <tr>\n",
       "      <th>category_1_N_new_trans</th>\n",
       "      <td>9.197622</td>\n",
       "      <td>0.0</td>\n",
       "      <td>9.197723</td>\n",
       "    </tr>\n",
       "    <tr>\n",
       "      <th>purchase_hour_13_hist_trans</th>\n",
       "      <td>9.197790</td>\n",
       "      <td>0.0</td>\n",
       "      <td>9.197891</td>\n",
       "    </tr>\n",
       "    <tr>\n",
       "      <th>newk_hist_duration_var_newk</th>\n",
       "      <td>9.202179</td>\n",
       "      <td>0.0</td>\n",
       "      <td>9.202280</td>\n",
       "    </tr>\n",
       "    <tr>\n",
       "      <th>ratio_4_lag10_monthly_merchant_avg_std_abs</th>\n",
       "      <td>9.211009</td>\n",
       "      <td>0.0</td>\n",
       "      <td>9.211109</td>\n",
       "    </tr>\n",
       "    <tr>\n",
       "      <th>newk_hist_subsector_id_nunique_newk</th>\n",
       "      <td>9.216059</td>\n",
       "      <td>0.0</td>\n",
       "      <td>9.216159</td>\n",
       "    </tr>\n",
       "    <tr>\n",
       "      <th>newk_new_Black_Friday_2017_mean_newk</th>\n",
       "      <td>9.225422</td>\n",
       "      <td>0.0</td>\n",
       "      <td>9.225521</td>\n",
       "    </tr>\n",
       "  </tbody>\n",
       "</table>\n",
       "</div>"
      ],
      "text/plain": [
       "                                                  fi  fi_null  fi_complex\n",
       "feature_name                                                             \n",
       "sum_2_lag2_monthly_pmax_abs                 9.105808      0.0    9.105919\n",
       "sum_3_lag9_monthly_merchant_avg_std_abs     9.126180      0.0    9.126289\n",
       "sum_1_lag-2_monthly_merchant_pmax           9.127577      0.0    9.127686\n",
       "newk_new_merchant_id_nunique_newk           9.138545      0.0    9.138653\n",
       "sum_3_lag11_monthly_pmax_abs                9.144200      0.0    9.144307\n",
       "month_lag_-7_hist_trans                     9.150495      0.0    9.150601\n",
       "ratio_1_lag-8_monthly_merchant_pmax         9.150541      0.0    9.150647\n",
       "sum_3_lag4_monthly_merchant_avg_std_abs     9.153321      0.0    9.153427\n",
       "sum_1_lag-9_monthly_merchant_pmax           9.155737      0.0    9.155843\n",
       "subsector_id_19_hist_trans                  9.165559      0.0    9.165663\n",
       "installments_sum_new_trans                  9.174965      0.0    9.175068\n",
       "authorized_flag_Y_new_trans                 9.175660      0.0    9.175764\n",
       "purchase_month_max_hist_trans               9.180695      0.0    9.180798\n",
       "sum_3_lag10_monthly_merchant_avg_std_abs    9.185939      0.0    9.186041\n",
       "category_1_N_new_trans                      9.197622      0.0    9.197723\n",
       "purchase_hour_13_hist_trans                 9.197790      0.0    9.197891\n",
       "newk_hist_duration_var_newk                 9.202179      0.0    9.202280\n",
       "ratio_4_lag10_monthly_merchant_avg_std_abs  9.211009      0.0    9.211109\n",
       "newk_hist_subsector_id_nunique_newk         9.216059      0.0    9.216159\n",
       "newk_new_Black_Friday_2017_mean_newk        9.225422      0.0    9.225521"
      ]
     },
     "execution_count": 7,
     "metadata": {},
     "output_type": "execute_result"
    }
   ],
   "source": [
    "avg_fi_cmp.sort_values(\"fi_complex\").tail(150).head(20)"
   ]
  },
  {
   "cell_type": "code",
   "execution_count": 8,
   "metadata": {
    "ExecuteTime": {
     "end_time": "2019-02-22T23:45:02.349523Z",
     "start_time": "2019-02-22T23:45:02.064764Z"
    }
   },
   "outputs": [
    {
     "data": {
      "text/plain": [
       "<matplotlib.axes._subplots.AxesSubplot at 0x1ff5e577898>"
      ]
     },
     "execution_count": 8,
     "metadata": {},
     "output_type": "execute_result"
    },
    {
     "data": {
      "image/png": "[encoded data removed]",
      "text/plain": [
       "<Figure size 432x288 with 1 Axes>"
      ]
     },
     "metadata": {
      "needs_background": "light"
     },
     "output_type": "display_data"
    }
   ],
   "source": [
    "avg_fi_cmp.fi.hist(bins=50)"
   ]
  },
  {
   "cell_type": "code",
   "execution_count": 9,
   "metadata": {
    "ExecuteTime": {
     "end_time": "2019-02-22T23:45:02.606206Z",
     "start_time": "2019-02-22T23:45:02.350526Z"
    }
   },
   "outputs": [
    {
     "data": {
      "text/plain": [
       "<matplotlib.axes._subplots.AxesSubplot at 0x1ff5e8b8048>"
      ]
     },
     "execution_count": 9,
     "metadata": {},
     "output_type": "execute_result"
    },
    {
     "data": {
      "image/png": "[encoded data removed]",
      "text/plain": [
       "<Figure size 432x288 with 1 Axes>"
      ]
     },
     "metadata": {
      "needs_background": "light"
     },
     "output_type": "display_data"
    }
   ],
   "source": [
    "avg_fi_cmp.fi_null.hist(bins=50)"
   ]
  },
  {
   "cell_type": "code",
   "execution_count": 10,
   "metadata": {
    "ExecuteTime": {
     "end_time": "2019-02-22T23:45:02.848849Z",
     "start_time": "2019-02-22T23:45:02.608211Z"
    }
   },
   "outputs": [
    {
     "data": {
      "text/plain": [
       "<matplotlib.axes._subplots.AxesSubplot at 0x1ff5ea00940>"
      ]
     },
     "execution_count": 10,
     "metadata": {},
     "output_type": "execute_result"
    },
    {
     "data": {
      "image/png": "[encoded data removed]",
      "text/plain": [
       "<Figure size 432x288 with 1 Axes>"
      ]
     },
     "metadata": {
      "needs_background": "light"
     },
     "output_type": "display_data"
    }
   ],
   "source": [
    "avg_fi_cmp.fi_complex.hist(bins=50)"
   ]
  },
  {
   "cell_type": "code",
   "execution_count": 11,
   "metadata": {
    "ExecuteTime": {
     "end_time": "2019-02-22T23:45:03.214881Z",
     "start_time": "2019-02-22T23:45:02.851884Z"
    }
   },
   "outputs": [],
   "source": [
    "avg_fi_cmp.to_csv(\"./models/lgb026.csv\")"
   ]
  },
  {
   "cell_type": "code",
   "execution_count": 12,
   "metadata": {
    "ExecuteTime": {
     "end_time": "2019-02-22T23:45:03.222857Z",
     "start_time": "2019-02-22T23:45:03.216827Z"
    }
   },
   "outputs": [
    {
     "data": {
      "text/plain": [
       "(234, 3)"
      ]
     },
     "execution_count": 12,
     "metadata": {},
     "output_type": "execute_result"
    }
   ],
   "source": [
    "avg_fi_cmp[avg_fi_cmp.fi_complex > 8].shape"
   ]
  },
  {
   "cell_type": "code",
   "execution_count": 13,
   "metadata": {
    "ExecuteTime": {
     "end_time": "2019-02-22T23:45:03.246907Z",
     "start_time": "2019-02-22T23:45:03.224849Z"
    }
   },
   "outputs": [
    {
     "data": {
      "text/plain": [
       "(852, 3)"
      ]
     },
     "execution_count": 13,
     "metadata": {},
     "output_type": "execute_result"
    }
   ],
   "source": [
    "avg_fi_cmp[avg_fi_cmp.fi_complex > 4.25].shape"
   ]
  },
  {
   "cell_type": "code",
   "execution_count": 14,
   "metadata": {
    "ExecuteTime": {
     "end_time": "2019-02-22T23:45:03.279995Z",
     "start_time": "2019-02-22T23:45:03.248931Z"
    },
    "scrolled": false
   },
   "outputs": [
    {
     "data": {
      "text/html": [
       "<div>\n",
       "<style scoped>\n",
       "    .dataframe tbody tr th:only-of-type {\n",
       "        vertical-align: middle;\n",
       "    }\n",
       "\n",
       "    .dataframe tbody tr th {\n",
       "        vertical-align: top;\n",
       "    }\n",
       "\n",
       "    .dataframe thead th {\n",
       "        text-align: right;\n",
       "    }\n",
       "</style>\n",
       "<table border=\"1\" class=\"dataframe\">\n",
       "  <thead>\n",
       "    <tr style=\"text-align: right;\">\n",
       "      <th></th>\n",
       "      <th>fi</th>\n",
       "      <th>fi_null</th>\n",
       "      <th>fi_complex</th>\n",
       "    </tr>\n",
       "    <tr>\n",
       "      <th>feature_name</th>\n",
       "      <th></th>\n",
       "      <th></th>\n",
       "      <th></th>\n",
       "    </tr>\n",
       "  </thead>\n",
       "  <tbody>\n",
       "    <tr>\n",
       "      <th>purchase_month_201711_hist_trans</th>\n",
       "      <td>7.759260</td>\n",
       "      <td>0.000000</td>\n",
       "      <td>7.759686</td>\n",
       "    </tr>\n",
       "    <tr>\n",
       "      <th>ratio_1_lag-10_monthly_merchant_avg_std</th>\n",
       "      <td>7.765667</td>\n",
       "      <td>0.000000</td>\n",
       "      <td>7.766091</td>\n",
       "    </tr>\n",
       "    <tr>\n",
       "      <th>category_2_classes_hist_trans</th>\n",
       "      <td>7.786769</td>\n",
       "      <td>0.000000</td>\n",
       "      <td>7.787184</td>\n",
       "    </tr>\n",
       "    <tr>\n",
       "      <th>ratio_2_lag-9_monthly_pmax</th>\n",
       "      <td>7.795195</td>\n",
       "      <td>0.000000</td>\n",
       "      <td>7.795607</td>\n",
       "    </tr>\n",
       "    <tr>\n",
       "      <th>ratio_4_lag1_monthly_psum</th>\n",
       "      <td>11.869725</td>\n",
       "      <td>4.060365</td>\n",
       "      <td>7.809766</td>\n",
       "    </tr>\n",
       "    <tr>\n",
       "      <th>sum_1_lag-12_monthly_pmax</th>\n",
       "      <td>7.822602</td>\n",
       "      <td>0.000000</td>\n",
       "      <td>7.823003</td>\n",
       "    </tr>\n",
       "    <tr>\n",
       "      <th>category_2_1.0_new_trans</th>\n",
       "      <td>7.843707</td>\n",
       "      <td>0.000000</td>\n",
       "      <td>7.844099</td>\n",
       "    </tr>\n",
       "    <tr>\n",
       "      <th>newk_elapsed_time_newk</th>\n",
       "      <td>7.899700</td>\n",
       "      <td>0.000000</td>\n",
       "      <td>7.900070</td>\n",
       "    </tr>\n",
       "    <tr>\n",
       "      <th>newk_new_card_id_count_newk</th>\n",
       "      <td>7.913244</td>\n",
       "      <td>0.000000</td>\n",
       "      <td>7.913610</td>\n",
       "    </tr>\n",
       "    <tr>\n",
       "      <th>newk_quarter_newk</th>\n",
       "      <td>7.936749</td>\n",
       "      <td>0.000000</td>\n",
       "      <td>7.937107</td>\n",
       "    </tr>\n",
       "    <tr>\n",
       "      <th>ratio_4_lag-6_monthly_merchant_pmax</th>\n",
       "      <td>7.968057</td>\n",
       "      <td>0.000000</td>\n",
       "      <td>7.968403</td>\n",
       "    </tr>\n",
       "    <tr>\n",
       "      <th>city_id_-1_new_trans</th>\n",
       "      <td>7.970429</td>\n",
       "      <td>0.000000</td>\n",
       "      <td>7.970775</td>\n",
       "    </tr>\n",
       "    <tr>\n",
       "      <th>subsector_id_18_hist_trans</th>\n",
       "      <td>7.970834</td>\n",
       "      <td>0.000000</td>\n",
       "      <td>7.971180</td>\n",
       "    </tr>\n",
       "    <tr>\n",
       "      <th>ratio_4_lag-6_monthly_merchant_avg_std</th>\n",
       "      <td>7.978311</td>\n",
       "      <td>0.000000</td>\n",
       "      <td>7.978653</td>\n",
       "    </tr>\n",
       "    <tr>\n",
       "      <th>sum_3_lag-9_monthly_merchant_avg_std</th>\n",
       "      <td>7.991678</td>\n",
       "      <td>0.000000</td>\n",
       "      <td>7.992016</td>\n",
       "    </tr>\n",
       "    <tr>\n",
       "      <th>newk_new_subsector_id_nunique_newk</th>\n",
       "      <td>7.996463</td>\n",
       "      <td>0.000000</td>\n",
       "      <td>7.996800</td>\n",
       "    </tr>\n",
       "    <tr>\n",
       "      <th>state_id_classes_new_trans</th>\n",
       "      <td>8.013232</td>\n",
       "      <td>0.000000</td>\n",
       "      <td>8.013563</td>\n",
       "    </tr>\n",
       "    <tr>\n",
       "      <th>ratio_2_lag-9_monthly_merchant_avg_std</th>\n",
       "      <td>8.022479</td>\n",
       "      <td>0.000000</td>\n",
       "      <td>8.022807</td>\n",
       "    </tr>\n",
       "    <tr>\n",
       "      <th>ratio_3_lag-9_monthly_pmax</th>\n",
       "      <td>8.045397</td>\n",
       "      <td>0.000000</td>\n",
       "      <td>8.045718</td>\n",
       "    </tr>\n",
       "    <tr>\n",
       "      <th>newk_feature_1_newk</th>\n",
       "      <td>8.057866</td>\n",
       "      <td>0.000000</td>\n",
       "      <td>8.058183</td>\n",
       "    </tr>\n",
       "    <tr>\n",
       "      <th>purchase_month_201701_hist_trans</th>\n",
       "      <td>8.060925</td>\n",
       "      <td>0.000000</td>\n",
       "      <td>8.061241</td>\n",
       "    </tr>\n",
       "    <tr>\n",
       "      <th>installments_min_hist_trans</th>\n",
       "      <td>8.080152</td>\n",
       "      <td>0.000000</td>\n",
       "      <td>8.080461</td>\n",
       "    </tr>\n",
       "    <tr>\n",
       "      <th>newk_new_weekday_max_newk</th>\n",
       "      <td>8.094755</td>\n",
       "      <td>0.000000</td>\n",
       "      <td>8.095061</td>\n",
       "    </tr>\n",
       "    <tr>\n",
       "      <th>sum_1_lag-12_monthly_psum</th>\n",
       "      <td>8.133708</td>\n",
       "      <td>0.000000</td>\n",
       "      <td>8.134002</td>\n",
       "    </tr>\n",
       "    <tr>\n",
       "      <th>purchase_amount_max_new_trans</th>\n",
       "      <td>11.777165</td>\n",
       "      <td>3.633939</td>\n",
       "      <td>8.143516</td>\n",
       "    </tr>\n",
       "    <tr>\n",
       "      <th>ratio_1_lag-9_monthly_pmax</th>\n",
       "      <td>8.145688</td>\n",
       "      <td>0.000000</td>\n",
       "      <td>8.145978</td>\n",
       "    </tr>\n",
       "    <tr>\n",
       "      <th>sum_1_lag-10_monthly_psum</th>\n",
       "      <td>8.149115</td>\n",
       "      <td>0.000000</td>\n",
       "      <td>8.149404</td>\n",
       "    </tr>\n",
       "    <tr>\n",
       "      <th>sum_2_lag-11_monthly_psum</th>\n",
       "      <td>8.155021</td>\n",
       "      <td>0.000000</td>\n",
       "      <td>8.155308</td>\n",
       "    </tr>\n",
       "    <tr>\n",
       "      <th>sum_1_lag-12_monthly_merchant_pmax</th>\n",
       "      <td>8.177739</td>\n",
       "      <td>0.000000</td>\n",
       "      <td>8.178019</td>\n",
       "    </tr>\n",
       "    <tr>\n",
       "      <th>newk_new_category_3_mean_newk</th>\n",
       "      <td>8.208792</td>\n",
       "      <td>0.000000</td>\n",
       "      <td>8.209065</td>\n",
       "    </tr>\n",
       "    <tr>\n",
       "      <th>...</th>\n",
       "      <td>...</td>\n",
       "      <td>...</td>\n",
       "      <td>...</td>\n",
       "    </tr>\n",
       "    <tr>\n",
       "      <th>count_dura1_duar_count</th>\n",
       "      <td>10.612654</td>\n",
       "      <td>0.000000</td>\n",
       "      <td>10.612679</td>\n",
       "    </tr>\n",
       "    <tr>\n",
       "      <th>newk_hist_amount_month_ratio_var_newk</th>\n",
       "      <td>10.656113</td>\n",
       "      <td>0.000000</td>\n",
       "      <td>10.656137</td>\n",
       "    </tr>\n",
       "    <tr>\n",
       "      <th>newk_hist_installments_sum_newk</th>\n",
       "      <td>10.730537</td>\n",
       "      <td>0.000000</td>\n",
       "      <td>10.730559</td>\n",
       "    </tr>\n",
       "    <tr>\n",
       "      <th>sum_4_lag-2_monthly_pmax</th>\n",
       "      <td>10.756726</td>\n",
       "      <td>0.000000</td>\n",
       "      <td>10.756747</td>\n",
       "    </tr>\n",
       "    <tr>\n",
       "      <th>ratio_1_lag2_monthly_merchant_pmax</th>\n",
       "      <td>10.769212</td>\n",
       "      <td>0.000000</td>\n",
       "      <td>10.769233</td>\n",
       "    </tr>\n",
       "    <tr>\n",
       "      <th>ratio_3_lag-2_monthly_merchant_pmax</th>\n",
       "      <td>10.791874</td>\n",
       "      <td>0.000000</td>\n",
       "      <td>10.791895</td>\n",
       "    </tr>\n",
       "    <tr>\n",
       "      <th>purchase_amount_sum_hist_trans</th>\n",
       "      <td>10.826690</td>\n",
       "      <td>0.000000</td>\n",
       "      <td>10.826710</td>\n",
       "    </tr>\n",
       "    <tr>\n",
       "      <th>category_1_Y_new_trans</th>\n",
       "      <td>10.876540</td>\n",
       "      <td>0.000000</td>\n",
       "      <td>10.876559</td>\n",
       "    </tr>\n",
       "    <tr>\n",
       "      <th>category_3_A_new_trans</th>\n",
       "      <td>10.953980</td>\n",
       "      <td>0.000000</td>\n",
       "      <td>10.953997</td>\n",
       "    </tr>\n",
       "    <tr>\n",
       "      <th>newk_new_category_3_mean_mean_newk</th>\n",
       "      <td>11.101074</td>\n",
       "      <td>0.000000</td>\n",
       "      <td>11.101089</td>\n",
       "    </tr>\n",
       "    <tr>\n",
       "      <th>newk_hist_month_nunique_newk</th>\n",
       "      <td>11.214163</td>\n",
       "      <td>0.000000</td>\n",
       "      <td>11.214176</td>\n",
       "    </tr>\n",
       "    <tr>\n",
       "      <th>purchase_month_classes_hist_trans</th>\n",
       "      <td>11.279183</td>\n",
       "      <td>0.000000</td>\n",
       "      <td>11.279196</td>\n",
       "    </tr>\n",
       "    <tr>\n",
       "      <th>newk_hist_purchase_date_uptonow_newk</th>\n",
       "      <td>11.281066</td>\n",
       "      <td>0.000000</td>\n",
       "      <td>11.281079</td>\n",
       "    </tr>\n",
       "    <tr>\n",
       "      <th>merchant_category_id_67373_hist_trans</th>\n",
       "      <td>11.412801</td>\n",
       "      <td>0.000000</td>\n",
       "      <td>11.412812</td>\n",
       "    </tr>\n",
       "    <tr>\n",
       "      <th>category_3_B_hist_trans</th>\n",
       "      <td>11.575350</td>\n",
       "      <td>0.000000</td>\n",
       "      <td>11.575359</td>\n",
       "    </tr>\n",
       "    <tr>\n",
       "      <th>merchant_category_id_755_hist_trans</th>\n",
       "      <td>11.801238</td>\n",
       "      <td>0.000000</td>\n",
       "      <td>11.801246</td>\n",
       "    </tr>\n",
       "    <tr>\n",
       "      <th>authorized_flag_N_hist_trans</th>\n",
       "      <td>12.087872</td>\n",
       "      <td>0.000000</td>\n",
       "      <td>12.087878</td>\n",
       "    </tr>\n",
       "    <tr>\n",
       "      <th>ratio_3_lag2_monthly_psum</th>\n",
       "      <td>12.168537</td>\n",
       "      <td>0.000000</td>\n",
       "      <td>12.168542</td>\n",
       "    </tr>\n",
       "    <tr>\n",
       "      <th>newk_new_purchase_date_uptonow_newk</th>\n",
       "      <td>12.222415</td>\n",
       "      <td>0.000000</td>\n",
       "      <td>12.222420</td>\n",
       "    </tr>\n",
       "    <tr>\n",
       "      <th>newk_new_category_1_mean_newk</th>\n",
       "      <td>12.329472</td>\n",
       "      <td>0.000000</td>\n",
       "      <td>12.329477</td>\n",
       "    </tr>\n",
       "    <tr>\n",
       "      <th>subsector_id_8_hist_trans</th>\n",
       "      <td>12.341314</td>\n",
       "      <td>0.000000</td>\n",
       "      <td>12.341318</td>\n",
       "    </tr>\n",
       "    <tr>\n",
       "      <th>month_lag_classes_hist_trans</th>\n",
       "      <td>12.581662</td>\n",
       "      <td>0.000000</td>\n",
       "      <td>12.581666</td>\n",
       "    </tr>\n",
       "    <tr>\n",
       "      <th>newk_hist_month_diff_max_newk</th>\n",
       "      <td>12.627478</td>\n",
       "      <td>0.000000</td>\n",
       "      <td>12.627481</td>\n",
       "    </tr>\n",
       "    <tr>\n",
       "      <th>newk_hist_month_diff_min_newk</th>\n",
       "      <td>12.760994</td>\n",
       "      <td>0.000000</td>\n",
       "      <td>12.760997</td>\n",
       "    </tr>\n",
       "    <tr>\n",
       "      <th>newk_hist_weekofyear_nunique_newk</th>\n",
       "      <td>12.805043</td>\n",
       "      <td>0.000000</td>\n",
       "      <td>12.805045</td>\n",
       "    </tr>\n",
       "    <tr>\n",
       "      <th>city_id_-1_hist_trans</th>\n",
       "      <td>12.852219</td>\n",
       "      <td>0.000000</td>\n",
       "      <td>12.852222</td>\n",
       "    </tr>\n",
       "    <tr>\n",
       "      <th>newk_new_amount_month_ratio_max_newk</th>\n",
       "      <td>13.001730</td>\n",
       "      <td>0.000000</td>\n",
       "      <td>13.001732</td>\n",
       "    </tr>\n",
       "    <tr>\n",
       "      <th>month_lag_main_merchant_count</th>\n",
       "      <td>13.274263</td>\n",
       "      <td>0.000000</td>\n",
       "      <td>13.274264</td>\n",
       "    </tr>\n",
       "    <tr>\n",
       "      <th>newk_hist_month_diff_mean_newk</th>\n",
       "      <td>14.015762</td>\n",
       "      <td>0.000000</td>\n",
       "      <td>14.015763</td>\n",
       "    </tr>\n",
       "    <tr>\n",
       "      <th>category_1_Y_hist_trans</th>\n",
       "      <td>14.167116</td>\n",
       "      <td>0.000000</td>\n",
       "      <td>14.167116</td>\n",
       "    </tr>\n",
       "  </tbody>\n",
       "</table>\n",
       "<p>250 rows × 3 columns</p>\n",
       "</div>"
      ],
      "text/plain": [
       "                                                fi   fi_null  fi_complex\n",
       "feature_name                                                            \n",
       "purchase_month_201711_hist_trans          7.759260  0.000000    7.759686\n",
       "ratio_1_lag-10_monthly_merchant_avg_std   7.765667  0.000000    7.766091\n",
       "category_2_classes_hist_trans             7.786769  0.000000    7.787184\n",
       "ratio_2_lag-9_monthly_pmax                7.795195  0.000000    7.795607\n",
       "ratio_4_lag1_monthly_psum                11.869725  4.060365    7.809766\n",
       "sum_1_lag-12_monthly_pmax                 7.822602  0.000000    7.823003\n",
       "category_2_1.0_new_trans                  7.843707  0.000000    7.844099\n",
       "newk_elapsed_time_newk                    7.899700  0.000000    7.900070\n",
       "newk_new_card_id_count_newk               7.913244  0.000000    7.913610\n",
       "newk_quarter_newk                         7.936749  0.000000    7.937107\n",
       "ratio_4_lag-6_monthly_merchant_pmax       7.968057  0.000000    7.968403\n",
       "city_id_-1_new_trans                      7.970429  0.000000    7.970775\n",
       "subsector_id_18_hist_trans                7.970834  0.000000    7.971180\n",
       "ratio_4_lag-6_monthly_merchant_avg_std    7.978311  0.000000    7.978653\n",
       "sum_3_lag-9_monthly_merchant_avg_std      7.991678  0.000000    7.992016\n",
       "newk_new_subsector_id_nunique_newk        7.996463  0.000000    7.996800\n",
       "state_id_classes_new_trans                8.013232  0.000000    8.013563\n",
       "ratio_2_lag-9_monthly_merchant_avg_std    8.022479  0.000000    8.022807\n",
       "ratio_3_lag-9_monthly_pmax                8.045397  0.000000    8.045718\n",
       "newk_feature_1_newk                       8.057866  0.000000    8.058183\n",
       "purchase_month_201701_hist_trans          8.060925  0.000000    8.061241\n",
       "installments_min_hist_trans               8.080152  0.000000    8.080461\n",
       "newk_new_weekday_max_newk                 8.094755  0.000000    8.095061\n",
       "sum_1_lag-12_monthly_psum                 8.133708  0.000000    8.134002\n",
       "purchase_amount_max_new_trans            11.777165  3.633939    8.143516\n",
       "ratio_1_lag-9_monthly_pmax                8.145688  0.000000    8.145978\n",
       "sum_1_lag-10_monthly_psum                 8.149115  0.000000    8.149404\n",
       "sum_2_lag-11_monthly_psum                 8.155021  0.000000    8.155308\n",
       "sum_1_lag-12_monthly_merchant_pmax        8.177739  0.000000    8.178019\n",
       "newk_new_category_3_mean_newk             8.208792  0.000000    8.209065\n",
       "...                                            ...       ...         ...\n",
       "count_dura1_duar_count                   10.612654  0.000000   10.612679\n",
       "newk_hist_amount_month_ratio_var_newk    10.656113  0.000000   10.656137\n",
       "newk_hist_installments_sum_newk          10.730537  0.000000   10.730559\n",
       "sum_4_lag-2_monthly_pmax                 10.756726  0.000000   10.756747\n",
       "ratio_1_lag2_monthly_merchant_pmax       10.769212  0.000000   10.769233\n",
       "ratio_3_lag-2_monthly_merchant_pmax      10.791874  0.000000   10.791895\n",
       "purchase_amount_sum_hist_trans           10.826690  0.000000   10.826710\n",
       "category_1_Y_new_trans                   10.876540  0.000000   10.876559\n",
       "category_3_A_new_trans                   10.953980  0.000000   10.953997\n",
       "newk_new_category_3_mean_mean_newk       11.101074  0.000000   11.101089\n",
       "newk_hist_month_nunique_newk             11.214163  0.000000   11.214176\n",
       "purchase_month_classes_hist_trans        11.279183  0.000000   11.279196\n",
       "newk_hist_purchase_date_uptonow_newk     11.281066  0.000000   11.281079\n",
       "merchant_category_id_67373_hist_trans    11.412801  0.000000   11.412812\n",
       "category_3_B_hist_trans                  11.575350  0.000000   11.575359\n",
       "merchant_category_id_755_hist_trans      11.801238  0.000000   11.801246\n",
       "authorized_flag_N_hist_trans             12.087872  0.000000   12.087878\n",
       "ratio_3_lag2_monthly_psum                12.168537  0.000000   12.168542\n",
       "newk_new_purchase_date_uptonow_newk      12.222415  0.000000   12.222420\n",
       "newk_new_category_1_mean_newk            12.329472  0.000000   12.329477\n",
       "subsector_id_8_hist_trans                12.341314  0.000000   12.341318\n",
       "month_lag_classes_hist_trans             12.581662  0.000000   12.581666\n",
       "newk_hist_month_diff_max_newk            12.627478  0.000000   12.627481\n",
       "newk_hist_month_diff_min_newk            12.760994  0.000000   12.760997\n",
       "newk_hist_weekofyear_nunique_newk        12.805043  0.000000   12.805045\n",
       "city_id_-1_hist_trans                    12.852219  0.000000   12.852222\n",
       "newk_new_amount_month_ratio_max_newk     13.001730  0.000000   13.001732\n",
       "month_lag_main_merchant_count            13.274263  0.000000   13.274264\n",
       "newk_hist_month_diff_mean_newk           14.015762  0.000000   14.015763\n",
       "category_1_Y_hist_trans                  14.167116  0.000000   14.167116\n",
       "\n",
       "[250 rows x 3 columns]"
      ]
     },
     "execution_count": 14,
     "metadata": {},
     "output_type": "execute_result"
    }
   ],
   "source": [
    "avg_fi_cmp.sort_values(\"fi_complex\").tail(250)"
   ]
  }
 ],
 "metadata": {
  "kernelspec": {
   "display_name": "Python 3",
   "language": "python",
   "name": "python3"
  },
  "language_info": {
   "codemirror_mode": {
    "name": "ipython",
    "version": 3
   },
   "file_extension": ".py",
   "mimetype": "text/x-python",
   "name": "python",
   "nbconvert_exporter": "python",
   "pygments_lexer": "ipython3",
   "version": "3.6.6"
  },
  "toc": {
   "base_numbering": 1,
   "nav_menu": {},
   "number_sections": true,
   "sideBar": true,
   "skip_h1_title": false,
   "title_cell": "Table of Contents",
   "title_sidebar": "Contents",
   "toc_cell": false,
   "toc_position": {},
   "toc_section_display": true,
   "toc_window_display": false
  },
  "varInspector": {
   "cols": {
    "lenName": 16,
    "lenType": 16,
    "lenVar": 40
   },
   "kernels_config": {
    "python": {
     "delete_cmd_postfix": "",
     "delete_cmd_prefix": "del ",
     "library": "var_list.py",
     "varRefreshCmd": "print(var_dic_list())"
    },
    "r": {
     "delete_cmd_postfix": ") ",
     "delete_cmd_prefix": "rm(",
     "library": "var_list.r",
     "varRefreshCmd": "cat(var_dic_list()) "
    }
   },
   "types_to_exclude": [
    "module",
    "function",
    "builtin_function_or_method",
    "instance",
    "_Feature"
   ],
   "window_display": false
  }
 },
 "nbformat": 4,
 "nbformat_minor": 2
}
