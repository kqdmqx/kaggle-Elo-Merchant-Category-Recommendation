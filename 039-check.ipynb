{
 "cells": [
  {
   "cell_type": "code",
   "execution_count": 1,
   "metadata": {
    "ExecuteTime": {
     "end_time": "2019-02-25T15:53:17.614798Z",
     "start_time": "2019-02-25T15:53:17.612792Z"
    }
   },
   "outputs": [],
   "source": [
    "import glob"
   ]
  },
  {
   "cell_type": "code",
   "execution_count": 4,
   "metadata": {
    "ExecuteTime": {
     "end_time": "2019-02-26T09:32:00.420904Z",
     "start_time": "2019-02-26T09:32:00.408872Z"
    }
   },
   "outputs": [],
   "source": [
    "%matplotlib inline"
   ]
  },
  {
   "cell_type": "code",
   "execution_count": 10,
   "metadata": {
    "ExecuteTime": {
     "end_time": "2019-02-25T15:54:51.012928Z",
     "start_time": "2019-02-25T15:54:51.004896Z"
    }
   },
   "outputs": [],
   "source": [
    "names = glob.glob(\"./data/submissions/lgb035*.csv\")\n",
    "names += glob.glob(\"./data/submissions/lgb044*.csv\")\n",
    "names += glob.glob(\"./data/submissions/lgb045*.csv\")"
   ]
  },
  {
   "cell_type": "code",
   "execution_count": 14,
   "metadata": {
    "ExecuteTime": {
     "end_time": "2019-02-25T15:55:43.140504Z",
     "start_time": "2019-02-25T15:55:43.135478Z"
    }
   },
   "outputs": [
    {
     "data": {
      "text/plain": [
       "['lgb035_gbdt',\n",
       " 'lgb044_135_gbdt',\n",
       " 'lgb044_233_gbdt',\n",
       " 'lgb044_666_gbdt',\n",
       " 'lgb044_67373_gbdt',\n",
       " 'lgb044_677_gbdt',\n",
       " 'lgb044_67_gbdt',\n",
       " 'lgb044_688_gbdt',\n",
       " 'lgb044_699_gbdt',\n",
       " 'lgb044_6_gbdt',\n",
       " 'lgb045_16_gbdt',\n",
       " 'lgb045_267_gbdt',\n",
       " 'lgb045_3677_gbdt',\n",
       " 'lgb045_467373_gbdt',\n",
       " 'lgb045_5666_gbdt',\n",
       " 'lgb045_6688_gbdt',\n",
       " 'lgb045_7699_gbdt',\n",
       " 'lgb045_8233_gbdt',\n",
       " 'lgb045_9135_gbdt']"
      ]
     },
     "execution_count": 14,
     "metadata": {},
     "output_type": "execute_result"
    }
   ],
   "source": [
    "[name.split(\"\\\\\")[-1].split(\".\")[0] for name in names]"
   ]
  },
  {
   "cell_type": "code",
   "execution_count": 15,
   "metadata": {
    "ExecuteTime": {
     "end_time": "2019-02-25T16:05:17.095124Z",
     "start_time": "2019-02-25T16:05:16.436361Z"
    }
   },
   "outputs": [],
   "source": [
    "from data_io import load_submission"
   ]
  },
  {
   "cell_type": "code",
   "execution_count": 17,
   "metadata": {
    "ExecuteTime": {
     "end_time": "2019-02-25T16:06:27.508293Z",
     "start_time": "2019-02-25T16:06:25.486894Z"
    }
   },
   "outputs": [],
   "source": [
    "subs = [load_submission(name) for name in [name.split(\"\\\\\")[-1].split(\".\")[0] for name in names]]"
   ]
  },
  {
   "cell_type": "code",
   "execution_count": 18,
   "metadata": {
    "ExecuteTime": {
     "end_time": "2019-02-25T16:06:36.992480Z",
     "start_time": "2019-02-25T16:06:36.989503Z"
    }
   },
   "outputs": [],
   "source": [
    "submission = subs[0]"
   ]
  },
  {
   "cell_type": "code",
   "execution_count": 19,
   "metadata": {
    "ExecuteTime": {
     "end_time": "2019-02-25T16:06:43.035408Z",
     "start_time": "2019-02-25T16:06:43.024362Z"
    }
   },
   "outputs": [
    {
     "data": {
      "text/html": [
       "<div>\n",
       "<style scoped>\n",
       "    .dataframe tbody tr th:only-of-type {\n",
       "        vertical-align: middle;\n",
       "    }\n",
       "\n",
       "    .dataframe tbody tr th {\n",
       "        vertical-align: top;\n",
       "    }\n",
       "\n",
       "    .dataframe thead th {\n",
       "        text-align: right;\n",
       "    }\n",
       "</style>\n",
       "<table border=\"1\" class=\"dataframe\">\n",
       "  <thead>\n",
       "    <tr style=\"text-align: right;\">\n",
       "      <th></th>\n",
       "      <th>card_id</th>\n",
       "      <th>target</th>\n",
       "    </tr>\n",
       "  </thead>\n",
       "  <tbody>\n",
       "    <tr>\n",
       "      <th>0</th>\n",
       "      <td>C_ID_0ab67a22ab</td>\n",
       "      <td>-2.565551</td>\n",
       "    </tr>\n",
       "    <tr>\n",
       "      <th>1</th>\n",
       "      <td>C_ID_130fd0cbdd</td>\n",
       "      <td>-0.122060</td>\n",
       "    </tr>\n",
       "    <tr>\n",
       "      <th>2</th>\n",
       "      <td>C_ID_b709037bc5</td>\n",
       "      <td>-0.933452</td>\n",
       "    </tr>\n",
       "    <tr>\n",
       "      <th>3</th>\n",
       "      <td>C_ID_d27d835a9f</td>\n",
       "      <td>-0.175627</td>\n",
       "    </tr>\n",
       "    <tr>\n",
       "      <th>4</th>\n",
       "      <td>C_ID_2b5e3df5c2</td>\n",
       "      <td>-0.833884</td>\n",
       "    </tr>\n",
       "  </tbody>\n",
       "</table>\n",
       "</div>"
      ],
      "text/plain": [
       "           card_id    target\n",
       "0  C_ID_0ab67a22ab -2.565551\n",
       "1  C_ID_130fd0cbdd -0.122060\n",
       "2  C_ID_b709037bc5 -0.933452\n",
       "3  C_ID_d27d835a9f -0.175627\n",
       "4  C_ID_2b5e3df5c2 -0.833884"
      ]
     },
     "execution_count": 19,
     "metadata": {},
     "output_type": "execute_result"
    }
   ],
   "source": [
    "submission.head()"
   ]
  },
  {
   "cell_type": "code",
   "execution_count": 20,
   "metadata": {
    "ExecuteTime": {
     "end_time": "2019-02-25T16:07:07.259363Z",
     "start_time": "2019-02-25T16:07:07.216118Z"
    }
   },
   "outputs": [],
   "source": [
    "for sub in subs[1:]:\n",
    "    submission.target += sub.target"
   ]
  },
  {
   "cell_type": "code",
   "execution_count": 21,
   "metadata": {
    "ExecuteTime": {
     "end_time": "2019-02-25T16:07:14.105431Z",
     "start_time": "2019-02-25T16:07:14.097379Z"
    }
   },
   "outputs": [
    {
     "data": {
      "text/html": [
       "<div>\n",
       "<style scoped>\n",
       "    .dataframe tbody tr th:only-of-type {\n",
       "        vertical-align: middle;\n",
       "    }\n",
       "\n",
       "    .dataframe tbody tr th {\n",
       "        vertical-align: top;\n",
       "    }\n",
       "\n",
       "    .dataframe thead th {\n",
       "        text-align: right;\n",
       "    }\n",
       "</style>\n",
       "<table border=\"1\" class=\"dataframe\">\n",
       "  <thead>\n",
       "    <tr style=\"text-align: right;\">\n",
       "      <th></th>\n",
       "      <th>card_id</th>\n",
       "      <th>target</th>\n",
       "    </tr>\n",
       "  </thead>\n",
       "  <tbody>\n",
       "    <tr>\n",
       "      <th>0</th>\n",
       "      <td>C_ID_0ab67a22ab</td>\n",
       "      <td>-43.302063</td>\n",
       "    </tr>\n",
       "    <tr>\n",
       "      <th>1</th>\n",
       "      <td>C_ID_130fd0cbdd</td>\n",
       "      <td>-2.075735</td>\n",
       "    </tr>\n",
       "    <tr>\n",
       "      <th>2</th>\n",
       "      <td>C_ID_b709037bc5</td>\n",
       "      <td>-17.724479</td>\n",
       "    </tr>\n",
       "    <tr>\n",
       "      <th>3</th>\n",
       "      <td>C_ID_d27d835a9f</td>\n",
       "      <td>-3.484107</td>\n",
       "    </tr>\n",
       "    <tr>\n",
       "      <th>4</th>\n",
       "      <td>C_ID_2b5e3df5c2</td>\n",
       "      <td>-15.838680</td>\n",
       "    </tr>\n",
       "  </tbody>\n",
       "</table>\n",
       "</div>"
      ],
      "text/plain": [
       "           card_id     target\n",
       "0  C_ID_0ab67a22ab -43.302063\n",
       "1  C_ID_130fd0cbdd  -2.075735\n",
       "2  C_ID_b709037bc5 -17.724479\n",
       "3  C_ID_d27d835a9f  -3.484107\n",
       "4  C_ID_2b5e3df5c2 -15.838680"
      ]
     },
     "execution_count": 21,
     "metadata": {},
     "output_type": "execute_result"
    }
   ],
   "source": [
    "submission.head()"
   ]
  },
  {
   "cell_type": "code",
   "execution_count": 22,
   "metadata": {
    "ExecuteTime": {
     "end_time": "2019-02-25T16:07:32.533389Z",
     "start_time": "2019-02-25T16:07:32.523361Z"
    }
   },
   "outputs": [],
   "source": [
    "submission[\"target\"] /= len(subs)"
   ]
  },
  {
   "cell_type": "code",
   "execution_count": 23,
   "metadata": {
    "ExecuteTime": {
     "end_time": "2019-02-25T16:07:37.935752Z",
     "start_time": "2019-02-25T16:07:37.928734Z"
    }
   },
   "outputs": [
    {
     "data": {
      "text/html": [
       "<div>\n",
       "<style scoped>\n",
       "    .dataframe tbody tr th:only-of-type {\n",
       "        vertical-align: middle;\n",
       "    }\n",
       "\n",
       "    .dataframe tbody tr th {\n",
       "        vertical-align: top;\n",
       "    }\n",
       "\n",
       "    .dataframe thead th {\n",
       "        text-align: right;\n",
       "    }\n",
       "</style>\n",
       "<table border=\"1\" class=\"dataframe\">\n",
       "  <thead>\n",
       "    <tr style=\"text-align: right;\">\n",
       "      <th></th>\n",
       "      <th>card_id</th>\n",
       "      <th>target</th>\n",
       "    </tr>\n",
       "  </thead>\n",
       "  <tbody>\n",
       "    <tr>\n",
       "      <th>0</th>\n",
       "      <td>C_ID_0ab67a22ab</td>\n",
       "      <td>-2.279056</td>\n",
       "    </tr>\n",
       "    <tr>\n",
       "      <th>1</th>\n",
       "      <td>C_ID_130fd0cbdd</td>\n",
       "      <td>-0.109249</td>\n",
       "    </tr>\n",
       "    <tr>\n",
       "      <th>2</th>\n",
       "      <td>C_ID_b709037bc5</td>\n",
       "      <td>-0.932867</td>\n",
       "    </tr>\n",
       "    <tr>\n",
       "      <th>3</th>\n",
       "      <td>C_ID_d27d835a9f</td>\n",
       "      <td>-0.183374</td>\n",
       "    </tr>\n",
       "    <tr>\n",
       "      <th>4</th>\n",
       "      <td>C_ID_2b5e3df5c2</td>\n",
       "      <td>-0.833615</td>\n",
       "    </tr>\n",
       "  </tbody>\n",
       "</table>\n",
       "</div>"
      ],
      "text/plain": [
       "           card_id    target\n",
       "0  C_ID_0ab67a22ab -2.279056\n",
       "1  C_ID_130fd0cbdd -0.109249\n",
       "2  C_ID_b709037bc5 -0.932867\n",
       "3  C_ID_d27d835a9f -0.183374\n",
       "4  C_ID_2b5e3df5c2 -0.833615"
      ]
     },
     "execution_count": 23,
     "metadata": {},
     "output_type": "execute_result"
    }
   ],
   "source": [
    "submission.head()"
   ]
  },
  {
   "cell_type": "code",
   "execution_count": 24,
   "metadata": {
    "ExecuteTime": {
     "end_time": "2019-02-25T16:08:50.967899Z",
     "start_time": "2019-02-25T16:08:50.165768Z"
    }
   },
   "outputs": [],
   "source": [
    "submission.to_csv(\"./data/submissions/blend-notebook039.csv\", index=False)"
   ]
  },
  {
   "cell_type": "markdown",
   "metadata": {},
   "source": [
    "# public blend"
   ]
  },
  {
   "cell_type": "code",
   "execution_count": 28,
   "metadata": {
    "ExecuteTime": {
     "end_time": "2019-02-25T16:12:20.263220Z",
     "start_time": "2019-02-25T16:12:20.254222Z"
    }
   },
   "outputs": [
    {
     "data": {
      "text/html": [
       "<div>\n",
       "<style scoped>\n",
       "    .dataframe tbody tr th:only-of-type {\n",
       "        vertical-align: middle;\n",
       "    }\n",
       "\n",
       "    .dataframe tbody tr th {\n",
       "        vertical-align: top;\n",
       "    }\n",
       "\n",
       "    .dataframe thead th {\n",
       "        text-align: right;\n",
       "    }\n",
       "</style>\n",
       "<table border=\"1\" class=\"dataframe\">\n",
       "  <thead>\n",
       "    <tr style=\"text-align: right;\">\n",
       "      <th></th>\n",
       "      <th>card_id</th>\n",
       "      <th>target</th>\n",
       "    </tr>\n",
       "  </thead>\n",
       "  <tbody>\n",
       "    <tr>\n",
       "      <th>0</th>\n",
       "      <td>C_ID_0ab67a22ab</td>\n",
       "      <td>-2.795320</td>\n",
       "    </tr>\n",
       "    <tr>\n",
       "      <th>1</th>\n",
       "      <td>C_ID_130fd0cbdd</td>\n",
       "      <td>-0.258013</td>\n",
       "    </tr>\n",
       "    <tr>\n",
       "      <th>2</th>\n",
       "      <td>C_ID_b709037bc5</td>\n",
       "      <td>-0.995384</td>\n",
       "    </tr>\n",
       "    <tr>\n",
       "      <th>3</th>\n",
       "      <td>C_ID_d27d835a9f</td>\n",
       "      <td>-0.162522</td>\n",
       "    </tr>\n",
       "    <tr>\n",
       "      <th>4</th>\n",
       "      <td>C_ID_2b5e3df5c2</td>\n",
       "      <td>-1.179420</td>\n",
       "    </tr>\n",
       "  </tbody>\n",
       "</table>\n",
       "</div>"
      ],
      "text/plain": [
       "           card_id    target\n",
       "0  C_ID_0ab67a22ab -2.795320\n",
       "1  C_ID_130fd0cbdd -0.258013\n",
       "2  C_ID_b709037bc5 -0.995384\n",
       "3  C_ID_d27d835a9f -0.162522\n",
       "4  C_ID_2b5e3df5c2 -1.179420"
      ]
     },
     "execution_count": 28,
     "metadata": {},
     "output_type": "execute_result"
    }
   ],
   "source": [
    "submission_pub.head()"
   ]
  },
  {
   "cell_type": "code",
   "execution_count": 27,
   "metadata": {
    "ExecuteTime": {
     "end_time": "2019-02-25T16:12:13.843151Z",
     "start_time": "2019-02-25T16:12:13.835130Z"
    }
   },
   "outputs": [
    {
     "data": {
      "text/html": [
       "<div>\n",
       "<style scoped>\n",
       "    .dataframe tbody tr th:only-of-type {\n",
       "        vertical-align: middle;\n",
       "    }\n",
       "\n",
       "    .dataframe tbody tr th {\n",
       "        vertical-align: top;\n",
       "    }\n",
       "\n",
       "    .dataframe thead th {\n",
       "        text-align: right;\n",
       "    }\n",
       "</style>\n",
       "<table border=\"1\" class=\"dataframe\">\n",
       "  <thead>\n",
       "    <tr style=\"text-align: right;\">\n",
       "      <th></th>\n",
       "      <th>card_id</th>\n",
       "      <th>target</th>\n",
       "    </tr>\n",
       "  </thead>\n",
       "  <tbody>\n",
       "    <tr>\n",
       "      <th>0</th>\n",
       "      <td>C_ID_0ab67a22ab</td>\n",
       "      <td>-2.623687</td>\n",
       "    </tr>\n",
       "    <tr>\n",
       "      <th>1</th>\n",
       "      <td>C_ID_130fd0cbdd</td>\n",
       "      <td>-0.131720</td>\n",
       "    </tr>\n",
       "    <tr>\n",
       "      <th>2</th>\n",
       "      <td>C_ID_b709037bc5</td>\n",
       "      <td>-0.951725</td>\n",
       "    </tr>\n",
       "    <tr>\n",
       "      <th>3</th>\n",
       "      <td>C_ID_d27d835a9f</td>\n",
       "      <td>-0.209635</td>\n",
       "    </tr>\n",
       "    <tr>\n",
       "      <th>4</th>\n",
       "      <td>C_ID_2b5e3df5c2</td>\n",
       "      <td>-0.951078</td>\n",
       "    </tr>\n",
       "  </tbody>\n",
       "</table>\n",
       "</div>"
      ],
      "text/plain": [
       "           card_id    target\n",
       "0  C_ID_0ab67a22ab -2.623687\n",
       "1  C_ID_130fd0cbdd -0.131720\n",
       "2  C_ID_b709037bc5 -0.951725\n",
       "3  C_ID_d27d835a9f -0.209635\n",
       "4  C_ID_2b5e3df5c2 -0.951078"
      ]
     },
     "execution_count": 27,
     "metadata": {},
     "output_type": "execute_result"
    }
   ],
   "source": [
    "submission_my.head()"
   ]
  },
  {
   "cell_type": "code",
   "execution_count": 32,
   "metadata": {
    "ExecuteTime": {
     "end_time": "2019-02-25T16:15:17.459326Z",
     "start_time": "2019-02-25T16:15:16.758463Z"
    }
   },
   "outputs": [],
   "source": [
    "submission_my = load_submission(\"stacking036\")\n",
    "submission_pub = load_submission(\"blend029p\")\n",
    "submission_my.target = submission_my.target * 0.5 + submission_pub.target * 0.5\n",
    "submission_my.to_csv(\"./data/submissions/blend-notebook039p-55.csv\", index=False)"
   ]
  },
  {
   "cell_type": "code",
   "execution_count": 31,
   "metadata": {
    "ExecuteTime": {
     "end_time": "2019-02-25T16:13:10.756500Z",
     "start_time": "2019-02-25T16:13:10.276223Z"
    }
   },
   "outputs": [],
   "source": [
    "submission_my.to_csv(\"./data/submissions/blend-notebook039p.csv\", index=False)"
   ]
  },
  {
   "cell_type": "code",
   "execution_count": 33,
   "metadata": {
    "ExecuteTime": {
     "end_time": "2019-02-25T16:18:18.168909Z",
     "start_time": "2019-02-25T16:18:17.997454Z"
    }
   },
   "outputs": [],
   "source": [
    "submission_pub2 = load_submission(\"subm_3.651336_XGB_cv11_2019-02-15-11-56\")"
   ]
  },
  {
   "cell_type": "code",
   "execution_count": 34,
   "metadata": {
    "ExecuteTime": {
     "end_time": "2019-02-25T16:18:57.567287Z",
     "start_time": "2019-02-25T16:18:57.560275Z"
    }
   },
   "outputs": [],
   "source": [
    "submission_my = load_submission(\"stacking036\")\n",
    "submission_pub = load_submission(\"blend029p\")\n",
    "submission_pub2 = load_submission(\"subm_3.651336_XGB_cv11_2019-02-15-11-56\")\n",
    "submission_my.target = submission_my.target * 0.5 + submission_pub.target * 0.5\n",
    "submission_my.target = submission_my.target * .9 + submission_pub2.target * .1"
   ]
  },
  {
   "cell_type": "code",
   "execution_count": 36,
   "metadata": {
    "ExecuteTime": {
     "end_time": "2019-02-25T16:19:43.672906Z",
     "start_time": "2019-02-25T16:19:43.201609Z"
    }
   },
   "outputs": [],
   "source": [
    "submission_my.to_csv(\"./data/submissions/blend-notebook039p-55-91.csv\", index=False)"
   ]
  },
  {
   "cell_type": "code",
   "execution_count": 2,
   "metadata": {
    "ExecuteTime": {
     "end_time": "2019-02-26T09:31:38.675560Z",
     "start_time": "2019-02-26T09:31:34.385551Z"
    }
   },
   "outputs": [],
   "source": [
    "from data_io import load_submission\n",
    "\n",
    "submission_my = load_submission(\"stacking036\")\n",
    "submission_pub = load_submission(\"blend029p\")\n",
    "submission_pub2 = load_submission(\"subm_3.651336_XGB_cv11_2019-02-15-11-56\")"
   ]
  },
  {
   "cell_type": "code",
   "execution_count": 12,
   "metadata": {
    "ExecuteTime": {
     "end_time": "2019-02-26T09:35:05.232936Z",
     "start_time": "2019-02-26T09:35:05.217898Z"
    }
   },
   "outputs": [
    {
     "name": "stdout",
     "output_type": "stream",
     "text": [
      "254 -12.050863143795445\n",
      "209 -11.919972067240584\n",
      "265 -12.626336965839002\n"
     ]
    }
   ],
   "source": [
    "for sub in (submission_my, submission_pub, submission_pub2):\n",
    "    cond = sub.target < -10\n",
    "    print(cond.sum(), sub[cond].target.mean())"
   ]
  },
  {
   "cell_type": "code",
   "execution_count": 13,
   "metadata": {
    "ExecuteTime": {
     "end_time": "2019-02-26T09:36:14.759334Z",
     "start_time": "2019-02-26T09:36:14.751315Z"
    }
   },
   "outputs": [
    {
     "name": "stdout",
     "output_type": "stream",
     "text": [
      "162\n"
     ]
    }
   ],
   "source": [
    "cond_join = (submission_my.target < -10) & (submission_pub.target < -10) & (submission_pub2.target < -10)\n",
    "print(cond_join.sum())"
   ]
  },
  {
   "cell_type": "code",
   "execution_count": 6,
   "metadata": {
    "ExecuteTime": {
     "end_time": "2019-02-26T09:32:17.831269Z",
     "start_time": "2019-02-26T09:32:17.574513Z"
    }
   },
   "outputs": [
    {
     "data": {
      "text/plain": [
       "array([[<matplotlib.axes._subplots.AxesSubplot object at 0x0000027CE231F978>]],\n",
       "      dtype=object)"
      ]
     },
     "execution_count": 6,
     "metadata": {},
     "output_type": "execute_result"
    },
    {
     "data": {
      "image/png": "[encoded data removed]",
      "text/plain": [
       "<Figure size 432x288 with 1 Axes>"
      ]
     },
     "metadata": {
      "needs_background": "light"
     },
     "output_type": "display_data"
    }
   ],
   "source": [
    "submission_my.hist(bins=50)"
   ]
  },
  {
   "cell_type": "code",
   "execution_count": 7,
   "metadata": {
    "ExecuteTime": {
     "end_time": "2019-02-26T09:32:21.998205Z",
     "start_time": "2019-02-26T09:32:21.724053Z"
    }
   },
   "outputs": [
    {
     "data": {
      "text/plain": [
       "array([[<matplotlib.axes._subplots.AxesSubplot object at 0x0000027CE2AAE2B0>]],\n",
       "      dtype=object)"
      ]
     },
     "execution_count": 7,
     "metadata": {},
     "output_type": "execute_result"
    },
    {
     "data": {
      "image/png": "[encoded data removed]",
      "text/plain": [
       "<Figure size 432x288 with 1 Axes>"
      ]
     },
     "metadata": {
      "needs_background": "light"
     },
     "output_type": "display_data"
    }
   ],
   "source": [
    "submission_pub.hist(bins=50)"
   ]
  },
  {
   "cell_type": "code",
   "execution_count": 8,
   "metadata": {
    "ExecuteTime": {
     "end_time": "2019-02-26T09:32:33.258904Z",
     "start_time": "2019-02-26T09:32:33.001023Z"
    }
   },
   "outputs": [
    {
     "data": {
      "text/plain": [
       "array([[<matplotlib.axes._subplots.AxesSubplot object at 0x0000027CE310E2B0>]],\n",
       "      dtype=object)"
      ]
     },
     "execution_count": 8,
     "metadata": {},
     "output_type": "execute_result"
    },
    {
     "data": {
      "image/png": "[encoded data removed]",
      "text/plain": [
       "<Figure size 432x288 with 1 Axes>"
      ]
     },
     "metadata": {
      "needs_background": "light"
     },
     "output_type": "display_data"
    }
   ],
   "source": [
    "submission_pub2.hist(bins=50)"
   ]
  },
  {
   "cell_type": "code",
   "execution_count": 19,
   "metadata": {
    "ExecuteTime": {
     "end_time": "2019-02-26T09:40:56.302824Z",
     "start_time": "2019-02-26T09:40:54.234841Z"
    }
   },
   "outputs": [
    {
     "name": "stdout",
     "output_type": "stream",
     "text": [
      "162\n"
     ]
    }
   ],
   "source": [
    "submission_my = load_submission(\"stacking036\")\n",
    "submission_pub = load_submission(\"blend029p\")\n",
    "submission_pub2 = load_submission(\"subm_3.651336_XGB_cv11_2019-02-15-11-56\")\n",
    "\n",
    "cond_join = (submission_my.target < -10) & (submission_pub.target < -10) & (submission_pub2.target < -10)\n",
    "print(cond_join.sum())\n",
    "\n",
    "submission_final_blend = load_submission(\"blend-notebook039p-55-91\")\n",
    "submission_final_blend.loc[cond_join, \"target\"] = -16.6\n",
    "submission_final_blend.to_csv(\"./data/submissions/blend-notebook039p-55-91-post.csv\", index=False)"
   ]
  },
  {
   "cell_type": "code",
   "execution_count": 20,
   "metadata": {
    "ExecuteTime": {
     "end_time": "2019-02-26T09:45:48.933440Z",
     "start_time": "2019-02-26T09:45:48.050607Z"
    }
   },
   "outputs": [
    {
     "name": "stdout",
     "output_type": "stream",
     "text": [
      "162\n"
     ]
    }
   ],
   "source": [
    "submission_my = load_submission(\"stacking036\")\n",
    "submission_pub = load_submission(\"blend029p\")\n",
    "submission_pub2 = load_submission(\"subm_3.651336_XGB_cv11_2019-02-15-11-56\")\n",
    "\n",
    "cond_join = (submission_my.target < -10) & (submission_pub.target < -10) & (submission_pub2.target < -10)\n",
    "print(cond_join.sum())\n",
    "\n",
    "submission_final_blend = load_submission(\"blend-notebook039p-55-91\")\n",
    "submission_final_blend.loc[cond_join, \"target\"] = -20\n",
    "submission_final_blend.to_csv(\"./data/submissions/blend-notebook039p-55-91-post20.csv\", index=False)"
   ]
  },
  {
   "cell_type": "code",
   "execution_count": 21,
   "metadata": {
    "ExecuteTime": {
     "end_time": "2019-02-26T09:48:02.701674Z",
     "start_time": "2019-02-26T09:48:01.796983Z"
    }
   },
   "outputs": [
    {
     "name": "stdout",
     "output_type": "stream",
     "text": [
      "162\n"
     ]
    }
   ],
   "source": [
    "submission_my = load_submission(\"stacking036\")\n",
    "submission_pub = load_submission(\"blend029p\")\n",
    "submission_pub2 = load_submission(\"subm_3.651336_XGB_cv11_2019-02-15-11-56\")\n",
    "\n",
    "cond_join = (submission_my.target < -10) & (submission_pub.target < -10) & (submission_pub2.target < -10)\n",
    "print(cond_join.sum())\n",
    "\n",
    "submission_final_blend = load_submission(\"blend-notebook039p-55-91\")\n",
    "submission_final_blend.loc[cond_join, \"target\"] = -23\n",
    "submission_final_blend.to_csv(\"./data/submissions/blend-notebook039p-55-91-post23.csv\", index=False)"
   ]
  },
  {
   "cell_type": "code",
   "execution_count": 22,
   "metadata": {
    "ExecuteTime": {
     "end_time": "2019-02-26T09:50:57.335270Z",
     "start_time": "2019-02-26T09:50:56.467653Z"
    }
   },
   "outputs": [
    {
     "name": "stdout",
     "output_type": "stream",
     "text": [
      "162\n"
     ]
    }
   ],
   "source": [
    "submission_my = load_submission(\"stacking036\")\n",
    "submission_pub = load_submission(\"blend029p\")\n",
    "submission_pub2 = load_submission(\"subm_3.651336_XGB_cv11_2019-02-15-11-56\")\n",
    "\n",
    "cond_join = (submission_my.target < -10) & (submission_pub.target < -10) & (submission_pub2.target < -10)\n",
    "print(cond_join.sum())\n",
    "\n",
    "submission_final_blend = load_submission(\"blend-notebook039p-55-91\")\n",
    "submission_final_blend.loc[cond_join, \"target\"] = -19.4\n",
    "submission_final_blend.to_csv(\"./data/submissions/blend-notebook039p-55-91-post19.csv\", index=False)"
   ]
  },
  {
   "cell_type": "code",
   "execution_count": 23,
   "metadata": {
    "ExecuteTime": {
     "end_time": "2019-02-26T09:55:11.228704Z",
     "start_time": "2019-02-26T09:55:11.097786Z"
    }
   },
   "outputs": [
    {
     "data": {
      "text/plain": [
       "2.8002023370596327"
      ]
     },
     "execution_count": 23,
     "metadata": {},
     "output_type": "execute_result"
    }
   ],
   "source": [
    "submission_final = load_submission(\"blend-notebook039p-55-91-post20\")\n",
    "submission_final.target.max()"
   ]
  },
  {
   "cell_type": "code",
   "execution_count": 24,
   "metadata": {
    "ExecuteTime": {
     "end_time": "2019-02-26T09:55:52.497905Z",
     "start_time": "2019-02-26T09:55:52.305634Z"
    }
   },
   "outputs": [
    {
     "data": {
      "text/plain": [
       "17.965069"
      ]
     },
     "execution_count": 24,
     "metadata": {},
     "output_type": "execute_result"
    }
   ],
   "source": [
    "from data_io import load_train\n",
    "\n",
    "train = load_train()\n",
    "train.target.max()"
   ]
  }
 ],
 "metadata": {
  "kernelspec": {
   "display_name": "Python 3",
   "language": "python",
   "name": "python3"
  },
  "language_info": {
   "codemirror_mode": {
    "name": "ipython",
    "version": 3
   },
   "file_extension": ".py",
   "mimetype": "text/x-python",
   "name": "python",
   "nbconvert_exporter": "python",
   "pygments_lexer": "ipython3",
   "version": "3.6.6"
  },
  "toc": {
   "base_numbering": 1,
   "nav_menu": {},
   "number_sections": true,
   "sideBar": true,
   "skip_h1_title": false,
   "title_cell": "Table of Contents",
   "title_sidebar": "Contents",
   "toc_cell": false,
   "toc_position": {},
   "toc_section_display": true,
   "toc_window_display": false
  },
  "varInspector": {
   "cols": {
    "lenName": 16,
    "lenType": 16,
    "lenVar": 40
   },
   "kernels_config": {
    "python": {
     "delete_cmd_postfix": "",
     "delete_cmd_prefix": "del ",
     "library": "var_list.py",
     "varRefreshCmd": "print(var_dic_list())"
    },
    "r": {
     "delete_cmd_postfix": ") ",
     "delete_cmd_prefix": "rm(",
     "library": "var_list.r",
     "varRefreshCmd": "cat(var_dic_list()) "
    }
   },
   "types_to_exclude": [
    "module",
    "function",
    "builtin_function_or_method",
    "instance",
    "_Feature"
   ],
   "window_display": false
  }
 },
 "nbformat": 4,
 "nbformat_minor": 2
}
