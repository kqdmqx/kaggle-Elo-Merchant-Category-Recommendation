{
 "cells": [
  {
   "cell_type": "markdown",
   "metadata": {},
   "source": [
    "# Monthly Payment Features"
   ]
  },
  {
   "cell_type": "code",
   "execution_count": 1,
   "metadata": {
    "ExecuteTime": {
     "end_time": "2019-02-16T05:43:58.268720Z",
     "start_time": "2019-02-16T05:43:55.242674Z"
    }
   },
   "outputs": [],
   "source": [
    "import numpy as np\n",
    "import pandas as pd\n",
    "import gc\n",
    "\n",
    "pd.set_option('display.float_format', '{:.10f}'.format)\n",
    "import matplotlib.pyplot as plt\n",
    "%matplotlib inline"
   ]
  },
  {
   "cell_type": "code",
   "execution_count": 2,
   "metadata": {
    "ExecuteTime": {
     "end_time": "2019-02-16T05:45:01.155920Z",
     "start_time": "2019-02-16T05:43:58.271723Z"
    }
   },
   "outputs": [],
   "source": [
    "train = pd.read_csv('./data/train.csv')\n",
    "historical_transactions = pd.read_csv('./data/historical_transactions.csv')\n",
    "new_merchant_transactions = pd.read_csv('./data/new_merchant_transactions.csv')"
   ]
  },
  {
   "cell_type": "code",
   "execution_count": 3,
   "metadata": {
    "ExecuteTime": {
     "end_time": "2019-02-16T05:45:06.584357Z",
     "start_time": "2019-02-16T05:45:01.157900Z"
    }
   },
   "outputs": [],
   "source": [
    "all_transactions = pd.concat([historical_transactions, new_merchant_transactions], axis=0)"
   ]
  },
  {
   "cell_type": "code",
   "execution_count": 4,
   "metadata": {
    "ExecuteTime": {
     "end_time": "2019-02-16T05:45:06.624431Z",
     "start_time": "2019-02-16T05:45:06.588362Z"
    }
   },
   "outputs": [
    {
     "data": {
      "text/html": [
       "<div>\n",
       "<style scoped>\n",
       "    .dataframe tbody tr th:only-of-type {\n",
       "        vertical-align: middle;\n",
       "    }\n",
       "\n",
       "    .dataframe tbody tr th {\n",
       "        vertical-align: top;\n",
       "    }\n",
       "\n",
       "    .dataframe thead th {\n",
       "        text-align: right;\n",
       "    }\n",
       "</style>\n",
       "<table border=\"1\" class=\"dataframe\">\n",
       "  <thead>\n",
       "    <tr style=\"text-align: right;\">\n",
       "      <th></th>\n",
       "      <th>authorized_flag</th>\n",
       "      <th>card_id</th>\n",
       "      <th>city_id</th>\n",
       "      <th>category_1</th>\n",
       "      <th>installments</th>\n",
       "      <th>category_3</th>\n",
       "      <th>merchant_category_id</th>\n",
       "      <th>merchant_id</th>\n",
       "      <th>month_lag</th>\n",
       "      <th>purchase_amount</th>\n",
       "      <th>purchase_date</th>\n",
       "      <th>category_2</th>\n",
       "      <th>state_id</th>\n",
       "      <th>subsector_id</th>\n",
       "    </tr>\n",
       "  </thead>\n",
       "  <tbody>\n",
       "    <tr>\n",
       "      <th>0</th>\n",
       "      <td>Y</td>\n",
       "      <td>C_ID_4e6213e9bc</td>\n",
       "      <td>88</td>\n",
       "      <td>N</td>\n",
       "      <td>0</td>\n",
       "      <td>A</td>\n",
       "      <td>80</td>\n",
       "      <td>M_ID_e020e9b302</td>\n",
       "      <td>-8</td>\n",
       "      <td>-0.7033309100</td>\n",
       "      <td>2017-06-25 15:33:07</td>\n",
       "      <td>1.0000000000</td>\n",
       "      <td>16</td>\n",
       "      <td>37</td>\n",
       "    </tr>\n",
       "    <tr>\n",
       "      <th>1</th>\n",
       "      <td>Y</td>\n",
       "      <td>C_ID_4e6213e9bc</td>\n",
       "      <td>88</td>\n",
       "      <td>N</td>\n",
       "      <td>0</td>\n",
       "      <td>A</td>\n",
       "      <td>367</td>\n",
       "      <td>M_ID_86ec983688</td>\n",
       "      <td>-7</td>\n",
       "      <td>-0.7331284800</td>\n",
       "      <td>2017-07-15 12:10:45</td>\n",
       "      <td>1.0000000000</td>\n",
       "      <td>16</td>\n",
       "      <td>16</td>\n",
       "    </tr>\n",
       "    <tr>\n",
       "      <th>2</th>\n",
       "      <td>Y</td>\n",
       "      <td>C_ID_4e6213e9bc</td>\n",
       "      <td>88</td>\n",
       "      <td>N</td>\n",
       "      <td>0</td>\n",
       "      <td>A</td>\n",
       "      <td>80</td>\n",
       "      <td>M_ID_979ed661fc</td>\n",
       "      <td>-6</td>\n",
       "      <td>-0.7203860000</td>\n",
       "      <td>2017-08-09 22:04:29</td>\n",
       "      <td>1.0000000000</td>\n",
       "      <td>16</td>\n",
       "      <td>37</td>\n",
       "    </tr>\n",
       "    <tr>\n",
       "      <th>3</th>\n",
       "      <td>Y</td>\n",
       "      <td>C_ID_4e6213e9bc</td>\n",
       "      <td>88</td>\n",
       "      <td>N</td>\n",
       "      <td>0</td>\n",
       "      <td>A</td>\n",
       "      <td>560</td>\n",
       "      <td>M_ID_e6d5ae8ea6</td>\n",
       "      <td>-5</td>\n",
       "      <td>-0.7353524100</td>\n",
       "      <td>2017-09-02 10:06:26</td>\n",
       "      <td>1.0000000000</td>\n",
       "      <td>16</td>\n",
       "      <td>34</td>\n",
       "    </tr>\n",
       "    <tr>\n",
       "      <th>4</th>\n",
       "      <td>Y</td>\n",
       "      <td>C_ID_4e6213e9bc</td>\n",
       "      <td>88</td>\n",
       "      <td>N</td>\n",
       "      <td>0</td>\n",
       "      <td>A</td>\n",
       "      <td>80</td>\n",
       "      <td>M_ID_e020e9b302</td>\n",
       "      <td>-11</td>\n",
       "      <td>-0.7228653800</td>\n",
       "      <td>2017-03-10 01:14:19</td>\n",
       "      <td>1.0000000000</td>\n",
       "      <td>16</td>\n",
       "      <td>37</td>\n",
       "    </tr>\n",
       "  </tbody>\n",
       "</table>\n",
       "</div>"
      ],
      "text/plain": [
       "  authorized_flag          card_id  city_id category_1  installments  \\\n",
       "0               Y  C_ID_4e6213e9bc       88          N             0   \n",
       "1               Y  C_ID_4e6213e9bc       88          N             0   \n",
       "2               Y  C_ID_4e6213e9bc       88          N             0   \n",
       "3               Y  C_ID_4e6213e9bc       88          N             0   \n",
       "4               Y  C_ID_4e6213e9bc       88          N             0   \n",
       "\n",
       "  category_3  merchant_category_id      merchant_id  month_lag  \\\n",
       "0          A                    80  M_ID_e020e9b302         -8   \n",
       "1          A                   367  M_ID_86ec983688         -7   \n",
       "2          A                    80  M_ID_979ed661fc         -6   \n",
       "3          A                   560  M_ID_e6d5ae8ea6         -5   \n",
       "4          A                    80  M_ID_e020e9b302        -11   \n",
       "\n",
       "   purchase_amount        purchase_date   category_2  state_id  subsector_id  \n",
       "0    -0.7033309100  2017-06-25 15:33:07 1.0000000000        16            37  \n",
       "1    -0.7331284800  2017-07-15 12:10:45 1.0000000000        16            16  \n",
       "2    -0.7203860000  2017-08-09 22:04:29 1.0000000000        16            37  \n",
       "3    -0.7353524100  2017-09-02 10:06:26 1.0000000000        16            34  \n",
       "4    -0.7228653800  2017-03-10 01:14:19 1.0000000000        16            37  "
      ]
     },
     "execution_count": 4,
     "metadata": {},
     "output_type": "execute_result"
    }
   ],
   "source": [
    "all_transactions.head()"
   ]
  },
  {
   "cell_type": "code",
   "execution_count": 5,
   "metadata": {
    "ExecuteTime": {
     "end_time": "2019-02-16T05:45:07.295214Z",
     "start_time": "2019-02-16T05:45:06.626439Z"
    }
   },
   "outputs": [],
   "source": [
    "def shift_round(col):\n",
    "    # shift_round: reverse normalization ?\n",
    "    # where are the two numbers come from ?\n",
    "    return np.round(col / 0.00150265118 + 497.06, 2)\n",
    "\n",
    "all_transactions[\"purchase_amount_new\"] = shift_round(all_transactions[\"purchase_amount\"])"
   ]
  },
  {
   "cell_type": "code",
   "execution_count": 6,
   "metadata": {
    "ExecuteTime": {
     "end_time": "2019-02-16T05:45:07.304239Z",
     "start_time": "2019-02-16T05:45:07.298233Z"
    }
   },
   "outputs": [
    {
     "data": {
      "text/plain": [
       "authorized_flag          object\n",
       "card_id                  object\n",
       "city_id                   int64\n",
       "category_1               object\n",
       "installments              int64\n",
       "category_3               object\n",
       "merchant_category_id      int64\n",
       "merchant_id              object\n",
       "month_lag                 int64\n",
       "purchase_amount         float64\n",
       "purchase_date            object\n",
       "category_2              float64\n",
       "state_id                  int64\n",
       "subsector_id              int64\n",
       "purchase_amount_new     float64\n",
       "dtype: object"
      ]
     },
     "execution_count": 6,
     "metadata": {},
     "output_type": "execute_result"
    }
   ],
   "source": [
    "all_transactions.dtypes"
   ]
  },
  {
   "cell_type": "markdown",
   "metadata": {},
   "source": [
    "# monthly_payment"
   ]
  },
  {
   "cell_type": "code",
   "execution_count": 7,
   "metadata": {
    "ExecuteTime": {
     "end_time": "2019-02-16T05:45:19.865632Z",
     "start_time": "2019-02-16T05:45:07.307248Z"
    }
   },
   "outputs": [],
   "source": [
    "monthly_payment = (all_transactions.groupby([\"card_id\", \"month_lag\"])\n",
    "                                   .purchase_amount_new.sum()\n",
    "                                   .reset_index(name=\"monthly_pa\")\n",
    "                                   .sort_values([\"card_id\", \"month_lag\"]))"
   ]
  },
  {
   "cell_type": "code",
   "execution_count": 8,
   "metadata": {
    "ExecuteTime": {
     "end_time": "2019-02-16T05:45:19.877666Z",
     "start_time": "2019-02-16T05:45:19.868664Z"
    }
   },
   "outputs": [
    {
     "data": {
      "text/html": [
       "<div>\n",
       "<style scoped>\n",
       "    .dataframe tbody tr th:only-of-type {\n",
       "        vertical-align: middle;\n",
       "    }\n",
       "\n",
       "    .dataframe tbody tr th {\n",
       "        vertical-align: top;\n",
       "    }\n",
       "\n",
       "    .dataframe thead th {\n",
       "        text-align: right;\n",
       "    }\n",
       "</style>\n",
       "<table border=\"1\" class=\"dataframe\">\n",
       "  <thead>\n",
       "    <tr style=\"text-align: right;\">\n",
       "      <th></th>\n",
       "      <th>card_id</th>\n",
       "      <th>month_lag</th>\n",
       "      <th>monthly_pa</th>\n",
       "    </tr>\n",
       "  </thead>\n",
       "  <tbody>\n",
       "    <tr>\n",
       "      <th>0</th>\n",
       "      <td>C_ID_00007093c1</td>\n",
       "      <td>-12</td>\n",
       "      <td>1100.2000000000</td>\n",
       "    </tr>\n",
       "    <tr>\n",
       "      <th>1</th>\n",
       "      <td>C_ID_00007093c1</td>\n",
       "      <td>-11</td>\n",
       "      <td>1168.9000000000</td>\n",
       "    </tr>\n",
       "    <tr>\n",
       "      <th>2</th>\n",
       "      <td>C_ID_00007093c1</td>\n",
       "      <td>-10</td>\n",
       "      <td>1633.2500000000</td>\n",
       "    </tr>\n",
       "    <tr>\n",
       "      <th>3</th>\n",
       "      <td>C_ID_00007093c1</td>\n",
       "      <td>-9</td>\n",
       "      <td>2691.1300000000</td>\n",
       "    </tr>\n",
       "    <tr>\n",
       "      <th>4</th>\n",
       "      <td>C_ID_00007093c1</td>\n",
       "      <td>-8</td>\n",
       "      <td>2876.6300000000</td>\n",
       "    </tr>\n",
       "  </tbody>\n",
       "</table>\n",
       "</div>"
      ],
      "text/plain": [
       "           card_id  month_lag      monthly_pa\n",
       "0  C_ID_00007093c1        -12 1100.2000000000\n",
       "1  C_ID_00007093c1        -11 1168.9000000000\n",
       "2  C_ID_00007093c1        -10 1633.2500000000\n",
       "3  C_ID_00007093c1         -9 2691.1300000000\n",
       "4  C_ID_00007093c1         -8 2876.6300000000"
      ]
     },
     "execution_count": 8,
     "metadata": {},
     "output_type": "execute_result"
    }
   ],
   "source": [
    "monthly_payment.head()"
   ]
  },
  {
   "cell_type": "markdown",
   "metadata": {},
   "source": [
    "# psum with rolling ratio"
   ]
  },
  {
   "cell_type": "code",
   "execution_count": 9,
   "metadata": {
    "ExecuteTime": {
     "end_time": "2019-02-16T05:45:19.975926Z",
     "start_time": "2019-02-16T05:45:19.880673Z"
    }
   },
   "outputs": [],
   "source": [
    "part = monthly_payment[:10000].copy()\n",
    "\n",
    "part[\"ratio_1\"] = part.rolling(window=2).monthly_pa.apply(lambda x: x[1] / x[0], raw=True)\n",
    "part[\"lag_offset\"] = part.rolling(window=2).month_lag.apply(lambda x: x[-1] - x[0], raw=True)\n",
    "part.loc[part.lag_offset < 0, \"ratio_1\"] = np.NaN\n",
    "del part[\"lag_offset\"]\n",
    "\n",
    "for i in range(3):\n",
    "    window_size = i + 2\n",
    "    sum_col = \"sum_{}\".format(window_size)\n",
    "    ratio_col = \"ratio_{}\".format(window_size)\n",
    "    part[\"lag_offset\"] = part.rolling(window=window_size).month_lag.apply(lambda x: x[-1] - x[0], raw=True)\n",
    "    part[sum_col] = part.rolling(window=window_size).monthly_pa.sum()\n",
    "    part.loc[part.lag_offset < 0, sum_col] = np.NaN\n",
    "    part[ratio_col] = part.rolling(window=2)[sum_col].apply(lambda x: x[1] / x[0], raw=True)\n",
    "    part.loc[part.lag_offset < 0, ratio_col] = np.NaN\n",
    "    del part[\"lag_offset\"]\n",
    "\n",
    "part[\"sum_1\"] = part.monthly_pa"
   ]
  },
  {
   "cell_type": "code",
   "execution_count": 10,
   "metadata": {
    "ExecuteTime": {
     "end_time": "2019-02-16T05:45:20.058167Z",
     "start_time": "2019-02-16T05:45:19.978943Z"
    }
   },
   "outputs": [
    {
     "name": "stderr",
     "output_type": "stream",
     "text": [
      "C:\\Users\\admin\\AppData\\Local\\conda\\conda\\envs\\py36\\lib\\site-packages\\ipykernel_launcher.py:6: FutureWarning: Sorting because non-concatenation axis is not aligned. A future version\n",
      "of pandas will change to not sort by default.\n",
      "\n",
      "To accept the future behavior, pass 'sort=False'.\n",
      "\n",
      "To retain the current behavior and silence the warning, pass 'sort=True'.\n",
      "\n",
      "  \n"
     ]
    }
   ],
   "source": [
    "monthly_payment_features = pd.DataFrame()\n",
    "\n",
    "for month in range(15):\n",
    "    month_lag = month - 12\n",
    "    temp = part[part.month_lag == month_lag].set_index(\"card_id\").drop([\"month_lag\", \"monthly_pa\"], axis=1).rename(columns=lambda x: \"{}_lag{}\".format(x, month_lag))\n",
    "    monthly_payment_features = pd.concat([monthly_payment_features, temp], axis=1)"
   ]
  },
  {
   "cell_type": "code",
   "execution_count": 11,
   "metadata": {
    "ExecuteTime": {
     "end_time": "2019-02-16T05:45:20.067168Z",
     "start_time": "2019-02-16T05:45:20.060150Z"
    }
   },
   "outputs": [],
   "source": [
    "def calc_monthly_payment_features(part):\n",
    "    part[\"ratio_1\"] = part.rolling(window=2).monthly_pa.apply(lambda x: x[1] / x[0], raw=True)\n",
    "    part[\"lag_offset\"] = part.rolling(window=2).month_lag.apply(lambda x: x[-1] - x[0], raw=True)\n",
    "    part.loc[part.lag_offset < 0, \"ratio_1\"] = np.NaN\n",
    "    del part[\"lag_offset\"]\n",
    "\n",
    "    for i in range(3):\n",
    "        window_size = i + 2\n",
    "        sum_col = \"sum_{}\".format(window_size)\n",
    "        ratio_col = \"ratio_{}\".format(window_size)\n",
    "        part[\"lag_offset\"] = part.rolling(window=window_size).month_lag.apply(lambda x: x[-1] - x[0], raw=True)\n",
    "        part[sum_col] = part.rolling(window=window_size).monthly_pa.sum()\n",
    "        part.loc[part.lag_offset < 0, sum_col] = np.NaN\n",
    "        part[ratio_col] = part.rolling(window=2)[sum_col].apply(lambda x: x[1] / x[0], raw=True)\n",
    "        part.loc[part.lag_offset < 0, ratio_col] = np.NaN\n",
    "        del part[\"lag_offset\"]\n",
    "\n",
    "    part[\"sum_1\"] = part.monthly_pa\n",
    "    \n",
    "    monthly_payment_features = pd.DataFrame()\n",
    "\n",
    "    for month in range(15):\n",
    "        month_lag = month - 12\n",
    "        temp = part[part.month_lag == month_lag].set_index(\"card_id\").drop([\"month_lag\", \"monthly_pa\"], axis=1).rename(columns=lambda x: \"{}_lag{}\".format(x, month_lag))\n",
    "        monthly_payment_features = pd.concat([monthly_payment_features, temp], axis=1)\n",
    "    return monthly_payment_features"
   ]
  },
  {
   "cell_type": "code",
   "execution_count": 12,
   "metadata": {
    "ExecuteTime": {
     "end_time": "2019-02-16T05:45:20.085242Z",
     "start_time": "2019-02-16T05:45:20.069175Z"
    }
   },
   "outputs": [],
   "source": [
    "# features_df = calc_monthly_payment_features(monthly_payment)\n",
    "# features_df.shape\n",
    "# features_df.index.nunique()\n",
    "# features_df.reset_index().head()"
   ]
  },
  {
   "cell_type": "code",
   "execution_count": 13,
   "metadata": {
    "ExecuteTime": {
     "end_time": "2019-02-16T05:45:21.410745Z",
     "start_time": "2019-02-16T05:45:20.088225Z"
    }
   },
   "outputs": [],
   "source": [
    "from data_io import features_downcast\n",
    "from downcast import save_dataframe32, load_dataframe32"
   ]
  },
  {
   "cell_type": "code",
   "execution_count": 14,
   "metadata": {
    "ExecuteTime": {
     "end_time": "2019-02-16T05:45:21.417759Z",
     "start_time": "2019-02-16T05:45:21.412745Z"
    }
   },
   "outputs": [
    {
     "data": {
      "text/plain": [
       "<function downcast.save_dataframe32(path, dataframe, keep=[])>"
      ]
     },
     "execution_count": 14,
     "metadata": {},
     "output_type": "execute_result"
    }
   ],
   "source": [
    "save_dataframe32"
   ]
  },
  {
   "cell_type": "code",
   "execution_count": 15,
   "metadata": {
    "ExecuteTime": {
     "end_time": "2019-02-16T05:45:21.437812Z",
     "start_time": "2019-02-16T05:45:21.419765Z"
    }
   },
   "outputs": [],
   "source": [
    "# save_dataframe32(features_downcast(\"monthly_psum\"), features_df.reset_index().rename(columns={\"index\":\"card_id\"}), keep=[\"card_id\"])"
   ]
  },
  {
   "cell_type": "markdown",
   "metadata": {},
   "source": [
    "# next"
   ]
  },
  {
   "cell_type": "markdown",
   "metadata": {},
   "source": [
    "1. pmax with rolling ratio\n",
    "2. c-m std\n",
    "3. m std\n",
    "4. max-m count\n",
    "5. max-m count/ month count\n",
    "6. max-m std"
   ]
  },
  {
   "cell_type": "markdown",
   "metadata": {},
   "source": [
    "# pmax with rolling ratio"
   ]
  },
  {
   "cell_type": "code",
   "execution_count": 21,
   "metadata": {
    "ExecuteTime": {
     "end_time": "2019-02-16T13:45:16.086268Z",
     "start_time": "2019-02-16T13:45:08.299009Z"
    }
   },
   "outputs": [],
   "source": [
    "monthly_payment_pmax = (all_transactions.groupby([\"card_id\", \"month_lag\"])\n",
    "                                        .purchase_amount_new.max()\n",
    "                                        .reset_index(name=\"monthly_pa\")\n",
    "                                        .sort_values([\"card_id\", \"month_lag\"]))"
   ]
  },
  {
   "cell_type": "code",
   "execution_count": 22,
   "metadata": {
    "ExecuteTime": {
     "end_time": "2019-02-16T13:45:20.520056Z",
     "start_time": "2019-02-16T13:45:20.511002Z"
    }
   },
   "outputs": [
    {
     "data": {
      "text/html": [
       "<div>\n",
       "<style scoped>\n",
       "    .dataframe tbody tr th:only-of-type {\n",
       "        vertical-align: middle;\n",
       "    }\n",
       "\n",
       "    .dataframe tbody tr th {\n",
       "        vertical-align: top;\n",
       "    }\n",
       "\n",
       "    .dataframe thead th {\n",
       "        text-align: right;\n",
       "    }\n",
       "</style>\n",
       "<table border=\"1\" class=\"dataframe\">\n",
       "  <thead>\n",
       "    <tr style=\"text-align: right;\">\n",
       "      <th></th>\n",
       "      <th>card_id</th>\n",
       "      <th>month_lag</th>\n",
       "      <th>monthly_pa</th>\n",
       "    </tr>\n",
       "  </thead>\n",
       "  <tbody>\n",
       "    <tr>\n",
       "      <th>0</th>\n",
       "      <td>C_ID_00007093c1</td>\n",
       "      <td>-12</td>\n",
       "      <td>521.8000000000</td>\n",
       "    </tr>\n",
       "    <tr>\n",
       "      <th>1</th>\n",
       "      <td>C_ID_00007093c1</td>\n",
       "      <td>-11</td>\n",
       "      <td>230.0000000000</td>\n",
       "    </tr>\n",
       "    <tr>\n",
       "      <th>2</th>\n",
       "      <td>C_ID_00007093c1</td>\n",
       "      <td>-10</td>\n",
       "      <td>500.0000000000</td>\n",
       "    </tr>\n",
       "    <tr>\n",
       "      <th>3</th>\n",
       "      <td>C_ID_00007093c1</td>\n",
       "      <td>-9</td>\n",
       "      <td>702.0000000000</td>\n",
       "    </tr>\n",
       "    <tr>\n",
       "      <th>4</th>\n",
       "      <td>C_ID_00007093c1</td>\n",
       "      <td>-8</td>\n",
       "      <td>500.0000000000</td>\n",
       "    </tr>\n",
       "  </tbody>\n",
       "</table>\n",
       "</div>"
      ],
      "text/plain": [
       "           card_id  month_lag     monthly_pa\n",
       "0  C_ID_00007093c1        -12 521.8000000000\n",
       "1  C_ID_00007093c1        -11 230.0000000000\n",
       "2  C_ID_00007093c1        -10 500.0000000000\n",
       "3  C_ID_00007093c1         -9 702.0000000000\n",
       "4  C_ID_00007093c1         -8 500.0000000000"
      ]
     },
     "execution_count": 22,
     "metadata": {},
     "output_type": "execute_result"
    }
   ],
   "source": [
    "monthly_payment_pmax.head()"
   ]
  },
  {
   "cell_type": "code",
   "execution_count": 23,
   "metadata": {
    "ExecuteTime": {
     "end_time": "2019-02-16T13:46:00.466218Z",
     "start_time": "2019-02-16T13:45:22.084212Z"
    }
   },
   "outputs": [],
   "source": [
    "features_df = calc_monthly_payment_features(monthly_payment_pmax)\n",
    "save_dataframe32(features_downcast(\"monthly_pmax\"),\n",
    "                 features_df.reset_index().rename(columns={\"index\":\"card_id\"}), keep=[\"card_id\"])"
   ]
  },
  {
   "cell_type": "code",
   "execution_count": 26,
   "metadata": {
    "ExecuteTime": {
     "end_time": "2019-02-16T13:47:50.873724Z",
     "start_time": "2019-02-16T13:47:50.861690Z"
    }
   },
   "outputs": [
    {
     "data": {
      "text/html": [
       "<div>\n",
       "<style scoped>\n",
       "    .dataframe tbody tr th:only-of-type {\n",
       "        vertical-align: middle;\n",
       "    }\n",
       "\n",
       "    .dataframe tbody tr th {\n",
       "        vertical-align: top;\n",
       "    }\n",
       "\n",
       "    .dataframe thead th {\n",
       "        text-align: right;\n",
       "    }\n",
       "</style>\n",
       "<table border=\"1\" class=\"dataframe\">\n",
       "  <thead>\n",
       "    <tr style=\"text-align: right;\">\n",
       "      <th></th>\n",
       "      <th>first_active_month</th>\n",
       "      <th>card_id</th>\n",
       "      <th>feature_1</th>\n",
       "      <th>feature_2</th>\n",
       "      <th>feature_3</th>\n",
       "      <th>target</th>\n",
       "    </tr>\n",
       "  </thead>\n",
       "  <tbody>\n",
       "    <tr>\n",
       "      <th>0</th>\n",
       "      <td>2017-06</td>\n",
       "      <td>C_ID_92a2005557</td>\n",
       "      <td>5</td>\n",
       "      <td>2</td>\n",
       "      <td>1</td>\n",
       "      <td>-0.8202826000</td>\n",
       "    </tr>\n",
       "    <tr>\n",
       "      <th>1</th>\n",
       "      <td>2017-01</td>\n",
       "      <td>C_ID_3d0044924f</td>\n",
       "      <td>4</td>\n",
       "      <td>1</td>\n",
       "      <td>0</td>\n",
       "      <td>0.3929132500</td>\n",
       "    </tr>\n",
       "    <tr>\n",
       "      <th>2</th>\n",
       "      <td>2016-08</td>\n",
       "      <td>C_ID_d639edf6cd</td>\n",
       "      <td>2</td>\n",
       "      <td>2</td>\n",
       "      <td>0</td>\n",
       "      <td>0.6880559900</td>\n",
       "    </tr>\n",
       "    <tr>\n",
       "      <th>3</th>\n",
       "      <td>2017-09</td>\n",
       "      <td>C_ID_186d6a6901</td>\n",
       "      <td>4</td>\n",
       "      <td>3</td>\n",
       "      <td>0</td>\n",
       "      <td>0.1424952000</td>\n",
       "    </tr>\n",
       "    <tr>\n",
       "      <th>4</th>\n",
       "      <td>2017-11</td>\n",
       "      <td>C_ID_cdbd2c0db2</td>\n",
       "      <td>1</td>\n",
       "      <td>3</td>\n",
       "      <td>0</td>\n",
       "      <td>-0.1597491900</td>\n",
       "    </tr>\n",
       "  </tbody>\n",
       "</table>\n",
       "</div>"
      ],
      "text/plain": [
       "  first_active_month          card_id  feature_1  feature_2  feature_3  \\\n",
       "0            2017-06  C_ID_92a2005557          5          2          1   \n",
       "1            2017-01  C_ID_3d0044924f          4          1          0   \n",
       "2            2016-08  C_ID_d639edf6cd          2          2          0   \n",
       "3            2017-09  C_ID_186d6a6901          4          3          0   \n",
       "4            2017-11  C_ID_cdbd2c0db2          1          3          0   \n",
       "\n",
       "         target  \n",
       "0 -0.8202826000  \n",
       "1  0.3929132500  \n",
       "2  0.6880559900  \n",
       "3  0.1424952000  \n",
       "4 -0.1597491900  "
      ]
     },
     "execution_count": 26,
     "metadata": {},
     "output_type": "execute_result"
    }
   ],
   "source": [
    "train.head()"
   ]
  },
  {
   "cell_type": "markdown",
   "metadata": {},
   "source": [
    "# merchant_pmax"
   ]
  },
  {
   "cell_type": "code",
   "execution_count": 31,
   "metadata": {
    "ExecuteTime": {
     "end_time": "2019-02-16T13:54:21.040109Z",
     "start_time": "2019-02-16T13:53:49.678200Z"
    }
   },
   "outputs": [],
   "source": [
    "monthly_payment_merchant_psum =  (all_transactions.groupby([\"card_id\", \"month_lag\", \"merchant_id\"])\n",
    "                                                  .purchase_amount_new.sum()\n",
    "                                                  .reset_index(name=\"monthly_pa\")\n",
    "                                                  .sort_values([\"card_id\", \"month_lag\"]))"
   ]
  },
  {
   "cell_type": "code",
   "execution_count": 33,
   "metadata": {
    "ExecuteTime": {
     "end_time": "2019-02-16T14:07:23.882328Z",
     "start_time": "2019-02-16T14:07:23.878351Z"
    }
   },
   "outputs": [
    {
     "data": {
      "text/plain": [
       "(20509676, 4)"
      ]
     },
     "execution_count": 33,
     "metadata": {},
     "output_type": "execute_result"
    }
   ],
   "source": [
    "monthly_payment_merchant_psum.shape"
   ]
  },
  {
   "cell_type": "code",
   "execution_count": 34,
   "metadata": {
    "ExecuteTime": {
     "end_time": "2019-02-16T14:07:28.361900Z",
     "start_time": "2019-02-16T14:07:28.351874Z"
    }
   },
   "outputs": [
    {
     "data": {
      "text/html": [
       "<div>\n",
       "<style scoped>\n",
       "    .dataframe tbody tr th:only-of-type {\n",
       "        vertical-align: middle;\n",
       "    }\n",
       "\n",
       "    .dataframe tbody tr th {\n",
       "        vertical-align: top;\n",
       "    }\n",
       "\n",
       "    .dataframe thead th {\n",
       "        text-align: right;\n",
       "    }\n",
       "</style>\n",
       "<table border=\"1\" class=\"dataframe\">\n",
       "  <thead>\n",
       "    <tr style=\"text-align: right;\">\n",
       "      <th></th>\n",
       "      <th>card_id</th>\n",
       "      <th>month_lag</th>\n",
       "      <th>merchant_id</th>\n",
       "      <th>monthly_pa</th>\n",
       "    </tr>\n",
       "  </thead>\n",
       "  <tbody>\n",
       "    <tr>\n",
       "      <th>0</th>\n",
       "      <td>C_ID_00007093c1</td>\n",
       "      <td>-12</td>\n",
       "      <td>M_ID_69423b34e4</td>\n",
       "      <td>521.8000000000</td>\n",
       "    </tr>\n",
       "    <tr>\n",
       "      <th>1</th>\n",
       "      <td>C_ID_00007093c1</td>\n",
       "      <td>-12</td>\n",
       "      <td>M_ID_9400cf2342</td>\n",
       "      <td>116.0000000000</td>\n",
       "    </tr>\n",
       "    <tr>\n",
       "      <th>2</th>\n",
       "      <td>C_ID_00007093c1</td>\n",
       "      <td>-12</td>\n",
       "      <td>M_ID_a33355a1b7</td>\n",
       "      <td>462.4000000000</td>\n",
       "    </tr>\n",
       "    <tr>\n",
       "      <th>3</th>\n",
       "      <td>C_ID_00007093c1</td>\n",
       "      <td>-11</td>\n",
       "      <td>M_ID_69423b34e4</td>\n",
       "      <td>515.9000000000</td>\n",
       "    </tr>\n",
       "    <tr>\n",
       "      <th>4</th>\n",
       "      <td>C_ID_00007093c1</td>\n",
       "      <td>-11</td>\n",
       "      <td>M_ID_9400cf2342</td>\n",
       "      <td>653.0000000000</td>\n",
       "    </tr>\n",
       "  </tbody>\n",
       "</table>\n",
       "</div>"
      ],
      "text/plain": [
       "           card_id  month_lag      merchant_id     monthly_pa\n",
       "0  C_ID_00007093c1        -12  M_ID_69423b34e4 521.8000000000\n",
       "1  C_ID_00007093c1        -12  M_ID_9400cf2342 116.0000000000\n",
       "2  C_ID_00007093c1        -12  M_ID_a33355a1b7 462.4000000000\n",
       "3  C_ID_00007093c1        -11  M_ID_69423b34e4 515.9000000000\n",
       "4  C_ID_00007093c1        -11  M_ID_9400cf2342 653.0000000000"
      ]
     },
     "execution_count": 34,
     "metadata": {},
     "output_type": "execute_result"
    }
   ],
   "source": [
    "monthly_payment_merchant_psum.head()"
   ]
  },
  {
   "cell_type": "code",
   "execution_count": 35,
   "metadata": {
    "ExecuteTime": {
     "end_time": "2019-02-16T14:21:47.698607Z",
     "start_time": "2019-02-16T14:21:41.778871Z"
    }
   },
   "outputs": [],
   "source": [
    "monthly_payment_merchant_psum_pmax = (monthly_payment_merchant_psum.groupby([\"card_id\", \"month_lag\"])\n",
    "                                                                   .monthly_pa.max()\n",
    "                                                                   .reset_index(name=\"monthly_pa\")\n",
    "                                                                   .sort_values([\"card_id\", \"month_lag\"]))"
   ]
  },
  {
   "cell_type": "code",
   "execution_count": 36,
   "metadata": {
    "ExecuteTime": {
     "end_time": "2019-02-16T14:27:30.477908Z",
     "start_time": "2019-02-16T14:27:05.757724Z"
    }
   },
   "outputs": [],
   "source": [
    "features_df = calc_monthly_payment_features(monthly_payment_merchant_psum_pmax)"
   ]
  },
  {
   "cell_type": "code",
   "execution_count": 42,
   "metadata": {
    "ExecuteTime": {
     "end_time": "2019-02-16T14:29:58.545709Z",
     "start_time": "2019-02-16T14:29:44.306849Z"
    }
   },
   "outputs": [],
   "source": [
    "save_dataframe32(features_downcast(\"monthly_merchant_pmax\"),\n",
    "                 features_df.reset_index().rename(columns={\"index\":\"card_id\"}), keep=[\"card_id\"])"
   ]
  },
  {
   "cell_type": "markdown",
   "metadata": {},
   "source": [
    "# max_merchant "
   ]
  },
  {
   "cell_type": "code",
   "execution_count": 43,
   "metadata": {
    "ExecuteTime": {
     "end_time": "2019-02-16T14:38:34.804213Z",
     "start_time": "2019-02-16T14:38:34.790165Z"
    }
   },
   "outputs": [
    {
     "data": {
      "text/html": [
       "<div>\n",
       "<style scoped>\n",
       "    .dataframe tbody tr th:only-of-type {\n",
       "        vertical-align: middle;\n",
       "    }\n",
       "\n",
       "    .dataframe tbody tr th {\n",
       "        vertical-align: top;\n",
       "    }\n",
       "\n",
       "    .dataframe thead th {\n",
       "        text-align: right;\n",
       "    }\n",
       "</style>\n",
       "<table border=\"1\" class=\"dataframe\">\n",
       "  <thead>\n",
       "    <tr style=\"text-align: right;\">\n",
       "      <th></th>\n",
       "      <th>card_id</th>\n",
       "      <th>month_lag</th>\n",
       "      <th>monthly_pa</th>\n",
       "      <th>ratio_1</th>\n",
       "      <th>sum_2</th>\n",
       "      <th>ratio_2</th>\n",
       "      <th>sum_3</th>\n",
       "      <th>ratio_3</th>\n",
       "      <th>sum_4</th>\n",
       "      <th>ratio_4</th>\n",
       "      <th>sum_1</th>\n",
       "    </tr>\n",
       "  </thead>\n",
       "  <tbody>\n",
       "    <tr>\n",
       "      <th>0</th>\n",
       "      <td>C_ID_00007093c1</td>\n",
       "      <td>-12</td>\n",
       "      <td>521.8000000000</td>\n",
       "      <td>nan</td>\n",
       "      <td>nan</td>\n",
       "      <td>nan</td>\n",
       "      <td>nan</td>\n",
       "      <td>nan</td>\n",
       "      <td>nan</td>\n",
       "      <td>nan</td>\n",
       "      <td>521.8000000000</td>\n",
       "    </tr>\n",
       "    <tr>\n",
       "      <th>1</th>\n",
       "      <td>C_ID_00007093c1</td>\n",
       "      <td>-11</td>\n",
       "      <td>653.0000000000</td>\n",
       "      <td>1.2514373323</td>\n",
       "      <td>1174.8000000000</td>\n",
       "      <td>nan</td>\n",
       "      <td>nan</td>\n",
       "      <td>nan</td>\n",
       "      <td>nan</td>\n",
       "      <td>nan</td>\n",
       "      <td>653.0000000000</td>\n",
       "    </tr>\n",
       "    <tr>\n",
       "      <th>2</th>\n",
       "      <td>C_ID_00007093c1</td>\n",
       "      <td>-10</td>\n",
       "      <td>718.4500000000</td>\n",
       "      <td>1.1002297090</td>\n",
       "      <td>1371.4500000000</td>\n",
       "      <td>1.1673901941</td>\n",
       "      <td>1893.2500000000</td>\n",
       "      <td>nan</td>\n",
       "      <td>nan</td>\n",
       "      <td>nan</td>\n",
       "      <td>718.4500000000</td>\n",
       "    </tr>\n",
       "    <tr>\n",
       "      <th>3</th>\n",
       "      <td>C_ID_00007093c1</td>\n",
       "      <td>-9</td>\n",
       "      <td>2204.0000000000</td>\n",
       "      <td>3.0677152203</td>\n",
       "      <td>2922.4500000000</td>\n",
       "      <td>2.1309198294</td>\n",
       "      <td>3575.4500000000</td>\n",
       "      <td>1.8885250231</td>\n",
       "      <td>4097.2500000000</td>\n",
       "      <td>nan</td>\n",
       "      <td>2204.0000000000</td>\n",
       "    </tr>\n",
       "    <tr>\n",
       "      <th>4</th>\n",
       "      <td>C_ID_00007093c1</td>\n",
       "      <td>-8</td>\n",
       "      <td>1400.0000000000</td>\n",
       "      <td>0.6352087114</td>\n",
       "      <td>3604.0000000000</td>\n",
       "      <td>1.2332118599</td>\n",
       "      <td>4322.4500000000</td>\n",
       "      <td>1.2089247507</td>\n",
       "      <td>4975.4500000000</td>\n",
       "      <td>1.2143388858</td>\n",
       "      <td>1400.0000000000</td>\n",
       "    </tr>\n",
       "  </tbody>\n",
       "</table>\n",
       "</div>"
      ],
      "text/plain": [
       "           card_id  month_lag      monthly_pa      ratio_1           sum_2  \\\n",
       "0  C_ID_00007093c1        -12  521.8000000000          nan             nan   \n",
       "1  C_ID_00007093c1        -11  653.0000000000 1.2514373323 1174.8000000000   \n",
       "2  C_ID_00007093c1        -10  718.4500000000 1.1002297090 1371.4500000000   \n",
       "3  C_ID_00007093c1         -9 2204.0000000000 3.0677152203 2922.4500000000   \n",
       "4  C_ID_00007093c1         -8 1400.0000000000 0.6352087114 3604.0000000000   \n",
       "\n",
       "       ratio_2           sum_3      ratio_3           sum_4      ratio_4  \\\n",
       "0          nan             nan          nan             nan          nan   \n",
       "1          nan             nan          nan             nan          nan   \n",
       "2 1.1673901941 1893.2500000000          nan             nan          nan   \n",
       "3 2.1309198294 3575.4500000000 1.8885250231 4097.2500000000          nan   \n",
       "4 1.2332118599 4322.4500000000 1.2089247507 4975.4500000000 1.2143388858   \n",
       "\n",
       "            sum_1  \n",
       "0  521.8000000000  \n",
       "1  653.0000000000  \n",
       "2  718.4500000000  \n",
       "3 2204.0000000000  \n",
       "4 1400.0000000000  "
      ]
     },
     "execution_count": 43,
     "metadata": {},
     "output_type": "execute_result"
    }
   ],
   "source": [
    "monthly_payment_merchant_psum_pmax.head()"
   ]
  },
  {
   "cell_type": "code",
   "execution_count": 44,
   "metadata": {
    "ExecuteTime": {
     "end_time": "2019-02-16T14:40:38.332012Z",
     "start_time": "2019-02-16T14:40:23.930698Z"
    }
   },
   "outputs": [],
   "source": [
    "monthly_payment_merchant_psum[\"card_id_extend\"] = monthly_payment_merchant_psum.card_id + \"_\" + monthly_payment_merchant_psum.month_lag.astype(str)\n",
    "monthly_payment_merchant_psum_pmax[\"card_id_extend\"] = monthly_payment_merchant_psum_pmax.card_id + \"_\" + monthly_payment_merchant_psum_pmax.month_lag.astype(str)"
   ]
  },
  {
   "cell_type": "code",
   "execution_count": 45,
   "metadata": {
    "ExecuteTime": {
     "end_time": "2019-02-16T14:40:41.463306Z",
     "start_time": "2019-02-16T14:40:41.451274Z"
    }
   },
   "outputs": [
    {
     "data": {
      "text/html": [
       "<div>\n",
       "<style scoped>\n",
       "    .dataframe tbody tr th:only-of-type {\n",
       "        vertical-align: middle;\n",
       "    }\n",
       "\n",
       "    .dataframe tbody tr th {\n",
       "        vertical-align: top;\n",
       "    }\n",
       "\n",
       "    .dataframe thead th {\n",
       "        text-align: right;\n",
       "    }\n",
       "</style>\n",
       "<table border=\"1\" class=\"dataframe\">\n",
       "  <thead>\n",
       "    <tr style=\"text-align: right;\">\n",
       "      <th></th>\n",
       "      <th>card_id</th>\n",
       "      <th>month_lag</th>\n",
       "      <th>merchant_id</th>\n",
       "      <th>monthly_pa</th>\n",
       "      <th>card_id_extend</th>\n",
       "    </tr>\n",
       "  </thead>\n",
       "  <tbody>\n",
       "    <tr>\n",
       "      <th>0</th>\n",
       "      <td>C_ID_00007093c1</td>\n",
       "      <td>-12</td>\n",
       "      <td>M_ID_69423b34e4</td>\n",
       "      <td>521.8000000000</td>\n",
       "      <td>C_ID_00007093c1_-12</td>\n",
       "    </tr>\n",
       "    <tr>\n",
       "      <th>1</th>\n",
       "      <td>C_ID_00007093c1</td>\n",
       "      <td>-12</td>\n",
       "      <td>M_ID_9400cf2342</td>\n",
       "      <td>116.0000000000</td>\n",
       "      <td>C_ID_00007093c1_-12</td>\n",
       "    </tr>\n",
       "    <tr>\n",
       "      <th>2</th>\n",
       "      <td>C_ID_00007093c1</td>\n",
       "      <td>-12</td>\n",
       "      <td>M_ID_a33355a1b7</td>\n",
       "      <td>462.4000000000</td>\n",
       "      <td>C_ID_00007093c1_-12</td>\n",
       "    </tr>\n",
       "    <tr>\n",
       "      <th>3</th>\n",
       "      <td>C_ID_00007093c1</td>\n",
       "      <td>-11</td>\n",
       "      <td>M_ID_69423b34e4</td>\n",
       "      <td>515.9000000000</td>\n",
       "      <td>C_ID_00007093c1_-11</td>\n",
       "    </tr>\n",
       "    <tr>\n",
       "      <th>4</th>\n",
       "      <td>C_ID_00007093c1</td>\n",
       "      <td>-11</td>\n",
       "      <td>M_ID_9400cf2342</td>\n",
       "      <td>653.0000000000</td>\n",
       "      <td>C_ID_00007093c1_-11</td>\n",
       "    </tr>\n",
       "  </tbody>\n",
       "</table>\n",
       "</div>"
      ],
      "text/plain": [
       "           card_id  month_lag      merchant_id     monthly_pa  \\\n",
       "0  C_ID_00007093c1        -12  M_ID_69423b34e4 521.8000000000   \n",
       "1  C_ID_00007093c1        -12  M_ID_9400cf2342 116.0000000000   \n",
       "2  C_ID_00007093c1        -12  M_ID_a33355a1b7 462.4000000000   \n",
       "3  C_ID_00007093c1        -11  M_ID_69423b34e4 515.9000000000   \n",
       "4  C_ID_00007093c1        -11  M_ID_9400cf2342 653.0000000000   \n",
       "\n",
       "        card_id_extend  \n",
       "0  C_ID_00007093c1_-12  \n",
       "1  C_ID_00007093c1_-12  \n",
       "2  C_ID_00007093c1_-12  \n",
       "3  C_ID_00007093c1_-11  \n",
       "4  C_ID_00007093c1_-11  "
      ]
     },
     "execution_count": 45,
     "metadata": {},
     "output_type": "execute_result"
    }
   ],
   "source": [
    "monthly_payment_merchant_psum.head()"
   ]
  },
  {
   "cell_type": "code",
   "execution_count": 47,
   "metadata": {
    "ExecuteTime": {
     "end_time": "2019-02-16T14:41:19.916561Z",
     "start_time": "2019-02-16T14:41:19.902493Z"
    }
   },
   "outputs": [
    {
     "data": {
      "text/html": [
       "<div>\n",
       "<style scoped>\n",
       "    .dataframe tbody tr th:only-of-type {\n",
       "        vertical-align: middle;\n",
       "    }\n",
       "\n",
       "    .dataframe tbody tr th {\n",
       "        vertical-align: top;\n",
       "    }\n",
       "\n",
       "    .dataframe thead th {\n",
       "        text-align: right;\n",
       "    }\n",
       "</style>\n",
       "<table border=\"1\" class=\"dataframe\">\n",
       "  <thead>\n",
       "    <tr style=\"text-align: right;\">\n",
       "      <th></th>\n",
       "      <th>card_id</th>\n",
       "      <th>month_lag</th>\n",
       "      <th>monthly_pa</th>\n",
       "      <th>ratio_1</th>\n",
       "      <th>sum_2</th>\n",
       "      <th>ratio_2</th>\n",
       "      <th>sum_3</th>\n",
       "      <th>ratio_3</th>\n",
       "      <th>sum_4</th>\n",
       "      <th>ratio_4</th>\n",
       "      <th>sum_1</th>\n",
       "      <th>card_id_extend</th>\n",
       "    </tr>\n",
       "  </thead>\n",
       "  <tbody>\n",
       "    <tr>\n",
       "      <th>0</th>\n",
       "      <td>C_ID_00007093c1</td>\n",
       "      <td>-12</td>\n",
       "      <td>521.8000000000</td>\n",
       "      <td>nan</td>\n",
       "      <td>nan</td>\n",
       "      <td>nan</td>\n",
       "      <td>nan</td>\n",
       "      <td>nan</td>\n",
       "      <td>nan</td>\n",
       "      <td>nan</td>\n",
       "      <td>521.8000000000</td>\n",
       "      <td>C_ID_00007093c1_-12</td>\n",
       "    </tr>\n",
       "    <tr>\n",
       "      <th>1</th>\n",
       "      <td>C_ID_00007093c1</td>\n",
       "      <td>-11</td>\n",
       "      <td>653.0000000000</td>\n",
       "      <td>1.2514373323</td>\n",
       "      <td>1174.8000000000</td>\n",
       "      <td>nan</td>\n",
       "      <td>nan</td>\n",
       "      <td>nan</td>\n",
       "      <td>nan</td>\n",
       "      <td>nan</td>\n",
       "      <td>653.0000000000</td>\n",
       "      <td>C_ID_00007093c1_-11</td>\n",
       "    </tr>\n",
       "    <tr>\n",
       "      <th>2</th>\n",
       "      <td>C_ID_00007093c1</td>\n",
       "      <td>-10</td>\n",
       "      <td>718.4500000000</td>\n",
       "      <td>1.1002297090</td>\n",
       "      <td>1371.4500000000</td>\n",
       "      <td>1.1673901941</td>\n",
       "      <td>1893.2500000000</td>\n",
       "      <td>nan</td>\n",
       "      <td>nan</td>\n",
       "      <td>nan</td>\n",
       "      <td>718.4500000000</td>\n",
       "      <td>C_ID_00007093c1_-10</td>\n",
       "    </tr>\n",
       "    <tr>\n",
       "      <th>3</th>\n",
       "      <td>C_ID_00007093c1</td>\n",
       "      <td>-9</td>\n",
       "      <td>2204.0000000000</td>\n",
       "      <td>3.0677152203</td>\n",
       "      <td>2922.4500000000</td>\n",
       "      <td>2.1309198294</td>\n",
       "      <td>3575.4500000000</td>\n",
       "      <td>1.8885250231</td>\n",
       "      <td>4097.2500000000</td>\n",
       "      <td>nan</td>\n",
       "      <td>2204.0000000000</td>\n",
       "      <td>C_ID_00007093c1_-9</td>\n",
       "    </tr>\n",
       "    <tr>\n",
       "      <th>4</th>\n",
       "      <td>C_ID_00007093c1</td>\n",
       "      <td>-8</td>\n",
       "      <td>1400.0000000000</td>\n",
       "      <td>0.6352087114</td>\n",
       "      <td>3604.0000000000</td>\n",
       "      <td>1.2332118599</td>\n",
       "      <td>4322.4500000000</td>\n",
       "      <td>1.2089247507</td>\n",
       "      <td>4975.4500000000</td>\n",
       "      <td>1.2143388858</td>\n",
       "      <td>1400.0000000000</td>\n",
       "      <td>C_ID_00007093c1_-8</td>\n",
       "    </tr>\n",
       "  </tbody>\n",
       "</table>\n",
       "</div>"
      ],
      "text/plain": [
       "           card_id  month_lag      monthly_pa      ratio_1           sum_2  \\\n",
       "0  C_ID_00007093c1        -12  521.8000000000          nan             nan   \n",
       "1  C_ID_00007093c1        -11  653.0000000000 1.2514373323 1174.8000000000   \n",
       "2  C_ID_00007093c1        -10  718.4500000000 1.1002297090 1371.4500000000   \n",
       "3  C_ID_00007093c1         -9 2204.0000000000 3.0677152203 2922.4500000000   \n",
       "4  C_ID_00007093c1         -8 1400.0000000000 0.6352087114 3604.0000000000   \n",
       "\n",
       "       ratio_2           sum_3      ratio_3           sum_4      ratio_4  \\\n",
       "0          nan             nan          nan             nan          nan   \n",
       "1          nan             nan          nan             nan          nan   \n",
       "2 1.1673901941 1893.2500000000          nan             nan          nan   \n",
       "3 2.1309198294 3575.4500000000 1.8885250231 4097.2500000000          nan   \n",
       "4 1.2332118599 4322.4500000000 1.2089247507 4975.4500000000 1.2143388858   \n",
       "\n",
       "            sum_1       card_id_extend  \n",
       "0  521.8000000000  C_ID_00007093c1_-12  \n",
       "1  653.0000000000  C_ID_00007093c1_-11  \n",
       "2  718.4500000000  C_ID_00007093c1_-10  \n",
       "3 2204.0000000000   C_ID_00007093c1_-9  \n",
       "4 1400.0000000000   C_ID_00007093c1_-8  "
      ]
     },
     "execution_count": 47,
     "metadata": {},
     "output_type": "execute_result"
    }
   ],
   "source": [
    "monthly_payment_merchant_psum_pmax.head()"
   ]
  },
  {
   "cell_type": "code",
   "execution_count": 48,
   "metadata": {
    "ExecuteTime": {
     "end_time": "2019-02-16T14:43:59.744678Z",
     "start_time": "2019-02-16T14:43:54.531846Z"
    }
   },
   "outputs": [],
   "source": [
    "monthly_payment_merchant_psum[\"monthly_pa_max\"] = monthly_payment_merchant_psum.card_id_extend.map(monthly_payment_merchant_psum_pmax.set_index(\"card_id_extend\").monthly_pa)"
   ]
  },
  {
   "cell_type": "code",
   "execution_count": 49,
   "metadata": {
    "ExecuteTime": {
     "end_time": "2019-02-16T14:44:10.379952Z",
     "start_time": "2019-02-16T14:44:10.368951Z"
    }
   },
   "outputs": [
    {
     "data": {
      "text/html": [
       "<div>\n",
       "<style scoped>\n",
       "    .dataframe tbody tr th:only-of-type {\n",
       "        vertical-align: middle;\n",
       "    }\n",
       "\n",
       "    .dataframe tbody tr th {\n",
       "        vertical-align: top;\n",
       "    }\n",
       "\n",
       "    .dataframe thead th {\n",
       "        text-align: right;\n",
       "    }\n",
       "</style>\n",
       "<table border=\"1\" class=\"dataframe\">\n",
       "  <thead>\n",
       "    <tr style=\"text-align: right;\">\n",
       "      <th></th>\n",
       "      <th>card_id</th>\n",
       "      <th>month_lag</th>\n",
       "      <th>merchant_id</th>\n",
       "      <th>monthly_pa</th>\n",
       "      <th>card_id_extend</th>\n",
       "      <th>monthly_pa_max</th>\n",
       "    </tr>\n",
       "  </thead>\n",
       "  <tbody>\n",
       "    <tr>\n",
       "      <th>0</th>\n",
       "      <td>C_ID_00007093c1</td>\n",
       "      <td>-12</td>\n",
       "      <td>M_ID_69423b34e4</td>\n",
       "      <td>521.8000000000</td>\n",
       "      <td>C_ID_00007093c1_-12</td>\n",
       "      <td>521.8000000000</td>\n",
       "    </tr>\n",
       "    <tr>\n",
       "      <th>1</th>\n",
       "      <td>C_ID_00007093c1</td>\n",
       "      <td>-12</td>\n",
       "      <td>M_ID_9400cf2342</td>\n",
       "      <td>116.0000000000</td>\n",
       "      <td>C_ID_00007093c1_-12</td>\n",
       "      <td>521.8000000000</td>\n",
       "    </tr>\n",
       "    <tr>\n",
       "      <th>2</th>\n",
       "      <td>C_ID_00007093c1</td>\n",
       "      <td>-12</td>\n",
       "      <td>M_ID_a33355a1b7</td>\n",
       "      <td>462.4000000000</td>\n",
       "      <td>C_ID_00007093c1_-12</td>\n",
       "      <td>521.8000000000</td>\n",
       "    </tr>\n",
       "    <tr>\n",
       "      <th>3</th>\n",
       "      <td>C_ID_00007093c1</td>\n",
       "      <td>-11</td>\n",
       "      <td>M_ID_69423b34e4</td>\n",
       "      <td>515.9000000000</td>\n",
       "      <td>C_ID_00007093c1_-11</td>\n",
       "      <td>653.0000000000</td>\n",
       "    </tr>\n",
       "    <tr>\n",
       "      <th>4</th>\n",
       "      <td>C_ID_00007093c1</td>\n",
       "      <td>-11</td>\n",
       "      <td>M_ID_9400cf2342</td>\n",
       "      <td>653.0000000000</td>\n",
       "      <td>C_ID_00007093c1_-11</td>\n",
       "      <td>653.0000000000</td>\n",
       "    </tr>\n",
       "  </tbody>\n",
       "</table>\n",
       "</div>"
      ],
      "text/plain": [
       "           card_id  month_lag      merchant_id     monthly_pa  \\\n",
       "0  C_ID_00007093c1        -12  M_ID_69423b34e4 521.8000000000   \n",
       "1  C_ID_00007093c1        -12  M_ID_9400cf2342 116.0000000000   \n",
       "2  C_ID_00007093c1        -12  M_ID_a33355a1b7 462.4000000000   \n",
       "3  C_ID_00007093c1        -11  M_ID_69423b34e4 515.9000000000   \n",
       "4  C_ID_00007093c1        -11  M_ID_9400cf2342 653.0000000000   \n",
       "\n",
       "        card_id_extend  monthly_pa_max  \n",
       "0  C_ID_00007093c1_-12  521.8000000000  \n",
       "1  C_ID_00007093c1_-12  521.8000000000  \n",
       "2  C_ID_00007093c1_-12  521.8000000000  \n",
       "3  C_ID_00007093c1_-11  653.0000000000  \n",
       "4  C_ID_00007093c1_-11  653.0000000000  "
      ]
     },
     "execution_count": 49,
     "metadata": {},
     "output_type": "execute_result"
    }
   ],
   "source": [
    "monthly_payment_merchant_psum.head()"
   ]
  },
  {
   "cell_type": "code",
   "execution_count": 50,
   "metadata": {
    "ExecuteTime": {
     "end_time": "2019-02-16T14:49:55.340426Z",
     "start_time": "2019-02-16T14:49:52.647235Z"
    }
   },
   "outputs": [],
   "source": [
    "monthly_main_merchant = monthly_payment_merchant_psum[monthly_payment_merchant_psum.monthly_pa == monthly_payment_merchant_psum.monthly_pa_max]"
   ]
  },
  {
   "cell_type": "code",
   "execution_count": 53,
   "metadata": {
    "ExecuteTime": {
     "end_time": "2019-02-16T14:57:58.681947Z",
     "start_time": "2019-02-16T14:57:58.670918Z"
    }
   },
   "outputs": [
    {
     "data": {
      "text/html": [
       "<div>\n",
       "<style scoped>\n",
       "    .dataframe tbody tr th:only-of-type {\n",
       "        vertical-align: middle;\n",
       "    }\n",
       "\n",
       "    .dataframe tbody tr th {\n",
       "        vertical-align: top;\n",
       "    }\n",
       "\n",
       "    .dataframe thead th {\n",
       "        text-align: right;\n",
       "    }\n",
       "</style>\n",
       "<table border=\"1\" class=\"dataframe\">\n",
       "  <thead>\n",
       "    <tr style=\"text-align: right;\">\n",
       "      <th></th>\n",
       "      <th>card_id</th>\n",
       "      <th>month_lag</th>\n",
       "      <th>merchant_id</th>\n",
       "      <th>monthly_pa</th>\n",
       "      <th>card_id_extend</th>\n",
       "      <th>monthly_pa_max</th>\n",
       "    </tr>\n",
       "  </thead>\n",
       "  <tbody>\n",
       "    <tr>\n",
       "      <th>0</th>\n",
       "      <td>C_ID_00007093c1</td>\n",
       "      <td>-12</td>\n",
       "      <td>M_ID_69423b34e4</td>\n",
       "      <td>521.8000000000</td>\n",
       "      <td>C_ID_00007093c1_-12</td>\n",
       "      <td>521.8000000000</td>\n",
       "    </tr>\n",
       "    <tr>\n",
       "      <th>4</th>\n",
       "      <td>C_ID_00007093c1</td>\n",
       "      <td>-11</td>\n",
       "      <td>M_ID_9400cf2342</td>\n",
       "      <td>653.0000000000</td>\n",
       "      <td>C_ID_00007093c1_-11</td>\n",
       "      <td>653.0000000000</td>\n",
       "    </tr>\n",
       "    <tr>\n",
       "      <th>6</th>\n",
       "      <td>C_ID_00007093c1</td>\n",
       "      <td>-10</td>\n",
       "      <td>M_ID_69423b34e4</td>\n",
       "      <td>718.4500000000</td>\n",
       "      <td>C_ID_00007093c1_-10</td>\n",
       "      <td>718.4500000000</td>\n",
       "    </tr>\n",
       "    <tr>\n",
       "      <th>11</th>\n",
       "      <td>C_ID_00007093c1</td>\n",
       "      <td>-9</td>\n",
       "      <td>M_ID_15446e939c</td>\n",
       "      <td>2204.0000000000</td>\n",
       "      <td>C_ID_00007093c1_-9</td>\n",
       "      <td>2204.0000000000</td>\n",
       "    </tr>\n",
       "    <tr>\n",
       "      <th>22</th>\n",
       "      <td>C_ID_00007093c1</td>\n",
       "      <td>-8</td>\n",
       "      <td>M_ID_ee8fcd02ca</td>\n",
       "      <td>1400.0000000000</td>\n",
       "      <td>C_ID_00007093c1_-8</td>\n",
       "      <td>1400.0000000000</td>\n",
       "    </tr>\n",
       "  </tbody>\n",
       "</table>\n",
       "</div>"
      ],
      "text/plain": [
       "            card_id  month_lag      merchant_id      monthly_pa  \\\n",
       "0   C_ID_00007093c1        -12  M_ID_69423b34e4  521.8000000000   \n",
       "4   C_ID_00007093c1        -11  M_ID_9400cf2342  653.0000000000   \n",
       "6   C_ID_00007093c1        -10  M_ID_69423b34e4  718.4500000000   \n",
       "11  C_ID_00007093c1         -9  M_ID_15446e939c 2204.0000000000   \n",
       "22  C_ID_00007093c1         -8  M_ID_ee8fcd02ca 1400.0000000000   \n",
       "\n",
       "         card_id_extend  monthly_pa_max  \n",
       "0   C_ID_00007093c1_-12  521.8000000000  \n",
       "4   C_ID_00007093c1_-11  653.0000000000  \n",
       "6   C_ID_00007093c1_-10  718.4500000000  \n",
       "11   C_ID_00007093c1_-9 2204.0000000000  \n",
       "22   C_ID_00007093c1_-8 1400.0000000000  "
      ]
     },
     "execution_count": 53,
     "metadata": {},
     "output_type": "execute_result"
    }
   ],
   "source": [
    "monthly_main_merchant.head()"
   ]
  },
  {
   "cell_type": "code",
   "execution_count": 52,
   "metadata": {
    "ExecuteTime": {
     "end_time": "2019-02-16T14:57:45.330455Z",
     "start_time": "2019-02-16T14:57:43.947781Z"
    }
   },
   "outputs": [
    {
     "data": {
      "text/plain": [
       "3040375"
      ]
     },
     "execution_count": 52,
     "metadata": {},
     "output_type": "execute_result"
    }
   ],
   "source": [
    "monthly_main_merchant.card_id_extend.nunique()"
   ]
  },
  {
   "cell_type": "code",
   "execution_count": 54,
   "metadata": {
    "ExecuteTime": {
     "end_time": "2019-02-16T14:58:59.913729Z",
     "start_time": "2019-02-16T14:58:54.828205Z"
    }
   },
   "outputs": [],
   "source": [
    "key_vc = monthly_main_merchant.card_id_extend.value_counts()\n",
    "key_dup = key_vc[key_vc > 1]"
   ]
  },
  {
   "cell_type": "code",
   "execution_count": 57,
   "metadata": {
    "ExecuteTime": {
     "end_time": "2019-02-16T15:00:31.404238Z",
     "start_time": "2019-02-16T15:00:29.414875Z"
    }
   },
   "outputs": [],
   "source": [
    "monthly_main_merchant = monthly_main_merchant.drop_duplicates(\"card_id_extend\")"
   ]
  },
  {
   "cell_type": "code",
   "execution_count": 58,
   "metadata": {
    "ExecuteTime": {
     "end_time": "2019-02-16T15:00:44.416754Z",
     "start_time": "2019-02-16T15:00:44.411741Z"
    }
   },
   "outputs": [
    {
     "data": {
      "text/plain": [
       "(3040375, 6)"
      ]
     },
     "execution_count": 58,
     "metadata": {},
     "output_type": "execute_result"
    }
   ],
   "source": [
    "monthly_main_merchant.shape"
   ]
  },
  {
   "cell_type": "code",
   "execution_count": 59,
   "metadata": {
    "ExecuteTime": {
     "end_time": "2019-02-16T15:01:00.090420Z",
     "start_time": "2019-02-16T15:00:58.790969Z"
    }
   },
   "outputs": [
    {
     "data": {
      "text/plain": [
       "3040375"
      ]
     },
     "execution_count": 59,
     "metadata": {},
     "output_type": "execute_result"
    }
   ],
   "source": [
    "monthly_main_merchant.card_id_extend.nunique()"
   ]
  },
  {
   "cell_type": "code",
   "execution_count": 63,
   "metadata": {
    "ExecuteTime": {
     "end_time": "2019-02-16T15:04:59.019271Z",
     "start_time": "2019-02-16T15:04:52.697439Z"
    }
   },
   "outputs": [],
   "source": [
    "main_merchant_count = monthly_main_merchant.groupby(\"card_id\")[[\"month_lag\", \"merchant_id\"]].nunique()"
   ]
  },
  {
   "cell_type": "code",
   "execution_count": 65,
   "metadata": {
    "ExecuteTime": {
     "end_time": "2019-02-16T15:07:15.831450Z",
     "start_time": "2019-02-16T15:07:15.824433Z"
    }
   },
   "outputs": [],
   "source": [
    "main_merchant_count[\"ratio\"] = main_merchant_count.merchant_id / main_merchant_count.month_lag"
   ]
  },
  {
   "cell_type": "code",
   "execution_count": 66,
   "metadata": {
    "ExecuteTime": {
     "end_time": "2019-02-16T15:07:22.735805Z",
     "start_time": "2019-02-16T15:07:22.726782Z"
    }
   },
   "outputs": [
    {
     "data": {
      "text/html": [
       "<div>\n",
       "<style scoped>\n",
       "    .dataframe tbody tr th:only-of-type {\n",
       "        vertical-align: middle;\n",
       "    }\n",
       "\n",
       "    .dataframe tbody tr th {\n",
       "        vertical-align: top;\n",
       "    }\n",
       "\n",
       "    .dataframe thead th {\n",
       "        text-align: right;\n",
       "    }\n",
       "</style>\n",
       "<table border=\"1\" class=\"dataframe\">\n",
       "  <thead>\n",
       "    <tr style=\"text-align: right;\">\n",
       "      <th></th>\n",
       "      <th>month_lag</th>\n",
       "      <th>merchant_id</th>\n",
       "      <th>ratio</th>\n",
       "    </tr>\n",
       "    <tr>\n",
       "      <th>card_id</th>\n",
       "      <th></th>\n",
       "      <th></th>\n",
       "      <th></th>\n",
       "    </tr>\n",
       "  </thead>\n",
       "  <tbody>\n",
       "    <tr>\n",
       "      <th>C_ID_00007093c1</th>\n",
       "      <td>14</td>\n",
       "      <td>9</td>\n",
       "      <td>0.6428571429</td>\n",
       "    </tr>\n",
       "    <tr>\n",
       "      <th>C_ID_0001238066</th>\n",
       "      <td>8</td>\n",
       "      <td>4</td>\n",
       "      <td>0.5000000000</td>\n",
       "    </tr>\n",
       "    <tr>\n",
       "      <th>C_ID_0001506ef0</th>\n",
       "      <td>14</td>\n",
       "      <td>6</td>\n",
       "      <td>0.4285714286</td>\n",
       "    </tr>\n",
       "    <tr>\n",
       "      <th>C_ID_0001793786</th>\n",
       "      <td>12</td>\n",
       "      <td>11</td>\n",
       "      <td>0.9166666667</td>\n",
       "    </tr>\n",
       "    <tr>\n",
       "      <th>C_ID_000183fdda</th>\n",
       "      <td>9</td>\n",
       "      <td>9</td>\n",
       "      <td>1.0000000000</td>\n",
       "    </tr>\n",
       "    <tr>\n",
       "      <th>C_ID_00024e244b</th>\n",
       "      <td>13</td>\n",
       "      <td>10</td>\n",
       "      <td>0.7692307692</td>\n",
       "    </tr>\n",
       "    <tr>\n",
       "      <th>C_ID_0002709b5a</th>\n",
       "      <td>14</td>\n",
       "      <td>11</td>\n",
       "      <td>0.7857142857</td>\n",
       "    </tr>\n",
       "    <tr>\n",
       "      <th>C_ID_00027503e2</th>\n",
       "      <td>9</td>\n",
       "      <td>6</td>\n",
       "      <td>0.6666666667</td>\n",
       "    </tr>\n",
       "    <tr>\n",
       "      <th>C_ID_000298032a</th>\n",
       "      <td>10</td>\n",
       "      <td>9</td>\n",
       "      <td>0.9000000000</td>\n",
       "    </tr>\n",
       "    <tr>\n",
       "      <th>C_ID_0002ba3c2e</th>\n",
       "      <td>9</td>\n",
       "      <td>5</td>\n",
       "      <td>0.5555555556</td>\n",
       "    </tr>\n",
       "    <tr>\n",
       "      <th>C_ID_0002c7c2c1</th>\n",
       "      <td>12</td>\n",
       "      <td>12</td>\n",
       "      <td>1.0000000000</td>\n",
       "    </tr>\n",
       "    <tr>\n",
       "      <th>C_ID_00032df08f</th>\n",
       "      <td>12</td>\n",
       "      <td>11</td>\n",
       "      <td>0.9166666667</td>\n",
       "    </tr>\n",
       "    <tr>\n",
       "      <th>C_ID_0003754056</th>\n",
       "      <td>10</td>\n",
       "      <td>5</td>\n",
       "      <td>0.5000000000</td>\n",
       "    </tr>\n",
       "    <tr>\n",
       "      <th>C_ID_000377f6a0</th>\n",
       "      <td>5</td>\n",
       "      <td>4</td>\n",
       "      <td>0.8000000000</td>\n",
       "    </tr>\n",
       "    <tr>\n",
       "      <th>C_ID_0003be3c83</th>\n",
       "      <td>9</td>\n",
       "      <td>9</td>\n",
       "      <td>1.0000000000</td>\n",
       "    </tr>\n",
       "    <tr>\n",
       "      <th>C_ID_0003f41435</th>\n",
       "      <td>11</td>\n",
       "      <td>11</td>\n",
       "      <td>1.0000000000</td>\n",
       "    </tr>\n",
       "    <tr>\n",
       "      <th>C_ID_00042d509c</th>\n",
       "      <td>7</td>\n",
       "      <td>6</td>\n",
       "      <td>0.8571428571</td>\n",
       "    </tr>\n",
       "    <tr>\n",
       "      <th>C_ID_0004587331</th>\n",
       "      <td>5</td>\n",
       "      <td>5</td>\n",
       "      <td>1.0000000000</td>\n",
       "    </tr>\n",
       "    <tr>\n",
       "      <th>C_ID_0004725b87</th>\n",
       "      <td>14</td>\n",
       "      <td>8</td>\n",
       "      <td>0.5714285714</td>\n",
       "    </tr>\n",
       "    <tr>\n",
       "      <th>C_ID_0004888ddd</th>\n",
       "      <td>8</td>\n",
       "      <td>8</td>\n",
       "      <td>1.0000000000</td>\n",
       "    </tr>\n",
       "  </tbody>\n",
       "</table>\n",
       "</div>"
      ],
      "text/plain": [
       "                 month_lag  merchant_id        ratio\n",
       "card_id                                             \n",
       "C_ID_00007093c1         14            9 0.6428571429\n",
       "C_ID_0001238066          8            4 0.5000000000\n",
       "C_ID_0001506ef0         14            6 0.4285714286\n",
       "C_ID_0001793786         12           11 0.9166666667\n",
       "C_ID_000183fdda          9            9 1.0000000000\n",
       "C_ID_00024e244b         13           10 0.7692307692\n",
       "C_ID_0002709b5a         14           11 0.7857142857\n",
       "C_ID_00027503e2          9            6 0.6666666667\n",
       "C_ID_000298032a         10            9 0.9000000000\n",
       "C_ID_0002ba3c2e          9            5 0.5555555556\n",
       "C_ID_0002c7c2c1         12           12 1.0000000000\n",
       "C_ID_00032df08f         12           11 0.9166666667\n",
       "C_ID_0003754056         10            5 0.5000000000\n",
       "C_ID_000377f6a0          5            4 0.8000000000\n",
       "C_ID_0003be3c83          9            9 1.0000000000\n",
       "C_ID_0003f41435         11           11 1.0000000000\n",
       "C_ID_00042d509c          7            6 0.8571428571\n",
       "C_ID_0004587331          5            5 1.0000000000\n",
       "C_ID_0004725b87         14            8 0.5714285714\n",
       "C_ID_0004888ddd          8            8 1.0000000000"
      ]
     },
     "execution_count": 66,
     "metadata": {},
     "output_type": "execute_result"
    }
   ],
   "source": [
    "main_merchant_count.head(20)"
   ]
  },
  {
   "cell_type": "code",
   "execution_count": 67,
   "metadata": {
    "ExecuteTime": {
     "end_time": "2019-02-16T15:08:40.197760Z",
     "start_time": "2019-02-16T15:08:39.896929Z"
    }
   },
   "outputs": [],
   "source": [
    "save_dataframe32(features_downcast(\"main_merchant_count\"),\n",
    "                 main_merchant_count.reset_index(), keep=[\"card_id\"])"
   ]
  },
  {
   "cell_type": "markdown",
   "metadata": {},
   "source": [
    "# merchant avg std"
   ]
  },
  {
   "cell_type": "code",
   "execution_count": 69,
   "metadata": {
    "ExecuteTime": {
     "end_time": "2019-02-16T15:35:24.111684Z",
     "start_time": "2019-02-16T15:34:57.501430Z"
    }
   },
   "outputs": [],
   "source": [
    "merchant_avg_std = (all_transactions.groupby([\"merchant_id\", \"card_id\"])\n",
    "                                    .purchase_amount_new.std().reset_index(name=\"pa_std\")\n",
    "                                    .groupby(\"merchant_id\").pa_std.mean().reset_index(name=\"pa_std_avg\"))"
   ]
  },
  {
   "cell_type": "code",
   "execution_count": 70,
   "metadata": {
    "ExecuteTime": {
     "end_time": "2019-02-16T15:35:27.593942Z",
     "start_time": "2019-02-16T15:35:27.586924Z"
    }
   },
   "outputs": [
    {
     "data": {
      "text/html": [
       "<div>\n",
       "<style scoped>\n",
       "    .dataframe tbody tr th:only-of-type {\n",
       "        vertical-align: middle;\n",
       "    }\n",
       "\n",
       "    .dataframe tbody tr th {\n",
       "        vertical-align: top;\n",
       "    }\n",
       "\n",
       "    .dataframe thead th {\n",
       "        text-align: right;\n",
       "    }\n",
       "</style>\n",
       "<table border=\"1\" class=\"dataframe\">\n",
       "  <thead>\n",
       "    <tr style=\"text-align: right;\">\n",
       "      <th></th>\n",
       "      <th>merchant_id</th>\n",
       "      <th>pa_std_avg</th>\n",
       "    </tr>\n",
       "  </thead>\n",
       "  <tbody>\n",
       "    <tr>\n",
       "      <th>0</th>\n",
       "      <td>M_ID_000025127f</td>\n",
       "      <td>0.5773502692</td>\n",
       "    </tr>\n",
       "    <tr>\n",
       "      <th>1</th>\n",
       "      <td>M_ID_0000699140</td>\n",
       "      <td>27.1220987316</td>\n",
       "    </tr>\n",
       "    <tr>\n",
       "      <th>2</th>\n",
       "      <td>M_ID_00006a5552</td>\n",
       "      <td>nan</td>\n",
       "    </tr>\n",
       "    <tr>\n",
       "      <th>3</th>\n",
       "      <td>M_ID_000087311e</td>\n",
       "      <td>269.2202923001</td>\n",
       "    </tr>\n",
       "    <tr>\n",
       "      <th>4</th>\n",
       "      <td>M_ID_0000ab0b2d</td>\n",
       "      <td>5.0041993186</td>\n",
       "    </tr>\n",
       "  </tbody>\n",
       "</table>\n",
       "</div>"
      ],
      "text/plain": [
       "       merchant_id     pa_std_avg\n",
       "0  M_ID_000025127f   0.5773502692\n",
       "1  M_ID_0000699140  27.1220987316\n",
       "2  M_ID_00006a5552            nan\n",
       "3  M_ID_000087311e 269.2202923001\n",
       "4  M_ID_0000ab0b2d   5.0041993186"
      ]
     },
     "execution_count": 70,
     "metadata": {},
     "output_type": "execute_result"
    }
   ],
   "source": [
    "merchant_avg_std.head()"
   ]
  },
  {
   "cell_type": "code",
   "execution_count": 71,
   "metadata": {
    "ExecuteTime": {
     "end_time": "2019-02-16T15:46:39.240673Z",
     "start_time": "2019-02-16T15:46:38.966976Z"
    }
   },
   "outputs": [],
   "source": [
    "save_dataframe32(features_downcast(\"merchant_avg_std\"),\n",
    "                 merchant_avg_std, keep=[\"merchant_id\"])"
   ]
  },
  {
   "cell_type": "code",
   "execution_count": 72,
   "metadata": {
    "ExecuteTime": {
     "end_time": "2019-02-16T15:49:38.933004Z",
     "start_time": "2019-02-16T15:49:37.778935Z"
    }
   },
   "outputs": [],
   "source": [
    "monthly_main_merchant[\"monthly_pa\"] = monthly_main_merchant.merchant_id.map(merchant_avg_std.set_index(\"merchant_id\").pa_std_avg)"
   ]
  },
  {
   "cell_type": "code",
   "execution_count": 77,
   "metadata": {
    "ExecuteTime": {
     "end_time": "2019-02-16T15:52:22.947315Z",
     "start_time": "2019-02-16T15:52:22.934281Z"
    }
   },
   "outputs": [
    {
     "data": {
      "text/html": [
       "<div>\n",
       "<style scoped>\n",
       "    .dataframe tbody tr th:only-of-type {\n",
       "        vertical-align: middle;\n",
       "    }\n",
       "\n",
       "    .dataframe tbody tr th {\n",
       "        vertical-align: top;\n",
       "    }\n",
       "\n",
       "    .dataframe thead th {\n",
       "        text-align: right;\n",
       "    }\n",
       "</style>\n",
       "<table border=\"1\" class=\"dataframe\">\n",
       "  <thead>\n",
       "    <tr style=\"text-align: right;\">\n",
       "      <th></th>\n",
       "      <th>card_id</th>\n",
       "      <th>month_lag</th>\n",
       "      <th>merchant_id</th>\n",
       "      <th>monthly_pa</th>\n",
       "      <th>card_id_extend</th>\n",
       "      <th>monthly_pa_max</th>\n",
       "      <th>ratio_1</th>\n",
       "      <th>sum_2</th>\n",
       "      <th>ratio_2</th>\n",
       "      <th>sum_3</th>\n",
       "      <th>ratio_3</th>\n",
       "      <th>sum_4</th>\n",
       "      <th>ratio_4</th>\n",
       "      <th>sum_1</th>\n",
       "    </tr>\n",
       "  </thead>\n",
       "  <tbody>\n",
       "    <tr>\n",
       "      <th>0</th>\n",
       "      <td>C_ID_00007093c1</td>\n",
       "      <td>-12</td>\n",
       "      <td>M_ID_69423b34e4</td>\n",
       "      <td>44.2637050280</td>\n",
       "      <td>C_ID_00007093c1_-12</td>\n",
       "      <td>521.8000000000</td>\n",
       "      <td>nan</td>\n",
       "      <td>nan</td>\n",
       "      <td>nan</td>\n",
       "      <td>nan</td>\n",
       "      <td>nan</td>\n",
       "      <td>nan</td>\n",
       "      <td>nan</td>\n",
       "      <td>44.2637050280</td>\n",
       "    </tr>\n",
       "    <tr>\n",
       "      <th>4</th>\n",
       "      <td>C_ID_00007093c1</td>\n",
       "      <td>-11</td>\n",
       "      <td>M_ID_9400cf2342</td>\n",
       "      <td>68.3237688669</td>\n",
       "      <td>C_ID_00007093c1_-11</td>\n",
       "      <td>653.0000000000</td>\n",
       "      <td>1.5435619053</td>\n",
       "      <td>112.5874738950</td>\n",
       "      <td>nan</td>\n",
       "      <td>nan</td>\n",
       "      <td>nan</td>\n",
       "      <td>nan</td>\n",
       "      <td>nan</td>\n",
       "      <td>68.3237688669</td>\n",
       "    </tr>\n",
       "    <tr>\n",
       "      <th>6</th>\n",
       "      <td>C_ID_00007093c1</td>\n",
       "      <td>-10</td>\n",
       "      <td>M_ID_69423b34e4</td>\n",
       "      <td>44.2637050280</td>\n",
       "      <td>C_ID_00007093c1_-10</td>\n",
       "      <td>718.4500000000</td>\n",
       "      <td>0.6478522154</td>\n",
       "      <td>112.5874738950</td>\n",
       "      <td>1.0000000000</td>\n",
       "      <td>156.8511789230</td>\n",
       "      <td>nan</td>\n",
       "      <td>nan</td>\n",
       "      <td>nan</td>\n",
       "      <td>44.2637050280</td>\n",
       "    </tr>\n",
       "    <tr>\n",
       "      <th>11</th>\n",
       "      <td>C_ID_00007093c1</td>\n",
       "      <td>-9</td>\n",
       "      <td>M_ID_15446e939c</td>\n",
       "      <td>29.2447842358</td>\n",
       "      <td>C_ID_00007093c1_-9</td>\n",
       "      <td>2204.0000000000</td>\n",
       "      <td>0.6606944497</td>\n",
       "      <td>73.5084892639</td>\n",
       "      <td>0.6529011330</td>\n",
       "      <td>141.8322581308</td>\n",
       "      <td>0.9042473197</td>\n",
       "      <td>186.0959631588</td>\n",
       "      <td>nan</td>\n",
       "      <td>29.2447842358</td>\n",
       "    </tr>\n",
       "    <tr>\n",
       "      <th>22</th>\n",
       "      <td>C_ID_00007093c1</td>\n",
       "      <td>-8</td>\n",
       "      <td>M_ID_ee8fcd02ca</td>\n",
       "      <td>137.8139649003</td>\n",
       "      <td>C_ID_00007093c1_-8</td>\n",
       "      <td>1400.0000000000</td>\n",
       "      <td>4.7124288485</td>\n",
       "      <td>167.0587491361</td>\n",
       "      <td>2.2726456605</td>\n",
       "      <td>211.3224541641</td>\n",
       "      <td>1.4899463419</td>\n",
       "      <td>279.6462230311</td>\n",
       "      <td>1.5026990284</td>\n",
       "      <td>137.8139649003</td>\n",
       "    </tr>\n",
       "  </tbody>\n",
       "</table>\n",
       "</div>"
      ],
      "text/plain": [
       "            card_id  month_lag      merchant_id     monthly_pa  \\\n",
       "0   C_ID_00007093c1        -12  M_ID_69423b34e4  44.2637050280   \n",
       "4   C_ID_00007093c1        -11  M_ID_9400cf2342  68.3237688669   \n",
       "6   C_ID_00007093c1        -10  M_ID_69423b34e4  44.2637050280   \n",
       "11  C_ID_00007093c1         -9  M_ID_15446e939c  29.2447842358   \n",
       "22  C_ID_00007093c1         -8  M_ID_ee8fcd02ca 137.8139649003   \n",
       "\n",
       "         card_id_extend  monthly_pa_max      ratio_1          sum_2  \\\n",
       "0   C_ID_00007093c1_-12  521.8000000000          nan            nan   \n",
       "4   C_ID_00007093c1_-11  653.0000000000 1.5435619053 112.5874738950   \n",
       "6   C_ID_00007093c1_-10  718.4500000000 0.6478522154 112.5874738950   \n",
       "11   C_ID_00007093c1_-9 2204.0000000000 0.6606944497  73.5084892639   \n",
       "22   C_ID_00007093c1_-8 1400.0000000000 4.7124288485 167.0587491361   \n",
       "\n",
       "        ratio_2          sum_3      ratio_3          sum_4      ratio_4  \\\n",
       "0           nan            nan          nan            nan          nan   \n",
       "4           nan            nan          nan            nan          nan   \n",
       "6  1.0000000000 156.8511789230          nan            nan          nan   \n",
       "11 0.6529011330 141.8322581308 0.9042473197 186.0959631588          nan   \n",
       "22 2.2726456605 211.3224541641 1.4899463419 279.6462230311 1.5026990284   \n",
       "\n",
       "            sum_1  \n",
       "0   44.2637050280  \n",
       "4   68.3237688669  \n",
       "6   44.2637050280  \n",
       "11  29.2447842358  \n",
       "22 137.8139649003  "
      ]
     },
     "execution_count": 77,
     "metadata": {},
     "output_type": "execute_result"
    }
   ],
   "source": [
    "monthly_main_merchant.head()"
   ]
  },
  {
   "cell_type": "code",
   "execution_count": 78,
   "metadata": {
    "ExecuteTime": {
     "end_time": "2019-02-16T15:54:29.719060Z",
     "start_time": "2019-02-16T15:53:50.590870Z"
    }
   },
   "outputs": [],
   "source": [
    "features_df = calc_monthly_payment_features(monthly_main_merchant[[\"card_id\", \"month_lag\", \"monthly_pa\"]])\n",
    "save_dataframe32(features_downcast(\"monthly_merchant_avg_std\"),\n",
    "                 features_df.reset_index().rename(columns={\"index\":\"card_id\"}), keep=[\"card_id\"])"
   ]
  },
  {
   "cell_type": "code",
   "execution_count": 79,
   "metadata": {
    "ExecuteTime": {
     "end_time": "2019-02-16T15:54:33.513147Z",
     "start_time": "2019-02-16T15:54:33.494096Z"
    },
    "scrolled": false
   },
   "outputs": [
    {
     "data": {
      "text/html": [
       "<div>\n",
       "<style scoped>\n",
       "    .dataframe tbody tr th:only-of-type {\n",
       "        vertical-align: middle;\n",
       "    }\n",
       "\n",
       "    .dataframe tbody tr th {\n",
       "        vertical-align: top;\n",
       "    }\n",
       "\n",
       "    .dataframe thead th {\n",
       "        text-align: right;\n",
       "    }\n",
       "</style>\n",
       "<table border=\"1\" class=\"dataframe\">\n",
       "  <thead>\n",
       "    <tr style=\"text-align: right;\">\n",
       "      <th></th>\n",
       "      <th>C_ID_00007093c1</th>\n",
       "      <th>C_ID_0001238066</th>\n",
       "      <th>C_ID_0001506ef0</th>\n",
       "      <th>C_ID_0001793786</th>\n",
       "      <th>C_ID_000183fdda</th>\n",
       "    </tr>\n",
       "  </thead>\n",
       "  <tbody>\n",
       "    <tr>\n",
       "      <th>ratio_1_lag-12</th>\n",
       "      <td>nan</td>\n",
       "      <td>nan</td>\n",
       "      <td>2.1933054913</td>\n",
       "      <td>nan</td>\n",
       "      <td>nan</td>\n",
       "    </tr>\n",
       "    <tr>\n",
       "      <th>sum_2_lag-12</th>\n",
       "      <td>nan</td>\n",
       "      <td>nan</td>\n",
       "      <td>22.7978406080</td>\n",
       "      <td>nan</td>\n",
       "      <td>nan</td>\n",
       "    </tr>\n",
       "    <tr>\n",
       "      <th>ratio_2_lag-12</th>\n",
       "      <td>nan</td>\n",
       "      <td>nan</td>\n",
       "      <td>nan</td>\n",
       "      <td>nan</td>\n",
       "      <td>nan</td>\n",
       "    </tr>\n",
       "    <tr>\n",
       "      <th>sum_3_lag-12</th>\n",
       "      <td>nan</td>\n",
       "      <td>nan</td>\n",
       "      <td>nan</td>\n",
       "      <td>nan</td>\n",
       "      <td>nan</td>\n",
       "    </tr>\n",
       "    <tr>\n",
       "      <th>ratio_3_lag-12</th>\n",
       "      <td>nan</td>\n",
       "      <td>nan</td>\n",
       "      <td>nan</td>\n",
       "      <td>nan</td>\n",
       "      <td>nan</td>\n",
       "    </tr>\n",
       "    <tr>\n",
       "      <th>sum_4_lag-12</th>\n",
       "      <td>nan</td>\n",
       "      <td>nan</td>\n",
       "      <td>nan</td>\n",
       "      <td>nan</td>\n",
       "      <td>nan</td>\n",
       "    </tr>\n",
       "    <tr>\n",
       "      <th>ratio_4_lag-12</th>\n",
       "      <td>nan</td>\n",
       "      <td>nan</td>\n",
       "      <td>nan</td>\n",
       "      <td>nan</td>\n",
       "      <td>nan</td>\n",
       "    </tr>\n",
       "    <tr>\n",
       "      <th>sum_1_lag-12</th>\n",
       "      <td>44.2637050280</td>\n",
       "      <td>nan</td>\n",
       "      <td>15.6585798420</td>\n",
       "      <td>nan</td>\n",
       "      <td>nan</td>\n",
       "    </tr>\n",
       "    <tr>\n",
       "      <th>ratio_1_lag-11</th>\n",
       "      <td>1.5435619053</td>\n",
       "      <td>nan</td>\n",
       "      <td>12.2231728986</td>\n",
       "      <td>nan</td>\n",
       "      <td>nan</td>\n",
       "    </tr>\n",
       "    <tr>\n",
       "      <th>sum_2_lag-11</th>\n",
       "      <td>112.5874738950</td>\n",
       "      <td>nan</td>\n",
       "      <td>207.0561085971</td>\n",
       "      <td>nan</td>\n",
       "      <td>nan</td>\n",
       "    </tr>\n",
       "    <tr>\n",
       "      <th>ratio_2_lag-11</th>\n",
       "      <td>nan</td>\n",
       "      <td>nan</td>\n",
       "      <td>9.0822684550</td>\n",
       "      <td>nan</td>\n",
       "      <td>nan</td>\n",
       "    </tr>\n",
       "    <tr>\n",
       "      <th>sum_3_lag-11</th>\n",
       "      <td>nan</td>\n",
       "      <td>nan</td>\n",
       "      <td>214.1953693631</td>\n",
       "      <td>nan</td>\n",
       "      <td>nan</td>\n",
       "    </tr>\n",
       "    <tr>\n",
       "      <th>ratio_3_lag-11</th>\n",
       "      <td>nan</td>\n",
       "      <td>nan</td>\n",
       "      <td>nan</td>\n",
       "      <td>nan</td>\n",
       "      <td>nan</td>\n",
       "    </tr>\n",
       "    <tr>\n",
       "      <th>sum_4_lag-11</th>\n",
       "      <td>nan</td>\n",
       "      <td>nan</td>\n",
       "      <td>nan</td>\n",
       "      <td>nan</td>\n",
       "      <td>nan</td>\n",
       "    </tr>\n",
       "    <tr>\n",
       "      <th>ratio_4_lag-11</th>\n",
       "      <td>nan</td>\n",
       "      <td>nan</td>\n",
       "      <td>nan</td>\n",
       "      <td>nan</td>\n",
       "      <td>nan</td>\n",
       "    </tr>\n",
       "    <tr>\n",
       "      <th>sum_1_lag-11</th>\n",
       "      <td>68.3237688669</td>\n",
       "      <td>nan</td>\n",
       "      <td>191.3975287551</td>\n",
       "      <td>nan</td>\n",
       "      <td>nan</td>\n",
       "    </tr>\n",
       "    <tr>\n",
       "      <th>ratio_1_lag-10</th>\n",
       "      <td>0.6478522154</td>\n",
       "      <td>nan</td>\n",
       "      <td>nan</td>\n",
       "      <td>nan</td>\n",
       "      <td>nan</td>\n",
       "    </tr>\n",
       "    <tr>\n",
       "      <th>sum_2_lag-10</th>\n",
       "      <td>112.5874738950</td>\n",
       "      <td>nan</td>\n",
       "      <td>nan</td>\n",
       "      <td>nan</td>\n",
       "      <td>nan</td>\n",
       "    </tr>\n",
       "    <tr>\n",
       "      <th>ratio_2_lag-10</th>\n",
       "      <td>1.0000000000</td>\n",
       "      <td>nan</td>\n",
       "      <td>nan</td>\n",
       "      <td>nan</td>\n",
       "      <td>nan</td>\n",
       "    </tr>\n",
       "    <tr>\n",
       "      <th>sum_3_lag-10</th>\n",
       "      <td>156.8511789230</td>\n",
       "      <td>nan</td>\n",
       "      <td>nan</td>\n",
       "      <td>nan</td>\n",
       "      <td>nan</td>\n",
       "    </tr>\n",
       "    <tr>\n",
       "      <th>ratio_3_lag-10</th>\n",
       "      <td>nan</td>\n",
       "      <td>nan</td>\n",
       "      <td>nan</td>\n",
       "      <td>nan</td>\n",
       "      <td>nan</td>\n",
       "    </tr>\n",
       "    <tr>\n",
       "      <th>sum_4_lag-10</th>\n",
       "      <td>nan</td>\n",
       "      <td>nan</td>\n",
       "      <td>nan</td>\n",
       "      <td>nan</td>\n",
       "      <td>nan</td>\n",
       "    </tr>\n",
       "    <tr>\n",
       "      <th>ratio_4_lag-10</th>\n",
       "      <td>nan</td>\n",
       "      <td>nan</td>\n",
       "      <td>nan</td>\n",
       "      <td>nan</td>\n",
       "      <td>nan</td>\n",
       "    </tr>\n",
       "    <tr>\n",
       "      <th>sum_1_lag-10</th>\n",
       "      <td>44.2637050280</td>\n",
       "      <td>nan</td>\n",
       "      <td>nan</td>\n",
       "      <td>nan</td>\n",
       "      <td>nan</td>\n",
       "    </tr>\n",
       "    <tr>\n",
       "      <th>ratio_1_lag-9</th>\n",
       "      <td>0.6606944497</td>\n",
       "      <td>nan</td>\n",
       "      <td>0.1259988490</td>\n",
       "      <td>nan</td>\n",
       "      <td>nan</td>\n",
       "    </tr>\n",
       "    <tr>\n",
       "      <th>sum_2_lag-9</th>\n",
       "      <td>73.5084892639</td>\n",
       "      <td>nan</td>\n",
       "      <td>215.5133970775</td>\n",
       "      <td>nan</td>\n",
       "      <td>nan</td>\n",
       "    </tr>\n",
       "    <tr>\n",
       "      <th>ratio_2_lag-9</th>\n",
       "      <td>0.6529011330</td>\n",
       "      <td>nan</td>\n",
       "      <td>1.0408453947</td>\n",
       "      <td>nan</td>\n",
       "      <td>nan</td>\n",
       "    </tr>\n",
       "    <tr>\n",
       "      <th>sum_3_lag-9</th>\n",
       "      <td>141.8322581308</td>\n",
       "      <td>nan</td>\n",
       "      <td>231.1719769194</td>\n",
       "      <td>nan</td>\n",
       "      <td>nan</td>\n",
       "    </tr>\n",
       "    <tr>\n",
       "      <th>ratio_3_lag-9</th>\n",
       "      <td>0.9042473197</td>\n",
       "      <td>nan</td>\n",
       "      <td>1.0792575844</td>\n",
       "      <td>nan</td>\n",
       "      <td>nan</td>\n",
       "    </tr>\n",
       "    <tr>\n",
       "      <th>sum_4_lag-9</th>\n",
       "      <td>186.0959631588</td>\n",
       "      <td>nan</td>\n",
       "      <td>238.3112376855</td>\n",
       "      <td>nan</td>\n",
       "      <td>nan</td>\n",
       "    </tr>\n",
       "    <tr>\n",
       "      <th>...</th>\n",
       "      <td>...</td>\n",
       "      <td>...</td>\n",
       "      <td>...</td>\n",
       "      <td>...</td>\n",
       "      <td>...</td>\n",
       "    </tr>\n",
       "    <tr>\n",
       "      <th>ratio_2_lag-1</th>\n",
       "      <td>0.6071527218</td>\n",
       "      <td>2.9939280248</td>\n",
       "      <td>1.0000000000</td>\n",
       "      <td>1.2146753501</td>\n",
       "      <td>0.7820071133</td>\n",
       "    </tr>\n",
       "    <tr>\n",
       "      <th>sum_3_lag-1</th>\n",
       "      <td>407.8392258056</td>\n",
       "      <td>512.7125947837</td>\n",
       "      <td>257.3527939309</td>\n",
       "      <td>518.8750569173</td>\n",
       "      <td>948.3092440168</td>\n",
       "    </tr>\n",
       "    <tr>\n",
       "      <th>ratio_3_lag-1</th>\n",
       "      <td>1.0356452163</td>\n",
       "      <td>2.3292853499</td>\n",
       "      <td>1.0000000000</td>\n",
       "      <td>1.6927871707</td>\n",
       "      <td>1.2746917116</td>\n",
       "    </tr>\n",
       "    <tr>\n",
       "      <th>sum_4_lag-1</th>\n",
       "      <td>462.1258348430</td>\n",
       "      <td>586.0845405049</td>\n",
       "      <td>343.1370585745</td>\n",
       "      <td>549.4450106380</td>\n",
       "      <td>1032.9377521610</td>\n",
       "    </tr>\n",
       "    <tr>\n",
       "      <th>ratio_4_lag-1</th>\n",
       "      <td>0.9725294262</td>\n",
       "      <td>1.9969640124</td>\n",
       "      <td>1.0000000000</td>\n",
       "      <td>1.3271359604</td>\n",
       "      <td>0.8939008283</td>\n",
       "    </tr>\n",
       "    <tr>\n",
       "      <th>sum_1_lag-1</th>\n",
       "      <td>68.3237688669</td>\n",
       "      <td>365.9687033413</td>\n",
       "      <td>85.7842646436</td>\n",
       "      <td>242.9238685224</td>\n",
       "      <td>288.9859123434</td>\n",
       "    </tr>\n",
       "    <tr>\n",
       "      <th>ratio_1_lag0</th>\n",
       "      <td>2.9521423567</td>\n",
       "      <td>0.2004869407</td>\n",
       "      <td>1.0000000000</td>\n",
       "      <td>0.5488656612</td>\n",
       "      <td>0.1710135377</td>\n",
       "    </tr>\n",
       "    <tr>\n",
       "      <th>sum_2_lag0</th>\n",
       "      <td>270.0252609053</td>\n",
       "      <td>439.3406490625</td>\n",
       "      <td>171.5685292873</td>\n",
       "      <td>376.2564382422</td>\n",
       "      <td>338.4064155720</td>\n",
       "    </tr>\n",
       "    <tr>\n",
       "      <th>ratio_2_lag0</th>\n",
       "      <td>1.3099264068</td>\n",
       "      <td>1.0000000000</td>\n",
       "      <td>1.0000000000</td>\n",
       "      <td>1.1225131905</td>\n",
       "      <td>0.6563408571</td>\n",
       "    </tr>\n",
       "    <tr>\n",
       "      <th>sum_3_lag0</th>\n",
       "      <td>407.8392258056</td>\n",
       "      <td>512.7125947837</td>\n",
       "      <td>257.3527939309</td>\n",
       "      <td>468.5236761049</td>\n",
       "      <td>565.0160385878</td>\n",
       "    </tr>\n",
       "    <tr>\n",
       "      <th>ratio_3_lag0</th>\n",
       "      <td>1.0000000000</td>\n",
       "      <td>1.0000000000</td>\n",
       "      <td>1.0000000000</td>\n",
       "      <td>0.9029604909</td>\n",
       "      <td>0.5958141209</td>\n",
       "    </tr>\n",
       "    <tr>\n",
       "      <th>sum_4_lag0</th>\n",
       "      <td>609.5407178440</td>\n",
       "      <td>586.0845405049</td>\n",
       "      <td>343.1370585745</td>\n",
       "      <td>652.2076266371</td>\n",
       "      <td>997.7297472453</td>\n",
       "    </tr>\n",
       "    <tr>\n",
       "      <th>ratio_4_lag0</th>\n",
       "      <td>1.3189929493</td>\n",
       "      <td>1.0000000000</td>\n",
       "      <td>1.0000000000</td>\n",
       "      <td>1.1870298465</td>\n",
       "      <td>0.9659146886</td>\n",
       "    </tr>\n",
       "    <tr>\n",
       "      <th>sum_1_lag0</th>\n",
       "      <td>201.7014920384</td>\n",
       "      <td>73.3719457212</td>\n",
       "      <td>85.7842646436</td>\n",
       "      <td>133.3325697198</td>\n",
       "      <td>49.4205032286</td>\n",
       "    </tr>\n",
       "    <tr>\n",
       "      <th>ratio_1_lag1</th>\n",
       "      <td>nan</td>\n",
       "      <td>1.3755865982</td>\n",
       "      <td>0.1496256134</td>\n",
       "      <td>1.0864713108</td>\n",
       "      <td>0.7555158640</td>\n",
       "    </tr>\n",
       "    <tr>\n",
       "      <th>sum_2_lag1</th>\n",
       "      <td>nan</td>\n",
       "      <td>174.3014109415</td>\n",
       "      <td>98.6197878642</td>\n",
       "      <td>278.1945815108</td>\n",
       "      <td>86.7584774248</td>\n",
       "    </tr>\n",
       "    <tr>\n",
       "      <th>ratio_2_lag1</th>\n",
       "      <td>nan</td>\n",
       "      <td>0.3967340862</td>\n",
       "      <td>0.5748128067</td>\n",
       "      <td>0.7393749402</td>\n",
       "      <td>0.2563736189</td>\n",
       "    </tr>\n",
       "    <tr>\n",
       "      <th>sum_3_lag1</th>\n",
       "      <td>nan</td>\n",
       "      <td>540.2701142828</td>\n",
       "      <td>184.4040525078</td>\n",
       "      <td>521.1184500332</td>\n",
       "      <td>375.7443897682</td>\n",
       "    </tr>\n",
       "    <tr>\n",
       "      <th>ratio_3_lag1</th>\n",
       "      <td>nan</td>\n",
       "      <td>1.0537484739</td>\n",
       "      <td>0.7165418711</td>\n",
       "      <td>1.1122563845</td>\n",
       "      <td>0.6650154405</td>\n",
       "    </tr>\n",
       "    <tr>\n",
       "      <th>sum_4_lag1</th>\n",
       "      <td>nan</td>\n",
       "      <td>613.6420600040</td>\n",
       "      <td>270.1883171515</td>\n",
       "      <td>613.3856878958</td>\n",
       "      <td>602.3540127840</td>\n",
       "    </tr>\n",
       "    <tr>\n",
       "      <th>ratio_4_lag1</th>\n",
       "      <td>nan</td>\n",
       "      <td>1.0470197004</td>\n",
       "      <td>0.7874064034</td>\n",
       "      <td>0.9404761043</td>\n",
       "      <td>0.6037246203</td>\n",
       "    </tr>\n",
       "    <tr>\n",
       "      <th>sum_1_lag1</th>\n",
       "      <td>nan</td>\n",
       "      <td>100.9294652203</td>\n",
       "      <td>12.8355232206</td>\n",
       "      <td>144.8620117910</td>\n",
       "      <td>37.3379741962</td>\n",
       "    </tr>\n",
       "    <tr>\n",
       "      <th>ratio_1_lag2</th>\n",
       "      <td>0.4754377160</td>\n",
       "      <td>0.6273549291</td>\n",
       "      <td>nan</td>\n",
       "      <td>0.9740090355</td>\n",
       "      <td>2.7843806936</td>\n",
       "    </tr>\n",
       "    <tr>\n",
       "      <th>sum_2_lag2</th>\n",
       "      <td>297.5979887207</td>\n",
       "      <td>164.2480627134</td>\n",
       "      <td>nan</td>\n",
       "      <td>285.9589201725</td>\n",
       "      <td>141.3011086878</td>\n",
       "    </tr>\n",
       "    <tr>\n",
       "      <th>ratio_2_lag2</th>\n",
       "      <td>1.1021116607</td>\n",
       "      <td>0.9423220491</td>\n",
       "      <td>nan</td>\n",
       "      <td>1.0279097408</td>\n",
       "      <td>1.6286720662</td>\n",
       "    </tr>\n",
       "    <tr>\n",
       "      <th>sum_3_lag2</th>\n",
       "      <td>365.9217575876</td>\n",
       "      <td>237.6200084346</td>\n",
       "      <td>nan</td>\n",
       "      <td>419.2914898923</td>\n",
       "      <td>190.7216119164</td>\n",
       "    </tr>\n",
       "    <tr>\n",
       "      <th>ratio_3_lag2</th>\n",
       "      <td>0.8972206066</td>\n",
       "      <td>0.4398170511</td>\n",
       "      <td>nan</td>\n",
       "      <td>0.8045992036</td>\n",
       "      <td>0.5075833921</td>\n",
       "    </tr>\n",
       "    <tr>\n",
       "      <th>sum_4_lag2</th>\n",
       "      <td>503.7357224879</td>\n",
       "      <td>603.5887117759</td>\n",
       "      <td>nan</td>\n",
       "      <td>662.2153584147</td>\n",
       "      <td>479.7075242599</td>\n",
       "    </tr>\n",
       "    <tr>\n",
       "      <th>ratio_4_lag2</th>\n",
       "      <td>0.8264184947</td>\n",
       "      <td>0.9836169179</td>\n",
       "      <td>nan</td>\n",
       "      <td>1.0796067979</td>\n",
       "      <td>0.7963880278</td>\n",
       "    </tr>\n",
       "    <tr>\n",
       "      <th>sum_1_lag2</th>\n",
       "      <td>95.8964966823</td>\n",
       "      <td>63.3185974931</td>\n",
       "      <td>nan</td>\n",
       "      <td>141.0969083815</td>\n",
       "      <td>103.9631344917</td>\n",
       "    </tr>\n",
       "  </tbody>\n",
       "</table>\n",
       "<p>120 rows × 5 columns</p>\n",
       "</div>"
      ],
      "text/plain": [
       "                C_ID_00007093c1  C_ID_0001238066  C_ID_0001506ef0  \\\n",
       "ratio_1_lag-12              nan              nan     2.1933054913   \n",
       "sum_2_lag-12                nan              nan    22.7978406080   \n",
       "ratio_2_lag-12              nan              nan              nan   \n",
       "sum_3_lag-12                nan              nan              nan   \n",
       "ratio_3_lag-12              nan              nan              nan   \n",
       "sum_4_lag-12                nan              nan              nan   \n",
       "ratio_4_lag-12              nan              nan              nan   \n",
       "sum_1_lag-12      44.2637050280              nan    15.6585798420   \n",
       "ratio_1_lag-11     1.5435619053              nan    12.2231728986   \n",
       "sum_2_lag-11     112.5874738950              nan   207.0561085971   \n",
       "ratio_2_lag-11              nan              nan     9.0822684550   \n",
       "sum_3_lag-11                nan              nan   214.1953693631   \n",
       "ratio_3_lag-11              nan              nan              nan   \n",
       "sum_4_lag-11                nan              nan              nan   \n",
       "ratio_4_lag-11              nan              nan              nan   \n",
       "sum_1_lag-11      68.3237688669              nan   191.3975287551   \n",
       "ratio_1_lag-10     0.6478522154              nan              nan   \n",
       "sum_2_lag-10     112.5874738950              nan              nan   \n",
       "ratio_2_lag-10     1.0000000000              nan              nan   \n",
       "sum_3_lag-10     156.8511789230              nan              nan   \n",
       "ratio_3_lag-10              nan              nan              nan   \n",
       "sum_4_lag-10                nan              nan              nan   \n",
       "ratio_4_lag-10              nan              nan              nan   \n",
       "sum_1_lag-10      44.2637050280              nan              nan   \n",
       "ratio_1_lag-9      0.6606944497              nan     0.1259988490   \n",
       "sum_2_lag-9       73.5084892639              nan   215.5133970775   \n",
       "ratio_2_lag-9      0.6529011330              nan     1.0408453947   \n",
       "sum_3_lag-9      141.8322581308              nan   231.1719769194   \n",
       "ratio_3_lag-9      0.9042473197              nan     1.0792575844   \n",
       "sum_4_lag-9      186.0959631588              nan   238.3112376855   \n",
       "...                         ...              ...              ...   \n",
       "ratio_2_lag-1      0.6071527218     2.9939280248     1.0000000000   \n",
       "sum_3_lag-1      407.8392258056   512.7125947837   257.3527939309   \n",
       "ratio_3_lag-1      1.0356452163     2.3292853499     1.0000000000   \n",
       "sum_4_lag-1      462.1258348430   586.0845405049   343.1370585745   \n",
       "ratio_4_lag-1      0.9725294262     1.9969640124     1.0000000000   \n",
       "sum_1_lag-1       68.3237688669   365.9687033413    85.7842646436   \n",
       "ratio_1_lag0       2.9521423567     0.2004869407     1.0000000000   \n",
       "sum_2_lag0       270.0252609053   439.3406490625   171.5685292873   \n",
       "ratio_2_lag0       1.3099264068     1.0000000000     1.0000000000   \n",
       "sum_3_lag0       407.8392258056   512.7125947837   257.3527939309   \n",
       "ratio_3_lag0       1.0000000000     1.0000000000     1.0000000000   \n",
       "sum_4_lag0       609.5407178440   586.0845405049   343.1370585745   \n",
       "ratio_4_lag0       1.3189929493     1.0000000000     1.0000000000   \n",
       "sum_1_lag0       201.7014920384    73.3719457212    85.7842646436   \n",
       "ratio_1_lag1                nan     1.3755865982     0.1496256134   \n",
       "sum_2_lag1                  nan   174.3014109415    98.6197878642   \n",
       "ratio_2_lag1                nan     0.3967340862     0.5748128067   \n",
       "sum_3_lag1                  nan   540.2701142828   184.4040525078   \n",
       "ratio_3_lag1                nan     1.0537484739     0.7165418711   \n",
       "sum_4_lag1                  nan   613.6420600040   270.1883171515   \n",
       "ratio_4_lag1                nan     1.0470197004     0.7874064034   \n",
       "sum_1_lag1                  nan   100.9294652203    12.8355232206   \n",
       "ratio_1_lag2       0.4754377160     0.6273549291              nan   \n",
       "sum_2_lag2       297.5979887207   164.2480627134              nan   \n",
       "ratio_2_lag2       1.1021116607     0.9423220491              nan   \n",
       "sum_3_lag2       365.9217575876   237.6200084346              nan   \n",
       "ratio_3_lag2       0.8972206066     0.4398170511              nan   \n",
       "sum_4_lag2       503.7357224879   603.5887117759              nan   \n",
       "ratio_4_lag2       0.8264184947     0.9836169179              nan   \n",
       "sum_1_lag2        95.8964966823    63.3185974931              nan   \n",
       "\n",
       "                C_ID_0001793786  C_ID_000183fdda  \n",
       "ratio_1_lag-12              nan              nan  \n",
       "sum_2_lag-12                nan              nan  \n",
       "ratio_2_lag-12              nan              nan  \n",
       "sum_3_lag-12                nan              nan  \n",
       "ratio_3_lag-12              nan              nan  \n",
       "sum_4_lag-12                nan              nan  \n",
       "ratio_4_lag-12              nan              nan  \n",
       "sum_1_lag-12                nan              nan  \n",
       "ratio_1_lag-11              nan              nan  \n",
       "sum_2_lag-11                nan              nan  \n",
       "ratio_2_lag-11              nan              nan  \n",
       "sum_3_lag-11                nan              nan  \n",
       "ratio_3_lag-11              nan              nan  \n",
       "sum_4_lag-11                nan              nan  \n",
       "ratio_4_lag-11              nan              nan  \n",
       "sum_1_lag-11                nan              nan  \n",
       "ratio_1_lag-10              nan              nan  \n",
       "sum_2_lag-10                nan              nan  \n",
       "ratio_2_lag-10              nan              nan  \n",
       "sum_3_lag-10                nan              nan  \n",
       "ratio_3_lag-10              nan              nan  \n",
       "sum_4_lag-10                nan              nan  \n",
       "ratio_4_lag-10              nan              nan  \n",
       "sum_1_lag-10                nan              nan  \n",
       "ratio_1_lag-9               nan              nan  \n",
       "sum_2_lag-9                 nan              nan  \n",
       "ratio_2_lag-9               nan              nan  \n",
       "sum_3_lag-9                 nan              nan  \n",
       "ratio_3_lag-9               nan              nan  \n",
       "sum_4_lag-9                 nan              nan  \n",
       "...                         ...              ...  \n",
       "ratio_2_lag-1      1.2146753501     0.7820071133  \n",
       "sum_3_lag-1      518.8750569173   948.3092440168  \n",
       "ratio_3_lag-1      1.6927871707     1.2746917116  \n",
       "sum_4_lag-1      549.4450106380  1032.9377521610  \n",
       "ratio_4_lag-1      1.3271359604     0.8939008283  \n",
       "sum_1_lag-1      242.9238685224   288.9859123434  \n",
       "ratio_1_lag0       0.5488656612     0.1710135377  \n",
       "sum_2_lag0       376.2564382422   338.4064155720  \n",
       "ratio_2_lag0       1.1225131905     0.6563408571  \n",
       "sum_3_lag0       468.5236761049   565.0160385878  \n",
       "ratio_3_lag0       0.9029604909     0.5958141209  \n",
       "sum_4_lag0       652.2076266371   997.7297472453  \n",
       "ratio_4_lag0       1.1870298465     0.9659146886  \n",
       "sum_1_lag0       133.3325697198    49.4205032286  \n",
       "ratio_1_lag1       1.0864713108     0.7555158640  \n",
       "sum_2_lag1       278.1945815108    86.7584774248  \n",
       "ratio_2_lag1       0.7393749402     0.2563736189  \n",
       "sum_3_lag1       521.1184500332   375.7443897682  \n",
       "ratio_3_lag1       1.1122563845     0.6650154405  \n",
       "sum_4_lag1       613.3856878958   602.3540127840  \n",
       "ratio_4_lag1       0.9404761043     0.6037246203  \n",
       "sum_1_lag1       144.8620117910    37.3379741962  \n",
       "ratio_1_lag2       0.9740090355     2.7843806936  \n",
       "sum_2_lag2       285.9589201725   141.3011086878  \n",
       "ratio_2_lag2       1.0279097408     1.6286720662  \n",
       "sum_3_lag2       419.2914898923   190.7216119164  \n",
       "ratio_3_lag2       0.8045992036     0.5075833921  \n",
       "sum_4_lag2       662.2153584147   479.7075242599  \n",
       "ratio_4_lag2       1.0796067979     0.7963880278  \n",
       "sum_1_lag2       141.0969083815   103.9631344917  \n",
       "\n",
       "[120 rows x 5 columns]"
      ]
     },
     "execution_count": 79,
     "metadata": {},
     "output_type": "execute_result"
    }
   ],
   "source": [
    "features_df.head().T"
   ]
  }
 ],
 "metadata": {
  "kernelspec": {
   "display_name": "Python 3",
   "language": "python",
   "name": "python3"
  },
  "language_info": {
   "codemirror_mode": {
    "name": "ipython",
    "version": 3
   },
   "file_extension": ".py",
   "mimetype": "text/x-python",
   "name": "python",
   "nbconvert_exporter": "python",
   "pygments_lexer": "ipython3",
   "version": "3.6.6"
  },
  "toc": {
   "base_numbering": 1,
   "nav_menu": {},
   "number_sections": true,
   "sideBar": true,
   "skip_h1_title": false,
   "title_cell": "Table of Contents",
   "title_sidebar": "Contents",
   "toc_cell": false,
   "toc_position": {},
   "toc_section_display": true,
   "toc_window_display": true
  },
  "varInspector": {
   "cols": {
    "lenName": 16,
    "lenType": 16,
    "lenVar": 40
   },
   "kernels_config": {
    "python": {
     "delete_cmd_postfix": "",
     "delete_cmd_prefix": "del ",
     "library": "var_list.py",
     "varRefreshCmd": "print(var_dic_list())"
    },
    "r": {
     "delete_cmd_postfix": ") ",
     "delete_cmd_prefix": "rm(",
     "library": "var_list.r",
     "varRefreshCmd": "cat(var_dic_list()) "
    }
   },
   "oldHeight": 328.965,
   "position": {
    "height": "351.465px",
    "left": "550.723px",
    "right": "20px",
    "top": "62.9492px",
    "width": "733.477px"
   },
   "types_to_exclude": [
    "module",
    "function",
    "builtin_function_or_method",
    "instance",
    "_Feature"
   ],
   "varInspector_section_display": "block",
   "window_display": false
  }
 },
 "nbformat": 4,
 "nbformat_minor": 2
}
