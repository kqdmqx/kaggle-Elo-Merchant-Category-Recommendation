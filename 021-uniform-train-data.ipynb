{
 "cells": [
  {
   "cell_type": "code",
   "execution_count": 3,
   "metadata": {
    "ExecuteTime": {
     "end_time": "2019-02-18T02:54:30.487578Z",
     "start_time": "2019-02-18T02:54:30.484568Z"
    }
   },
   "outputs": [],
   "source": [
    "from data_io import load_train\n",
    "import pandas as pd"
   ]
  },
  {
   "cell_type": "code",
   "execution_count": 4,
   "metadata": {
    "ExecuteTime": {
     "end_time": "2019-02-18T02:54:44.109756Z",
     "start_time": "2019-02-18T02:54:44.044581Z"
    }
   },
   "outputs": [],
   "source": [
    "train = load_train()"
   ]
  },
  {
   "cell_type": "code",
   "execution_count": 5,
   "metadata": {
    "ExecuteTime": {
     "end_time": "2019-02-18T02:56:06.799788Z",
     "start_time": "2019-02-18T02:56:04.826319Z"
    }
   },
   "outputs": [],
   "source": [
    "train['rounded_target'] = train['target'].round(0)\n",
    "train = train.sort_values('rounded_target').reset_index(drop=True)\n",
    "vc = train['rounded_target'].value_counts()\n",
    "vc = dict(sorted(vc.items()))\n",
    "df = pd.DataFrame()\n",
    "train['indexcol'],i = 0,1\n",
    "for k,v in vc.items():\n",
    "    step = train.shape[0]/v\n",
    "    indent = train.shape[0]/(v+1)\n",
    "    df2 = train[train['rounded_target'] == k].sample(v, random_state=120).reset_index(drop=True)\n",
    "    for j in range(0, v):\n",
    "        df2.at[j, 'indexcol'] = indent + j*step + 0.000001*i\n",
    "    df = pd.concat([df2,df])\n",
    "    i+=1\n",
    "\n",
    "train = df.sort_values('indexcol', ascending=True).reset_index(drop=True)\n",
    "del train['indexcol'], train['rounded_target']"
   ]
  },
  {
   "cell_type": "code",
   "execution_count": 6,
   "metadata": {
    "ExecuteTime": {
     "end_time": "2019-02-18T02:56:16.454690Z",
     "start_time": "2019-02-18T02:56:16.429106Z"
    }
   },
   "outputs": [
    {
     "data": {
      "text/html": [
       "<div>\n",
       "<style scoped>\n",
       "    .dataframe tbody tr th:only-of-type {\n",
       "        vertical-align: middle;\n",
       "    }\n",
       "\n",
       "    .dataframe tbody tr th {\n",
       "        vertical-align: top;\n",
       "    }\n",
       "\n",
       "    .dataframe thead th {\n",
       "        text-align: right;\n",
       "    }\n",
       "</style>\n",
       "<table border=\"1\" class=\"dataframe\">\n",
       "  <thead>\n",
       "    <tr style=\"text-align: right;\">\n",
       "      <th></th>\n",
       "      <th>feature_1</th>\n",
       "      <th>feature_2</th>\n",
       "      <th>feature_3</th>\n",
       "      <th>target</th>\n",
       "      <th>first_active_month</th>\n",
       "      <th>card_id</th>\n",
       "      <th>rounded_target</th>\n",
       "      <th>indexcol</th>\n",
       "    </tr>\n",
       "  </thead>\n",
       "  <tbody>\n",
       "    <tr>\n",
       "      <th>0</th>\n",
       "      <td>5.0</td>\n",
       "      <td>1.0</td>\n",
       "      <td>1.0</td>\n",
       "      <td>17.965069</td>\n",
       "      <td>2017-05</td>\n",
       "      <td>C_ID_a4e600deef</td>\n",
       "      <td>18.0</td>\n",
       "      <td>67305</td>\n",
       "    </tr>\n",
       "    <tr>\n",
       "      <th>1</th>\n",
       "      <td>5.0</td>\n",
       "      <td>1.0</td>\n",
       "      <td>1.0</td>\n",
       "      <td>17.675716</td>\n",
       "      <td>2017-01</td>\n",
       "      <td>C_ID_1c8a5b9d44</td>\n",
       "      <td>18.0</td>\n",
       "      <td>168264</td>\n",
       "    </tr>\n",
       "    <tr>\n",
       "      <th>0</th>\n",
       "      <td>3.0</td>\n",
       "      <td>2.0</td>\n",
       "      <td>1.0</td>\n",
       "      <td>15.606405</td>\n",
       "      <td>2017-05</td>\n",
       "      <td>C_ID_700c15a07d</td>\n",
       "      <td>16.0</td>\n",
       "      <td>67305</td>\n",
       "    </tr>\n",
       "    <tr>\n",
       "      <th>1</th>\n",
       "      <td>5.0</td>\n",
       "      <td>1.0</td>\n",
       "      <td>1.0</td>\n",
       "      <td>15.994455</td>\n",
       "      <td>2017-02</td>\n",
       "      <td>C_ID_b0f1d28bd3</td>\n",
       "      <td>16.0</td>\n",
       "      <td>168264</td>\n",
       "    </tr>\n",
       "    <tr>\n",
       "      <th>0</th>\n",
       "      <td>5.0</td>\n",
       "      <td>2.0</td>\n",
       "      <td>1.0</td>\n",
       "      <td>15.294621</td>\n",
       "      <td>2016-11</td>\n",
       "      <td>C_ID_ecc4e2e188</td>\n",
       "      <td>15.0</td>\n",
       "      <td>40383</td>\n",
       "    </tr>\n",
       "  </tbody>\n",
       "</table>\n",
       "</div>"
      ],
      "text/plain": [
       "   feature_1  feature_2  feature_3     target first_active_month  \\\n",
       "0        5.0        1.0        1.0  17.965069            2017-05   \n",
       "1        5.0        1.0        1.0  17.675716            2017-01   \n",
       "0        3.0        2.0        1.0  15.606405            2017-05   \n",
       "1        5.0        1.0        1.0  15.994455            2017-02   \n",
       "0        5.0        2.0        1.0  15.294621            2016-11   \n",
       "\n",
       "           card_id  rounded_target  indexcol  \n",
       "0  C_ID_a4e600deef            18.0     67305  \n",
       "1  C_ID_1c8a5b9d44            18.0    168264  \n",
       "0  C_ID_700c15a07d            16.0     67305  \n",
       "1  C_ID_b0f1d28bd3            16.0    168264  \n",
       "0  C_ID_ecc4e2e188            15.0     40383  "
      ]
     },
     "execution_count": 6,
     "metadata": {},
     "output_type": "execute_result"
    }
   ],
   "source": [
    "df.head()"
   ]
  },
  {
   "cell_type": "code",
   "execution_count": null,
   "metadata": {},
   "outputs": [],
   "source": []
  }
 ],
 "metadata": {
  "kernelspec": {
   "display_name": "Python 3",
   "language": "python",
   "name": "python3"
  },
  "language_info": {
   "codemirror_mode": {
    "name": "ipython",
    "version": 3
   },
   "file_extension": ".py",
   "mimetype": "text/x-python",
   "name": "python",
   "nbconvert_exporter": "python",
   "pygments_lexer": "ipython3",
   "version": "3.6.6"
  },
  "toc": {
   "base_numbering": 1,
   "nav_menu": {},
   "number_sections": true,
   "sideBar": true,
   "skip_h1_title": false,
   "title_cell": "Table of Contents",
   "title_sidebar": "Contents",
   "toc_cell": false,
   "toc_position": {},
   "toc_section_display": true,
   "toc_window_display": false
  },
  "varInspector": {
   "cols": {
    "lenName": 16,
    "lenType": 16,
    "lenVar": 40
   },
   "kernels_config": {
    "python": {
     "delete_cmd_postfix": "",
     "delete_cmd_prefix": "del ",
     "library": "var_list.py",
     "varRefreshCmd": "print(var_dic_list())"
    },
    "r": {
     "delete_cmd_postfix": ") ",
     "delete_cmd_prefix": "rm(",
     "library": "var_list.r",
     "varRefreshCmd": "cat(var_dic_list()) "
    }
   },
   "types_to_exclude": [
    "module",
    "function",
    "builtin_function_or_method",
    "instance",
    "_Feature"
   ],
   "window_display": false
  }
 },
 "nbformat": 4,
 "nbformat_minor": 2
}
