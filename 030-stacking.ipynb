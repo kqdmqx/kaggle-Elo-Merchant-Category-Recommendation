{
 "cells": [
  {
   "cell_type": "code",
   "execution_count": 1,
   "metadata": {
    "ExecuteTime": {
     "end_time": "2019-02-19T12:12:35.700712Z",
     "start_time": "2019-02-19T12:12:34.840355Z"
    }
   },
   "outputs": [],
   "source": [
    "from data_io import load_oof, load_submission\n",
    "from data_io import load_train_test_stacking"
   ]
  },
  {
   "cell_type": "markdown",
   "metadata": {},
   "source": [
    "# load"
   ]
  },
  {
   "cell_type": "code",
   "execution_count": 2,
   "metadata": {
    "ExecuteTime": {
     "end_time": "2019-02-19T12:12:35.761844Z",
     "start_time": "2019-02-19T12:12:35.703650Z"
    }
   },
   "outputs": [],
   "source": [
    "oof = load_oof(\"lgb024_dart\").set_index(\"card_id\")"
   ]
  },
  {
   "cell_type": "code",
   "execution_count": 3,
   "metadata": {
    "ExecuteTime": {
     "end_time": "2019-02-19T12:12:35.919227Z",
     "start_time": "2019-02-19T12:12:35.763809Z"
    }
   },
   "outputs": [
    {
     "data": {
      "text/html": [
       "<div>\n",
       "<style scoped>\n",
       "    .dataframe tbody tr th:only-of-type {\n",
       "        vertical-align: middle;\n",
       "    }\n",
       "\n",
       "    .dataframe tbody tr th {\n",
       "        vertical-align: top;\n",
       "    }\n",
       "\n",
       "    .dataframe thead th {\n",
       "        text-align: right;\n",
       "    }\n",
       "</style>\n",
       "<table border=\"1\" class=\"dataframe\">\n",
       "  <thead>\n",
       "    <tr style=\"text-align: right;\">\n",
       "      <th></th>\n",
       "      <th>card_id</th>\n",
       "      <th>target</th>\n",
       "    </tr>\n",
       "  </thead>\n",
       "  <tbody>\n",
       "    <tr>\n",
       "      <th>0</th>\n",
       "      <td>C_ID_0ab67a22ab</td>\n",
       "      <td>-2.734000</td>\n",
       "    </tr>\n",
       "    <tr>\n",
       "      <th>1</th>\n",
       "      <td>C_ID_130fd0cbdd</td>\n",
       "      <td>-0.201564</td>\n",
       "    </tr>\n",
       "    <tr>\n",
       "      <th>2</th>\n",
       "      <td>C_ID_b709037bc5</td>\n",
       "      <td>-0.981357</td>\n",
       "    </tr>\n",
       "    <tr>\n",
       "      <th>3</th>\n",
       "      <td>C_ID_d27d835a9f</td>\n",
       "      <td>-0.212500</td>\n",
       "    </tr>\n",
       "    <tr>\n",
       "      <th>4</th>\n",
       "      <td>C_ID_2b5e3df5c2</td>\n",
       "      <td>-1.011968</td>\n",
       "    </tr>\n",
       "    <tr>\n",
       "      <th>5</th>\n",
       "      <td>C_ID_5814b4f13c</td>\n",
       "      <td>0.549670</td>\n",
       "    </tr>\n",
       "    <tr>\n",
       "      <th>6</th>\n",
       "      <td>C_ID_a1b3c75277</td>\n",
       "      <td>0.168467</td>\n",
       "    </tr>\n",
       "    <tr>\n",
       "      <th>7</th>\n",
       "      <td>C_ID_f7cada36d3</td>\n",
       "      <td>-0.022876</td>\n",
       "    </tr>\n",
       "    <tr>\n",
       "      <th>8</th>\n",
       "      <td>C_ID_9d2bc8dfc4</td>\n",
       "      <td>-0.766517</td>\n",
       "    </tr>\n",
       "    <tr>\n",
       "      <th>9</th>\n",
       "      <td>C_ID_6d8dba8475</td>\n",
       "      <td>-1.116459</td>\n",
       "    </tr>\n",
       "    <tr>\n",
       "      <th>10</th>\n",
       "      <td>C_ID_4859ac9ed5</td>\n",
       "      <td>-0.775827</td>\n",
       "    </tr>\n",
       "    <tr>\n",
       "      <th>11</th>\n",
       "      <td>C_ID_0e281e8ad6</td>\n",
       "      <td>0.105376</td>\n",
       "    </tr>\n",
       "    <tr>\n",
       "      <th>12</th>\n",
       "      <td>C_ID_8375dfdaa2</td>\n",
       "      <td>0.188470</td>\n",
       "    </tr>\n",
       "    <tr>\n",
       "      <th>13</th>\n",
       "      <td>C_ID_79d149c008</td>\n",
       "      <td>0.231668</td>\n",
       "    </tr>\n",
       "    <tr>\n",
       "      <th>14</th>\n",
       "      <td>C_ID_7f1041e8e1</td>\n",
       "      <td>-6.524980</td>\n",
       "    </tr>\n",
       "    <tr>\n",
       "      <th>15</th>\n",
       "      <td>C_ID_f72513589e</td>\n",
       "      <td>0.556677</td>\n",
       "    </tr>\n",
       "    <tr>\n",
       "      <th>16</th>\n",
       "      <td>C_ID_a7f2d6984e</td>\n",
       "      <td>0.491949</td>\n",
       "    </tr>\n",
       "    <tr>\n",
       "      <th>17</th>\n",
       "      <td>C_ID_15489b42d3</td>\n",
       "      <td>-0.087900</td>\n",
       "    </tr>\n",
       "    <tr>\n",
       "      <th>18</th>\n",
       "      <td>C_ID_e457bbd71d</td>\n",
       "      <td>-0.004588</td>\n",
       "    </tr>\n",
       "    <tr>\n",
       "      <th>19</th>\n",
       "      <td>C_ID_3f74e10c7e</td>\n",
       "      <td>-0.320689</td>\n",
       "    </tr>\n",
       "    <tr>\n",
       "      <th>20</th>\n",
       "      <td>C_ID_48243da9c4</td>\n",
       "      <td>0.111592</td>\n",
       "    </tr>\n",
       "    <tr>\n",
       "      <th>21</th>\n",
       "      <td>C_ID_7ea1fcf117</td>\n",
       "      <td>-0.823192</td>\n",
       "    </tr>\n",
       "    <tr>\n",
       "      <th>22</th>\n",
       "      <td>C_ID_22e4a47c72</td>\n",
       "      <td>-0.759344</td>\n",
       "    </tr>\n",
       "    <tr>\n",
       "      <th>23</th>\n",
       "      <td>C_ID_5d30729184</td>\n",
       "      <td>0.125648</td>\n",
       "    </tr>\n",
       "    <tr>\n",
       "      <th>24</th>\n",
       "      <td>C_ID_b54cfad8b2</td>\n",
       "      <td>-1.555566</td>\n",
       "    </tr>\n",
       "    <tr>\n",
       "      <th>25</th>\n",
       "      <td>C_ID_4b82e26faa</td>\n",
       "      <td>0.112823</td>\n",
       "    </tr>\n",
       "    <tr>\n",
       "      <th>26</th>\n",
       "      <td>C_ID_60a453531a</td>\n",
       "      <td>-1.039473</td>\n",
       "    </tr>\n",
       "    <tr>\n",
       "      <th>27</th>\n",
       "      <td>C_ID_0c9315feec</td>\n",
       "      <td>-0.389832</td>\n",
       "    </tr>\n",
       "    <tr>\n",
       "      <th>28</th>\n",
       "      <td>C_ID_1e28804d36</td>\n",
       "      <td>0.072389</td>\n",
       "    </tr>\n",
       "    <tr>\n",
       "      <th>29</th>\n",
       "      <td>C_ID_68de79f7e2</td>\n",
       "      <td>-0.582405</td>\n",
       "    </tr>\n",
       "    <tr>\n",
       "      <th>...</th>\n",
       "      <td>...</td>\n",
       "      <td>...</td>\n",
       "    </tr>\n",
       "    <tr>\n",
       "      <th>123593</th>\n",
       "      <td>C_ID_cd42a5db89</td>\n",
       "      <td>-0.131814</td>\n",
       "    </tr>\n",
       "    <tr>\n",
       "      <th>123594</th>\n",
       "      <td>C_ID_715b9a183d</td>\n",
       "      <td>-0.972915</td>\n",
       "    </tr>\n",
       "    <tr>\n",
       "      <th>123595</th>\n",
       "      <td>C_ID_9b25df3309</td>\n",
       "      <td>-0.203906</td>\n",
       "    </tr>\n",
       "    <tr>\n",
       "      <th>123596</th>\n",
       "      <td>C_ID_043b3c2ccd</td>\n",
       "      <td>0.610275</td>\n",
       "    </tr>\n",
       "    <tr>\n",
       "      <th>123597</th>\n",
       "      <td>C_ID_7685eae7b2</td>\n",
       "      <td>-0.480564</td>\n",
       "    </tr>\n",
       "    <tr>\n",
       "      <th>123598</th>\n",
       "      <td>C_ID_7ee1a21a95</td>\n",
       "      <td>-0.434743</td>\n",
       "    </tr>\n",
       "    <tr>\n",
       "      <th>123599</th>\n",
       "      <td>C_ID_2bf12fed6b</td>\n",
       "      <td>0.410703</td>\n",
       "    </tr>\n",
       "    <tr>\n",
       "      <th>123600</th>\n",
       "      <td>C_ID_2932a6ea37</td>\n",
       "      <td>-1.968269</td>\n",
       "    </tr>\n",
       "    <tr>\n",
       "      <th>123601</th>\n",
       "      <td>C_ID_cc33d0d508</td>\n",
       "      <td>-1.715813</td>\n",
       "    </tr>\n",
       "    <tr>\n",
       "      <th>123602</th>\n",
       "      <td>C_ID_8852708dcb</td>\n",
       "      <td>-0.359692</td>\n",
       "    </tr>\n",
       "    <tr>\n",
       "      <th>123603</th>\n",
       "      <td>C_ID_c3e88ef62d</td>\n",
       "      <td>-0.030480</td>\n",
       "    </tr>\n",
       "    <tr>\n",
       "      <th>123604</th>\n",
       "      <td>C_ID_650557248c</td>\n",
       "      <td>0.535072</td>\n",
       "    </tr>\n",
       "    <tr>\n",
       "      <th>123605</th>\n",
       "      <td>C_ID_f14af9cb56</td>\n",
       "      <td>-0.862360</td>\n",
       "    </tr>\n",
       "    <tr>\n",
       "      <th>123606</th>\n",
       "      <td>C_ID_068dcf31e8</td>\n",
       "      <td>-0.166040</td>\n",
       "    </tr>\n",
       "    <tr>\n",
       "      <th>123607</th>\n",
       "      <td>C_ID_6659f4625a</td>\n",
       "      <td>0.830527</td>\n",
       "    </tr>\n",
       "    <tr>\n",
       "      <th>123608</th>\n",
       "      <td>C_ID_dc842bba27</td>\n",
       "      <td>-0.331201</td>\n",
       "    </tr>\n",
       "    <tr>\n",
       "      <th>123609</th>\n",
       "      <td>C_ID_bd625edce0</td>\n",
       "      <td>0.096393</td>\n",
       "    </tr>\n",
       "    <tr>\n",
       "      <th>123610</th>\n",
       "      <td>C_ID_278446cc2f</td>\n",
       "      <td>0.067083</td>\n",
       "    </tr>\n",
       "    <tr>\n",
       "      <th>123611</th>\n",
       "      <td>C_ID_ad358eb92e</td>\n",
       "      <td>-1.559627</td>\n",
       "    </tr>\n",
       "    <tr>\n",
       "      <th>123612</th>\n",
       "      <td>C_ID_7d9bcec574</td>\n",
       "      <td>-0.541777</td>\n",
       "    </tr>\n",
       "    <tr>\n",
       "      <th>123613</th>\n",
       "      <td>C_ID_b588b35e15</td>\n",
       "      <td>0.080161</td>\n",
       "    </tr>\n",
       "    <tr>\n",
       "      <th>123614</th>\n",
       "      <td>C_ID_7147e348c3</td>\n",
       "      <td>0.559197</td>\n",
       "    </tr>\n",
       "    <tr>\n",
       "      <th>123615</th>\n",
       "      <td>C_ID_727d3ec5da</td>\n",
       "      <td>-1.108442</td>\n",
       "    </tr>\n",
       "    <tr>\n",
       "      <th>123616</th>\n",
       "      <td>C_ID_107d93e20c</td>\n",
       "      <td>1.263013</td>\n",
       "    </tr>\n",
       "    <tr>\n",
       "      <th>123617</th>\n",
       "      <td>C_ID_0e74bd4966</td>\n",
       "      <td>0.553888</td>\n",
       "    </tr>\n",
       "    <tr>\n",
       "      <th>123618</th>\n",
       "      <td>C_ID_7a239d2eda</td>\n",
       "      <td>0.975981</td>\n",
       "    </tr>\n",
       "    <tr>\n",
       "      <th>123619</th>\n",
       "      <td>C_ID_75ace375ae</td>\n",
       "      <td>-1.136869</td>\n",
       "    </tr>\n",
       "    <tr>\n",
       "      <th>123620</th>\n",
       "      <td>C_ID_21d56d950c</td>\n",
       "      <td>0.562026</td>\n",
       "    </tr>\n",
       "    <tr>\n",
       "      <th>123621</th>\n",
       "      <td>C_ID_6c46fc5a9d</td>\n",
       "      <td>-3.998009</td>\n",
       "    </tr>\n",
       "    <tr>\n",
       "      <th>123622</th>\n",
       "      <td>C_ID_87e7979a5f</td>\n",
       "      <td>-0.129621</td>\n",
       "    </tr>\n",
       "  </tbody>\n",
       "</table>\n",
       "<p>123623 rows × 2 columns</p>\n",
       "</div>"
      ],
      "text/plain": [
       "                card_id    target\n",
       "0       C_ID_0ab67a22ab -2.734000\n",
       "1       C_ID_130fd0cbdd -0.201564\n",
       "2       C_ID_b709037bc5 -0.981357\n",
       "3       C_ID_d27d835a9f -0.212500\n",
       "4       C_ID_2b5e3df5c2 -1.011968\n",
       "5       C_ID_5814b4f13c  0.549670\n",
       "6       C_ID_a1b3c75277  0.168467\n",
       "7       C_ID_f7cada36d3 -0.022876\n",
       "8       C_ID_9d2bc8dfc4 -0.766517\n",
       "9       C_ID_6d8dba8475 -1.116459\n",
       "10      C_ID_4859ac9ed5 -0.775827\n",
       "11      C_ID_0e281e8ad6  0.105376\n",
       "12      C_ID_8375dfdaa2  0.188470\n",
       "13      C_ID_79d149c008  0.231668\n",
       "14      C_ID_7f1041e8e1 -6.524980\n",
       "15      C_ID_f72513589e  0.556677\n",
       "16      C_ID_a7f2d6984e  0.491949\n",
       "17      C_ID_15489b42d3 -0.087900\n",
       "18      C_ID_e457bbd71d -0.004588\n",
       "19      C_ID_3f74e10c7e -0.320689\n",
       "20      C_ID_48243da9c4  0.111592\n",
       "21      C_ID_7ea1fcf117 -0.823192\n",
       "22      C_ID_22e4a47c72 -0.759344\n",
       "23      C_ID_5d30729184  0.125648\n",
       "24      C_ID_b54cfad8b2 -1.555566\n",
       "25      C_ID_4b82e26faa  0.112823\n",
       "26      C_ID_60a453531a -1.039473\n",
       "27      C_ID_0c9315feec -0.389832\n",
       "28      C_ID_1e28804d36  0.072389\n",
       "29      C_ID_68de79f7e2 -0.582405\n",
       "...                 ...       ...\n",
       "123593  C_ID_cd42a5db89 -0.131814\n",
       "123594  C_ID_715b9a183d -0.972915\n",
       "123595  C_ID_9b25df3309 -0.203906\n",
       "123596  C_ID_043b3c2ccd  0.610275\n",
       "123597  C_ID_7685eae7b2 -0.480564\n",
       "123598  C_ID_7ee1a21a95 -0.434743\n",
       "123599  C_ID_2bf12fed6b  0.410703\n",
       "123600  C_ID_2932a6ea37 -1.968269\n",
       "123601  C_ID_cc33d0d508 -1.715813\n",
       "123602  C_ID_8852708dcb -0.359692\n",
       "123603  C_ID_c3e88ef62d -0.030480\n",
       "123604  C_ID_650557248c  0.535072\n",
       "123605  C_ID_f14af9cb56 -0.862360\n",
       "123606  C_ID_068dcf31e8 -0.166040\n",
       "123607  C_ID_6659f4625a  0.830527\n",
       "123608  C_ID_dc842bba27 -0.331201\n",
       "123609  C_ID_bd625edce0  0.096393\n",
       "123610  C_ID_278446cc2f  0.067083\n",
       "123611  C_ID_ad358eb92e -1.559627\n",
       "123612  C_ID_7d9bcec574 -0.541777\n",
       "123613  C_ID_b588b35e15  0.080161\n",
       "123614  C_ID_7147e348c3  0.559197\n",
       "123615  C_ID_727d3ec5da -1.108442\n",
       "123616  C_ID_107d93e20c  1.263013\n",
       "123617  C_ID_0e74bd4966  0.553888\n",
       "123618  C_ID_7a239d2eda  0.975981\n",
       "123619  C_ID_75ace375ae -1.136869\n",
       "123620  C_ID_21d56d950c  0.562026\n",
       "123621  C_ID_6c46fc5a9d -3.998009\n",
       "123622  C_ID_87e7979a5f -0.129621\n",
       "\n",
       "[123623 rows x 2 columns]"
      ]
     },
     "execution_count": 3,
     "metadata": {},
     "output_type": "execute_result"
    }
   ],
   "source": [
    "load_submission(\"xgb028\")"
   ]
  },
  {
   "cell_type": "code",
   "execution_count": 4,
   "metadata": {
    "ExecuteTime": {
     "end_time": "2019-02-19T12:12:35.939275Z",
     "start_time": "2019-02-19T12:12:35.922255Z"
    },
    "scrolled": false
   },
   "outputs": [
    {
     "data": {
      "text/html": [
       "<div>\n",
       "<style scoped>\n",
       "    .dataframe tbody tr th:only-of-type {\n",
       "        vertical-align: middle;\n",
       "    }\n",
       "\n",
       "    .dataframe tbody tr th {\n",
       "        vertical-align: top;\n",
       "    }\n",
       "\n",
       "    .dataframe thead th {\n",
       "        text-align: right;\n",
       "    }\n",
       "</style>\n",
       "<table border=\"1\" class=\"dataframe\">\n",
       "  <thead>\n",
       "    <tr style=\"text-align: right;\">\n",
       "      <th></th>\n",
       "      <th>lgb024_dart</th>\n",
       "      <th>target</th>\n",
       "    </tr>\n",
       "    <tr>\n",
       "      <th>card_id</th>\n",
       "      <th></th>\n",
       "      <th></th>\n",
       "    </tr>\n",
       "  </thead>\n",
       "  <tbody>\n",
       "    <tr>\n",
       "      <th>C_ID_176ecc65bd</th>\n",
       "      <td>-0.438831</td>\n",
       "      <td>-0.279039</td>\n",
       "    </tr>\n",
       "    <tr>\n",
       "      <th>C_ID_6082929d3a</th>\n",
       "      <td>-0.254063</td>\n",
       "      <td>-0.926039</td>\n",
       "    </tr>\n",
       "    <tr>\n",
       "      <th>C_ID_a87bbd85a7</th>\n",
       "      <td>-0.273275</td>\n",
       "      <td>0.475326</td>\n",
       "    </tr>\n",
       "    <tr>\n",
       "      <th>C_ID_92e4809531</th>\n",
       "      <td>0.157242</td>\n",
       "      <td>0.516026</td>\n",
       "    </tr>\n",
       "    <tr>\n",
       "      <th>C_ID_d2dd6bbf9a</th>\n",
       "      <td>-0.275764</td>\n",
       "      <td>-0.100927</td>\n",
       "    </tr>\n",
       "    <tr>\n",
       "      <th>C_ID_16a3dfc83c</th>\n",
       "      <td>-0.115325</td>\n",
       "      <td>-0.681718</td>\n",
       "    </tr>\n",
       "    <tr>\n",
       "      <th>C_ID_b3ae137ddf</th>\n",
       "      <td>-0.052084</td>\n",
       "      <td>0.546810</td>\n",
       "    </tr>\n",
       "    <tr>\n",
       "      <th>C_ID_743bb702a4</th>\n",
       "      <td>-0.333162</td>\n",
       "      <td>0.203640</td>\n",
       "    </tr>\n",
       "    <tr>\n",
       "      <th>C_ID_87e896bba4</th>\n",
       "      <td>-0.508616</td>\n",
       "      <td>-2.432292</td>\n",
       "    </tr>\n",
       "    <tr>\n",
       "      <th>C_ID_2dc71faa04</th>\n",
       "      <td>-0.745498</td>\n",
       "      <td>1.529052</td>\n",
       "    </tr>\n",
       "    <tr>\n",
       "      <th>C_ID_7a7cca0c92</th>\n",
       "      <td>-1.707177</td>\n",
       "      <td>0.102337</td>\n",
       "    </tr>\n",
       "    <tr>\n",
       "      <th>C_ID_484a1cd9cd</th>\n",
       "      <td>-1.903498</td>\n",
       "      <td>-0.561442</td>\n",
       "    </tr>\n",
       "    <tr>\n",
       "      <th>C_ID_176b523fd6</th>\n",
       "      <td>-0.220768</td>\n",
       "      <td>1.053406</td>\n",
       "    </tr>\n",
       "    <tr>\n",
       "      <th>C_ID_ec47cfdcbc</th>\n",
       "      <td>0.240866</td>\n",
       "      <td>0.290713</td>\n",
       "    </tr>\n",
       "    <tr>\n",
       "      <th>C_ID_90cf4ff430</th>\n",
       "      <td>-1.123379</td>\n",
       "      <td>-0.380695</td>\n",
       "    </tr>\n",
       "    <tr>\n",
       "      <th>C_ID_f893099582</th>\n",
       "      <td>-1.584627</td>\n",
       "      <td>-0.534205</td>\n",
       "    </tr>\n",
       "    <tr>\n",
       "      <th>C_ID_02f638a471</th>\n",
       "      <td>0.543669</td>\n",
       "      <td>0.563330</td>\n",
       "    </tr>\n",
       "    <tr>\n",
       "      <th>C_ID_75fdd65579</th>\n",
       "      <td>-1.118957</td>\n",
       "      <td>-0.290514</td>\n",
       "    </tr>\n",
       "    <tr>\n",
       "      <th>C_ID_c3a1ac6bf6</th>\n",
       "      <td>-1.014799</td>\n",
       "      <td>-1.937963</td>\n",
       "    </tr>\n",
       "    <tr>\n",
       "      <th>C_ID_6830d255e2</th>\n",
       "      <td>0.576296</td>\n",
       "      <td>-0.943161</td>\n",
       "    </tr>\n",
       "    <tr>\n",
       "      <th>C_ID_40a55229b0</th>\n",
       "      <td>0.345877</td>\n",
       "      <td>0.423710</td>\n",
       "    </tr>\n",
       "    <tr>\n",
       "      <th>C_ID_da6bec1c1a</th>\n",
       "      <td>-0.334687</td>\n",
       "      <td>1.030497</td>\n",
       "    </tr>\n",
       "    <tr>\n",
       "      <th>C_ID_43d58e11f8</th>\n",
       "      <td>0.132651</td>\n",
       "      <td>1.789908</td>\n",
       "    </tr>\n",
       "    <tr>\n",
       "      <th>C_ID_5f628a29b5</th>\n",
       "      <td>-0.125264</td>\n",
       "      <td>-0.402808</td>\n",
       "    </tr>\n",
       "    <tr>\n",
       "      <th>C_ID_e56eb7980e</th>\n",
       "      <td>-0.271714</td>\n",
       "      <td>-3.491837</td>\n",
       "    </tr>\n",
       "    <tr>\n",
       "      <th>C_ID_f49aef0769</th>\n",
       "      <td>0.596954</td>\n",
       "      <td>-0.573491</td>\n",
       "    </tr>\n",
       "    <tr>\n",
       "      <th>C_ID_1b68118b2a</th>\n",
       "      <td>0.863663</td>\n",
       "      <td>3.481572</td>\n",
       "    </tr>\n",
       "    <tr>\n",
       "      <th>C_ID_9fb717bbc4</th>\n",
       "      <td>-4.659256</td>\n",
       "      <td>0.804648</td>\n",
       "    </tr>\n",
       "    <tr>\n",
       "      <th>C_ID_5b0e653508</th>\n",
       "      <td>-0.318287</td>\n",
       "      <td>-0.348762</td>\n",
       "    </tr>\n",
       "    <tr>\n",
       "      <th>C_ID_ef47a7e1c5</th>\n",
       "      <td>-0.212525</td>\n",
       "      <td>0.097101</td>\n",
       "    </tr>\n",
       "    <tr>\n",
       "      <th>...</th>\n",
       "      <td>...</td>\n",
       "      <td>...</td>\n",
       "    </tr>\n",
       "    <tr>\n",
       "      <th>C_ID_b7e811726e</th>\n",
       "      <td>0.523115</td>\n",
       "      <td>1.201697</td>\n",
       "    </tr>\n",
       "    <tr>\n",
       "      <th>C_ID_1e9885cfe9</th>\n",
       "      <td>0.012798</td>\n",
       "      <td>-1.087430</td>\n",
       "    </tr>\n",
       "    <tr>\n",
       "      <th>C_ID_0a0d5be0a9</th>\n",
       "      <td>-0.130939</td>\n",
       "      <td>0.368091</td>\n",
       "    </tr>\n",
       "    <tr>\n",
       "      <th>C_ID_ba3713323d</th>\n",
       "      <td>0.803009</td>\n",
       "      <td>2.085645</td>\n",
       "    </tr>\n",
       "    <tr>\n",
       "      <th>C_ID_81fbbb3464</th>\n",
       "      <td>0.310183</td>\n",
       "      <td>-1.706165</td>\n",
       "    </tr>\n",
       "    <tr>\n",
       "      <th>C_ID_81cafa7f9a</th>\n",
       "      <td>-0.629224</td>\n",
       "      <td>0.095587</td>\n",
       "    </tr>\n",
       "    <tr>\n",
       "      <th>C_ID_8e4f057d5d</th>\n",
       "      <td>-0.646599</td>\n",
       "      <td>-0.769755</td>\n",
       "    </tr>\n",
       "    <tr>\n",
       "      <th>C_ID_9206d1fe61</th>\n",
       "      <td>-0.835532</td>\n",
       "      <td>1.146132</td>\n",
       "    </tr>\n",
       "    <tr>\n",
       "      <th>C_ID_070052f6ee</th>\n",
       "      <td>-2.112839</td>\n",
       "      <td>-8.466406</td>\n",
       "    </tr>\n",
       "    <tr>\n",
       "      <th>C_ID_cd11df25c5</th>\n",
       "      <td>-0.123932</td>\n",
       "      <td>-0.179949</td>\n",
       "    </tr>\n",
       "    <tr>\n",
       "      <th>C_ID_042408bde3</th>\n",
       "      <td>-0.263931</td>\n",
       "      <td>1.356529</td>\n",
       "    </tr>\n",
       "    <tr>\n",
       "      <th>C_ID_7fa77428df</th>\n",
       "      <td>-0.708898</td>\n",
       "      <td>0.249002</td>\n",
       "    </tr>\n",
       "    <tr>\n",
       "      <th>C_ID_b701090576</th>\n",
       "      <td>0.087286</td>\n",
       "      <td>-0.670691</td>\n",
       "    </tr>\n",
       "    <tr>\n",
       "      <th>C_ID_8d085fba51</th>\n",
       "      <td>1.434743</td>\n",
       "      <td>6.809483</td>\n",
       "    </tr>\n",
       "    <tr>\n",
       "      <th>C_ID_7ad0dcc0e6</th>\n",
       "      <td>-2.069031</td>\n",
       "      <td>-6.849092</td>\n",
       "    </tr>\n",
       "    <tr>\n",
       "      <th>C_ID_347f3ef8ff</th>\n",
       "      <td>0.206073</td>\n",
       "      <td>0.144783</td>\n",
       "    </tr>\n",
       "    <tr>\n",
       "      <th>C_ID_0662d94081</th>\n",
       "      <td>0.061651</td>\n",
       "      <td>-3.161449</td>\n",
       "    </tr>\n",
       "    <tr>\n",
       "      <th>C_ID_910c39b0ca</th>\n",
       "      <td>-2.461665</td>\n",
       "      <td>-5.518401</td>\n",
       "    </tr>\n",
       "    <tr>\n",
       "      <th>C_ID_d8ce642874</th>\n",
       "      <td>0.900089</td>\n",
       "      <td>4.653203</td>\n",
       "    </tr>\n",
       "    <tr>\n",
       "      <th>C_ID_75aada5270</th>\n",
       "      <td>-0.014467</td>\n",
       "      <td>-0.769512</td>\n",
       "    </tr>\n",
       "    <tr>\n",
       "      <th>C_ID_479f6faf4d</th>\n",
       "      <td>0.056410</td>\n",
       "      <td>1.551314</td>\n",
       "    </tr>\n",
       "    <tr>\n",
       "      <th>C_ID_43800717da</th>\n",
       "      <td>-0.341982</td>\n",
       "      <td>1.008796</td>\n",
       "    </tr>\n",
       "    <tr>\n",
       "      <th>C_ID_6babbf9b00</th>\n",
       "      <td>-1.766010</td>\n",
       "      <td>-0.365077</td>\n",
       "    </tr>\n",
       "    <tr>\n",
       "      <th>C_ID_04a070dc0d</th>\n",
       "      <td>0.849556</td>\n",
       "      <td>4.449366</td>\n",
       "    </tr>\n",
       "    <tr>\n",
       "      <th>C_ID_fd8f848e64</th>\n",
       "      <td>-2.148529</td>\n",
       "      <td>-4.388302</td>\n",
       "    </tr>\n",
       "    <tr>\n",
       "      <th>C_ID_99af02c7a4</th>\n",
       "      <td>1.195104</td>\n",
       "      <td>5.764398</td>\n",
       "    </tr>\n",
       "    <tr>\n",
       "      <th>C_ID_63205953c5</th>\n",
       "      <td>-1.630597</td>\n",
       "      <td>-2.123049</td>\n",
       "    </tr>\n",
       "    <tr>\n",
       "      <th>C_ID_ca482a22be</th>\n",
       "      <td>1.158362</td>\n",
       "      <td>2.668018</td>\n",
       "    </tr>\n",
       "    <tr>\n",
       "      <th>C_ID_5d331268b1</th>\n",
       "      <td>-1.557651</td>\n",
       "      <td>-4.815788</td>\n",
       "    </tr>\n",
       "    <tr>\n",
       "      <th>C_ID_0673ceb43d</th>\n",
       "      <td>0.736478</td>\n",
       "      <td>-33.219280</td>\n",
       "    </tr>\n",
       "  </tbody>\n",
       "</table>\n",
       "<p>201917 rows × 2 columns</p>\n",
       "</div>"
      ],
      "text/plain": [
       "                 lgb024_dart     target\n",
       "card_id                                \n",
       "C_ID_176ecc65bd    -0.438831  -0.279039\n",
       "C_ID_6082929d3a    -0.254063  -0.926039\n",
       "C_ID_a87bbd85a7    -0.273275   0.475326\n",
       "C_ID_92e4809531     0.157242   0.516026\n",
       "C_ID_d2dd6bbf9a    -0.275764  -0.100927\n",
       "C_ID_16a3dfc83c    -0.115325  -0.681718\n",
       "C_ID_b3ae137ddf    -0.052084   0.546810\n",
       "C_ID_743bb702a4    -0.333162   0.203640\n",
       "C_ID_87e896bba4    -0.508616  -2.432292\n",
       "C_ID_2dc71faa04    -0.745498   1.529052\n",
       "C_ID_7a7cca0c92    -1.707177   0.102337\n",
       "C_ID_484a1cd9cd    -1.903498  -0.561442\n",
       "C_ID_176b523fd6    -0.220768   1.053406\n",
       "C_ID_ec47cfdcbc     0.240866   0.290713\n",
       "C_ID_90cf4ff430    -1.123379  -0.380695\n",
       "C_ID_f893099582    -1.584627  -0.534205\n",
       "C_ID_02f638a471     0.543669   0.563330\n",
       "C_ID_75fdd65579    -1.118957  -0.290514\n",
       "C_ID_c3a1ac6bf6    -1.014799  -1.937963\n",
       "C_ID_6830d255e2     0.576296  -0.943161\n",
       "C_ID_40a55229b0     0.345877   0.423710\n",
       "C_ID_da6bec1c1a    -0.334687   1.030497\n",
       "C_ID_43d58e11f8     0.132651   1.789908\n",
       "C_ID_5f628a29b5    -0.125264  -0.402808\n",
       "C_ID_e56eb7980e    -0.271714  -3.491837\n",
       "C_ID_f49aef0769     0.596954  -0.573491\n",
       "C_ID_1b68118b2a     0.863663   3.481572\n",
       "C_ID_9fb717bbc4    -4.659256   0.804648\n",
       "C_ID_5b0e653508    -0.318287  -0.348762\n",
       "C_ID_ef47a7e1c5    -0.212525   0.097101\n",
       "...                      ...        ...\n",
       "C_ID_b7e811726e     0.523115   1.201697\n",
       "C_ID_1e9885cfe9     0.012798  -1.087430\n",
       "C_ID_0a0d5be0a9    -0.130939   0.368091\n",
       "C_ID_ba3713323d     0.803009   2.085645\n",
       "C_ID_81fbbb3464     0.310183  -1.706165\n",
       "C_ID_81cafa7f9a    -0.629224   0.095587\n",
       "C_ID_8e4f057d5d    -0.646599  -0.769755\n",
       "C_ID_9206d1fe61    -0.835532   1.146132\n",
       "C_ID_070052f6ee    -2.112839  -8.466406\n",
       "C_ID_cd11df25c5    -0.123932  -0.179949\n",
       "C_ID_042408bde3    -0.263931   1.356529\n",
       "C_ID_7fa77428df    -0.708898   0.249002\n",
       "C_ID_b701090576     0.087286  -0.670691\n",
       "C_ID_8d085fba51     1.434743   6.809483\n",
       "C_ID_7ad0dcc0e6    -2.069031  -6.849092\n",
       "C_ID_347f3ef8ff     0.206073   0.144783\n",
       "C_ID_0662d94081     0.061651  -3.161449\n",
       "C_ID_910c39b0ca    -2.461665  -5.518401\n",
       "C_ID_d8ce642874     0.900089   4.653203\n",
       "C_ID_75aada5270    -0.014467  -0.769512\n",
       "C_ID_479f6faf4d     0.056410   1.551314\n",
       "C_ID_43800717da    -0.341982   1.008796\n",
       "C_ID_6babbf9b00    -1.766010  -0.365077\n",
       "C_ID_04a070dc0d     0.849556   4.449366\n",
       "C_ID_fd8f848e64    -2.148529  -4.388302\n",
       "C_ID_99af02c7a4     1.195104   5.764398\n",
       "C_ID_63205953c5    -1.630597  -2.123049\n",
       "C_ID_ca482a22be     1.158362   2.668018\n",
       "C_ID_5d331268b1    -1.557651  -4.815788\n",
       "C_ID_0673ceb43d     0.736478 -33.219280\n",
       "\n",
       "[201917 rows x 2 columns]"
      ]
     },
     "execution_count": 4,
     "metadata": {},
     "output_type": "execute_result"
    }
   ],
   "source": [
    "oof"
   ]
  },
  {
   "cell_type": "code",
   "execution_count": 5,
   "metadata": {
    "ExecuteTime": {
     "end_time": "2019-02-19T12:12:35.954315Z",
     "start_time": "2019-02-19T12:12:35.943287Z"
    }
   },
   "outputs": [],
   "source": [
    "names = (\"lgb024_dart\",\n",
    "         \"lgb025_dart\",\n",
    "         \"lgb026_dart\",\n",
    "         \"lgb027\",\n",
    "         \"lgb028_gbdt\",\n",
    "         \"lgb028_gbdt_lowlr\",\n",
    "         \"xgb028\")"
   ]
  },
  {
   "cell_type": "code",
   "execution_count": 6,
   "metadata": {
    "ExecuteTime": {
     "end_time": "2019-02-19T12:12:35.971360Z",
     "start_time": "2019-02-19T12:12:35.960331Z"
    }
   },
   "outputs": [],
   "source": [
    "from utils import timer"
   ]
  },
  {
   "cell_type": "code",
   "execution_count": 7,
   "metadata": {
    "ExecuteTime": {
     "end_time": "2019-02-19T12:12:35.989407Z",
     "start_time": "2019-02-19T12:12:35.975371Z"
    }
   },
   "outputs": [],
   "source": [
    "from downcast import load_dataframe32\n",
    "from data_io import get_train_downcast, get_test_downcast"
   ]
  },
  {
   "cell_type": "code",
   "execution_count": 8,
   "metadata": {
    "ExecuteTime": {
     "end_time": "2019-02-19T12:12:38.370764Z",
     "start_time": "2019-02-19T12:12:35.991414Z"
    }
   },
   "outputs": [
    {
     "name": "stdout",
     "output_type": "stream",
     "text": [
      "train - done in 0s\n",
      "test - done in 0s\n"
     ]
    }
   ],
   "source": [
    "with timer(\"train\"):\n",
    "    train = load_dataframe32(get_train_downcast())\n",
    "    train = train[[\"card_id\", \"target\"]].set_index(\"card_id\")\n",
    "\n",
    "with timer(\"test\"):\n",
    "    test = load_dataframe32(get_test_downcast())\n",
    "    test = test[[\"card_id\"]].set_index(\"card_id\")\n",
    "\n",
    "for name in names:\n",
    "    train[name] = load_oof(name).set_index(\"card_id\")[name]\n",
    "    test[name] = load_submission(name).set_index(\"card_id\")[\"target\"]"
   ]
  },
  {
   "cell_type": "code",
   "execution_count": 27,
   "metadata": {
    "ExecuteTime": {
     "end_time": "2019-02-19T12:20:37.851765Z",
     "start_time": "2019-02-19T12:20:37.848756Z"
    }
   },
   "outputs": [],
   "source": [
    "import numpy as np"
   ]
  },
  {
   "cell_type": "code",
   "execution_count": 9,
   "metadata": {
    "ExecuteTime": {
     "end_time": "2019-02-19T12:12:40.931574Z",
     "start_time": "2019-02-19T12:12:38.372743Z"
    }
   },
   "outputs": [
    {
     "name": "stdout",
     "output_type": "stream",
     "text": [
      "train - done in 0s\n",
      "test - done in 0s\n"
     ]
    }
   ],
   "source": [
    "train, test = load_train_test_stacking(names)"
   ]
  },
  {
   "cell_type": "markdown",
   "metadata": {},
   "source": [
    "# errors"
   ]
  },
  {
   "cell_type": "code",
   "execution_count": 38,
   "metadata": {
    "ExecuteTime": {
     "end_time": "2019-02-19T12:23:19.233772Z",
     "start_time": "2019-02-19T12:23:19.229731Z"
    }
   },
   "outputs": [],
   "source": [
    "def recover_sum(data, columns):\n",
    "    return np.log2(sum([2 ** data[col] for col in columns]) / len(columns))"
   ]
  },
  {
   "cell_type": "code",
   "execution_count": 67,
   "metadata": {
    "ExecuteTime": {
     "end_time": "2019-02-19T14:55:12.388012Z",
     "start_time": "2019-02-19T14:55:11.909710Z"
    }
   },
   "outputs": [
    {
     "data": {
      "text/plain": [
       "<matplotlib.axes._subplots.AxesSubplot at 0x1f9e5192160>"
      ]
     },
     "execution_count": 67,
     "metadata": {},
     "output_type": "execute_result"
    },
    {
     "data": {
      "image/png": "[encoded data removed]",
      "text/plain": [
       "<Figure size 432x288 with 1 Axes>"
      ]
     },
     "metadata": {
      "needs_background": "light"
     },
     "output_type": "display_data"
    }
   ],
   "source": [
    "train[train.prediction < -12].target.hist(bins=50)"
   ]
  },
  {
   "cell_type": "code",
   "execution_count": 45,
   "metadata": {
    "ExecuteTime": {
     "end_time": "2019-02-19T12:26:06.561403Z",
     "start_time": "2019-02-19T12:26:06.223506Z"
    }
   },
   "outputs": [
    {
     "data": {
      "text/plain": [
       "<matplotlib.axes._subplots.AxesSubplot at 0x1f9e1771da0>"
      ]
     },
     "execution_count": 45,
     "metadata": {},
     "output_type": "execute_result"
    },
    {
     "data": {
      "image/png": "[encoded data removed]",
      "text/plain": [
       "<Figure size 432x288 with 1 Axes>"
      ]
     },
     "metadata": {
      "needs_background": "light"
     },
     "output_type": "display_data"
    }
   ],
   "source": [
    "target_error = train.target - recover_sum(train, names)\n",
    "target_error.hist(bins=50)"
   ]
  },
  {
   "cell_type": "code",
   "execution_count": 52,
   "metadata": {
    "ExecuteTime": {
     "end_time": "2019-02-19T12:28:54.584192Z",
     "start_time": "2019-02-19T12:28:54.297463Z"
    }
   },
   "outputs": [
    {
     "data": {
      "text/plain": [
       "<matplotlib.axes._subplots.AxesSubplot at 0x1f9e1e3a128>"
      ]
     },
     "execution_count": 52,
     "metadata": {},
     "output_type": "execute_result"
    },
    {
     "data": {
      "image/png": "[encoded data removed]",
      "text/plain": [
       "<Figure size 432x288 with 1 Axes>"
      ]
     },
     "metadata": {
      "needs_background": "light"
     },
     "output_type": "display_data"
    }
   ],
   "source": [
    "target_error[train.target == 0].hist(bins=50)"
   ]
  },
  {
   "cell_type": "code",
   "execution_count": 50,
   "metadata": {
    "ExecuteTime": {
     "end_time": "2019-02-19T12:27:56.802617Z",
     "start_time": "2019-02-19T12:27:56.539889Z"
    }
   },
   "outputs": [
    {
     "data": {
      "text/plain": [
       "<matplotlib.axes._subplots.AxesSubplot at 0x1f9e11a8e10>"
      ]
     },
     "execution_count": 50,
     "metadata": {},
     "output_type": "execute_result"
    },
    {
     "data": {
      "image/png": "[encoded data removed]",
      "text/plain": [
       "<Figure size 432x288 with 1 Axes>"
      ]
     },
     "metadata": {
      "needs_background": "light"
     },
     "output_type": "display_data"
    }
   ],
   "source": [
    "target_error[target_error < -5].sort_values().hist(bins=50)"
   ]
  },
  {
   "cell_type": "code",
   "execution_count": 51,
   "metadata": {
    "ExecuteTime": {
     "end_time": "2019-02-19T12:28:06.000068Z",
     "start_time": "2019-02-19T12:28:05.704251Z"
    }
   },
   "outputs": [
    {
     "data": {
      "text/plain": [
       "<matplotlib.axes._subplots.AxesSubplot at 0x1f9e1771668>"
      ]
     },
     "execution_count": 51,
     "metadata": {},
     "output_type": "execute_result"
    },
    {
     "data": {
      "image/png": "[encoded data removed]",
      "text/plain": [
       "<Figure size 432x288 with 1 Axes>"
      ]
     },
     "metadata": {
      "needs_background": "light"
     },
     "output_type": "display_data"
    }
   ],
   "source": [
    "target_error[target_error > 5].sort_values().hist(bins=50)"
   ]
  },
  {
   "cell_type": "markdown",
   "metadata": {},
   "source": [
    "# prediction of the outliers"
   ]
  },
  {
   "cell_type": "code",
   "execution_count": 93,
   "metadata": {
    "ExecuteTime": {
     "end_time": "2019-02-19T15:11:33.419908Z",
     "start_time": "2019-02-19T15:11:33.409868Z"
    }
   },
   "outputs": [
    {
     "data": {
      "text/plain": [
       "card_id\n",
       "C_ID_8186f3fcc1   -33.21928\n",
       "C_ID_b9379a30ea   -33.21928\n",
       "C_ID_e9120f535c   -33.21928\n",
       "C_ID_65715cb80d   -33.21928\n",
       "C_ID_ae77d244b6   -33.21928\n",
       "Name: target, dtype: float32"
      ]
     },
     "execution_count": 93,
     "metadata": {},
     "output_type": "execute_result"
    }
   ],
   "source": [
    "train[train.target < -30].target.head()"
   ]
  },
  {
   "cell_type": "code",
   "execution_count": 69,
   "metadata": {
    "ExecuteTime": {
     "end_time": "2019-02-19T14:56:53.691717Z",
     "start_time": "2019-02-19T14:56:53.348273Z"
    }
   },
   "outputs": [
    {
     "data": {
      "text/plain": [
       "<matplotlib.axes._subplots.AxesSubplot at 0x1f9e542b780>"
      ]
     },
     "execution_count": 69,
     "metadata": {},
     "output_type": "execute_result"
    },
    {
     "data": {
      "image/png": "[encoded data removed]",
      "text/plain": [
       "<Figure size 432x288 with 1 Axes>"
      ]
     },
     "metadata": {
      "needs_background": "light"
     },
     "output_type": "display_data"
    }
   ],
   "source": [
    "train[\"prediction\"] = recover_sum(train, names)\n",
    "train[\"outlier\"] = (train.target < -30).astype(int)\n",
    "train[train.target < -30].prediction.hist(bins=50)"
   ]
  },
  {
   "cell_type": "code",
   "execution_count": 79,
   "metadata": {
    "ExecuteTime": {
     "end_time": "2019-02-19T15:04:49.602049Z",
     "start_time": "2019-02-19T15:04:49.388484Z"
    }
   },
   "outputs": [
    {
     "data": {
      "text/plain": [
       "<matplotlib.collections.PathCollection at 0x1f9e5640320>"
      ]
     },
     "execution_count": 79,
     "metadata": {},
     "output_type": "execute_result"
    },
    {
     "data": {
      "image/png": "[encoded data removed]",
      "text/plain": [
       "<Figure size 432x288 with 1 Axes>"
      ]
     },
     "metadata": {
      "needs_background": "light"
     },
     "output_type": "display_data"
    }
   ],
   "source": [
    "plt.scatter(train[train.prediction < -10].prediction, train[train.prediction < -10].target)"
   ]
  },
  {
   "cell_type": "code",
   "execution_count": 80,
   "metadata": {
    "ExecuteTime": {
     "end_time": "2019-02-19T15:05:17.585489Z",
     "start_time": "2019-02-19T15:05:17.402852Z"
    }
   },
   "outputs": [],
   "source": [
    "from sklearn.metrics import mean_squared_error"
   ]
  },
  {
   "cell_type": "code",
   "execution_count": 92,
   "metadata": {
    "ExecuteTime": {
     "end_time": "2019-02-19T15:11:03.898024Z",
     "start_time": "2019-02-19T15:11:03.883987Z"
    }
   },
   "outputs": [
    {
     "name": "stdout",
     "output_type": "stream",
     "text": [
      "16.223028 16.146202629150203\n"
     ]
    }
   ],
   "source": [
    "th = -10.25\n",
    "the_const = -12.755102040816329\n",
    "rmse_origin = np.sqrt(mean_squared_error(train[train.prediction < th].prediction, train[train.prediction < th].target))\n",
    "\n",
    "rmse_processed = np.sqrt(mean_squared_error(the_const * np.ones((train.prediction < th).sum()),\n",
    "                                            train[train.prediction < th].target))\n",
    "\n",
    "print(rmse_origin, rmse_processed)"
   ]
  },
  {
   "cell_type": "code",
   "execution_count": 89,
   "metadata": {
    "ExecuteTime": {
     "end_time": "2019-02-19T15:08:46.086382Z",
     "start_time": "2019-02-19T15:08:46.028229Z"
    }
   },
   "outputs": [
    {
     "name": "stdout",
     "output_type": "stream",
     "text": [
      "-7.0 2.324324324324324 {0: 688, 1: 296}\n",
      "-7.25 2.212230215827338 {0: 615, 1: 278}\n",
      "-7.5 2.1850393700787403 {0: 555, 1: 254}\n",
      "-7.75 2.128205128205128 {0: 498, 1: 234}\n",
      "-8.0 2.088372093023256 {0: 449, 1: 215}\n",
      "-8.25 1.99 {0: 398, 1: 200}\n",
      "-8.5 1.898936170212766 {0: 357, 1: 188}\n",
      "-8.75 1.9176470588235295 {0: 326, 1: 170}\n",
      "-9.0 1.8679245283018868 {0: 297, 1: 159}\n",
      "-9.25 1.816326530612245 {0: 267, 1: 147}\n",
      "-9.5 1.7669172932330828 {0: 235, 1: 133}\n",
      "-9.75 1.7435897435897436 {0: 204, 1: 117}\n",
      "-10.0 1.6636363636363636 {0: 183, 1: 110}\n",
      "-10.25 1.5566037735849056 {0: 165, 1: 106}\n",
      "-10.5 1.5698924731182795 {0: 146, 1: 93}\n"
     ]
    }
   ],
   "source": [
    "for i in range(15):\n",
    "    th = - 7 - .25 * i\n",
    "    vc = train[train.prediction < th].outlier.value_counts().to_dict()\n",
    "    print(th, vc[0] / vc[1], vc)"
   ]
  },
  {
   "cell_type": "code",
   "execution_count": 90,
   "metadata": {
    "ExecuteTime": {
     "end_time": "2019-02-19T15:09:04.346013Z",
     "start_time": "2019-02-19T15:09:04.132445Z"
    }
   },
   "outputs": [
    {
     "data": {
      "text/plain": [
       "[<matplotlib.lines.Line2D at 0x1f9e574c6a0>]"
      ]
     },
     "execution_count": 90,
     "metadata": {},
     "output_type": "execute_result"
    },
    {
     "data": {
      "image/png": "[encoded data removed]",
      "text/plain": [
       "<Figure size 432x288 with 1 Axes>"
      ]
     },
     "metadata": {
      "needs_background": "light"
     },
     "output_type": "display_data"
    }
   ],
   "source": [
    "x_arr = []\n",
    "y_arr = []\n",
    "for const_fill in np.linspace(-33, -1, 50):\n",
    "    rmse = (0 - const_fill) ** 2 * 165 + (-33.21928 - const_fill) ** 2 * 106\n",
    "    x_arr.append(const_fill)\n",
    "    y_arr.append(np.sqrt(rmse))\n",
    "\n",
    "plt.plot(x_arr, y_arr)"
   ]
  },
  {
   "cell_type": "code",
   "execution_count": 91,
   "metadata": {
    "ExecuteTime": {
     "end_time": "2019-02-19T15:09:07.009031Z",
     "start_time": "2019-02-19T15:09:07.004518Z"
    }
   },
   "outputs": [
    {
     "data": {
      "text/plain": [
       "-12.755102040816329"
      ]
     },
     "execution_count": 91,
     "metadata": {},
     "output_type": "execute_result"
    }
   ],
   "source": [
    "x_arr[np.argmin(y_arr)]"
   ]
  },
  {
   "cell_type": "code",
   "execution_count": 39,
   "metadata": {
    "ExecuteTime": {
     "end_time": "2019-02-19T12:23:20.005795Z",
     "start_time": "2019-02-19T12:23:19.991770Z"
    }
   },
   "outputs": [
    {
     "data": {
      "text/html": [
       "<div>\n",
       "<style scoped>\n",
       "    .dataframe tbody tr th:only-of-type {\n",
       "        vertical-align: middle;\n",
       "    }\n",
       "\n",
       "    .dataframe tbody tr th {\n",
       "        vertical-align: top;\n",
       "    }\n",
       "\n",
       "    .dataframe thead th {\n",
       "        text-align: right;\n",
       "    }\n",
       "</style>\n",
       "<table border=\"1\" class=\"dataframe\">\n",
       "  <thead>\n",
       "    <tr style=\"text-align: right;\">\n",
       "      <th></th>\n",
       "      <th>target</th>\n",
       "      <th>lgb024_dart</th>\n",
       "      <th>lgb025_dart</th>\n",
       "      <th>lgb026_dart</th>\n",
       "      <th>lgb027</th>\n",
       "      <th>lgb028_gbdt</th>\n",
       "      <th>lgb028_gbdt_lowlr</th>\n",
       "      <th>xgb028</th>\n",
       "    </tr>\n",
       "    <tr>\n",
       "      <th>card_id</th>\n",
       "      <th></th>\n",
       "      <th></th>\n",
       "      <th></th>\n",
       "      <th></th>\n",
       "      <th></th>\n",
       "      <th></th>\n",
       "      <th></th>\n",
       "      <th></th>\n",
       "    </tr>\n",
       "  </thead>\n",
       "  <tbody>\n",
       "    <tr>\n",
       "      <th>C_ID_92a2005557</th>\n",
       "      <td>-0.820283</td>\n",
       "      <td>-0.300258</td>\n",
       "      <td>-0.299442</td>\n",
       "      <td>-0.284502</td>\n",
       "      <td>-0.365885</td>\n",
       "      <td>-0.287090</td>\n",
       "      <td>-0.282505</td>\n",
       "      <td>-0.332812</td>\n",
       "    </tr>\n",
       "    <tr>\n",
       "      <th>C_ID_3d0044924f</th>\n",
       "      <td>0.392913</td>\n",
       "      <td>-0.423500</td>\n",
       "      <td>-0.377137</td>\n",
       "      <td>-0.361377</td>\n",
       "      <td>-0.520650</td>\n",
       "      <td>-0.244237</td>\n",
       "      <td>-0.278601</td>\n",
       "      <td>-0.156999</td>\n",
       "    </tr>\n",
       "    <tr>\n",
       "      <th>C_ID_d639edf6cd</th>\n",
       "      <td>0.688056</td>\n",
       "      <td>0.437591</td>\n",
       "      <td>0.418692</td>\n",
       "      <td>0.412696</td>\n",
       "      <td>0.541729</td>\n",
       "      <td>0.434571</td>\n",
       "      <td>0.420615</td>\n",
       "      <td>0.366051</td>\n",
       "    </tr>\n",
       "    <tr>\n",
       "      <th>C_ID_186d6a6901</th>\n",
       "      <td>0.142495</td>\n",
       "      <td>0.148267</td>\n",
       "      <td>0.131966</td>\n",
       "      <td>0.140588</td>\n",
       "      <td>0.168539</td>\n",
       "      <td>0.234994</td>\n",
       "      <td>0.267100</td>\n",
       "      <td>0.250389</td>\n",
       "    </tr>\n",
       "    <tr>\n",
       "      <th>C_ID_cdbd2c0db2</th>\n",
       "      <td>-0.159749</td>\n",
       "      <td>0.014122</td>\n",
       "      <td>-0.035260</td>\n",
       "      <td>-0.035883</td>\n",
       "      <td>-0.067915</td>\n",
       "      <td>0.012652</td>\n",
       "      <td>-0.009965</td>\n",
       "      <td>-0.121579</td>\n",
       "    </tr>\n",
       "  </tbody>\n",
       "</table>\n",
       "</div>"
      ],
      "text/plain": [
       "                   target  lgb024_dart  lgb025_dart  lgb026_dart    lgb027  \\\n",
       "card_id                                                                      \n",
       "C_ID_92a2005557 -0.820283    -0.300258    -0.299442    -0.284502 -0.365885   \n",
       "C_ID_3d0044924f  0.392913    -0.423500    -0.377137    -0.361377 -0.520650   \n",
       "C_ID_d639edf6cd  0.688056     0.437591     0.418692     0.412696  0.541729   \n",
       "C_ID_186d6a6901  0.142495     0.148267     0.131966     0.140588  0.168539   \n",
       "C_ID_cdbd2c0db2 -0.159749     0.014122    -0.035260    -0.035883 -0.067915   \n",
       "\n",
       "                 lgb028_gbdt  lgb028_gbdt_lowlr    xgb028  \n",
       "card_id                                                    \n",
       "C_ID_92a2005557    -0.287090          -0.282505 -0.332812  \n",
       "C_ID_3d0044924f    -0.244237          -0.278601 -0.156999  \n",
       "C_ID_d639edf6cd     0.434571           0.420615  0.366051  \n",
       "C_ID_186d6a6901     0.234994           0.267100  0.250389  \n",
       "C_ID_cdbd2c0db2     0.012652          -0.009965 -0.121579  "
      ]
     },
     "execution_count": 39,
     "metadata": {},
     "output_type": "execute_result"
    }
   ],
   "source": [
    "train.head()"
   ]
  },
  {
   "cell_type": "code",
   "execution_count": 40,
   "metadata": {
    "ExecuteTime": {
     "end_time": "2019-02-19T12:23:20.706658Z",
     "start_time": "2019-02-19T12:23:20.675574Z"
    }
   },
   "outputs": [
    {
     "data": {
      "text/plain": [
       "card_id\n",
       "C_ID_92a2005557   -0.307217\n",
       "C_ID_3d0044924f   -0.333153\n",
       "C_ID_d639edf6cd    0.433993\n",
       "C_ID_186d6a6901    0.192665\n",
       "C_ID_cdbd2c0db2   -0.034150\n",
       "C_ID_0894217f2f   -1.929898\n",
       "C_ID_7e63323c00   -0.189776\n",
       "C_ID_dfa21fc124    0.326847\n",
       "C_ID_fe0fdac8ea    0.105984\n",
       "C_ID_bf62c0b49d    0.133287\n",
       "C_ID_92853cdb2c   -0.651678\n",
       "C_ID_269d816788   -0.091514\n",
       "C_ID_61d50d7057    0.742615\n",
       "C_ID_4e07413433   -0.551555\n",
       "C_ID_b6302b31c6   -0.333231\n",
       "C_ID_3b69154173    0.818649\n",
       "C_ID_9feec11e78   -0.321057\n",
       "C_ID_f6658dbefe    0.032896\n",
       "C_ID_4a7dda0f9e    0.187583\n",
       "C_ID_6adae2a906   -0.666171\n",
       "C_ID_0b70ca7347   -0.171179\n",
       "C_ID_25b2509282    0.322138\n",
       "C_ID_82fb11db22   -0.398197\n",
       "C_ID_e03db05bde   -0.652864\n",
       "C_ID_dcb7c76747   -0.108810\n",
       "C_ID_749cfc0c3a    0.253474\n",
       "C_ID_4a97126360   -0.703051\n",
       "C_ID_17dea8d446    0.740032\n",
       "C_ID_fcef0dfd67   -0.349665\n",
       "C_ID_82868156f0   -0.718100\n",
       "                     ...   \n",
       "C_ID_fa343b1b60   -0.410922\n",
       "C_ID_8fb51d131f   -0.512340\n",
       "C_ID_ea7df02b8d   -0.342174\n",
       "C_ID_82554b8b1f   -0.002054\n",
       "C_ID_ec1fdc9c13   -0.328586\n",
       "C_ID_be5a444ff5   -2.815926\n",
       "C_ID_6c40a68e73    0.420909\n",
       "C_ID_d02dd24e29   -0.081366\n",
       "C_ID_2e16d5537d   -1.496066\n",
       "C_ID_808ba69dff   -0.302855\n",
       "C_ID_095bca2d92   -0.045805\n",
       "C_ID_123b4b8d1e   -2.678816\n",
       "C_ID_58e359763e   -0.520930\n",
       "C_ID_0032aebb26   -0.197111\n",
       "C_ID_3814ea6382   -0.173869\n",
       "C_ID_b9cd68366b    0.309352\n",
       "C_ID_b860347cb0   -0.101460\n",
       "C_ID_debbad9dec   -0.768482\n",
       "C_ID_75a2251acf   -0.040057\n",
       "C_ID_1f777cd9b3   -0.188235\n",
       "C_ID_598ecf1dfe    0.084103\n",
       "C_ID_c2124fa8ce   -0.109759\n",
       "C_ID_64545039d3   -1.440040\n",
       "C_ID_9072609210   -0.196458\n",
       "C_ID_0443db161f   -0.578366\n",
       "C_ID_963962de2c    0.157610\n",
       "C_ID_1314773c0b    0.887934\n",
       "C_ID_7666735b3d   -0.165890\n",
       "C_ID_73f5a0efd0   -2.410501\n",
       "C_ID_92c9984c58   -0.228590\n",
       "Length: 201917, dtype: float32"
      ]
     },
     "execution_count": 40,
     "metadata": {},
     "output_type": "execute_result"
    }
   ],
   "source": [
    "recover_sum(train, names)"
   ]
  },
  {
   "cell_type": "markdown",
   "metadata": {},
   "source": [
    "# corr"
   ]
  },
  {
   "cell_type": "code",
   "execution_count": 20,
   "metadata": {
    "ExecuteTime": {
     "end_time": "2019-02-19T12:16:42.076899Z",
     "start_time": "2019-02-19T12:16:42.071913Z"
    }
   },
   "outputs": [],
   "source": [
    "import seaborn as sns\n",
    "import matplotlib.pyplot as plt\n",
    "%matplotlib inline"
   ]
  },
  {
   "cell_type": "code",
   "execution_count": 23,
   "metadata": {
    "ExecuteTime": {
     "end_time": "2019-02-19T12:17:07.895535Z",
     "start_time": "2019-02-19T12:17:07.244805Z"
    }
   },
   "outputs": [
    {
     "data": {
      "text/plain": [
       "<matplotlib.axes._subplots.AxesSubplot at 0x1f9e0d826d8>"
      ]
     },
     "execution_count": 23,
     "metadata": {},
     "output_type": "execute_result"
    },
    {
     "data": {
      "image/png": "[encoded data removed]",
      "text/plain": [
       "<Figure size 864x720 with 2 Axes>"
      ]
     },
     "metadata": {
      "needs_background": "light"
     },
     "output_type": "display_data"
    }
   ],
   "source": [
    "plt.figure(figsize=(12, 10))\n",
    "sns.heatmap(train.iloc[:, 1:].corr(), annot=True, fmt=\".2f\")"
   ]
  },
  {
   "cell_type": "code",
   "execution_count": 24,
   "metadata": {
    "ExecuteTime": {
     "end_time": "2019-02-19T12:17:20.744694Z",
     "start_time": "2019-02-19T12:17:20.213283Z"
    }
   },
   "outputs": [
    {
     "data": {
      "text/plain": [
       "<matplotlib.axes._subplots.AxesSubplot at 0x1f9e10636d8>"
      ]
     },
     "execution_count": 24,
     "metadata": {},
     "output_type": "execute_result"
    },
    {
     "data": {
      "image/png": "[encoded data removed]",
      "text/plain": [
       "<Figure size 864x720 with 2 Axes>"
      ]
     },
     "metadata": {
      "needs_background": "light"
     },
     "output_type": "display_data"
    }
   ],
   "source": [
    "plt.figure(figsize=(12, 10))\n",
    "sns.heatmap(test.corr(),annot=True,fmt=\".2f\")"
   ]
  },
  {
   "cell_type": "markdown",
   "metadata": {},
   "source": [
    "# blend-post-process-0"
   ]
  },
  {
   "cell_type": "code",
   "execution_count": 57,
   "metadata": {
    "ExecuteTime": {
     "end_time": "2019-02-19T13:06:34.595870Z",
     "start_time": "2019-02-19T13:06:34.593865Z"
    }
   },
   "outputs": [],
   "source": [
    "from scipy.stats import pearsonr"
   ]
  },
  {
   "cell_type": "code",
   "execution_count": 58,
   "metadata": {
    "ExecuteTime": {
     "end_time": "2019-02-19T13:06:48.036599Z",
     "start_time": "2019-02-19T13:06:48.024569Z"
    }
   },
   "outputs": [
    {
     "data": {
      "text/plain": [
       "(0.9725523904895853, 0.0)"
      ]
     },
     "execution_count": 58,
     "metadata": {},
     "output_type": "execute_result"
    }
   ],
   "source": [
    "pearsonr(stacking029.target, blend10p.target)"
   ]
  },
  {
   "cell_type": "code",
   "execution_count": 59,
   "metadata": {
    "ExecuteTime": {
     "end_time": "2019-02-19T13:07:38.063662Z",
     "start_time": "2019-02-19T13:07:37.825958Z"
    }
   },
   "outputs": [],
   "source": [
    "stacking029 = load_submission(\"stacking029\")\n",
    "blend10p = load_submission(\"blend010p\")\n",
    "stacking029[\"target\"] = .5 * stacking029.target + .5 * blend10p.target"
   ]
  },
  {
   "cell_type": "code",
   "execution_count": 61,
   "metadata": {
    "ExecuteTime": {
     "end_time": "2019-02-19T13:08:24.119049Z",
     "start_time": "2019-02-19T13:08:23.224648Z"
    }
   },
   "outputs": [],
   "source": [
    "stacking029.to_csv(\"./data/submissions/blend029p.csv\", index=False)"
   ]
  }
 ],
 "metadata": {
  "kernelspec": {
   "display_name": "Python 3",
   "language": "python",
   "name": "python3"
  },
  "language_info": {
   "codemirror_mode": {
    "name": "ipython",
    "version": 3
   },
   "file_extension": ".py",
   "mimetype": "text/x-python",
   "name": "python",
   "nbconvert_exporter": "python",
   "pygments_lexer": "ipython3",
   "version": "3.6.6"
  },
  "toc": {
   "base_numbering": 1,
   "nav_menu": {},
   "number_sections": true,
   "sideBar": true,
   "skip_h1_title": false,
   "title_cell": "Table of Contents",
   "title_sidebar": "Contents",
   "toc_cell": false,
   "toc_position": {},
   "toc_section_display": true,
   "toc_window_display": true
  },
  "varInspector": {
   "cols": {
    "lenName": 16,
    "lenType": 16,
    "lenVar": 40
   },
   "kernels_config": {
    "python": {
     "delete_cmd_postfix": "",
     "delete_cmd_prefix": "del ",
     "library": "var_list.py",
     "varRefreshCmd": "print(var_dic_list())"
    },
    "r": {
     "delete_cmd_postfix": ") ",
     "delete_cmd_prefix": "rm(",
     "library": "var_list.r",
     "varRefreshCmd": "cat(var_dic_list()) "
    }
   },
   "types_to_exclude": [
    "module",
    "function",
    "builtin_function_or_method",
    "instance",
    "_Feature"
   ],
   "window_display": false
  }
 },
 "nbformat": 4,
 "nbformat_minor": 2
}
