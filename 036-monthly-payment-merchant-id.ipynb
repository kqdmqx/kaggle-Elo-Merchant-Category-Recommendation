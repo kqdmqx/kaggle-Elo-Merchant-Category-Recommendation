{
 "cells": [
  {
   "cell_type": "markdown",
   "metadata": {},
   "source": [
    "# Monthly Payment Features"
   ]
  },
  {
   "cell_type": "code",
   "execution_count": 1,
   "metadata": {
    "ExecuteTime": {
     "end_time": "2019-02-24T13:30:21.370982Z",
     "start_time": "2019-02-24T13:30:20.697027Z"
    }
   },
   "outputs": [],
   "source": [
    "import numpy as np\n",
    "import pandas as pd\n",
    "import gc\n",
    "\n",
    "pd.set_option('display.float_format', '{:.10f}'.format)\n",
    "import matplotlib.pyplot as plt\n",
    "%matplotlib inline"
   ]
  },
  {
   "cell_type": "code",
   "execution_count": 2,
   "metadata": {
    "ExecuteTime": {
     "end_time": "2019-02-24T13:31:29.259352Z",
     "start_time": "2019-02-24T13:30:22.081740Z"
    }
   },
   "outputs": [],
   "source": [
    "train = pd.read_csv('./data/train.csv')\n",
    "historical_transactions = pd.read_csv('./data/historical_transactions.csv')\n",
    "new_merchant_transactions = pd.read_csv('./data/new_merchant_transactions.csv')"
   ]
  },
  {
   "cell_type": "code",
   "execution_count": 3,
   "metadata": {
    "ExecuteTime": {
     "end_time": "2019-02-24T13:31:35.000642Z",
     "start_time": "2019-02-24T13:31:29.323522Z"
    }
   },
   "outputs": [],
   "source": [
    "all_transactions = pd.concat([historical_transactions, new_merchant_transactions], axis=0)"
   ]
  },
  {
   "cell_type": "code",
   "execution_count": 4,
   "metadata": {
    "ExecuteTime": {
     "end_time": "2019-02-24T13:31:35.102886Z",
     "start_time": "2019-02-24T13:31:35.083841Z"
    }
   },
   "outputs": [
    {
     "data": {
      "text/html": [
       "<div>\n",
       "<style scoped>\n",
       "    .dataframe tbody tr th:only-of-type {\n",
       "        vertical-align: middle;\n",
       "    }\n",
       "\n",
       "    .dataframe tbody tr th {\n",
       "        vertical-align: top;\n",
       "    }\n",
       "\n",
       "    .dataframe thead th {\n",
       "        text-align: right;\n",
       "    }\n",
       "</style>\n",
       "<table border=\"1\" class=\"dataframe\">\n",
       "  <thead>\n",
       "    <tr style=\"text-align: right;\">\n",
       "      <th></th>\n",
       "      <th>authorized_flag</th>\n",
       "      <th>card_id</th>\n",
       "      <th>city_id</th>\n",
       "      <th>category_1</th>\n",
       "      <th>installments</th>\n",
       "      <th>category_3</th>\n",
       "      <th>merchant_category_id</th>\n",
       "      <th>merchant_id</th>\n",
       "      <th>month_lag</th>\n",
       "      <th>purchase_amount</th>\n",
       "      <th>purchase_date</th>\n",
       "      <th>category_2</th>\n",
       "      <th>state_id</th>\n",
       "      <th>subsector_id</th>\n",
       "    </tr>\n",
       "  </thead>\n",
       "  <tbody>\n",
       "    <tr>\n",
       "      <th>0</th>\n",
       "      <td>Y</td>\n",
       "      <td>C_ID_4e6213e9bc</td>\n",
       "      <td>88</td>\n",
       "      <td>N</td>\n",
       "      <td>0</td>\n",
       "      <td>A</td>\n",
       "      <td>80</td>\n",
       "      <td>M_ID_e020e9b302</td>\n",
       "      <td>-8</td>\n",
       "      <td>-0.7033309100</td>\n",
       "      <td>2017-06-25 15:33:07</td>\n",
       "      <td>1.0000000000</td>\n",
       "      <td>16</td>\n",
       "      <td>37</td>\n",
       "    </tr>\n",
       "    <tr>\n",
       "      <th>1</th>\n",
       "      <td>Y</td>\n",
       "      <td>C_ID_4e6213e9bc</td>\n",
       "      <td>88</td>\n",
       "      <td>N</td>\n",
       "      <td>0</td>\n",
       "      <td>A</td>\n",
       "      <td>367</td>\n",
       "      <td>M_ID_86ec983688</td>\n",
       "      <td>-7</td>\n",
       "      <td>-0.7331284800</td>\n",
       "      <td>2017-07-15 12:10:45</td>\n",
       "      <td>1.0000000000</td>\n",
       "      <td>16</td>\n",
       "      <td>16</td>\n",
       "    </tr>\n",
       "    <tr>\n",
       "      <th>2</th>\n",
       "      <td>Y</td>\n",
       "      <td>C_ID_4e6213e9bc</td>\n",
       "      <td>88</td>\n",
       "      <td>N</td>\n",
       "      <td>0</td>\n",
       "      <td>A</td>\n",
       "      <td>80</td>\n",
       "      <td>M_ID_979ed661fc</td>\n",
       "      <td>-6</td>\n",
       "      <td>-0.7203860000</td>\n",
       "      <td>2017-08-09 22:04:29</td>\n",
       "      <td>1.0000000000</td>\n",
       "      <td>16</td>\n",
       "      <td>37</td>\n",
       "    </tr>\n",
       "    <tr>\n",
       "      <th>3</th>\n",
       "      <td>Y</td>\n",
       "      <td>C_ID_4e6213e9bc</td>\n",
       "      <td>88</td>\n",
       "      <td>N</td>\n",
       "      <td>0</td>\n",
       "      <td>A</td>\n",
       "      <td>560</td>\n",
       "      <td>M_ID_e6d5ae8ea6</td>\n",
       "      <td>-5</td>\n",
       "      <td>-0.7353524100</td>\n",
       "      <td>2017-09-02 10:06:26</td>\n",
       "      <td>1.0000000000</td>\n",
       "      <td>16</td>\n",
       "      <td>34</td>\n",
       "    </tr>\n",
       "    <tr>\n",
       "      <th>4</th>\n",
       "      <td>Y</td>\n",
       "      <td>C_ID_4e6213e9bc</td>\n",
       "      <td>88</td>\n",
       "      <td>N</td>\n",
       "      <td>0</td>\n",
       "      <td>A</td>\n",
       "      <td>80</td>\n",
       "      <td>M_ID_e020e9b302</td>\n",
       "      <td>-11</td>\n",
       "      <td>-0.7228653800</td>\n",
       "      <td>2017-03-10 01:14:19</td>\n",
       "      <td>1.0000000000</td>\n",
       "      <td>16</td>\n",
       "      <td>37</td>\n",
       "    </tr>\n",
       "  </tbody>\n",
       "</table>\n",
       "</div>"
      ],
      "text/plain": [
       "  authorized_flag          card_id  city_id category_1  installments  \\\n",
       "0               Y  C_ID_4e6213e9bc       88          N             0   \n",
       "1               Y  C_ID_4e6213e9bc       88          N             0   \n",
       "2               Y  C_ID_4e6213e9bc       88          N             0   \n",
       "3               Y  C_ID_4e6213e9bc       88          N             0   \n",
       "4               Y  C_ID_4e6213e9bc       88          N             0   \n",
       "\n",
       "  category_3  merchant_category_id      merchant_id  month_lag  \\\n",
       "0          A                    80  M_ID_e020e9b302         -8   \n",
       "1          A                   367  M_ID_86ec983688         -7   \n",
       "2          A                    80  M_ID_979ed661fc         -6   \n",
       "3          A                   560  M_ID_e6d5ae8ea6         -5   \n",
       "4          A                    80  M_ID_e020e9b302        -11   \n",
       "\n",
       "   purchase_amount        purchase_date   category_2  state_id  subsector_id  \n",
       "0    -0.7033309100  2017-06-25 15:33:07 1.0000000000        16            37  \n",
       "1    -0.7331284800  2017-07-15 12:10:45 1.0000000000        16            16  \n",
       "2    -0.7203860000  2017-08-09 22:04:29 1.0000000000        16            37  \n",
       "3    -0.7353524100  2017-09-02 10:06:26 1.0000000000        16            34  \n",
       "4    -0.7228653800  2017-03-10 01:14:19 1.0000000000        16            37  "
      ]
     },
     "execution_count": 4,
     "metadata": {},
     "output_type": "execute_result"
    }
   ],
   "source": [
    "all_transactions.head()"
   ]
  },
  {
   "cell_type": "code",
   "execution_count": 5,
   "metadata": {
    "ExecuteTime": {
     "end_time": "2019-02-24T13:31:35.649338Z",
     "start_time": "2019-02-24T13:31:35.176111Z"
    }
   },
   "outputs": [],
   "source": [
    "def shift_round(col):\n",
    "    # shift_round: reverse normalization ?\n",
    "    # where are the two numbers come from ?\n",
    "    return np.round(col / 0.00150265118 + 497.06, 2)\n",
    "\n",
    "all_transactions[\"purchase_amount_new\"] = shift_round(all_transactions[\"purchase_amount\"])"
   ]
  },
  {
   "cell_type": "code",
   "execution_count": 6,
   "metadata": {
    "ExecuteTime": {
     "end_time": "2019-02-24T13:31:35.731558Z",
     "start_time": "2019-02-24T13:31:35.725542Z"
    }
   },
   "outputs": [
    {
     "data": {
      "text/plain": [
       "authorized_flag          object\n",
       "card_id                  object\n",
       "city_id                   int64\n",
       "category_1               object\n",
       "installments              int64\n",
       "category_3               object\n",
       "merchant_category_id      int64\n",
       "merchant_id              object\n",
       "month_lag                 int64\n",
       "purchase_amount         float64\n",
       "purchase_date            object\n",
       "category_2              float64\n",
       "state_id                  int64\n",
       "subsector_id              int64\n",
       "purchase_amount_new     float64\n",
       "dtype: object"
      ]
     },
     "execution_count": 6,
     "metadata": {},
     "output_type": "execute_result"
    }
   ],
   "source": [
    "all_transactions.dtypes"
   ]
  },
  {
   "cell_type": "code",
   "execution_count": 7,
   "metadata": {
    "ExecuteTime": {
     "end_time": "2019-02-24T13:32:05.321242Z",
     "start_time": "2019-02-24T13:31:35.820795Z"
    }
   },
   "outputs": [],
   "source": [
    "all_transactions[\"month_abs\"] = all_transactions.purchase_date.apply(lambda x: int(x[:7].replace(\"-\", \"\")))"
   ]
  },
  {
   "cell_type": "code",
   "execution_count": 8,
   "metadata": {
    "ExecuteTime": {
     "end_time": "2019-02-24T13:32:05.644108Z",
     "start_time": "2019-02-24T13:32:05.414466Z"
    }
   },
   "outputs": [],
   "source": [
    "month_map = sorted(all_transactions.month_abs.unique())\n",
    "month_map = dict(zip(month_map, range(len(month_map))))"
   ]
  },
  {
   "cell_type": "code",
   "execution_count": 9,
   "metadata": {
    "ExecuteTime": {
     "end_time": "2019-02-24T13:32:06.465902Z",
     "start_time": "2019-02-24T13:32:05.715267Z"
    }
   },
   "outputs": [],
   "source": [
    "all_transactions[\"month_lag\"] = all_transactions.month_abs.map(month_map)"
   ]
  },
  {
   "cell_type": "code",
   "execution_count": 11,
   "metadata": {
    "ExecuteTime": {
     "end_time": "2019-02-24T13:33:19.516072Z",
     "start_time": "2019-02-24T13:33:19.084974Z"
    }
   },
   "outputs": [
    {
     "data": {
      "text/plain": [
       "0     1147922\n",
       "1     1206048\n",
       "2     1456591\n",
       "3     1448973\n",
       "4     1562029\n",
       "5     1698931\n",
       "6     2045658\n",
       "7     2233312\n",
       "8     2432105\n",
       "9     2547286\n",
       "10    2872400\n",
       "11    3480297\n",
       "12    2937362\n",
       "13    2541919\n",
       "14     806902\n",
       "15     657657\n",
       "Name: month_lag, dtype: int64"
      ]
     },
     "execution_count": 11,
     "metadata": {},
     "output_type": "execute_result"
    }
   ],
   "source": [
    "all_transactions.month_lag.value_counts().sort_index()"
   ]
  },
  {
   "cell_type": "code",
   "execution_count": 19,
   "metadata": {
    "ExecuteTime": {
     "end_time": "2019-02-18T12:22:21.956865Z",
     "start_time": "2019-02-18T12:22:21.937313Z"
    }
   },
   "outputs": [
    {
     "data": {
      "text/html": [
       "<div>\n",
       "<style scoped>\n",
       "    .dataframe tbody tr th:only-of-type {\n",
       "        vertical-align: middle;\n",
       "    }\n",
       "\n",
       "    .dataframe tbody tr th {\n",
       "        vertical-align: top;\n",
       "    }\n",
       "\n",
       "    .dataframe thead th {\n",
       "        text-align: right;\n",
       "    }\n",
       "</style>\n",
       "<table border=\"1\" class=\"dataframe\">\n",
       "  <thead>\n",
       "    <tr style=\"text-align: right;\">\n",
       "      <th></th>\n",
       "      <th>authorized_flag</th>\n",
       "      <th>card_id</th>\n",
       "      <th>city_id</th>\n",
       "      <th>category_1</th>\n",
       "      <th>installments</th>\n",
       "      <th>category_3</th>\n",
       "      <th>merchant_category_id</th>\n",
       "      <th>merchant_id</th>\n",
       "      <th>month_lag</th>\n",
       "      <th>purchase_amount</th>\n",
       "      <th>purchase_date</th>\n",
       "      <th>category_2</th>\n",
       "      <th>state_id</th>\n",
       "      <th>subsector_id</th>\n",
       "      <th>purchase_amount_new</th>\n",
       "      <th>month_abs</th>\n",
       "    </tr>\n",
       "  </thead>\n",
       "  <tbody>\n",
       "    <tr>\n",
       "      <th>0</th>\n",
       "      <td>Y</td>\n",
       "      <td>C_ID_4e6213e9bc</td>\n",
       "      <td>88</td>\n",
       "      <td>N</td>\n",
       "      <td>0</td>\n",
       "      <td>A</td>\n",
       "      <td>80</td>\n",
       "      <td>M_ID_e020e9b302</td>\n",
       "      <td>5</td>\n",
       "      <td>-0.7033309100</td>\n",
       "      <td>2017-06-25 15:33:07</td>\n",
       "      <td>1.0000000000</td>\n",
       "      <td>16</td>\n",
       "      <td>37</td>\n",
       "      <td>29.0000000000</td>\n",
       "      <td>201706</td>\n",
       "    </tr>\n",
       "    <tr>\n",
       "      <th>1</th>\n",
       "      <td>Y</td>\n",
       "      <td>C_ID_4e6213e9bc</td>\n",
       "      <td>88</td>\n",
       "      <td>N</td>\n",
       "      <td>0</td>\n",
       "      <td>A</td>\n",
       "      <td>367</td>\n",
       "      <td>M_ID_86ec983688</td>\n",
       "      <td>6</td>\n",
       "      <td>-0.7331284800</td>\n",
       "      <td>2017-07-15 12:10:45</td>\n",
       "      <td>1.0000000000</td>\n",
       "      <td>16</td>\n",
       "      <td>16</td>\n",
       "      <td>9.1700000000</td>\n",
       "      <td>201707</td>\n",
       "    </tr>\n",
       "    <tr>\n",
       "      <th>2</th>\n",
       "      <td>Y</td>\n",
       "      <td>C_ID_4e6213e9bc</td>\n",
       "      <td>88</td>\n",
       "      <td>N</td>\n",
       "      <td>0</td>\n",
       "      <td>A</td>\n",
       "      <td>80</td>\n",
       "      <td>M_ID_979ed661fc</td>\n",
       "      <td>7</td>\n",
       "      <td>-0.7203860000</td>\n",
       "      <td>2017-08-09 22:04:29</td>\n",
       "      <td>1.0000000000</td>\n",
       "      <td>16</td>\n",
       "      <td>37</td>\n",
       "      <td>17.6500000000</td>\n",
       "      <td>201708</td>\n",
       "    </tr>\n",
       "    <tr>\n",
       "      <th>3</th>\n",
       "      <td>Y</td>\n",
       "      <td>C_ID_4e6213e9bc</td>\n",
       "      <td>88</td>\n",
       "      <td>N</td>\n",
       "      <td>0</td>\n",
       "      <td>A</td>\n",
       "      <td>560</td>\n",
       "      <td>M_ID_e6d5ae8ea6</td>\n",
       "      <td>8</td>\n",
       "      <td>-0.7353524100</td>\n",
       "      <td>2017-09-02 10:06:26</td>\n",
       "      <td>1.0000000000</td>\n",
       "      <td>16</td>\n",
       "      <td>34</td>\n",
       "      <td>7.6900000000</td>\n",
       "      <td>201709</td>\n",
       "    </tr>\n",
       "    <tr>\n",
       "      <th>4</th>\n",
       "      <td>Y</td>\n",
       "      <td>C_ID_4e6213e9bc</td>\n",
       "      <td>88</td>\n",
       "      <td>N</td>\n",
       "      <td>0</td>\n",
       "      <td>A</td>\n",
       "      <td>80</td>\n",
       "      <td>M_ID_e020e9b302</td>\n",
       "      <td>2</td>\n",
       "      <td>-0.7228653800</td>\n",
       "      <td>2017-03-10 01:14:19</td>\n",
       "      <td>1.0000000000</td>\n",
       "      <td>16</td>\n",
       "      <td>37</td>\n",
       "      <td>16.0000000000</td>\n",
       "      <td>201703</td>\n",
       "    </tr>\n",
       "  </tbody>\n",
       "</table>\n",
       "</div>"
      ],
      "text/plain": [
       "  authorized_flag          card_id  city_id category_1  installments  \\\n",
       "0               Y  C_ID_4e6213e9bc       88          N             0   \n",
       "1               Y  C_ID_4e6213e9bc       88          N             0   \n",
       "2               Y  C_ID_4e6213e9bc       88          N             0   \n",
       "3               Y  C_ID_4e6213e9bc       88          N             0   \n",
       "4               Y  C_ID_4e6213e9bc       88          N             0   \n",
       "\n",
       "  category_3  merchant_category_id      merchant_id  month_lag  \\\n",
       "0          A                    80  M_ID_e020e9b302          5   \n",
       "1          A                   367  M_ID_86ec983688          6   \n",
       "2          A                    80  M_ID_979ed661fc          7   \n",
       "3          A                   560  M_ID_e6d5ae8ea6          8   \n",
       "4          A                    80  M_ID_e020e9b302          2   \n",
       "\n",
       "   purchase_amount        purchase_date   category_2  state_id  subsector_id  \\\n",
       "0    -0.7033309100  2017-06-25 15:33:07 1.0000000000        16            37   \n",
       "1    -0.7331284800  2017-07-15 12:10:45 1.0000000000        16            16   \n",
       "2    -0.7203860000  2017-08-09 22:04:29 1.0000000000        16            37   \n",
       "3    -0.7353524100  2017-09-02 10:06:26 1.0000000000        16            34   \n",
       "4    -0.7228653800  2017-03-10 01:14:19 1.0000000000        16            37   \n",
       "\n",
       "   purchase_amount_new  month_abs  \n",
       "0        29.0000000000     201706  \n",
       "1         9.1700000000     201707  \n",
       "2        17.6500000000     201708  \n",
       "3         7.6900000000     201709  \n",
       "4        16.0000000000     201703  "
      ]
     },
     "execution_count": 19,
     "metadata": {},
     "output_type": "execute_result"
    }
   ],
   "source": [
    "all_transactions.head()"
   ]
  },
  {
   "cell_type": "markdown",
   "metadata": {},
   "source": [
    "# monthly_payment"
   ]
  },
  {
   "cell_type": "code",
   "execution_count": 23,
   "metadata": {
    "ExecuteTime": {
     "end_time": "2019-02-18T12:24:14.688605Z",
     "start_time": "2019-02-18T12:23:59.133071Z"
    }
   },
   "outputs": [],
   "source": [
    "monthly_payment = (all_transactions.groupby([\"card_id\", \"month_lag\"])\n",
    "                                   .purchase_amount_new.sum()\n",
    "                                   .reset_index(name=\"monthly_pa\")\n",
    "                                   .sort_values([\"card_id\", \"month_lag\"]))"
   ]
  },
  {
   "cell_type": "code",
   "execution_count": 24,
   "metadata": {
    "ExecuteTime": {
     "end_time": "2019-02-18T12:24:14.793866Z",
     "start_time": "2019-02-18T12:24:14.785333Z"
    }
   },
   "outputs": [
    {
     "data": {
      "text/html": [
       "<div>\n",
       "<style scoped>\n",
       "    .dataframe tbody tr th:only-of-type {\n",
       "        vertical-align: middle;\n",
       "    }\n",
       "\n",
       "    .dataframe tbody tr th {\n",
       "        vertical-align: top;\n",
       "    }\n",
       "\n",
       "    .dataframe thead th {\n",
       "        text-align: right;\n",
       "    }\n",
       "</style>\n",
       "<table border=\"1\" class=\"dataframe\">\n",
       "  <thead>\n",
       "    <tr style=\"text-align: right;\">\n",
       "      <th></th>\n",
       "      <th>card_id</th>\n",
       "      <th>month_lag</th>\n",
       "      <th>monthly_pa</th>\n",
       "    </tr>\n",
       "  </thead>\n",
       "  <tbody>\n",
       "    <tr>\n",
       "      <th>0</th>\n",
       "      <td>C_ID_00007093c1</td>\n",
       "      <td>1</td>\n",
       "      <td>1100.2000000000</td>\n",
       "    </tr>\n",
       "    <tr>\n",
       "      <th>1</th>\n",
       "      <td>C_ID_00007093c1</td>\n",
       "      <td>2</td>\n",
       "      <td>1168.9000000000</td>\n",
       "    </tr>\n",
       "    <tr>\n",
       "      <th>2</th>\n",
       "      <td>C_ID_00007093c1</td>\n",
       "      <td>3</td>\n",
       "      <td>1633.2500000000</td>\n",
       "    </tr>\n",
       "    <tr>\n",
       "      <th>3</th>\n",
       "      <td>C_ID_00007093c1</td>\n",
       "      <td>4</td>\n",
       "      <td>2691.1300000000</td>\n",
       "    </tr>\n",
       "    <tr>\n",
       "      <th>4</th>\n",
       "      <td>C_ID_00007093c1</td>\n",
       "      <td>5</td>\n",
       "      <td>2876.6300000000</td>\n",
       "    </tr>\n",
       "  </tbody>\n",
       "</table>\n",
       "</div>"
      ],
      "text/plain": [
       "           card_id  month_lag      monthly_pa\n",
       "0  C_ID_00007093c1          1 1100.2000000000\n",
       "1  C_ID_00007093c1          2 1168.9000000000\n",
       "2  C_ID_00007093c1          3 1633.2500000000\n",
       "3  C_ID_00007093c1          4 2691.1300000000\n",
       "4  C_ID_00007093c1          5 2876.6300000000"
      ]
     },
     "execution_count": 24,
     "metadata": {},
     "output_type": "execute_result"
    }
   ],
   "source": [
    "monthly_payment.head()"
   ]
  },
  {
   "cell_type": "markdown",
   "metadata": {},
   "source": [
    "# psum with rolling ratio"
   ]
  },
  {
   "cell_type": "code",
   "execution_count": 9,
   "metadata": {
    "ExecuteTime": {
     "end_time": "2019-02-16T05:45:19.975926Z",
     "start_time": "2019-02-16T05:45:19.880673Z"
    }
   },
   "outputs": [],
   "source": [
    "part = monthly_payment[:10000].copy()\n",
    "\n",
    "part[\"ratio_1\"] = part.rolling(window=2).monthly_pa.apply(lambda x: x[1] / x[0], raw=True)\n",
    "part[\"lag_offset\"] = part.rolling(window=2).month_lag.apply(lambda x: x[-1] - x[0], raw=True)\n",
    "part.loc[part.lag_offset < 0, \"ratio_1\"] = np.NaN\n",
    "del part[\"lag_offset\"]\n",
    "\n",
    "for i in range(3):\n",
    "    window_size = i + 2\n",
    "    sum_col = \"sum_{}\".format(window_size)\n",
    "    ratio_col = \"ratio_{}\".format(window_size)\n",
    "    part[\"lag_offset\"] = part.rolling(window=window_size).month_lag.apply(lambda x: x[-1] - x[0], raw=True)\n",
    "    part[sum_col] = part.rolling(window=window_size).monthly_pa.sum()\n",
    "    part.loc[part.lag_offset < 0, sum_col] = np.NaN\n",
    "    part[ratio_col] = part.rolling(window=2)[sum_col].apply(lambda x: x[1] / x[0], raw=True)\n",
    "    part.loc[part.lag_offset < 0, ratio_col] = np.NaN\n",
    "    del part[\"lag_offset\"]\n",
    "\n",
    "part[\"sum_1\"] = part.monthly_pa"
   ]
  },
  {
   "cell_type": "code",
   "execution_count": 10,
   "metadata": {
    "ExecuteTime": {
     "end_time": "2019-02-16T05:45:20.058167Z",
     "start_time": "2019-02-16T05:45:19.978943Z"
    }
   },
   "outputs": [
    {
     "name": "stderr",
     "output_type": "stream",
     "text": [
      "C:\\Users\\admin\\AppData\\Local\\conda\\conda\\envs\\py36\\lib\\site-packages\\ipykernel_launcher.py:6: FutureWarning: Sorting because non-concatenation axis is not aligned. A future version\n",
      "of pandas will change to not sort by default.\n",
      "\n",
      "To accept the future behavior, pass 'sort=False'.\n",
      "\n",
      "To retain the current behavior and silence the warning, pass 'sort=True'.\n",
      "\n",
      "  \n"
     ]
    }
   ],
   "source": [
    "monthly_payment_features = pd.DataFrame()\n",
    "\n",
    "for month in range(16):\n",
    "    temp = part[part.month_lag == month_lag].set_index(\"card_id\").drop([\"month_lag\", \"monthly_pa\"], axis=1).rename(columns=lambda x: \"{}_lag{}\".format(x, month_lag))\n",
    "    monthly_payment_features = pd.concat([monthly_payment_features, temp], axis=1)"
   ]
  },
  {
   "cell_type": "code",
   "execution_count": 25,
   "metadata": {
    "ExecuteTime": {
     "end_time": "2019-02-18T12:24:35.336023Z",
     "start_time": "2019-02-18T12:24:35.328002Z"
    }
   },
   "outputs": [],
   "source": [
    "def calc_monthly_payment_features(part):\n",
    "    part[\"ratio_1\"] = part.rolling(window=2).monthly_pa.apply(lambda x: x[1] / x[0], raw=True)\n",
    "    part[\"lag_offset\"] = part.rolling(window=2).month_lag.apply(lambda x: x[-1] - x[0], raw=True)\n",
    "    part.loc[part.lag_offset < 0, \"ratio_1\"] = np.NaN\n",
    "    del part[\"lag_offset\"]\n",
    "\n",
    "    for i in range(3):\n",
    "        window_size = i + 2\n",
    "        sum_col = \"sum_{}\".format(window_size)\n",
    "        ratio_col = \"ratio_{}\".format(window_size)\n",
    "        part[\"lag_offset\"] = part.rolling(window=window_size).month_lag.apply(lambda x: x[-1] - x[0], raw=True)\n",
    "        part[sum_col] = part.rolling(window=window_size).monthly_pa.sum()\n",
    "        part.loc[part.lag_offset < 0, sum_col] = np.NaN\n",
    "        part[ratio_col] = part.rolling(window=2)[sum_col].apply(lambda x: x[1] / x[0], raw=True)\n",
    "        part.loc[part.lag_offset < 0, ratio_col] = np.NaN\n",
    "        del part[\"lag_offset\"]\n",
    "\n",
    "    part[\"sum_1\"] = part.monthly_pa\n",
    "    \n",
    "    monthly_payment_features = pd.DataFrame()\n",
    "\n",
    "    for month in range(16):\n",
    "        month_lag = month\n",
    "        temp = part[part.month_lag == month_lag].set_index(\"card_id\").drop([\"month_lag\", \"monthly_pa\"], axis=1).rename(columns=lambda x: \"{}_lag{}\".format(x, month_lag))\n",
    "        monthly_payment_features = pd.concat([monthly_payment_features, temp], axis=1)\n",
    "    return monthly_payment_features"
   ]
  },
  {
   "cell_type": "code",
   "execution_count": 26,
   "metadata": {
    "ExecuteTime": {
     "end_time": "2019-02-18T12:24:36.676903Z",
     "start_time": "2019-02-18T12:24:36.673895Z"
    }
   },
   "outputs": [],
   "source": [
    "from data_io import features_downcast\n",
    "from downcast import save_dataframe32, load_dataframe32"
   ]
  },
  {
   "cell_type": "code",
   "execution_count": 27,
   "metadata": {
    "ExecuteTime": {
     "end_time": "2019-02-18T12:25:27.418098Z",
     "start_time": "2019-02-18T12:24:42.310760Z"
    }
   },
   "outputs": [],
   "source": [
    "features_df = calc_monthly_payment_features(monthly_payment)\n",
    "features_df.shape\n",
    "features_df.index.nunique()\n",
    "features_df.reset_index().head()\n",
    "\n",
    "save_dataframe32(features_downcast(\"monthly_psum_abs\"),\n",
    "                 features_df.reset_index().rename(columns={\"index\":\"card_id\"}), keep=[\"card_id\"])"
   ]
  },
  {
   "cell_type": "markdown",
   "metadata": {},
   "source": [
    "# next"
   ]
  },
  {
   "cell_type": "markdown",
   "metadata": {},
   "source": [
    "1. pmax with rolling ratio\n",
    "2. c-m std\n",
    "3. m std\n",
    "4. max-m count\n",
    "5. max-m count/ month count\n",
    "6. max-m std"
   ]
  },
  {
   "cell_type": "markdown",
   "metadata": {},
   "source": [
    "# pmax with rolling ratio"
   ]
  },
  {
   "cell_type": "code",
   "execution_count": 30,
   "metadata": {
    "ExecuteTime": {
     "end_time": "2019-02-18T12:26:11.823281Z",
     "start_time": "2019-02-18T12:26:03.372407Z"
    }
   },
   "outputs": [],
   "source": [
    "monthly_payment_pmax = (all_transactions.groupby([\"card_id\", \"month_lag\"])\n",
    "                                        .purchase_amount_new.max()\n",
    "                                        .reset_index(name=\"monthly_pa\")\n",
    "                                        .sort_values([\"card_id\", \"month_lag\"]))"
   ]
  },
  {
   "cell_type": "code",
   "execution_count": 31,
   "metadata": {
    "ExecuteTime": {
     "end_time": "2019-02-18T12:26:11.978697Z",
     "start_time": "2019-02-18T12:26:11.968669Z"
    }
   },
   "outputs": [
    {
     "data": {
      "text/html": [
       "<div>\n",
       "<style scoped>\n",
       "    .dataframe tbody tr th:only-of-type {\n",
       "        vertical-align: middle;\n",
       "    }\n",
       "\n",
       "    .dataframe tbody tr th {\n",
       "        vertical-align: top;\n",
       "    }\n",
       "\n",
       "    .dataframe thead th {\n",
       "        text-align: right;\n",
       "    }\n",
       "</style>\n",
       "<table border=\"1\" class=\"dataframe\">\n",
       "  <thead>\n",
       "    <tr style=\"text-align: right;\">\n",
       "      <th></th>\n",
       "      <th>card_id</th>\n",
       "      <th>month_lag</th>\n",
       "      <th>monthly_pa</th>\n",
       "    </tr>\n",
       "  </thead>\n",
       "  <tbody>\n",
       "    <tr>\n",
       "      <th>0</th>\n",
       "      <td>C_ID_00007093c1</td>\n",
       "      <td>1</td>\n",
       "      <td>521.8000000000</td>\n",
       "    </tr>\n",
       "    <tr>\n",
       "      <th>1</th>\n",
       "      <td>C_ID_00007093c1</td>\n",
       "      <td>2</td>\n",
       "      <td>230.0000000000</td>\n",
       "    </tr>\n",
       "    <tr>\n",
       "      <th>2</th>\n",
       "      <td>C_ID_00007093c1</td>\n",
       "      <td>3</td>\n",
       "      <td>500.0000000000</td>\n",
       "    </tr>\n",
       "    <tr>\n",
       "      <th>3</th>\n",
       "      <td>C_ID_00007093c1</td>\n",
       "      <td>4</td>\n",
       "      <td>702.0000000000</td>\n",
       "    </tr>\n",
       "    <tr>\n",
       "      <th>4</th>\n",
       "      <td>C_ID_00007093c1</td>\n",
       "      <td>5</td>\n",
       "      <td>500.0000000000</td>\n",
       "    </tr>\n",
       "  </tbody>\n",
       "</table>\n",
       "</div>"
      ],
      "text/plain": [
       "           card_id  month_lag     monthly_pa\n",
       "0  C_ID_00007093c1          1 521.8000000000\n",
       "1  C_ID_00007093c1          2 230.0000000000\n",
       "2  C_ID_00007093c1          3 500.0000000000\n",
       "3  C_ID_00007093c1          4 702.0000000000\n",
       "4  C_ID_00007093c1          5 500.0000000000"
      ]
     },
     "execution_count": 31,
     "metadata": {},
     "output_type": "execute_result"
    }
   ],
   "source": [
    "monthly_payment_pmax.head()"
   ]
  },
  {
   "cell_type": "code",
   "execution_count": 32,
   "metadata": {
    "ExecuteTime": {
     "end_time": "2019-02-18T12:26:58.192053Z",
     "start_time": "2019-02-18T12:26:12.138136Z"
    }
   },
   "outputs": [],
   "source": [
    "features_df = calc_monthly_payment_features(monthly_payment_pmax)\n",
    "save_dataframe32(features_downcast(\"monthly_pmax_abs\"),\n",
    "                 features_df.reset_index().rename(columns={\"index\":\"card_id\"}), keep=[\"card_id\"])"
   ]
  },
  {
   "cell_type": "markdown",
   "metadata": {},
   "source": [
    "# main_merchant"
   ]
  },
  {
   "cell_type": "code",
   "execution_count": 45,
   "metadata": {
    "ExecuteTime": {
     "end_time": "2019-02-24T13:46:13.152283Z",
     "start_time": "2019-02-24T13:46:11.037695Z"
    }
   },
   "outputs": [
    {
     "data": {
      "text/plain": [
       "325540"
      ]
     },
     "execution_count": 45,
     "metadata": {},
     "output_type": "execute_result"
    }
   ],
   "source": [
    "all_transactions.card_id.nunique()"
   ]
  },
  {
   "cell_type": "code",
   "execution_count": 12,
   "metadata": {
    "ExecuteTime": {
     "end_time": "2019-02-24T13:34:40.908983Z",
     "start_time": "2019-02-24T13:34:02.166992Z"
    }
   },
   "outputs": [],
   "source": [
    "monthly_payment_merchant_psum =  (all_transactions.groupby([\"card_id\", \"month_lag\", \"merchant_id\"])\n",
    "                                                  .purchase_amount_new.sum()\n",
    "                                                  .reset_index(name=\"monthly_pa\")\n",
    "                                                  .sort_values([\"card_id\", \"month_lag\"]))"
   ]
  },
  {
   "cell_type": "code",
   "execution_count": 13,
   "metadata": {
    "ExecuteTime": {
     "end_time": "2019-02-24T13:34:41.025293Z",
     "start_time": "2019-02-24T13:34:41.014266Z"
    }
   },
   "outputs": [
    {
     "data": {
      "text/html": [
       "<div>\n",
       "<style scoped>\n",
       "    .dataframe tbody tr th:only-of-type {\n",
       "        vertical-align: middle;\n",
       "    }\n",
       "\n",
       "    .dataframe tbody tr th {\n",
       "        vertical-align: top;\n",
       "    }\n",
       "\n",
       "    .dataframe thead th {\n",
       "        text-align: right;\n",
       "    }\n",
       "</style>\n",
       "<table border=\"1\" class=\"dataframe\">\n",
       "  <thead>\n",
       "    <tr style=\"text-align: right;\">\n",
       "      <th></th>\n",
       "      <th>card_id</th>\n",
       "      <th>month_lag</th>\n",
       "      <th>merchant_id</th>\n",
       "      <th>monthly_pa</th>\n",
       "    </tr>\n",
       "  </thead>\n",
       "  <tbody>\n",
       "    <tr>\n",
       "      <th>0</th>\n",
       "      <td>C_ID_00007093c1</td>\n",
       "      <td>1</td>\n",
       "      <td>M_ID_69423b34e4</td>\n",
       "      <td>521.8000000000</td>\n",
       "    </tr>\n",
       "    <tr>\n",
       "      <th>1</th>\n",
       "      <td>C_ID_00007093c1</td>\n",
       "      <td>1</td>\n",
       "      <td>M_ID_9400cf2342</td>\n",
       "      <td>116.0000000000</td>\n",
       "    </tr>\n",
       "    <tr>\n",
       "      <th>2</th>\n",
       "      <td>C_ID_00007093c1</td>\n",
       "      <td>1</td>\n",
       "      <td>M_ID_a33355a1b7</td>\n",
       "      <td>462.4000000000</td>\n",
       "    </tr>\n",
       "    <tr>\n",
       "      <th>3</th>\n",
       "      <td>C_ID_00007093c1</td>\n",
       "      <td>2</td>\n",
       "      <td>M_ID_69423b34e4</td>\n",
       "      <td>515.9000000000</td>\n",
       "    </tr>\n",
       "    <tr>\n",
       "      <th>4</th>\n",
       "      <td>C_ID_00007093c1</td>\n",
       "      <td>2</td>\n",
       "      <td>M_ID_9400cf2342</td>\n",
       "      <td>653.0000000000</td>\n",
       "    </tr>\n",
       "  </tbody>\n",
       "</table>\n",
       "</div>"
      ],
      "text/plain": [
       "           card_id  month_lag      merchant_id     monthly_pa\n",
       "0  C_ID_00007093c1          1  M_ID_69423b34e4 521.8000000000\n",
       "1  C_ID_00007093c1          1  M_ID_9400cf2342 116.0000000000\n",
       "2  C_ID_00007093c1          1  M_ID_a33355a1b7 462.4000000000\n",
       "3  C_ID_00007093c1          2  M_ID_69423b34e4 515.9000000000\n",
       "4  C_ID_00007093c1          2  M_ID_9400cf2342 653.0000000000"
      ]
     },
     "execution_count": 13,
     "metadata": {},
     "output_type": "execute_result"
    }
   ],
   "source": [
    "monthly_payment_merchant_psum.head()"
   ]
  },
  {
   "cell_type": "code",
   "execution_count": 14,
   "metadata": {
    "ExecuteTime": {
     "end_time": "2019-02-24T13:34:55.344357Z",
     "start_time": "2019-02-24T13:34:49.014556Z"
    }
   },
   "outputs": [],
   "source": [
    "monthly_payment_merchant_psum_pmax = (monthly_payment_merchant_psum.groupby([\"card_id\", \"month_lag\"])\n",
    "                                                                   .monthly_pa.max()\n",
    "                                                                   .reset_index(name=\"monthly_pa\")\n",
    "                                                                   .sort_values([\"card_id\", \"month_lag\"]))"
   ]
  },
  {
   "cell_type": "code",
   "execution_count": 15,
   "metadata": {
    "ExecuteTime": {
     "end_time": "2019-02-24T13:35:07.515236Z",
     "start_time": "2019-02-24T13:35:07.507236Z"
    }
   },
   "outputs": [
    {
     "data": {
      "text/html": [
       "<div>\n",
       "<style scoped>\n",
       "    .dataframe tbody tr th:only-of-type {\n",
       "        vertical-align: middle;\n",
       "    }\n",
       "\n",
       "    .dataframe tbody tr th {\n",
       "        vertical-align: top;\n",
       "    }\n",
       "\n",
       "    .dataframe thead th {\n",
       "        text-align: right;\n",
       "    }\n",
       "</style>\n",
       "<table border=\"1\" class=\"dataframe\">\n",
       "  <thead>\n",
       "    <tr style=\"text-align: right;\">\n",
       "      <th></th>\n",
       "      <th>card_id</th>\n",
       "      <th>month_lag</th>\n",
       "      <th>monthly_pa</th>\n",
       "    </tr>\n",
       "  </thead>\n",
       "  <tbody>\n",
       "    <tr>\n",
       "      <th>0</th>\n",
       "      <td>C_ID_00007093c1</td>\n",
       "      <td>1</td>\n",
       "      <td>521.8000000000</td>\n",
       "    </tr>\n",
       "    <tr>\n",
       "      <th>1</th>\n",
       "      <td>C_ID_00007093c1</td>\n",
       "      <td>2</td>\n",
       "      <td>653.0000000000</td>\n",
       "    </tr>\n",
       "    <tr>\n",
       "      <th>2</th>\n",
       "      <td>C_ID_00007093c1</td>\n",
       "      <td>3</td>\n",
       "      <td>718.4500000000</td>\n",
       "    </tr>\n",
       "    <tr>\n",
       "      <th>3</th>\n",
       "      <td>C_ID_00007093c1</td>\n",
       "      <td>4</td>\n",
       "      <td>2204.0000000000</td>\n",
       "    </tr>\n",
       "    <tr>\n",
       "      <th>4</th>\n",
       "      <td>C_ID_00007093c1</td>\n",
       "      <td>5</td>\n",
       "      <td>1400.0000000000</td>\n",
       "    </tr>\n",
       "  </tbody>\n",
       "</table>\n",
       "</div>"
      ],
      "text/plain": [
       "           card_id  month_lag      monthly_pa\n",
       "0  C_ID_00007093c1          1  521.8000000000\n",
       "1  C_ID_00007093c1          2  653.0000000000\n",
       "2  C_ID_00007093c1          3  718.4500000000\n",
       "3  C_ID_00007093c1          4 2204.0000000000\n",
       "4  C_ID_00007093c1          5 1400.0000000000"
      ]
     },
     "execution_count": 15,
     "metadata": {},
     "output_type": "execute_result"
    }
   ],
   "source": [
    "monthly_payment_merchant_psum_pmax.head()"
   ]
  },
  {
   "cell_type": "code",
   "execution_count": 47,
   "metadata": {
    "ExecuteTime": {
     "end_time": "2019-02-24T13:48:26.462539Z",
     "start_time": "2019-02-24T13:48:02.416616Z"
    }
   },
   "outputs": [],
   "source": [
    "monthly_payment_merchant_psum[\"card_id_extend\"] = monthly_payment_merchant_psum.card_id + \"_\" + monthly_payment_merchant_psum.month_lag.astype(str)\n",
    "monthly_payment_merchant_psum_pmax[\"card_id_extend\"] = monthly_payment_merchant_psum_pmax.card_id + \"_\" + monthly_payment_merchant_psum_pmax.month_lag.astype(str)\n",
    "monthly_payment_merchant_psum[\"monthly_pa_max\"] = monthly_payment_merchant_psum.card_id_extend.map(monthly_payment_merchant_psum_pmax.set_index(\"card_id_extend\").monthly_pa)\n",
    "monthly_main_merchant = monthly_payment_merchant_psum[monthly_payment_merchant_psum.monthly_pa == monthly_payment_merchant_psum.monthly_pa_max]"
   ]
  },
  {
   "cell_type": "code",
   "execution_count": 66,
   "metadata": {
    "ExecuteTime": {
     "end_time": "2019-02-24T15:05:01.548395Z",
     "start_time": "2019-02-24T15:05:01.537366Z"
    }
   },
   "outputs": [
    {
     "data": {
      "text/html": [
       "<div>\n",
       "<style scoped>\n",
       "    .dataframe tbody tr th:only-of-type {\n",
       "        vertical-align: middle;\n",
       "    }\n",
       "\n",
       "    .dataframe tbody tr th {\n",
       "        vertical-align: top;\n",
       "    }\n",
       "\n",
       "    .dataframe thead th {\n",
       "        text-align: right;\n",
       "    }\n",
       "</style>\n",
       "<table border=\"1\" class=\"dataframe\">\n",
       "  <thead>\n",
       "    <tr style=\"text-align: right;\">\n",
       "      <th></th>\n",
       "      <th>card_id</th>\n",
       "      <th>month_lag</th>\n",
       "      <th>merchant_id</th>\n",
       "      <th>monthly_pa</th>\n",
       "      <th>card_id_extend</th>\n",
       "      <th>monthly_pa_max</th>\n",
       "      <th>m_code</th>\n",
       "    </tr>\n",
       "  </thead>\n",
       "  <tbody>\n",
       "    <tr>\n",
       "      <th>0</th>\n",
       "      <td>C_ID_00007093c1</td>\n",
       "      <td>1</td>\n",
       "      <td>M_ID_69423b34e4</td>\n",
       "      <td>521.8000000000</td>\n",
       "      <td>C_ID_00007093c1_1</td>\n",
       "      <td>521.8000000000</td>\n",
       "      <td>100434</td>\n",
       "    </tr>\n",
       "    <tr>\n",
       "      <th>4</th>\n",
       "      <td>C_ID_00007093c1</td>\n",
       "      <td>2</td>\n",
       "      <td>M_ID_9400cf2342</td>\n",
       "      <td>653.0000000000</td>\n",
       "      <td>C_ID_00007093c1_2</td>\n",
       "      <td>653.0000000000</td>\n",
       "      <td>141523</td>\n",
       "    </tr>\n",
       "    <tr>\n",
       "      <th>6</th>\n",
       "      <td>C_ID_00007093c1</td>\n",
       "      <td>3</td>\n",
       "      <td>M_ID_69423b34e4</td>\n",
       "      <td>718.4500000000</td>\n",
       "      <td>C_ID_00007093c1_3</td>\n",
       "      <td>718.4500000000</td>\n",
       "      <td>100434</td>\n",
       "    </tr>\n",
       "    <tr>\n",
       "      <th>11</th>\n",
       "      <td>C_ID_00007093c1</td>\n",
       "      <td>4</td>\n",
       "      <td>M_ID_15446e939c</td>\n",
       "      <td>2204.0000000000</td>\n",
       "      <td>C_ID_00007093c1_4</td>\n",
       "      <td>2204.0000000000</td>\n",
       "      <td>20468</td>\n",
       "    </tr>\n",
       "    <tr>\n",
       "      <th>22</th>\n",
       "      <td>C_ID_00007093c1</td>\n",
       "      <td>5</td>\n",
       "      <td>M_ID_ee8fcd02ca</td>\n",
       "      <td>1400.0000000000</td>\n",
       "      <td>C_ID_00007093c1_5</td>\n",
       "      <td>1400.0000000000</td>\n",
       "      <td>227801</td>\n",
       "    </tr>\n",
       "  </tbody>\n",
       "</table>\n",
       "</div>"
      ],
      "text/plain": [
       "            card_id  month_lag      merchant_id      monthly_pa  \\\n",
       "0   C_ID_00007093c1          1  M_ID_69423b34e4  521.8000000000   \n",
       "4   C_ID_00007093c1          2  M_ID_9400cf2342  653.0000000000   \n",
       "6   C_ID_00007093c1          3  M_ID_69423b34e4  718.4500000000   \n",
       "11  C_ID_00007093c1          4  M_ID_15446e939c 2204.0000000000   \n",
       "22  C_ID_00007093c1          5  M_ID_ee8fcd02ca 1400.0000000000   \n",
       "\n",
       "       card_id_extend  monthly_pa_max  m_code  \n",
       "0   C_ID_00007093c1_1  521.8000000000  100434  \n",
       "4   C_ID_00007093c1_2  653.0000000000  141523  \n",
       "6   C_ID_00007093c1_3  718.4500000000  100434  \n",
       "11  C_ID_00007093c1_4 2204.0000000000   20468  \n",
       "22  C_ID_00007093c1_5 1400.0000000000  227801  "
      ]
     },
     "execution_count": 66,
     "metadata": {},
     "output_type": "execute_result"
    }
   ],
   "source": [
    "monthly_main_merchant.head()"
   ]
  },
  {
   "cell_type": "code",
   "execution_count": 49,
   "metadata": {
    "ExecuteTime": {
     "end_time": "2019-02-24T13:48:32.279002Z",
     "start_time": "2019-02-24T13:48:26.749308Z"
    }
   },
   "outputs": [
    {
     "name": "stderr",
     "output_type": "stream",
     "text": [
      "C:\\Users\\admin\\AppData\\Local\\conda\\conda\\envs\\py36\\lib\\site-packages\\ipykernel_launcher.py:3: SettingWithCopyWarning: \n",
      "A value is trying to be set on a copy of a slice from a DataFrame.\n",
      "Try using .loc[row_indexer,col_indexer] = value instead\n",
      "\n",
      "See the caveats in the documentation: http://pandas.pydata.org/pandas-docs/stable/indexing.html#indexing-view-versus-copy\n",
      "  This is separate from the ipykernel package so we can avoid doing imports until\n"
     ]
    }
   ],
   "source": [
    "from sklearn.preprocessing import LabelEncoder\n",
    "m_ecd = LabelEncoder()\n",
    "monthly_main_merchant[\"m_code\"] = m_ecd.fit_transform(monthly_main_merchant.merchant_id)"
   ]
  },
  {
   "cell_type": "code",
   "execution_count": 50,
   "metadata": {
    "ExecuteTime": {
     "end_time": "2019-02-24T13:48:47.542285Z",
     "start_time": "2019-02-24T13:48:47.538306Z"
    }
   },
   "outputs": [
    {
     "data": {
      "text/plain": [
       "(3053315, 7)"
      ]
     },
     "execution_count": 50,
     "metadata": {},
     "output_type": "execute_result"
    }
   ],
   "source": [
    "monthly_main_merchant.shape"
   ]
  },
  {
   "cell_type": "code",
   "execution_count": 51,
   "metadata": {
    "ExecuteTime": {
     "end_time": "2019-02-24T13:48:49.780234Z",
     "start_time": "2019-02-24T13:48:49.769202Z"
    }
   },
   "outputs": [
    {
     "data": {
      "text/html": [
       "<div>\n",
       "<style scoped>\n",
       "    .dataframe tbody tr th:only-of-type {\n",
       "        vertical-align: middle;\n",
       "    }\n",
       "\n",
       "    .dataframe tbody tr th {\n",
       "        vertical-align: top;\n",
       "    }\n",
       "\n",
       "    .dataframe thead th {\n",
       "        text-align: right;\n",
       "    }\n",
       "</style>\n",
       "<table border=\"1\" class=\"dataframe\">\n",
       "  <thead>\n",
       "    <tr style=\"text-align: right;\">\n",
       "      <th></th>\n",
       "      <th>card_id</th>\n",
       "      <th>month_lag</th>\n",
       "      <th>merchant_id</th>\n",
       "      <th>monthly_pa</th>\n",
       "      <th>card_id_extend</th>\n",
       "      <th>monthly_pa_max</th>\n",
       "      <th>m_code</th>\n",
       "    </tr>\n",
       "  </thead>\n",
       "  <tbody>\n",
       "    <tr>\n",
       "      <th>0</th>\n",
       "      <td>C_ID_00007093c1</td>\n",
       "      <td>1</td>\n",
       "      <td>M_ID_69423b34e4</td>\n",
       "      <td>521.8000000000</td>\n",
       "      <td>C_ID_00007093c1_1</td>\n",
       "      <td>521.8000000000</td>\n",
       "      <td>100434</td>\n",
       "    </tr>\n",
       "    <tr>\n",
       "      <th>4</th>\n",
       "      <td>C_ID_00007093c1</td>\n",
       "      <td>2</td>\n",
       "      <td>M_ID_9400cf2342</td>\n",
       "      <td>653.0000000000</td>\n",
       "      <td>C_ID_00007093c1_2</td>\n",
       "      <td>653.0000000000</td>\n",
       "      <td>141523</td>\n",
       "    </tr>\n",
       "    <tr>\n",
       "      <th>6</th>\n",
       "      <td>C_ID_00007093c1</td>\n",
       "      <td>3</td>\n",
       "      <td>M_ID_69423b34e4</td>\n",
       "      <td>718.4500000000</td>\n",
       "      <td>C_ID_00007093c1_3</td>\n",
       "      <td>718.4500000000</td>\n",
       "      <td>100434</td>\n",
       "    </tr>\n",
       "    <tr>\n",
       "      <th>11</th>\n",
       "      <td>C_ID_00007093c1</td>\n",
       "      <td>4</td>\n",
       "      <td>M_ID_15446e939c</td>\n",
       "      <td>2204.0000000000</td>\n",
       "      <td>C_ID_00007093c1_4</td>\n",
       "      <td>2204.0000000000</td>\n",
       "      <td>20468</td>\n",
       "    </tr>\n",
       "    <tr>\n",
       "      <th>22</th>\n",
       "      <td>C_ID_00007093c1</td>\n",
       "      <td>5</td>\n",
       "      <td>M_ID_ee8fcd02ca</td>\n",
       "      <td>1400.0000000000</td>\n",
       "      <td>C_ID_00007093c1_5</td>\n",
       "      <td>1400.0000000000</td>\n",
       "      <td>227801</td>\n",
       "    </tr>\n",
       "  </tbody>\n",
       "</table>\n",
       "</div>"
      ],
      "text/plain": [
       "            card_id  month_lag      merchant_id      monthly_pa  \\\n",
       "0   C_ID_00007093c1          1  M_ID_69423b34e4  521.8000000000   \n",
       "4   C_ID_00007093c1          2  M_ID_9400cf2342  653.0000000000   \n",
       "6   C_ID_00007093c1          3  M_ID_69423b34e4  718.4500000000   \n",
       "11  C_ID_00007093c1          4  M_ID_15446e939c 2204.0000000000   \n",
       "22  C_ID_00007093c1          5  M_ID_ee8fcd02ca 1400.0000000000   \n",
       "\n",
       "       card_id_extend  monthly_pa_max  m_code  \n",
       "0   C_ID_00007093c1_1  521.8000000000  100434  \n",
       "4   C_ID_00007093c1_2  653.0000000000  141523  \n",
       "6   C_ID_00007093c1_3  718.4500000000  100434  \n",
       "11  C_ID_00007093c1_4 2204.0000000000   20468  \n",
       "22  C_ID_00007093c1_5 1400.0000000000  227801  "
      ]
     },
     "execution_count": 51,
     "metadata": {},
     "output_type": "execute_result"
    }
   ],
   "source": [
    "monthly_main_merchant.head()"
   ]
  },
  {
   "cell_type": "code",
   "execution_count": 52,
   "metadata": {
    "ExecuteTime": {
     "end_time": "2019-02-24T13:49:05.785781Z",
     "start_time": "2019-02-24T13:49:03.630051Z"
    }
   },
   "outputs": [
    {
     "data": {
      "text/plain": [
       "(3040375, 7)"
      ]
     },
     "execution_count": 52,
     "metadata": {},
     "output_type": "execute_result"
    }
   ],
   "source": [
    "monthly_main_merchant = monthly_main_merchant.drop_duplicates(subset=\"card_id_extend\")\n",
    "monthly_main_merchant.shape"
   ]
  },
  {
   "cell_type": "code",
   "execution_count": 57,
   "metadata": {
    "ExecuteTime": {
     "end_time": "2019-02-24T13:49:50.672085Z",
     "start_time": "2019-02-24T13:49:44.771373Z"
    }
   },
   "outputs": [],
   "source": [
    "monthly_payment_features = pd.DataFrame({\n",
    "    \"main_m_lag{}\".format(month): monthly_main_merchant[monthly_main_merchant.month_lag == month].set_index(\"card_id\").m_code + 1\n",
    "    for month in range(16)\n",
    "})"
   ]
  },
  {
   "cell_type": "code",
   "execution_count": 64,
   "metadata": {
    "ExecuteTime": {
     "end_time": "2019-02-24T13:58:19.905572Z",
     "start_time": "2019-02-24T13:58:18.213075Z"
    }
   },
   "outputs": [
    {
     "data": {
      "text/plain": [
       "244022"
      ]
     },
     "execution_count": 64,
     "metadata": {},
     "output_type": "execute_result"
    }
   ],
   "source": [
    "monthly_main_merchant.merchant_id.nunique()"
   ]
  },
  {
   "cell_type": "code",
   "execution_count": 61,
   "metadata": {
    "ExecuteTime": {
     "end_time": "2019-02-24T13:50:27.055630Z",
     "start_time": "2019-02-24T13:50:26.981430Z"
    }
   },
   "outputs": [],
   "source": [
    "monthly_payment_features = monthly_payment_features.fillna(0).astype(int)"
   ]
  },
  {
   "cell_type": "code",
   "execution_count": 58,
   "metadata": {
    "ExecuteTime": {
     "end_time": "2019-02-24T13:49:51.883287Z",
     "start_time": "2019-02-24T13:49:51.878292Z"
    }
   },
   "outputs": [
    {
     "data": {
      "text/plain": [
       "(325540, 16)"
      ]
     },
     "execution_count": 58,
     "metadata": {},
     "output_type": "execute_result"
    }
   ],
   "source": [
    "monthly_payment_features.shape"
   ]
  },
  {
   "cell_type": "code",
   "execution_count": 67,
   "metadata": {
    "ExecuteTime": {
     "end_time": "2019-02-24T15:06:10.911356Z",
     "start_time": "2019-02-24T15:06:03.602929Z"
    }
   },
   "outputs": [],
   "source": [
    "monthly_payment_pa = pd.DataFrame({\n",
    "    \"main_m_lag{}\".format(month): monthly_main_merchant[monthly_main_merchant.month_lag == month].set_index(\"card_id\").monthly_pa\n",
    "    for month in range(16)\n",
    "})"
   ]
  },
  {
   "cell_type": "code",
   "execution_count": 68,
   "metadata": {
    "ExecuteTime": {
     "end_time": "2019-02-24T15:06:11.700466Z",
     "start_time": "2019-02-24T15:06:11.687438Z"
    },
    "scrolled": false
   },
   "outputs": [
    {
     "data": {
      "text/html": [
       "<div>\n",
       "<style scoped>\n",
       "    .dataframe tbody tr th:only-of-type {\n",
       "        vertical-align: middle;\n",
       "    }\n",
       "\n",
       "    .dataframe tbody tr th {\n",
       "        vertical-align: top;\n",
       "    }\n",
       "\n",
       "    .dataframe thead th {\n",
       "        text-align: right;\n",
       "    }\n",
       "</style>\n",
       "<table border=\"1\" class=\"dataframe\">\n",
       "  <thead>\n",
       "    <tr style=\"text-align: right;\">\n",
       "      <th></th>\n",
       "      <th>main_m_lag0</th>\n",
       "      <th>main_m_lag1</th>\n",
       "      <th>main_m_lag2</th>\n",
       "      <th>main_m_lag3</th>\n",
       "      <th>main_m_lag4</th>\n",
       "      <th>main_m_lag5</th>\n",
       "      <th>main_m_lag6</th>\n",
       "      <th>main_m_lag7</th>\n",
       "      <th>main_m_lag8</th>\n",
       "      <th>main_m_lag9</th>\n",
       "      <th>main_m_lag10</th>\n",
       "      <th>main_m_lag11</th>\n",
       "      <th>main_m_lag12</th>\n",
       "      <th>main_m_lag13</th>\n",
       "      <th>main_m_lag14</th>\n",
       "      <th>main_m_lag15</th>\n",
       "    </tr>\n",
       "  </thead>\n",
       "  <tbody>\n",
       "    <tr>\n",
       "      <th>C_ID_00007093c1</th>\n",
       "      <td>nan</td>\n",
       "      <td>521.8000000000</td>\n",
       "      <td>653.0000000000</td>\n",
       "      <td>718.4500000000</td>\n",
       "      <td>2204.0000000000</td>\n",
       "      <td>1400.0000000000</td>\n",
       "      <td>331.0000000000</td>\n",
       "      <td>2900.0000000000</td>\n",
       "      <td>220.0000000000</td>\n",
       "      <td>413.0000000000</td>\n",
       "      <td>527.0000000000</td>\n",
       "      <td>782.0000000000</td>\n",
       "      <td>430.0000000000</td>\n",
       "      <td>500.0000000000</td>\n",
       "      <td>nan</td>\n",
       "      <td>60.0000000000</td>\n",
       "    </tr>\n",
       "    <tr>\n",
       "      <th>C_ID_0001238066</th>\n",
       "      <td>nan</td>\n",
       "      <td>nan</td>\n",
       "      <td>nan</td>\n",
       "      <td>nan</td>\n",
       "      <td>nan</td>\n",
       "      <td>nan</td>\n",
       "      <td>nan</td>\n",
       "      <td>nan</td>\n",
       "      <td>127.1300000000</td>\n",
       "      <td>430.0100000000</td>\n",
       "      <td>661.5600000000</td>\n",
       "      <td>792.7100000000</td>\n",
       "      <td>1008.2200000000</td>\n",
       "      <td>771.8300000000</td>\n",
       "      <td>444.9400000000</td>\n",
       "      <td>250.0000000000</td>\n",
       "    </tr>\n",
       "    <tr>\n",
       "      <th>C_ID_0001506ef0</th>\n",
       "      <td>39.0000000000</td>\n",
       "      <td>79.0000000000</td>\n",
       "      <td>58.2000000000</td>\n",
       "      <td>nan</td>\n",
       "      <td>30.0000000000</td>\n",
       "      <td>16.3300000000</td>\n",
       "      <td>1017.0000000000</td>\n",
       "      <td>842.0000000000</td>\n",
       "      <td>750.0000000000</td>\n",
       "      <td>910.7400000000</td>\n",
       "      <td>881.1400000000</td>\n",
       "      <td>750.0000000000</td>\n",
       "      <td>1100.0000000000</td>\n",
       "      <td>1491.0000000000</td>\n",
       "      <td>9.9200000000</td>\n",
       "      <td>nan</td>\n",
       "    </tr>\n",
       "    <tr>\n",
       "      <th>C_ID_0001793786</th>\n",
       "      <td>1174.8300000000</td>\n",
       "      <td>1475.5800000000</td>\n",
       "      <td>2290.1800000000</td>\n",
       "      <td>2078.1700000000</td>\n",
       "      <td>1621.6100000000</td>\n",
       "      <td>3527.8000000000</td>\n",
       "      <td>5733.9000000000</td>\n",
       "      <td>1650.8000000000</td>\n",
       "      <td>3445.7600000000</td>\n",
       "      <td>1443.2500000000</td>\n",
       "      <td>2580.0000000000</td>\n",
       "      <td>1500.0000000000</td>\n",
       "      <td>nan</td>\n",
       "      <td>nan</td>\n",
       "      <td>nan</td>\n",
       "      <td>nan</td>\n",
       "    </tr>\n",
       "    <tr>\n",
       "      <th>C_ID_000183fdda</th>\n",
       "      <td>nan</td>\n",
       "      <td>nan</td>\n",
       "      <td>nan</td>\n",
       "      <td>nan</td>\n",
       "      <td>nan</td>\n",
       "      <td>nan</td>\n",
       "      <td>nan</td>\n",
       "      <td>2158.2000000000</td>\n",
       "      <td>609.2000000000</td>\n",
       "      <td>541.2200000000</td>\n",
       "      <td>1764.9000000000</td>\n",
       "      <td>1960.0000000000</td>\n",
       "      <td>2337.0000000000</td>\n",
       "      <td>1374.9300000000</td>\n",
       "      <td>191.2000000000</td>\n",
       "      <td>425.4000000000</td>\n",
       "    </tr>\n",
       "  </tbody>\n",
       "</table>\n",
       "</div>"
      ],
      "text/plain": [
       "                    main_m_lag0     main_m_lag1     main_m_lag2  \\\n",
       "C_ID_00007093c1             nan  521.8000000000  653.0000000000   \n",
       "C_ID_0001238066             nan             nan             nan   \n",
       "C_ID_0001506ef0   39.0000000000   79.0000000000   58.2000000000   \n",
       "C_ID_0001793786 1174.8300000000 1475.5800000000 2290.1800000000   \n",
       "C_ID_000183fdda             nan             nan             nan   \n",
       "\n",
       "                    main_m_lag3     main_m_lag4     main_m_lag5  \\\n",
       "C_ID_00007093c1  718.4500000000 2204.0000000000 1400.0000000000   \n",
       "C_ID_0001238066             nan             nan             nan   \n",
       "C_ID_0001506ef0             nan   30.0000000000   16.3300000000   \n",
       "C_ID_0001793786 2078.1700000000 1621.6100000000 3527.8000000000   \n",
       "C_ID_000183fdda             nan             nan             nan   \n",
       "\n",
       "                    main_m_lag6     main_m_lag7     main_m_lag8  \\\n",
       "C_ID_00007093c1  331.0000000000 2900.0000000000  220.0000000000   \n",
       "C_ID_0001238066             nan             nan  127.1300000000   \n",
       "C_ID_0001506ef0 1017.0000000000  842.0000000000  750.0000000000   \n",
       "C_ID_0001793786 5733.9000000000 1650.8000000000 3445.7600000000   \n",
       "C_ID_000183fdda             nan 2158.2000000000  609.2000000000   \n",
       "\n",
       "                    main_m_lag9    main_m_lag10    main_m_lag11  \\\n",
       "C_ID_00007093c1  413.0000000000  527.0000000000  782.0000000000   \n",
       "C_ID_0001238066  430.0100000000  661.5600000000  792.7100000000   \n",
       "C_ID_0001506ef0  910.7400000000  881.1400000000  750.0000000000   \n",
       "C_ID_0001793786 1443.2500000000 2580.0000000000 1500.0000000000   \n",
       "C_ID_000183fdda  541.2200000000 1764.9000000000 1960.0000000000   \n",
       "\n",
       "                   main_m_lag12    main_m_lag13   main_m_lag14   main_m_lag15  \n",
       "C_ID_00007093c1  430.0000000000  500.0000000000            nan  60.0000000000  \n",
       "C_ID_0001238066 1008.2200000000  771.8300000000 444.9400000000 250.0000000000  \n",
       "C_ID_0001506ef0 1100.0000000000 1491.0000000000   9.9200000000            nan  \n",
       "C_ID_0001793786             nan             nan            nan            nan  \n",
       "C_ID_000183fdda 2337.0000000000 1374.9300000000 191.2000000000 425.4000000000  "
      ]
     },
     "execution_count": 68,
     "metadata": {},
     "output_type": "execute_result"
    }
   ],
   "source": [
    "monthly_payment_pa.head()"
   ]
  },
  {
   "cell_type": "code",
   "execution_count": 63,
   "metadata": {
    "ExecuteTime": {
     "end_time": "2019-02-24T13:51:47.937253Z",
     "start_time": "2019-02-24T13:51:41.584834Z"
    }
   },
   "outputs": [],
   "source": [
    "monthly_payment_features.to_csv(\"./data/train_test_main_merchant.csv\")"
   ]
  },
  {
   "cell_type": "code",
   "execution_count": 69,
   "metadata": {
    "ExecuteTime": {
     "end_time": "2019-02-24T15:06:36.035181Z",
     "start_time": "2019-02-24T15:06:31.410870Z"
    }
   },
   "outputs": [],
   "source": [
    "monthly_payment_pa.to_csv(\"./data/train_test_main_merchant_pa.csv\")"
   ]
  },
  {
   "cell_type": "markdown",
   "metadata": {},
   "source": [
    "# merchant_length"
   ]
  },
  {
   "cell_type": "markdown",
   "metadata": {},
   "source": [
    "more\n",
    "1. daynum\n",
    "2. ratio"
   ]
  },
  {
   "cell_type": "code",
   "execution_count": 38,
   "metadata": {
    "ExecuteTime": {
     "end_time": "2019-02-18T12:29:18.433624Z",
     "start_time": "2019-02-18T12:29:01.026178Z"
    }
   },
   "outputs": [],
   "source": [
    "merchant_dura = (monthly_payment_merchant_psum.groupby([\"card_id\", \"merchant_id\"])\n",
    "                                              .size()\n",
    "                                              .reset_index(name=\"merchant_dura\"))"
   ]
  },
  {
   "cell_type": "code",
   "execution_count": 40,
   "metadata": {
    "ExecuteTime": {
     "end_time": "2019-02-18T12:30:00.128427Z",
     "start_time": "2019-02-18T12:30:00.118400Z"
    }
   },
   "outputs": [
    {
     "data": {
      "text/html": [
       "<div>\n",
       "<style scoped>\n",
       "    .dataframe tbody tr th:only-of-type {\n",
       "        vertical-align: middle;\n",
       "    }\n",
       "\n",
       "    .dataframe tbody tr th {\n",
       "        vertical-align: top;\n",
       "    }\n",
       "\n",
       "    .dataframe thead th {\n",
       "        text-align: right;\n",
       "    }\n",
       "</style>\n",
       "<table border=\"1\" class=\"dataframe\">\n",
       "  <thead>\n",
       "    <tr style=\"text-align: right;\">\n",
       "      <th></th>\n",
       "      <th>card_id</th>\n",
       "      <th>merchant_id</th>\n",
       "      <th>merchant_dura</th>\n",
       "    </tr>\n",
       "  </thead>\n",
       "  <tbody>\n",
       "    <tr>\n",
       "      <th>0</th>\n",
       "      <td>C_ID_00007093c1</td>\n",
       "      <td>M_ID_00a6ca8a8a</td>\n",
       "      <td>1</td>\n",
       "    </tr>\n",
       "    <tr>\n",
       "      <th>1</th>\n",
       "      <td>C_ID_00007093c1</td>\n",
       "      <td>M_ID_0379adb435</td>\n",
       "      <td>4</td>\n",
       "    </tr>\n",
       "    <tr>\n",
       "      <th>2</th>\n",
       "      <td>C_ID_00007093c1</td>\n",
       "      <td>M_ID_06a8d84366</td>\n",
       "      <td>1</td>\n",
       "    </tr>\n",
       "    <tr>\n",
       "      <th>3</th>\n",
       "      <td>C_ID_00007093c1</td>\n",
       "      <td>M_ID_08f01305af</td>\n",
       "      <td>1</td>\n",
       "    </tr>\n",
       "    <tr>\n",
       "      <th>4</th>\n",
       "      <td>C_ID_00007093c1</td>\n",
       "      <td>M_ID_0dabc5a70c</td>\n",
       "      <td>2</td>\n",
       "    </tr>\n",
       "  </tbody>\n",
       "</table>\n",
       "</div>"
      ],
      "text/plain": [
       "           card_id      merchant_id  merchant_dura\n",
       "0  C_ID_00007093c1  M_ID_00a6ca8a8a              1\n",
       "1  C_ID_00007093c1  M_ID_0379adb435              4\n",
       "2  C_ID_00007093c1  M_ID_06a8d84366              1\n",
       "3  C_ID_00007093c1  M_ID_08f01305af              1\n",
       "4  C_ID_00007093c1  M_ID_0dabc5a70c              2"
      ]
     },
     "execution_count": 40,
     "metadata": {},
     "output_type": "execute_result"
    }
   ],
   "source": [
    "merchant_dura.head()"
   ]
  },
  {
   "cell_type": "code",
   "execution_count": 41,
   "metadata": {
    "ExecuteTime": {
     "end_time": "2019-02-18T12:31:01.555151Z",
     "start_time": "2019-02-18T12:30:57.471246Z"
    }
   },
   "outputs": [],
   "source": [
    "merchant_dura_count = (merchant_dura.groupby([\"card_id\", \"merchant_dura\"])\n",
    "                                    .size()\n",
    "                                    .reset_index(name=\"count\"))"
   ]
  },
  {
   "cell_type": "code",
   "execution_count": 42,
   "metadata": {
    "ExecuteTime": {
     "end_time": "2019-02-18T12:31:06.658385Z",
     "start_time": "2019-02-18T12:31:06.648372Z"
    }
   },
   "outputs": [
    {
     "data": {
      "text/html": [
       "<div>\n",
       "<style scoped>\n",
       "    .dataframe tbody tr th:only-of-type {\n",
       "        vertical-align: middle;\n",
       "    }\n",
       "\n",
       "    .dataframe tbody tr th {\n",
       "        vertical-align: top;\n",
       "    }\n",
       "\n",
       "    .dataframe thead th {\n",
       "        text-align: right;\n",
       "    }\n",
       "</style>\n",
       "<table border=\"1\" class=\"dataframe\">\n",
       "  <thead>\n",
       "    <tr style=\"text-align: right;\">\n",
       "      <th></th>\n",
       "      <th>card_id</th>\n",
       "      <th>merchant_dura</th>\n",
       "      <th>count</th>\n",
       "    </tr>\n",
       "  </thead>\n",
       "  <tbody>\n",
       "    <tr>\n",
       "      <th>0</th>\n",
       "      <td>C_ID_00007093c1</td>\n",
       "      <td>1</td>\n",
       "      <td>15</td>\n",
       "    </tr>\n",
       "    <tr>\n",
       "      <th>1</th>\n",
       "      <td>C_ID_00007093c1</td>\n",
       "      <td>2</td>\n",
       "      <td>7</td>\n",
       "    </tr>\n",
       "    <tr>\n",
       "      <th>2</th>\n",
       "      <td>C_ID_00007093c1</td>\n",
       "      <td>3</td>\n",
       "      <td>5</td>\n",
       "    </tr>\n",
       "    <tr>\n",
       "      <th>3</th>\n",
       "      <td>C_ID_00007093c1</td>\n",
       "      <td>4</td>\n",
       "      <td>1</td>\n",
       "    </tr>\n",
       "    <tr>\n",
       "      <th>4</th>\n",
       "      <td>C_ID_00007093c1</td>\n",
       "      <td>7</td>\n",
       "      <td>1</td>\n",
       "    </tr>\n",
       "  </tbody>\n",
       "</table>\n",
       "</div>"
      ],
      "text/plain": [
       "           card_id  merchant_dura  count\n",
       "0  C_ID_00007093c1              1     15\n",
       "1  C_ID_00007093c1              2      7\n",
       "2  C_ID_00007093c1              3      5\n",
       "3  C_ID_00007093c1              4      1\n",
       "4  C_ID_00007093c1              7      1"
      ]
     },
     "execution_count": 42,
     "metadata": {},
     "output_type": "execute_result"
    }
   ],
   "source": [
    "merchant_dura_count.head()"
   ]
  },
  {
   "cell_type": "code",
   "execution_count": 45,
   "metadata": {
    "ExecuteTime": {
     "end_time": "2019-02-18T13:02:26.926391Z",
     "start_time": "2019-02-18T13:02:18.614075Z"
    }
   },
   "outputs": [],
   "source": [
    "df_features = pd.DataFrame()\n",
    "\n",
    "for dura in range(14):\n",
    "    temp = (merchant_dura_count[merchant_dura_count.merchant_dura == dura + 1].set_index(\"card_id\")\n",
    "                                                                              .drop([\"merchant_dura\"], axis=1)\n",
    "                                                                              .rename(columns=lambda x: \"{}_dura{}\".format(x, dura + 1)))\n",
    "    df_features = pd.concat([df_features, temp], axis=1)"
   ]
  },
  {
   "cell_type": "code",
   "execution_count": 49,
   "metadata": {
    "ExecuteTime": {
     "end_time": "2019-02-18T13:06:36.286531Z",
     "start_time": "2019-02-18T13:06:36.169211Z"
    }
   },
   "outputs": [],
   "source": [
    "df_features[\"count_total\"] = df_features.sum(axis=1)\n",
    "\n",
    "for dura in range(14):\n",
    "    count_col = \"count_dura{}\".format(dura + 1)\n",
    "    ratio_col = \"ratio_dura{}\".format(dura + 1)\n",
    "    df_features[ratio_col] = df_features[count_col] / df_features[\"count_total\"]"
   ]
  },
  {
   "cell_type": "code",
   "execution_count": 51,
   "metadata": {
    "ExecuteTime": {
     "end_time": "2019-02-18T13:07:39.148552Z",
     "start_time": "2019-02-18T13:07:37.132402Z"
    }
   },
   "outputs": [],
   "source": [
    "save_dataframe32(features_downcast(\"duar_count\"),\n",
    "                 df_features.reset_index().rename(columns={\"index\":\"card_id\"}), keep=[\"card_id\"])"
   ]
  },
  {
   "cell_type": "code",
   "execution_count": 50,
   "metadata": {
    "ExecuteTime": {
     "end_time": "2019-02-18T13:06:38.355558Z",
     "start_time": "2019-02-18T13:06:38.340487Z"
    }
   },
   "outputs": [
    {
     "data": {
      "text/html": [
       "<div>\n",
       "<style scoped>\n",
       "    .dataframe tbody tr th:only-of-type {\n",
       "        vertical-align: middle;\n",
       "    }\n",
       "\n",
       "    .dataframe tbody tr th {\n",
       "        vertical-align: top;\n",
       "    }\n",
       "\n",
       "    .dataframe thead th {\n",
       "        text-align: right;\n",
       "    }\n",
       "</style>\n",
       "<table border=\"1\" class=\"dataframe\">\n",
       "  <thead>\n",
       "    <tr style=\"text-align: right;\">\n",
       "      <th></th>\n",
       "      <th>C_ID_00007093c1</th>\n",
       "      <th>C_ID_0001238066</th>\n",
       "      <th>C_ID_0001506ef0</th>\n",
       "      <th>C_ID_0001793786</th>\n",
       "      <th>C_ID_000183fdda</th>\n",
       "    </tr>\n",
       "  </thead>\n",
       "  <tbody>\n",
       "    <tr>\n",
       "      <th>count_dura1</th>\n",
       "      <td>15.0000000000</td>\n",
       "      <td>82.0000000000</td>\n",
       "      <td>22.0000000000</td>\n",
       "      <td>128.0000000000</td>\n",
       "      <td>62.0000000000</td>\n",
       "    </tr>\n",
       "    <tr>\n",
       "      <th>count_dura2</th>\n",
       "      <td>7.0000000000</td>\n",
       "      <td>4.0000000000</td>\n",
       "      <td>3.0000000000</td>\n",
       "      <td>12.0000000000</td>\n",
       "      <td>12.0000000000</td>\n",
       "    </tr>\n",
       "    <tr>\n",
       "      <th>count_dura3</th>\n",
       "      <td>5.0000000000</td>\n",
       "      <td>1.0000000000</td>\n",
       "      <td>nan</td>\n",
       "      <td>3.0000000000</td>\n",
       "      <td>6.0000000000</td>\n",
       "    </tr>\n",
       "    <tr>\n",
       "      <th>count_dura4</th>\n",
       "      <td>1.0000000000</td>\n",
       "      <td>nan</td>\n",
       "      <td>2.0000000000</td>\n",
       "      <td>2.0000000000</td>\n",
       "      <td>3.0000000000</td>\n",
       "    </tr>\n",
       "    <tr>\n",
       "      <th>count_dura5</th>\n",
       "      <td>nan</td>\n",
       "      <td>2.0000000000</td>\n",
       "      <td>nan</td>\n",
       "      <td>2.0000000000</td>\n",
       "      <td>1.0000000000</td>\n",
       "    </tr>\n",
       "    <tr>\n",
       "      <th>count_dura6</th>\n",
       "      <td>nan</td>\n",
       "      <td>1.0000000000</td>\n",
       "      <td>1.0000000000</td>\n",
       "      <td>1.0000000000</td>\n",
       "      <td>nan</td>\n",
       "    </tr>\n",
       "    <tr>\n",
       "      <th>count_dura7</th>\n",
       "      <td>1.0000000000</td>\n",
       "      <td>nan</td>\n",
       "      <td>nan</td>\n",
       "      <td>2.0000000000</td>\n",
       "      <td>nan</td>\n",
       "    </tr>\n",
       "    <tr>\n",
       "      <th>count_dura8</th>\n",
       "      <td>nan</td>\n",
       "      <td>nan</td>\n",
       "      <td>nan</td>\n",
       "      <td>nan</td>\n",
       "      <td>nan</td>\n",
       "    </tr>\n",
       "    <tr>\n",
       "      <th>count_dura9</th>\n",
       "      <td>nan</td>\n",
       "      <td>nan</td>\n",
       "      <td>1.0000000000</td>\n",
       "      <td>nan</td>\n",
       "      <td>nan</td>\n",
       "    </tr>\n",
       "    <tr>\n",
       "      <th>count_dura10</th>\n",
       "      <td>1.0000000000</td>\n",
       "      <td>nan</td>\n",
       "      <td>nan</td>\n",
       "      <td>nan</td>\n",
       "      <td>nan</td>\n",
       "    </tr>\n",
       "    <tr>\n",
       "      <th>count_dura11</th>\n",
       "      <td>1.0000000000</td>\n",
       "      <td>nan</td>\n",
       "      <td>nan</td>\n",
       "      <td>nan</td>\n",
       "      <td>nan</td>\n",
       "    </tr>\n",
       "    <tr>\n",
       "      <th>count_dura12</th>\n",
       "      <td>nan</td>\n",
       "      <td>nan</td>\n",
       "      <td>nan</td>\n",
       "      <td>nan</td>\n",
       "      <td>nan</td>\n",
       "    </tr>\n",
       "    <tr>\n",
       "      <th>count_dura13</th>\n",
       "      <td>nan</td>\n",
       "      <td>nan</td>\n",
       "      <td>nan</td>\n",
       "      <td>nan</td>\n",
       "      <td>nan</td>\n",
       "    </tr>\n",
       "    <tr>\n",
       "      <th>count_dura14</th>\n",
       "      <td>nan</td>\n",
       "      <td>nan</td>\n",
       "      <td>nan</td>\n",
       "      <td>nan</td>\n",
       "      <td>nan</td>\n",
       "    </tr>\n",
       "    <tr>\n",
       "      <th>count_total</th>\n",
       "      <td>31.0000000000</td>\n",
       "      <td>90.0000000000</td>\n",
       "      <td>29.0000000000</td>\n",
       "      <td>150.0000000000</td>\n",
       "      <td>84.0000000000</td>\n",
       "    </tr>\n",
       "    <tr>\n",
       "      <th>ratio_dura1</th>\n",
       "      <td>0.4838709677</td>\n",
       "      <td>0.9111111111</td>\n",
       "      <td>0.7586206897</td>\n",
       "      <td>0.8533333333</td>\n",
       "      <td>0.7380952381</td>\n",
       "    </tr>\n",
       "    <tr>\n",
       "      <th>ratio_dura2</th>\n",
       "      <td>0.2258064516</td>\n",
       "      <td>0.0444444444</td>\n",
       "      <td>0.1034482759</td>\n",
       "      <td>0.0800000000</td>\n",
       "      <td>0.1428571429</td>\n",
       "    </tr>\n",
       "    <tr>\n",
       "      <th>ratio_dura3</th>\n",
       "      <td>0.1612903226</td>\n",
       "      <td>0.0111111111</td>\n",
       "      <td>nan</td>\n",
       "      <td>0.0200000000</td>\n",
       "      <td>0.0714285714</td>\n",
       "    </tr>\n",
       "    <tr>\n",
       "      <th>ratio_dura4</th>\n",
       "      <td>0.0322580645</td>\n",
       "      <td>nan</td>\n",
       "      <td>0.0689655172</td>\n",
       "      <td>0.0133333333</td>\n",
       "      <td>0.0357142857</td>\n",
       "    </tr>\n",
       "    <tr>\n",
       "      <th>ratio_dura5</th>\n",
       "      <td>nan</td>\n",
       "      <td>0.0222222222</td>\n",
       "      <td>nan</td>\n",
       "      <td>0.0133333333</td>\n",
       "      <td>0.0119047619</td>\n",
       "    </tr>\n",
       "    <tr>\n",
       "      <th>ratio_dura6</th>\n",
       "      <td>nan</td>\n",
       "      <td>0.0111111111</td>\n",
       "      <td>0.0344827586</td>\n",
       "      <td>0.0066666667</td>\n",
       "      <td>nan</td>\n",
       "    </tr>\n",
       "    <tr>\n",
       "      <th>ratio_dura7</th>\n",
       "      <td>0.0322580645</td>\n",
       "      <td>nan</td>\n",
       "      <td>nan</td>\n",
       "      <td>0.0133333333</td>\n",
       "      <td>nan</td>\n",
       "    </tr>\n",
       "    <tr>\n",
       "      <th>ratio_dura8</th>\n",
       "      <td>nan</td>\n",
       "      <td>nan</td>\n",
       "      <td>nan</td>\n",
       "      <td>nan</td>\n",
       "      <td>nan</td>\n",
       "    </tr>\n",
       "    <tr>\n",
       "      <th>ratio_dura9</th>\n",
       "      <td>nan</td>\n",
       "      <td>nan</td>\n",
       "      <td>0.0344827586</td>\n",
       "      <td>nan</td>\n",
       "      <td>nan</td>\n",
       "    </tr>\n",
       "    <tr>\n",
       "      <th>ratio_dura10</th>\n",
       "      <td>0.0322580645</td>\n",
       "      <td>nan</td>\n",
       "      <td>nan</td>\n",
       "      <td>nan</td>\n",
       "      <td>nan</td>\n",
       "    </tr>\n",
       "    <tr>\n",
       "      <th>ratio_dura11</th>\n",
       "      <td>0.0322580645</td>\n",
       "      <td>nan</td>\n",
       "      <td>nan</td>\n",
       "      <td>nan</td>\n",
       "      <td>nan</td>\n",
       "    </tr>\n",
       "    <tr>\n",
       "      <th>ratio_dura12</th>\n",
       "      <td>nan</td>\n",
       "      <td>nan</td>\n",
       "      <td>nan</td>\n",
       "      <td>nan</td>\n",
       "      <td>nan</td>\n",
       "    </tr>\n",
       "    <tr>\n",
       "      <th>ratio_dura13</th>\n",
       "      <td>nan</td>\n",
       "      <td>nan</td>\n",
       "      <td>nan</td>\n",
       "      <td>nan</td>\n",
       "      <td>nan</td>\n",
       "    </tr>\n",
       "    <tr>\n",
       "      <th>ratio_dura14</th>\n",
       "      <td>nan</td>\n",
       "      <td>nan</td>\n",
       "      <td>nan</td>\n",
       "      <td>nan</td>\n",
       "      <td>nan</td>\n",
       "    </tr>\n",
       "  </tbody>\n",
       "</table>\n",
       "</div>"
      ],
      "text/plain": [
       "              C_ID_00007093c1  C_ID_0001238066  C_ID_0001506ef0  \\\n",
       "count_dura1     15.0000000000    82.0000000000    22.0000000000   \n",
       "count_dura2      7.0000000000     4.0000000000     3.0000000000   \n",
       "count_dura3      5.0000000000     1.0000000000              nan   \n",
       "count_dura4      1.0000000000              nan     2.0000000000   \n",
       "count_dura5               nan     2.0000000000              nan   \n",
       "count_dura6               nan     1.0000000000     1.0000000000   \n",
       "count_dura7      1.0000000000              nan              nan   \n",
       "count_dura8               nan              nan              nan   \n",
       "count_dura9               nan              nan     1.0000000000   \n",
       "count_dura10     1.0000000000              nan              nan   \n",
       "count_dura11     1.0000000000              nan              nan   \n",
       "count_dura12              nan              nan              nan   \n",
       "count_dura13              nan              nan              nan   \n",
       "count_dura14              nan              nan              nan   \n",
       "count_total     31.0000000000    90.0000000000    29.0000000000   \n",
       "ratio_dura1      0.4838709677     0.9111111111     0.7586206897   \n",
       "ratio_dura2      0.2258064516     0.0444444444     0.1034482759   \n",
       "ratio_dura3      0.1612903226     0.0111111111              nan   \n",
       "ratio_dura4      0.0322580645              nan     0.0689655172   \n",
       "ratio_dura5               nan     0.0222222222              nan   \n",
       "ratio_dura6               nan     0.0111111111     0.0344827586   \n",
       "ratio_dura7      0.0322580645              nan              nan   \n",
       "ratio_dura8               nan              nan              nan   \n",
       "ratio_dura9               nan              nan     0.0344827586   \n",
       "ratio_dura10     0.0322580645              nan              nan   \n",
       "ratio_dura11     0.0322580645              nan              nan   \n",
       "ratio_dura12              nan              nan              nan   \n",
       "ratio_dura13              nan              nan              nan   \n",
       "ratio_dura14              nan              nan              nan   \n",
       "\n",
       "              C_ID_0001793786  C_ID_000183fdda  \n",
       "count_dura1    128.0000000000    62.0000000000  \n",
       "count_dura2     12.0000000000    12.0000000000  \n",
       "count_dura3      3.0000000000     6.0000000000  \n",
       "count_dura4      2.0000000000     3.0000000000  \n",
       "count_dura5      2.0000000000     1.0000000000  \n",
       "count_dura6      1.0000000000              nan  \n",
       "count_dura7      2.0000000000              nan  \n",
       "count_dura8               nan              nan  \n",
       "count_dura9               nan              nan  \n",
       "count_dura10              nan              nan  \n",
       "count_dura11              nan              nan  \n",
       "count_dura12              nan              nan  \n",
       "count_dura13              nan              nan  \n",
       "count_dura14              nan              nan  \n",
       "count_total    150.0000000000    84.0000000000  \n",
       "ratio_dura1      0.8533333333     0.7380952381  \n",
       "ratio_dura2      0.0800000000     0.1428571429  \n",
       "ratio_dura3      0.0200000000     0.0714285714  \n",
       "ratio_dura4      0.0133333333     0.0357142857  \n",
       "ratio_dura5      0.0133333333     0.0119047619  \n",
       "ratio_dura6      0.0066666667              nan  \n",
       "ratio_dura7      0.0133333333              nan  \n",
       "ratio_dura8               nan              nan  \n",
       "ratio_dura9               nan              nan  \n",
       "ratio_dura10              nan              nan  \n",
       "ratio_dura11              nan              nan  \n",
       "ratio_dura12              nan              nan  \n",
       "ratio_dura13              nan              nan  \n",
       "ratio_dura14              nan              nan  "
      ]
     },
     "execution_count": 50,
     "metadata": {},
     "output_type": "execute_result"
    }
   ],
   "source": [
    "df_features.head().T"
   ]
  },
  {
   "cell_type": "code",
   "execution_count": 39,
   "metadata": {
    "ExecuteTime": {
     "end_time": "2019-02-18T12:29:20.330563Z",
     "start_time": "2019-02-18T12:29:20.138021Z"
    }
   },
   "outputs": [
    {
     "data": {
      "text/plain": [
       "1     9687983\n",
       "2     1605279\n",
       "3      671822\n",
       "4      350670\n",
       "5      204864\n",
       "6      129588\n",
       "7       84699\n",
       "8       57202\n",
       "9       40143\n",
       "10      28105\n",
       "11      20239\n",
       "12      15009\n",
       "13      11280\n",
       "14      10637\n",
       "Name: merchant_dura, dtype: int64"
      ]
     },
     "execution_count": 39,
     "metadata": {},
     "output_type": "execute_result"
    }
   ],
   "source": [
    "merchant_dura.merchant_dura.value_counts()"
   ]
  },
  {
   "cell_type": "markdown",
   "metadata": {},
   "source": [
    "# merchant avg std"
   ]
  },
  {
   "cell_type": "code",
   "execution_count": 52,
   "metadata": {
    "ExecuteTime": {
     "end_time": "2019-02-18T13:08:19.579079Z",
     "start_time": "2019-02-18T13:07:49.281817Z"
    }
   },
   "outputs": [],
   "source": [
    "merchant_avg_std = (all_transactions.groupby([\"merchant_id\", \"card_id\"])\n",
    "                                    .purchase_amount_new.std().reset_index(name=\"pa_std\")\n",
    "                                    .groupby(\"merchant_id\").pa_std.mean().reset_index(name=\"pa_std_avg\"))"
   ]
  },
  {
   "cell_type": "code",
   "execution_count": 53,
   "metadata": {
    "ExecuteTime": {
     "end_time": "2019-02-18T13:08:19.815175Z",
     "start_time": "2019-02-18T13:08:19.806680Z"
    }
   },
   "outputs": [
    {
     "data": {
      "text/html": [
       "<div>\n",
       "<style scoped>\n",
       "    .dataframe tbody tr th:only-of-type {\n",
       "        vertical-align: middle;\n",
       "    }\n",
       "\n",
       "    .dataframe tbody tr th {\n",
       "        vertical-align: top;\n",
       "    }\n",
       "\n",
       "    .dataframe thead th {\n",
       "        text-align: right;\n",
       "    }\n",
       "</style>\n",
       "<table border=\"1\" class=\"dataframe\">\n",
       "  <thead>\n",
       "    <tr style=\"text-align: right;\">\n",
       "      <th></th>\n",
       "      <th>merchant_id</th>\n",
       "      <th>pa_std_avg</th>\n",
       "    </tr>\n",
       "  </thead>\n",
       "  <tbody>\n",
       "    <tr>\n",
       "      <th>0</th>\n",
       "      <td>M_ID_000025127f</td>\n",
       "      <td>0.5773502692</td>\n",
       "    </tr>\n",
       "    <tr>\n",
       "      <th>1</th>\n",
       "      <td>M_ID_0000699140</td>\n",
       "      <td>27.1220987316</td>\n",
       "    </tr>\n",
       "    <tr>\n",
       "      <th>2</th>\n",
       "      <td>M_ID_00006a5552</td>\n",
       "      <td>nan</td>\n",
       "    </tr>\n",
       "    <tr>\n",
       "      <th>3</th>\n",
       "      <td>M_ID_000087311e</td>\n",
       "      <td>269.2202923001</td>\n",
       "    </tr>\n",
       "    <tr>\n",
       "      <th>4</th>\n",
       "      <td>M_ID_0000ab0b2d</td>\n",
       "      <td>5.0041993186</td>\n",
       "    </tr>\n",
       "  </tbody>\n",
       "</table>\n",
       "</div>"
      ],
      "text/plain": [
       "       merchant_id     pa_std_avg\n",
       "0  M_ID_000025127f   0.5773502692\n",
       "1  M_ID_0000699140  27.1220987316\n",
       "2  M_ID_00006a5552            nan\n",
       "3  M_ID_000087311e 269.2202923001\n",
       "4  M_ID_0000ab0b2d   5.0041993186"
      ]
     },
     "execution_count": 53,
     "metadata": {},
     "output_type": "execute_result"
    }
   ],
   "source": [
    "merchant_avg_std.head()"
   ]
  },
  {
   "cell_type": "code",
   "execution_count": 54,
   "metadata": {
    "ExecuteTime": {
     "end_time": "2019-02-18T13:08:20.327533Z",
     "start_time": "2019-02-18T13:08:20.040272Z"
    }
   },
   "outputs": [],
   "source": [
    "save_dataframe32(features_downcast(\"merchant_avg_std\"),\n",
    "                 merchant_avg_std, keep=[\"merchant_id\"])"
   ]
  },
  {
   "cell_type": "code",
   "execution_count": 57,
   "metadata": {
    "ExecuteTime": {
     "end_time": "2019-02-18T13:09:24.575752Z",
     "start_time": "2019-02-18T13:09:24.567228Z"
    }
   },
   "outputs": [
    {
     "data": {
      "text/html": [
       "<div>\n",
       "<style scoped>\n",
       "    .dataframe tbody tr th:only-of-type {\n",
       "        vertical-align: middle;\n",
       "    }\n",
       "\n",
       "    .dataframe tbody tr th {\n",
       "        vertical-align: top;\n",
       "    }\n",
       "\n",
       "    .dataframe thead th {\n",
       "        text-align: right;\n",
       "    }\n",
       "</style>\n",
       "<table border=\"1\" class=\"dataframe\">\n",
       "  <thead>\n",
       "    <tr style=\"text-align: right;\">\n",
       "      <th></th>\n",
       "      <th>card_id</th>\n",
       "      <th>month_lag</th>\n",
       "      <th>merchant_id</th>\n",
       "      <th>monthly_pa</th>\n",
       "    </tr>\n",
       "  </thead>\n",
       "  <tbody>\n",
       "    <tr>\n",
       "      <th>0</th>\n",
       "      <td>C_ID_00007093c1</td>\n",
       "      <td>1</td>\n",
       "      <td>M_ID_69423b34e4</td>\n",
       "      <td>521.8000000000</td>\n",
       "    </tr>\n",
       "    <tr>\n",
       "      <th>1</th>\n",
       "      <td>C_ID_00007093c1</td>\n",
       "      <td>1</td>\n",
       "      <td>M_ID_9400cf2342</td>\n",
       "      <td>116.0000000000</td>\n",
       "    </tr>\n",
       "    <tr>\n",
       "      <th>2</th>\n",
       "      <td>C_ID_00007093c1</td>\n",
       "      <td>1</td>\n",
       "      <td>M_ID_a33355a1b7</td>\n",
       "      <td>462.4000000000</td>\n",
       "    </tr>\n",
       "    <tr>\n",
       "      <th>3</th>\n",
       "      <td>C_ID_00007093c1</td>\n",
       "      <td>2</td>\n",
       "      <td>M_ID_69423b34e4</td>\n",
       "      <td>515.9000000000</td>\n",
       "    </tr>\n",
       "    <tr>\n",
       "      <th>4</th>\n",
       "      <td>C_ID_00007093c1</td>\n",
       "      <td>2</td>\n",
       "      <td>M_ID_9400cf2342</td>\n",
       "      <td>653.0000000000</td>\n",
       "    </tr>\n",
       "  </tbody>\n",
       "</table>\n",
       "</div>"
      ],
      "text/plain": [
       "           card_id  month_lag      merchant_id     monthly_pa\n",
       "0  C_ID_00007093c1          1  M_ID_69423b34e4 521.8000000000\n",
       "1  C_ID_00007093c1          1  M_ID_9400cf2342 116.0000000000\n",
       "2  C_ID_00007093c1          1  M_ID_a33355a1b7 462.4000000000\n",
       "3  C_ID_00007093c1          2  M_ID_69423b34e4 515.9000000000\n",
       "4  C_ID_00007093c1          2  M_ID_9400cf2342 653.0000000000"
      ]
     },
     "execution_count": 57,
     "metadata": {},
     "output_type": "execute_result"
    }
   ],
   "source": [
    "monthly_payment_merchant_psum.head()"
   ]
  },
  {
   "cell_type": "code",
   "execution_count": 58,
   "metadata": {
    "ExecuteTime": {
     "end_time": "2019-02-18T13:10:30.505371Z",
     "start_time": "2019-02-18T13:10:05.875802Z"
    }
   },
   "outputs": [],
   "source": [
    "monthly_payment_merchant_psum[\"card_id_extend\"] = monthly_payment_merchant_psum.card_id + \"_\" + monthly_payment_merchant_psum.month_lag.astype(str)\n",
    "monthly_payment_merchant_psum_pmax[\"card_id_extend\"] = monthly_payment_merchant_psum_pmax.card_id + \"_\" + monthly_payment_merchant_psum_pmax.month_lag.astype(str)\n",
    "monthly_payment_merchant_psum[\"monthly_pa_max\"] = monthly_payment_merchant_psum.card_id_extend.map(monthly_payment_merchant_psum_pmax.set_index(\"card_id_extend\").monthly_pa)\n",
    "monthly_main_merchant = monthly_payment_merchant_psum[monthly_payment_merchant_psum.monthly_pa == monthly_payment_merchant_psum.monthly_pa_max]"
   ]
  },
  {
   "cell_type": "code",
   "execution_count": 59,
   "metadata": {
    "ExecuteTime": {
     "end_time": "2019-02-18T13:10:32.012926Z",
     "start_time": "2019-02-18T13:10:30.744006Z"
    }
   },
   "outputs": [],
   "source": [
    "monthly_main_merchant[\"monthly_pa\"] = monthly_main_merchant.merchant_id.map(merchant_avg_std.set_index(\"merchant_id\").pa_std_avg)"
   ]
  },
  {
   "cell_type": "code",
   "execution_count": 62,
   "metadata": {
    "ExecuteTime": {
     "end_time": "2019-02-18T13:11:21.282249Z",
     "start_time": "2019-02-18T13:11:19.313005Z"
    }
   },
   "outputs": [],
   "source": [
    "monthly_main_merchant = monthly_main_merchant.drop_duplicates(\"card_id_extend\")"
   ]
  },
  {
   "cell_type": "code",
   "execution_count": 63,
   "metadata": {
    "ExecuteTime": {
     "end_time": "2019-02-18T13:11:21.530923Z",
     "start_time": "2019-02-18T13:11:21.519880Z"
    }
   },
   "outputs": [
    {
     "data": {
      "text/html": [
       "<div>\n",
       "<style scoped>\n",
       "    .dataframe tbody tr th:only-of-type {\n",
       "        vertical-align: middle;\n",
       "    }\n",
       "\n",
       "    .dataframe tbody tr th {\n",
       "        vertical-align: top;\n",
       "    }\n",
       "\n",
       "    .dataframe thead th {\n",
       "        text-align: right;\n",
       "    }\n",
       "</style>\n",
       "<table border=\"1\" class=\"dataframe\">\n",
       "  <thead>\n",
       "    <tr style=\"text-align: right;\">\n",
       "      <th></th>\n",
       "      <th>card_id</th>\n",
       "      <th>month_lag</th>\n",
       "      <th>merchant_id</th>\n",
       "      <th>monthly_pa</th>\n",
       "      <th>card_id_extend</th>\n",
       "      <th>monthly_pa_max</th>\n",
       "    </tr>\n",
       "  </thead>\n",
       "  <tbody>\n",
       "    <tr>\n",
       "      <th>0</th>\n",
       "      <td>C_ID_00007093c1</td>\n",
       "      <td>1</td>\n",
       "      <td>M_ID_69423b34e4</td>\n",
       "      <td>44.2637050280</td>\n",
       "      <td>C_ID_00007093c1_1</td>\n",
       "      <td>521.8000000000</td>\n",
       "    </tr>\n",
       "    <tr>\n",
       "      <th>4</th>\n",
       "      <td>C_ID_00007093c1</td>\n",
       "      <td>2</td>\n",
       "      <td>M_ID_9400cf2342</td>\n",
       "      <td>68.3237688669</td>\n",
       "      <td>C_ID_00007093c1_2</td>\n",
       "      <td>653.0000000000</td>\n",
       "    </tr>\n",
       "    <tr>\n",
       "      <th>6</th>\n",
       "      <td>C_ID_00007093c1</td>\n",
       "      <td>3</td>\n",
       "      <td>M_ID_69423b34e4</td>\n",
       "      <td>44.2637050280</td>\n",
       "      <td>C_ID_00007093c1_3</td>\n",
       "      <td>718.4500000000</td>\n",
       "    </tr>\n",
       "    <tr>\n",
       "      <th>11</th>\n",
       "      <td>C_ID_00007093c1</td>\n",
       "      <td>4</td>\n",
       "      <td>M_ID_15446e939c</td>\n",
       "      <td>29.2447842358</td>\n",
       "      <td>C_ID_00007093c1_4</td>\n",
       "      <td>2204.0000000000</td>\n",
       "    </tr>\n",
       "    <tr>\n",
       "      <th>22</th>\n",
       "      <td>C_ID_00007093c1</td>\n",
       "      <td>5</td>\n",
       "      <td>M_ID_ee8fcd02ca</td>\n",
       "      <td>137.8139649003</td>\n",
       "      <td>C_ID_00007093c1_5</td>\n",
       "      <td>1400.0000000000</td>\n",
       "    </tr>\n",
       "  </tbody>\n",
       "</table>\n",
       "</div>"
      ],
      "text/plain": [
       "            card_id  month_lag      merchant_id     monthly_pa  \\\n",
       "0   C_ID_00007093c1          1  M_ID_69423b34e4  44.2637050280   \n",
       "4   C_ID_00007093c1          2  M_ID_9400cf2342  68.3237688669   \n",
       "6   C_ID_00007093c1          3  M_ID_69423b34e4  44.2637050280   \n",
       "11  C_ID_00007093c1          4  M_ID_15446e939c  29.2447842358   \n",
       "22  C_ID_00007093c1          5  M_ID_ee8fcd02ca 137.8139649003   \n",
       "\n",
       "       card_id_extend  monthly_pa_max  \n",
       "0   C_ID_00007093c1_1  521.8000000000  \n",
       "4   C_ID_00007093c1_2  653.0000000000  \n",
       "6   C_ID_00007093c1_3  718.4500000000  \n",
       "11  C_ID_00007093c1_4 2204.0000000000  \n",
       "22  C_ID_00007093c1_5 1400.0000000000  "
      ]
     },
     "execution_count": 63,
     "metadata": {},
     "output_type": "execute_result"
    }
   ],
   "source": [
    "monthly_main_merchant.head()"
   ]
  },
  {
   "cell_type": "code",
   "execution_count": 64,
   "metadata": {
    "ExecuteTime": {
     "end_time": "2019-02-18T13:12:07.205200Z",
     "start_time": "2019-02-18T13:11:22.866397Z"
    }
   },
   "outputs": [],
   "source": [
    "features_df = calc_monthly_payment_features(monthly_main_merchant[[\"card_id\", \"month_lag\", \"monthly_pa\"]])\n",
    "save_dataframe32(features_downcast(\"monthly_merchant_avg_std_abs\"),\n",
    "                 features_df.reset_index().rename(columns={\"index\":\"card_id\"}), keep=[\"card_id\"])"
   ]
  },
  {
   "cell_type": "code",
   "execution_count": 65,
   "metadata": {
    "ExecuteTime": {
     "end_time": "2019-02-18T13:12:07.503994Z",
     "start_time": "2019-02-18T13:12:07.481434Z"
    },
    "scrolled": false
   },
   "outputs": [
    {
     "data": {
      "text/html": [
       "<div>\n",
       "<style scoped>\n",
       "    .dataframe tbody tr th:only-of-type {\n",
       "        vertical-align: middle;\n",
       "    }\n",
       "\n",
       "    .dataframe tbody tr th {\n",
       "        vertical-align: top;\n",
       "    }\n",
       "\n",
       "    .dataframe thead th {\n",
       "        text-align: right;\n",
       "    }\n",
       "</style>\n",
       "<table border=\"1\" class=\"dataframe\">\n",
       "  <thead>\n",
       "    <tr style=\"text-align: right;\">\n",
       "      <th></th>\n",
       "      <th>C_ID_00007093c1</th>\n",
       "      <th>C_ID_0001238066</th>\n",
       "      <th>C_ID_0001506ef0</th>\n",
       "      <th>C_ID_0001793786</th>\n",
       "      <th>C_ID_000183fdda</th>\n",
       "    </tr>\n",
       "  </thead>\n",
       "  <tbody>\n",
       "    <tr>\n",
       "      <th>ratio_1_lag0</th>\n",
       "      <td>nan</td>\n",
       "      <td>nan</td>\n",
       "      <td>nan</td>\n",
       "      <td>nan</td>\n",
       "      <td>nan</td>\n",
       "    </tr>\n",
       "    <tr>\n",
       "      <th>sum_2_lag0</th>\n",
       "      <td>nan</td>\n",
       "      <td>nan</td>\n",
       "      <td>nan</td>\n",
       "      <td>nan</td>\n",
       "      <td>nan</td>\n",
       "    </tr>\n",
       "    <tr>\n",
       "      <th>ratio_2_lag0</th>\n",
       "      <td>nan</td>\n",
       "      <td>nan</td>\n",
       "      <td>nan</td>\n",
       "      <td>nan</td>\n",
       "      <td>nan</td>\n",
       "    </tr>\n",
       "    <tr>\n",
       "      <th>sum_3_lag0</th>\n",
       "      <td>nan</td>\n",
       "      <td>nan</td>\n",
       "      <td>nan</td>\n",
       "      <td>nan</td>\n",
       "      <td>nan</td>\n",
       "    </tr>\n",
       "    <tr>\n",
       "      <th>ratio_3_lag0</th>\n",
       "      <td>nan</td>\n",
       "      <td>nan</td>\n",
       "      <td>nan</td>\n",
       "      <td>nan</td>\n",
       "      <td>nan</td>\n",
       "    </tr>\n",
       "    <tr>\n",
       "      <th>sum_4_lag0</th>\n",
       "      <td>nan</td>\n",
       "      <td>nan</td>\n",
       "      <td>nan</td>\n",
       "      <td>nan</td>\n",
       "      <td>nan</td>\n",
       "    </tr>\n",
       "    <tr>\n",
       "      <th>ratio_4_lag0</th>\n",
       "      <td>nan</td>\n",
       "      <td>nan</td>\n",
       "      <td>nan</td>\n",
       "      <td>nan</td>\n",
       "      <td>nan</td>\n",
       "    </tr>\n",
       "    <tr>\n",
       "      <th>sum_1_lag0</th>\n",
       "      <td>nan</td>\n",
       "      <td>nan</td>\n",
       "      <td>7.1392607660</td>\n",
       "      <td>83.1361047020</td>\n",
       "      <td>nan</td>\n",
       "    </tr>\n",
       "    <tr>\n",
       "      <th>ratio_1_lag1</th>\n",
       "      <td>nan</td>\n",
       "      <td>nan</td>\n",
       "      <td>2.1933054913</td>\n",
       "      <td>nan</td>\n",
       "      <td>nan</td>\n",
       "    </tr>\n",
       "    <tr>\n",
       "      <th>sum_2_lag1</th>\n",
       "      <td>nan</td>\n",
       "      <td>nan</td>\n",
       "      <td>22.7978406080</td>\n",
       "      <td>nan</td>\n",
       "      <td>nan</td>\n",
       "    </tr>\n",
       "    <tr>\n",
       "      <th>ratio_2_lag1</th>\n",
       "      <td>nan</td>\n",
       "      <td>nan</td>\n",
       "      <td>nan</td>\n",
       "      <td>nan</td>\n",
       "      <td>nan</td>\n",
       "    </tr>\n",
       "    <tr>\n",
       "      <th>sum_3_lag1</th>\n",
       "      <td>nan</td>\n",
       "      <td>nan</td>\n",
       "      <td>nan</td>\n",
       "      <td>nan</td>\n",
       "      <td>nan</td>\n",
       "    </tr>\n",
       "    <tr>\n",
       "      <th>ratio_3_lag1</th>\n",
       "      <td>nan</td>\n",
       "      <td>nan</td>\n",
       "      <td>nan</td>\n",
       "      <td>nan</td>\n",
       "      <td>nan</td>\n",
       "    </tr>\n",
       "    <tr>\n",
       "      <th>sum_4_lag1</th>\n",
       "      <td>nan</td>\n",
       "      <td>nan</td>\n",
       "      <td>nan</td>\n",
       "      <td>nan</td>\n",
       "      <td>nan</td>\n",
       "    </tr>\n",
       "    <tr>\n",
       "      <th>ratio_4_lag1</th>\n",
       "      <td>nan</td>\n",
       "      <td>nan</td>\n",
       "      <td>nan</td>\n",
       "      <td>nan</td>\n",
       "      <td>nan</td>\n",
       "    </tr>\n",
       "    <tr>\n",
       "      <th>sum_1_lag1</th>\n",
       "      <td>44.2637050280</td>\n",
       "      <td>nan</td>\n",
       "      <td>15.6585798420</td>\n",
       "      <td>nan</td>\n",
       "      <td>nan</td>\n",
       "    </tr>\n",
       "    <tr>\n",
       "      <th>ratio_1_lag2</th>\n",
       "      <td>1.5435619053</td>\n",
       "      <td>nan</td>\n",
       "      <td>12.2231728986</td>\n",
       "      <td>nan</td>\n",
       "      <td>nan</td>\n",
       "    </tr>\n",
       "    <tr>\n",
       "      <th>sum_2_lag2</th>\n",
       "      <td>112.5874738950</td>\n",
       "      <td>nan</td>\n",
       "      <td>207.0561085971</td>\n",
       "      <td>nan</td>\n",
       "      <td>nan</td>\n",
       "    </tr>\n",
       "    <tr>\n",
       "      <th>ratio_2_lag2</th>\n",
       "      <td>nan</td>\n",
       "      <td>nan</td>\n",
       "      <td>9.0822684550</td>\n",
       "      <td>nan</td>\n",
       "      <td>nan</td>\n",
       "    </tr>\n",
       "    <tr>\n",
       "      <th>sum_3_lag2</th>\n",
       "      <td>nan</td>\n",
       "      <td>nan</td>\n",
       "      <td>214.1953693631</td>\n",
       "      <td>nan</td>\n",
       "      <td>nan</td>\n",
       "    </tr>\n",
       "    <tr>\n",
       "      <th>ratio_3_lag2</th>\n",
       "      <td>nan</td>\n",
       "      <td>nan</td>\n",
       "      <td>nan</td>\n",
       "      <td>nan</td>\n",
       "      <td>nan</td>\n",
       "    </tr>\n",
       "    <tr>\n",
       "      <th>sum_4_lag2</th>\n",
       "      <td>nan</td>\n",
       "      <td>nan</td>\n",
       "      <td>nan</td>\n",
       "      <td>nan</td>\n",
       "      <td>nan</td>\n",
       "    </tr>\n",
       "    <tr>\n",
       "      <th>ratio_4_lag2</th>\n",
       "      <td>nan</td>\n",
       "      <td>nan</td>\n",
       "      <td>nan</td>\n",
       "      <td>nan</td>\n",
       "      <td>nan</td>\n",
       "    </tr>\n",
       "    <tr>\n",
       "      <th>sum_1_lag2</th>\n",
       "      <td>68.3237688669</td>\n",
       "      <td>nan</td>\n",
       "      <td>191.3975287551</td>\n",
       "      <td>57.0455243273</td>\n",
       "      <td>nan</td>\n",
       "    </tr>\n",
       "    <tr>\n",
       "      <th>ratio_1_lag3</th>\n",
       "      <td>0.6478522154</td>\n",
       "      <td>nan</td>\n",
       "      <td>nan</td>\n",
       "      <td>1.4573641961</td>\n",
       "      <td>nan</td>\n",
       "    </tr>\n",
       "    <tr>\n",
       "      <th>sum_2_lag3</th>\n",
       "      <td>112.5874738950</td>\n",
       "      <td>nan</td>\n",
       "      <td>nan</td>\n",
       "      <td>140.1816290293</td>\n",
       "      <td>nan</td>\n",
       "    </tr>\n",
       "    <tr>\n",
       "      <th>ratio_2_lag3</th>\n",
       "      <td>1.0000000000</td>\n",
       "      <td>nan</td>\n",
       "      <td>nan</td>\n",
       "      <td>nan</td>\n",
       "      <td>nan</td>\n",
       "    </tr>\n",
       "    <tr>\n",
       "      <th>sum_3_lag3</th>\n",
       "      <td>156.8511789230</td>\n",
       "      <td>nan</td>\n",
       "      <td>nan</td>\n",
       "      <td>nan</td>\n",
       "      <td>nan</td>\n",
       "    </tr>\n",
       "    <tr>\n",
       "      <th>ratio_3_lag3</th>\n",
       "      <td>nan</td>\n",
       "      <td>nan</td>\n",
       "      <td>nan</td>\n",
       "      <td>nan</td>\n",
       "      <td>nan</td>\n",
       "    </tr>\n",
       "    <tr>\n",
       "      <th>sum_4_lag3</th>\n",
       "      <td>nan</td>\n",
       "      <td>nan</td>\n",
       "      <td>nan</td>\n",
       "      <td>nan</td>\n",
       "      <td>nan</td>\n",
       "    </tr>\n",
       "    <tr>\n",
       "      <th>...</th>\n",
       "      <td>...</td>\n",
       "      <td>...</td>\n",
       "      <td>...</td>\n",
       "      <td>...</td>\n",
       "      <td>...</td>\n",
       "    </tr>\n",
       "    <tr>\n",
       "      <th>ratio_2_lag12</th>\n",
       "      <td>0.6071527218</td>\n",
       "      <td>2.9939280248</td>\n",
       "      <td>1.0000000000</td>\n",
       "      <td>nan</td>\n",
       "      <td>0.7820071133</td>\n",
       "    </tr>\n",
       "    <tr>\n",
       "      <th>sum_3_lag12</th>\n",
       "      <td>407.8392258056</td>\n",
       "      <td>512.7125947837</td>\n",
       "      <td>257.3527939309</td>\n",
       "      <td>nan</td>\n",
       "      <td>948.3092440168</td>\n",
       "    </tr>\n",
       "    <tr>\n",
       "      <th>ratio_3_lag12</th>\n",
       "      <td>1.0356452163</td>\n",
       "      <td>2.3292853499</td>\n",
       "      <td>1.0000000000</td>\n",
       "      <td>nan</td>\n",
       "      <td>1.2746917116</td>\n",
       "    </tr>\n",
       "    <tr>\n",
       "      <th>sum_4_lag12</th>\n",
       "      <td>462.1258348430</td>\n",
       "      <td>586.0845405049</td>\n",
       "      <td>343.1370585745</td>\n",
       "      <td>nan</td>\n",
       "      <td>1032.9377521610</td>\n",
       "    </tr>\n",
       "    <tr>\n",
       "      <th>ratio_4_lag12</th>\n",
       "      <td>0.9725294262</td>\n",
       "      <td>1.9969640124</td>\n",
       "      <td>1.0000000000</td>\n",
       "      <td>nan</td>\n",
       "      <td>0.8939008283</td>\n",
       "    </tr>\n",
       "    <tr>\n",
       "      <th>sum_1_lag12</th>\n",
       "      <td>68.3237688669</td>\n",
       "      <td>365.9687033413</td>\n",
       "      <td>85.7842646436</td>\n",
       "      <td>nan</td>\n",
       "      <td>288.9859123434</td>\n",
       "    </tr>\n",
       "    <tr>\n",
       "      <th>ratio_1_lag13</th>\n",
       "      <td>2.9521423567</td>\n",
       "      <td>0.2004869407</td>\n",
       "      <td>1.0000000000</td>\n",
       "      <td>nan</td>\n",
       "      <td>0.1710135377</td>\n",
       "    </tr>\n",
       "    <tr>\n",
       "      <th>sum_2_lag13</th>\n",
       "      <td>270.0252609053</td>\n",
       "      <td>439.3406490625</td>\n",
       "      <td>171.5685292873</td>\n",
       "      <td>nan</td>\n",
       "      <td>338.4064155720</td>\n",
       "    </tr>\n",
       "    <tr>\n",
       "      <th>ratio_2_lag13</th>\n",
       "      <td>1.3099264068</td>\n",
       "      <td>1.0000000000</td>\n",
       "      <td>1.0000000000</td>\n",
       "      <td>nan</td>\n",
       "      <td>0.6563408571</td>\n",
       "    </tr>\n",
       "    <tr>\n",
       "      <th>sum_3_lag13</th>\n",
       "      <td>407.8392258056</td>\n",
       "      <td>512.7125947837</td>\n",
       "      <td>257.3527939309</td>\n",
       "      <td>nan</td>\n",
       "      <td>565.0160385878</td>\n",
       "    </tr>\n",
       "    <tr>\n",
       "      <th>ratio_3_lag13</th>\n",
       "      <td>1.0000000000</td>\n",
       "      <td>1.0000000000</td>\n",
       "      <td>1.0000000000</td>\n",
       "      <td>nan</td>\n",
       "      <td>0.5958141209</td>\n",
       "    </tr>\n",
       "    <tr>\n",
       "      <th>sum_4_lag13</th>\n",
       "      <td>609.5407178440</td>\n",
       "      <td>586.0845405049</td>\n",
       "      <td>343.1370585745</td>\n",
       "      <td>nan</td>\n",
       "      <td>997.7297472453</td>\n",
       "    </tr>\n",
       "    <tr>\n",
       "      <th>ratio_4_lag13</th>\n",
       "      <td>1.3189929493</td>\n",
       "      <td>1.0000000000</td>\n",
       "      <td>1.0000000000</td>\n",
       "      <td>nan</td>\n",
       "      <td>0.9659146886</td>\n",
       "    </tr>\n",
       "    <tr>\n",
       "      <th>sum_1_lag13</th>\n",
       "      <td>201.7014920384</td>\n",
       "      <td>73.3719457212</td>\n",
       "      <td>85.7842646436</td>\n",
       "      <td>nan</td>\n",
       "      <td>49.4205032286</td>\n",
       "    </tr>\n",
       "    <tr>\n",
       "      <th>ratio_1_lag14</th>\n",
       "      <td>nan</td>\n",
       "      <td>1.3755865982</td>\n",
       "      <td>0.1496256134</td>\n",
       "      <td>nan</td>\n",
       "      <td>0.7555158640</td>\n",
       "    </tr>\n",
       "    <tr>\n",
       "      <th>sum_2_lag14</th>\n",
       "      <td>nan</td>\n",
       "      <td>174.3014109415</td>\n",
       "      <td>98.6197878642</td>\n",
       "      <td>nan</td>\n",
       "      <td>86.7584774248</td>\n",
       "    </tr>\n",
       "    <tr>\n",
       "      <th>ratio_2_lag14</th>\n",
       "      <td>nan</td>\n",
       "      <td>0.3967340862</td>\n",
       "      <td>0.5748128067</td>\n",
       "      <td>nan</td>\n",
       "      <td>0.2563736189</td>\n",
       "    </tr>\n",
       "    <tr>\n",
       "      <th>sum_3_lag14</th>\n",
       "      <td>nan</td>\n",
       "      <td>540.2701142828</td>\n",
       "      <td>184.4040525078</td>\n",
       "      <td>nan</td>\n",
       "      <td>375.7443897682</td>\n",
       "    </tr>\n",
       "    <tr>\n",
       "      <th>ratio_3_lag14</th>\n",
       "      <td>nan</td>\n",
       "      <td>1.0537484739</td>\n",
       "      <td>0.7165418711</td>\n",
       "      <td>nan</td>\n",
       "      <td>0.6650154405</td>\n",
       "    </tr>\n",
       "    <tr>\n",
       "      <th>sum_4_lag14</th>\n",
       "      <td>nan</td>\n",
       "      <td>613.6420600040</td>\n",
       "      <td>270.1883171515</td>\n",
       "      <td>nan</td>\n",
       "      <td>602.3540127840</td>\n",
       "    </tr>\n",
       "    <tr>\n",
       "      <th>ratio_4_lag14</th>\n",
       "      <td>nan</td>\n",
       "      <td>1.0470197004</td>\n",
       "      <td>0.7874064034</td>\n",
       "      <td>nan</td>\n",
       "      <td>0.6037246203</td>\n",
       "    </tr>\n",
       "    <tr>\n",
       "      <th>sum_1_lag14</th>\n",
       "      <td>nan</td>\n",
       "      <td>100.9294652203</td>\n",
       "      <td>12.8355232206</td>\n",
       "      <td>nan</td>\n",
       "      <td>37.3379741962</td>\n",
       "    </tr>\n",
       "    <tr>\n",
       "      <th>ratio_1_lag15</th>\n",
       "      <td>0.4754377160</td>\n",
       "      <td>0.6273549291</td>\n",
       "      <td>nan</td>\n",
       "      <td>nan</td>\n",
       "      <td>2.7843806936</td>\n",
       "    </tr>\n",
       "    <tr>\n",
       "      <th>sum_2_lag15</th>\n",
       "      <td>297.5979887207</td>\n",
       "      <td>164.2480627134</td>\n",
       "      <td>nan</td>\n",
       "      <td>nan</td>\n",
       "      <td>141.3011086878</td>\n",
       "    </tr>\n",
       "    <tr>\n",
       "      <th>ratio_2_lag15</th>\n",
       "      <td>1.1021116607</td>\n",
       "      <td>0.9423220491</td>\n",
       "      <td>nan</td>\n",
       "      <td>nan</td>\n",
       "      <td>1.6286720662</td>\n",
       "    </tr>\n",
       "    <tr>\n",
       "      <th>sum_3_lag15</th>\n",
       "      <td>365.9217575876</td>\n",
       "      <td>237.6200084346</td>\n",
       "      <td>nan</td>\n",
       "      <td>nan</td>\n",
       "      <td>190.7216119164</td>\n",
       "    </tr>\n",
       "    <tr>\n",
       "      <th>ratio_3_lag15</th>\n",
       "      <td>0.8972206066</td>\n",
       "      <td>0.4398170511</td>\n",
       "      <td>nan</td>\n",
       "      <td>nan</td>\n",
       "      <td>0.5075833921</td>\n",
       "    </tr>\n",
       "    <tr>\n",
       "      <th>sum_4_lag15</th>\n",
       "      <td>503.7357224879</td>\n",
       "      <td>603.5887117759</td>\n",
       "      <td>nan</td>\n",
       "      <td>nan</td>\n",
       "      <td>479.7075242599</td>\n",
       "    </tr>\n",
       "    <tr>\n",
       "      <th>ratio_4_lag15</th>\n",
       "      <td>0.8264184947</td>\n",
       "      <td>0.9836169179</td>\n",
       "      <td>nan</td>\n",
       "      <td>nan</td>\n",
       "      <td>0.7963880278</td>\n",
       "    </tr>\n",
       "    <tr>\n",
       "      <th>sum_1_lag15</th>\n",
       "      <td>95.8964966823</td>\n",
       "      <td>63.3185974931</td>\n",
       "      <td>nan</td>\n",
       "      <td>nan</td>\n",
       "      <td>103.9631344917</td>\n",
       "    </tr>\n",
       "  </tbody>\n",
       "</table>\n",
       "<p>128 rows × 5 columns</p>\n",
       "</div>"
      ],
      "text/plain": [
       "               C_ID_00007093c1  C_ID_0001238066  C_ID_0001506ef0  \\\n",
       "ratio_1_lag0               nan              nan              nan   \n",
       "sum_2_lag0                 nan              nan              nan   \n",
       "ratio_2_lag0               nan              nan              nan   \n",
       "sum_3_lag0                 nan              nan              nan   \n",
       "ratio_3_lag0               nan              nan              nan   \n",
       "sum_4_lag0                 nan              nan              nan   \n",
       "ratio_4_lag0               nan              nan              nan   \n",
       "sum_1_lag0                 nan              nan     7.1392607660   \n",
       "ratio_1_lag1               nan              nan     2.1933054913   \n",
       "sum_2_lag1                 nan              nan    22.7978406080   \n",
       "ratio_2_lag1               nan              nan              nan   \n",
       "sum_3_lag1                 nan              nan              nan   \n",
       "ratio_3_lag1               nan              nan              nan   \n",
       "sum_4_lag1                 nan              nan              nan   \n",
       "ratio_4_lag1               nan              nan              nan   \n",
       "sum_1_lag1       44.2637050280              nan    15.6585798420   \n",
       "ratio_1_lag2      1.5435619053              nan    12.2231728986   \n",
       "sum_2_lag2      112.5874738950              nan   207.0561085971   \n",
       "ratio_2_lag2               nan              nan     9.0822684550   \n",
       "sum_3_lag2                 nan              nan   214.1953693631   \n",
       "ratio_3_lag2               nan              nan              nan   \n",
       "sum_4_lag2                 nan              nan              nan   \n",
       "ratio_4_lag2               nan              nan              nan   \n",
       "sum_1_lag2       68.3237688669              nan   191.3975287551   \n",
       "ratio_1_lag3      0.6478522154              nan              nan   \n",
       "sum_2_lag3      112.5874738950              nan              nan   \n",
       "ratio_2_lag3      1.0000000000              nan              nan   \n",
       "sum_3_lag3      156.8511789230              nan              nan   \n",
       "ratio_3_lag3               nan              nan              nan   \n",
       "sum_4_lag3                 nan              nan              nan   \n",
       "...                        ...              ...              ...   \n",
       "ratio_2_lag12     0.6071527218     2.9939280248     1.0000000000   \n",
       "sum_3_lag12     407.8392258056   512.7125947837   257.3527939309   \n",
       "ratio_3_lag12     1.0356452163     2.3292853499     1.0000000000   \n",
       "sum_4_lag12     462.1258348430   586.0845405049   343.1370585745   \n",
       "ratio_4_lag12     0.9725294262     1.9969640124     1.0000000000   \n",
       "sum_1_lag12      68.3237688669   365.9687033413    85.7842646436   \n",
       "ratio_1_lag13     2.9521423567     0.2004869407     1.0000000000   \n",
       "sum_2_lag13     270.0252609053   439.3406490625   171.5685292873   \n",
       "ratio_2_lag13     1.3099264068     1.0000000000     1.0000000000   \n",
       "sum_3_lag13     407.8392258056   512.7125947837   257.3527939309   \n",
       "ratio_3_lag13     1.0000000000     1.0000000000     1.0000000000   \n",
       "sum_4_lag13     609.5407178440   586.0845405049   343.1370585745   \n",
       "ratio_4_lag13     1.3189929493     1.0000000000     1.0000000000   \n",
       "sum_1_lag13     201.7014920384    73.3719457212    85.7842646436   \n",
       "ratio_1_lag14              nan     1.3755865982     0.1496256134   \n",
       "sum_2_lag14                nan   174.3014109415    98.6197878642   \n",
       "ratio_2_lag14              nan     0.3967340862     0.5748128067   \n",
       "sum_3_lag14                nan   540.2701142828   184.4040525078   \n",
       "ratio_3_lag14              nan     1.0537484739     0.7165418711   \n",
       "sum_4_lag14                nan   613.6420600040   270.1883171515   \n",
       "ratio_4_lag14              nan     1.0470197004     0.7874064034   \n",
       "sum_1_lag14                nan   100.9294652203    12.8355232206   \n",
       "ratio_1_lag15     0.4754377160     0.6273549291              nan   \n",
       "sum_2_lag15     297.5979887207   164.2480627134              nan   \n",
       "ratio_2_lag15     1.1021116607     0.9423220491              nan   \n",
       "sum_3_lag15     365.9217575876   237.6200084346              nan   \n",
       "ratio_3_lag15     0.8972206066     0.4398170511              nan   \n",
       "sum_4_lag15     503.7357224879   603.5887117759              nan   \n",
       "ratio_4_lag15     0.8264184947     0.9836169179              nan   \n",
       "sum_1_lag15      95.8964966823    63.3185974931              nan   \n",
       "\n",
       "               C_ID_0001793786  C_ID_000183fdda  \n",
       "ratio_1_lag0               nan              nan  \n",
       "sum_2_lag0                 nan              nan  \n",
       "ratio_2_lag0               nan              nan  \n",
       "sum_3_lag0                 nan              nan  \n",
       "ratio_3_lag0               nan              nan  \n",
       "sum_4_lag0                 nan              nan  \n",
       "ratio_4_lag0               nan              nan  \n",
       "sum_1_lag0       83.1361047020              nan  \n",
       "ratio_1_lag1               nan              nan  \n",
       "sum_2_lag1                 nan              nan  \n",
       "ratio_2_lag1               nan              nan  \n",
       "sum_3_lag1                 nan              nan  \n",
       "ratio_3_lag1               nan              nan  \n",
       "sum_4_lag1                 nan              nan  \n",
       "ratio_4_lag1               nan              nan  \n",
       "sum_1_lag1                 nan              nan  \n",
       "ratio_1_lag2               nan              nan  \n",
       "sum_2_lag2                 nan              nan  \n",
       "ratio_2_lag2               nan              nan  \n",
       "sum_3_lag2                 nan              nan  \n",
       "ratio_3_lag2               nan              nan  \n",
       "sum_4_lag2                 nan              nan  \n",
       "ratio_4_lag2               nan              nan  \n",
       "sum_1_lag2       57.0455243273              nan  \n",
       "ratio_1_lag3      1.4573641961              nan  \n",
       "sum_2_lag3      140.1816290293              nan  \n",
       "ratio_2_lag3               nan              nan  \n",
       "sum_3_lag3                 nan              nan  \n",
       "ratio_3_lag3               nan              nan  \n",
       "sum_4_lag3                 nan              nan  \n",
       "...                        ...              ...  \n",
       "ratio_2_lag12              nan     0.7820071133  \n",
       "sum_3_lag12                nan   948.3092440168  \n",
       "ratio_3_lag12              nan     1.2746917116  \n",
       "sum_4_lag12                nan  1032.9377521610  \n",
       "ratio_4_lag12              nan     0.8939008283  \n",
       "sum_1_lag12                nan   288.9859123434  \n",
       "ratio_1_lag13              nan     0.1710135377  \n",
       "sum_2_lag13                nan   338.4064155720  \n",
       "ratio_2_lag13              nan     0.6563408571  \n",
       "sum_3_lag13                nan   565.0160385878  \n",
       "ratio_3_lag13              nan     0.5958141209  \n",
       "sum_4_lag13                nan   997.7297472453  \n",
       "ratio_4_lag13              nan     0.9659146886  \n",
       "sum_1_lag13                nan    49.4205032286  \n",
       "ratio_1_lag14              nan     0.7555158640  \n",
       "sum_2_lag14                nan    86.7584774248  \n",
       "ratio_2_lag14              nan     0.2563736189  \n",
       "sum_3_lag14                nan   375.7443897682  \n",
       "ratio_3_lag14              nan     0.6650154405  \n",
       "sum_4_lag14                nan   602.3540127840  \n",
       "ratio_4_lag14              nan     0.6037246203  \n",
       "sum_1_lag14                nan    37.3379741962  \n",
       "ratio_1_lag15              nan     2.7843806936  \n",
       "sum_2_lag15                nan   141.3011086878  \n",
       "ratio_2_lag15              nan     1.6286720662  \n",
       "sum_3_lag15                nan   190.7216119164  \n",
       "ratio_3_lag15              nan     0.5075833921  \n",
       "sum_4_lag15                nan   479.7075242599  \n",
       "ratio_4_lag15              nan     0.7963880278  \n",
       "sum_1_lag15                nan   103.9631344917  \n",
       "\n",
       "[128 rows x 5 columns]"
      ]
     },
     "execution_count": 65,
     "metadata": {},
     "output_type": "execute_result"
    }
   ],
   "source": [
    "features_df.head().T"
   ]
  }
 ],
 "metadata": {
  "kernelspec": {
   "display_name": "Python 3",
   "language": "python",
   "name": "python3"
  },
  "language_info": {
   "codemirror_mode": {
    "name": "ipython",
    "version": 3
   },
   "file_extension": ".py",
   "mimetype": "text/x-python",
   "name": "python",
   "nbconvert_exporter": "python",
   "pygments_lexer": "ipython3",
   "version": "3.6.6"
  },
  "toc": {
   "base_numbering": 1,
   "nav_menu": {},
   "number_sections": true,
   "sideBar": true,
   "skip_h1_title": false,
   "title_cell": "Table of Contents",
   "title_sidebar": "Contents",
   "toc_cell": false,
   "toc_position": {},
   "toc_section_display": true,
   "toc_window_display": true
  },
  "varInspector": {
   "cols": {
    "lenName": 16,
    "lenType": 16,
    "lenVar": 40
   },
   "kernels_config": {
    "python": {
     "delete_cmd_postfix": "",
     "delete_cmd_prefix": "del ",
     "library": "var_list.py",
     "varRefreshCmd": "print(var_dic_list())"
    },
    "r": {
     "delete_cmd_postfix": ") ",
     "delete_cmd_prefix": "rm(",
     "library": "var_list.r",
     "varRefreshCmd": "cat(var_dic_list()) "
    }
   },
   "oldHeight": 328.965,
   "position": {
    "height": "351.465px",
    "left": "550.723px",
    "right": "20px",
    "top": "62.9492px",
    "width": "733.477px"
   },
   "types_to_exclude": [
    "module",
    "function",
    "builtin_function_or_method",
    "instance",
    "_Feature"
   ],
   "varInspector_section_display": "block",
   "window_display": false
  }
 },
 "nbformat": 4,
 "nbformat_minor": 2
}
