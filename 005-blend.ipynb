{
 "cells": [
  {
   "cell_type": "markdown",
   "metadata": {},
   "source": [
    "# blend"
   ]
  },
  {
   "cell_type": "code",
   "execution_count": 26,
   "metadata": {},
   "outputs": [],
   "source": [
    "from data_io import load_oof\n",
    "import addict\n",
    "import numpy as np\n",
    "from data_io import load_train_features, load_test_features\n",
    "\n",
    "# from models import LGBModel\n",
    "from my_logger import print_info\n",
    "\n",
    "import imp\n",
    "import validator\n",
    "imp.reload(validator)\n",
    "from validator import KFoldValidator\n",
    "\n",
    "%matplotlib inline"
   ]
  },
  {
   "cell_type": "markdown",
   "metadata": {},
   "source": [
    "# load oof"
   ]
  },
  {
   "cell_type": "code",
   "execution_count": 2,
   "metadata": {},
   "outputs": [
    {
     "data": {
      "text/plain": [
       "(201917, 3)"
      ]
     },
     "execution_count": 2,
     "metadata": {},
     "output_type": "execute_result"
    }
   ],
   "source": [
    "oof_outlier = load_oof(\"outlier002\")\n",
    "oof_outlier.shape"
   ]
  },
  {
   "cell_type": "code",
   "execution_count": 3,
   "metadata": {},
   "outputs": [
    {
     "data": {
      "text/plain": [
       "(201917, 3)"
      ]
     },
     "execution_count": 3,
     "metadata": {},
     "output_type": "execute_result"
    }
   ],
   "source": [
    "oof_nooutlier = load_oof(\"no-outlier-006\")\n",
    "oof_nooutlier.shape"
   ]
  },
  {
   "cell_type": "code",
   "execution_count": 55,
   "metadata": {},
   "outputs": [
    {
     "data": {
      "text/plain": [
       "(201917, 3)"
      ]
     },
     "execution_count": 55,
     "metadata": {},
     "output_type": "execute_result"
    }
   ],
   "source": [
    "oof_lgb = load_oof(\"lgb001\")\n",
    "oof_lgb.shape"
   ]
  },
  {
   "cell_type": "code",
   "execution_count": 7,
   "metadata": {},
   "outputs": [
    {
     "data": {
      "text/html": [
       "<div>\n",
       "<style scoped>\n",
       "    .dataframe tbody tr th:only-of-type {\n",
       "        vertical-align: middle;\n",
       "    }\n",
       "\n",
       "    .dataframe tbody tr th {\n",
       "        vertical-align: top;\n",
       "    }\n",
       "\n",
       "    .dataframe thead th {\n",
       "        text-align: right;\n",
       "    }\n",
       "</style>\n",
       "<table border=\"1\" class=\"dataframe\">\n",
       "  <thead>\n",
       "    <tr style=\"text-align: right;\">\n",
       "      <th></th>\n",
       "      <th>outlier002</th>\n",
       "      <th>target</th>\n",
       "      <th>card_id</th>\n",
       "    </tr>\n",
       "  </thead>\n",
       "  <tbody>\n",
       "    <tr>\n",
       "      <th>0</th>\n",
       "      <td>0.003778</td>\n",
       "      <td>0.0</td>\n",
       "      <td>C_ID_92a2005557</td>\n",
       "    </tr>\n",
       "    <tr>\n",
       "      <th>1</th>\n",
       "      <td>0.266624</td>\n",
       "      <td>0.0</td>\n",
       "      <td>C_ID_3d0044924f</td>\n",
       "    </tr>\n",
       "    <tr>\n",
       "      <th>2</th>\n",
       "      <td>0.119234</td>\n",
       "      <td>0.0</td>\n",
       "      <td>C_ID_d639edf6cd</td>\n",
       "    </tr>\n",
       "    <tr>\n",
       "      <th>3</th>\n",
       "      <td>0.017272</td>\n",
       "      <td>0.0</td>\n",
       "      <td>C_ID_186d6a6901</td>\n",
       "    </tr>\n",
       "    <tr>\n",
       "      <th>4</th>\n",
       "      <td>0.001915</td>\n",
       "      <td>0.0</td>\n",
       "      <td>C_ID_cdbd2c0db2</td>\n",
       "    </tr>\n",
       "  </tbody>\n",
       "</table>\n",
       "</div>"
      ],
      "text/plain": [
       "   outlier002  target          card_id\n",
       "0    0.003778     0.0  C_ID_92a2005557\n",
       "1    0.266624     0.0  C_ID_3d0044924f\n",
       "2    0.119234     0.0  C_ID_d639edf6cd\n",
       "3    0.017272     0.0  C_ID_186d6a6901\n",
       "4    0.001915     0.0  C_ID_cdbd2c0db2"
      ]
     },
     "execution_count": 7,
     "metadata": {},
     "output_type": "execute_result"
    }
   ],
   "source": [
    "oof_outlier.head()"
   ]
  },
  {
   "cell_type": "code",
   "execution_count": 8,
   "metadata": {},
   "outputs": [
    {
     "data": {
      "text/html": [
       "<div>\n",
       "<style scoped>\n",
       "    .dataframe tbody tr th:only-of-type {\n",
       "        vertical-align: middle;\n",
       "    }\n",
       "\n",
       "    .dataframe tbody tr th {\n",
       "        vertical-align: top;\n",
       "    }\n",
       "\n",
       "    .dataframe thead th {\n",
       "        text-align: right;\n",
       "    }\n",
       "</style>\n",
       "<table border=\"1\" class=\"dataframe\">\n",
       "  <thead>\n",
       "    <tr style=\"text-align: right;\">\n",
       "      <th></th>\n",
       "      <th>no-outlier-006</th>\n",
       "      <th>target</th>\n",
       "      <th>card_id</th>\n",
       "    </tr>\n",
       "  </thead>\n",
       "  <tbody>\n",
       "    <tr>\n",
       "      <th>0</th>\n",
       "      <td>-0.393638</td>\n",
       "      <td>-0.820283</td>\n",
       "      <td>C_ID_92a2005557</td>\n",
       "    </tr>\n",
       "    <tr>\n",
       "      <th>1</th>\n",
       "      <td>0.062217</td>\n",
       "      <td>0.392913</td>\n",
       "      <td>C_ID_3d0044924f</td>\n",
       "    </tr>\n",
       "    <tr>\n",
       "      <th>2</th>\n",
       "      <td>0.750316</td>\n",
       "      <td>0.688056</td>\n",
       "      <td>C_ID_d639edf6cd</td>\n",
       "    </tr>\n",
       "    <tr>\n",
       "      <th>3</th>\n",
       "      <td>0.365112</td>\n",
       "      <td>0.142495</td>\n",
       "      <td>C_ID_186d6a6901</td>\n",
       "    </tr>\n",
       "    <tr>\n",
       "      <th>4</th>\n",
       "      <td>-0.127878</td>\n",
       "      <td>-0.159749</td>\n",
       "      <td>C_ID_cdbd2c0db2</td>\n",
       "    </tr>\n",
       "  </tbody>\n",
       "</table>\n",
       "</div>"
      ],
      "text/plain": [
       "   no-outlier-006    target          card_id\n",
       "0       -0.393638 -0.820283  C_ID_92a2005557\n",
       "1        0.062217  0.392913  C_ID_3d0044924f\n",
       "2        0.750316  0.688056  C_ID_d639edf6cd\n",
       "3        0.365112  0.142495  C_ID_186d6a6901\n",
       "4       -0.127878 -0.159749  C_ID_cdbd2c0db2"
      ]
     },
     "execution_count": 8,
     "metadata": {},
     "output_type": "execute_result"
    }
   ],
   "source": [
    "oof_nooutlier.head()"
   ]
  },
  {
   "cell_type": "code",
   "execution_count": 56,
   "metadata": {},
   "outputs": [
    {
     "data": {
      "text/html": [
       "<div>\n",
       "<style scoped>\n",
       "    .dataframe tbody tr th:only-of-type {\n",
       "        vertical-align: middle;\n",
       "    }\n",
       "\n",
       "    .dataframe tbody tr th {\n",
       "        vertical-align: top;\n",
       "    }\n",
       "\n",
       "    .dataframe thead th {\n",
       "        text-align: right;\n",
       "    }\n",
       "</style>\n",
       "<table border=\"1\" class=\"dataframe\">\n",
       "  <thead>\n",
       "    <tr style=\"text-align: right;\">\n",
       "      <th></th>\n",
       "      <th>lgb001</th>\n",
       "      <th>target</th>\n",
       "      <th>card_id</th>\n",
       "    </tr>\n",
       "  </thead>\n",
       "  <tbody>\n",
       "    <tr>\n",
       "      <th>0</th>\n",
       "      <td>-0.361844</td>\n",
       "      <td>-0.820283</td>\n",
       "      <td>C_ID_92a2005557</td>\n",
       "    </tr>\n",
       "    <tr>\n",
       "      <th>1</th>\n",
       "      <td>-0.529859</td>\n",
       "      <td>0.392913</td>\n",
       "      <td>C_ID_3d0044924f</td>\n",
       "    </tr>\n",
       "    <tr>\n",
       "      <th>2</th>\n",
       "      <td>0.584098</td>\n",
       "      <td>0.688056</td>\n",
       "      <td>C_ID_d639edf6cd</td>\n",
       "    </tr>\n",
       "    <tr>\n",
       "      <th>3</th>\n",
       "      <td>0.354337</td>\n",
       "      <td>0.142495</td>\n",
       "      <td>C_ID_186d6a6901</td>\n",
       "    </tr>\n",
       "    <tr>\n",
       "      <th>4</th>\n",
       "      <td>-0.140202</td>\n",
       "      <td>-0.159749</td>\n",
       "      <td>C_ID_cdbd2c0db2</td>\n",
       "    </tr>\n",
       "  </tbody>\n",
       "</table>\n",
       "</div>"
      ],
      "text/plain": [
       "     lgb001    target          card_id\n",
       "0 -0.361844 -0.820283  C_ID_92a2005557\n",
       "1 -0.529859  0.392913  C_ID_3d0044924f\n",
       "2  0.584098  0.688056  C_ID_d639edf6cd\n",
       "3  0.354337  0.142495  C_ID_186d6a6901\n",
       "4 -0.140202 -0.159749  C_ID_cdbd2c0db2"
      ]
     },
     "execution_count": 56,
     "metadata": {},
     "output_type": "execute_result"
    }
   ],
   "source": [
    "oof_lgb.head()"
   ]
  },
  {
   "cell_type": "markdown",
   "metadata": {},
   "source": [
    "# validator"
   ]
  },
  {
   "cell_type": "code",
   "execution_count": 38,
   "metadata": {},
   "outputs": [
    {
     "name": "stdout",
     "output_type": "stream",
     "text": [
      "[info] train_data.shape : (201917, 501)\n",
      "[info] train_data.head :    feature_1  feature_2  feature_3    target          card_id  fa_month  \\\n",
      "0        5.0        2.0        1.0 -0.820283  C_ID_92a2005557  201706.0   \n",
      "1        4.0        1.0        0.0  0.392913  C_ID_3d0044924f  201701.0   \n",
      "2        2.0        2.0        0.0  0.688056  C_ID_d639edf6cd  201608.0   \n",
      "3        4.0        3.0        0.0  0.142495  C_ID_186d6a6901  201709.0   \n",
      "4        1.0        3.0        0.0 -0.159749  C_ID_cdbd2c0db2  201711.0   \n",
      "\n",
      "   purchase_amount_sum_hist_trans  purchase_amount_mean_hist_trans  \\\n",
      "0                     -165.968735                        -0.638341   \n",
      "1                     -210.006332                        -0.600018   \n",
      "2                      -29.167391                        -0.678311   \n",
      "3                      -49.491364                        -0.642745   \n",
      "4                      -48.687656                        -0.366073   \n",
      "\n",
      "   purchase_amount_max_hist_trans  purchase_amount_min_hist_trans  \\\n",
      "0                        2.258394                       -0.739395   \n",
      "1                        4.630300                       -0.742400   \n",
      "2                       -0.145847                       -0.730138   \n",
      "3                        1.445596                       -0.740897   \n",
      "4                        7.193041                       -0.746156   \n",
      "\n",
      "             ...              subsector_id_32_new_trans  \\\n",
      "0            ...                                    0.0   \n",
      "1            ...                                    0.0   \n",
      "2            ...                                    0.0   \n",
      "3            ...                                    0.0   \n",
      "4            ...                                    0.0   \n",
      "\n",
      "   subsector_id_33_new_trans  subsector_id_34_new_trans  \\\n",
      "0                        0.0                        1.0   \n",
      "1                        1.0                        0.0   \n",
      "2                        0.0                        0.0   \n",
      "3                        0.0                        0.0   \n",
      "4                        2.0                        2.0   \n",
      "\n",
      "   subsector_id_35_new_trans  subsector_id_36_new_trans  \\\n",
      "0                        0.0                        0.0   \n",
      "1                        0.0                        0.0   \n",
      "2                        0.0                        0.0   \n",
      "3                        0.0                        0.0   \n",
      "4                        0.0                        1.0   \n",
      "\n",
      "   subsector_id_37_new_trans  subsector_id_38_new_trans  \\\n",
      "0                       11.0                        0.0   \n",
      "1                        2.0                        0.0   \n",
      "2                        0.0                        0.0   \n",
      "3                        3.0                        0.0   \n",
      "4                       17.0                        0.0   \n",
      "\n",
      "   subsector_id_39_new_trans  subsector_id_40_new_trans  \\\n",
      "0                        2.0                        0.0   \n",
      "1                        0.0                        0.0   \n",
      "2                        0.0                        0.0   \n",
      "3                        0.0                        0.0   \n",
      "4                        0.0                        0.0   \n",
      "\n",
      "   subsector_id_41_new_trans  \n",
      "0                        1.0  \n",
      "1                        0.0  \n",
      "2                        0.0  \n",
      "3                        0.0  \n",
      "4                        0.0  \n",
      "\n",
      "[5 rows x 501 columns]\n",
      "[info] id_train.shape : (201917,)\n",
      "[info] X_train.shape : (201917, 499)\n",
      "[info] y_train.shape : (201917,)\n",
      "[info] id_test.shape : (123623,)\n",
      "[info] X_test.shape : (123623, 499)\n"
     ]
    }
   ],
   "source": [
    "model_name = \"blend-007\"\n",
    "train_data = load_train_features()\n",
    "print_info(\"train_data.shape\", train_data.shape)\n",
    "print_info(\"train_data.head\", train_data.head())\n",
    "\n",
    "features = list(train_data.columns)\n",
    "features.remove(\"card_id\")\n",
    "features.remove(\"target\")\n",
    "\n",
    "id_train = train_data.card_id.values\n",
    "X_train = train_data[features].values\n",
    "y_train = train_data.target.values\n",
    "# y_train = (y_train < -33).astype(np.int32)  # {is_outlier: 1 not_outlier: 0}\n",
    "\n",
    "print_info(\"id_train.shape\", id_train.shape)\n",
    "print_info(\"X_train.shape\", X_train.shape)\n",
    "print_info(\"y_train.shape\", y_train.shape)\n",
    "\n",
    "test_data = load_test_features()\n",
    "id_test = test_data.card_id.values\n",
    "X_test = test_data[features].values\n",
    "print_info(\"id_test.shape\", id_test.shape)\n",
    "print_info(\"X_test.shape\", X_test.shape)"
   ]
  },
  {
   "cell_type": "code",
   "execution_count": 39,
   "metadata": {},
   "outputs": [
    {
     "name": "stdout",
     "output_type": "stream",
     "text": [
      "[info] fold : 0\n",
      "[info] X_trn.shape : (161533, 499)\n",
      "[info] y_trn.shape : (161533,)\n",
      "[info] y_trn.mean : -0.3931693136692047\n",
      "[info] X_val.shape : (40384, 499)\n",
      "[info] y_val.shape : (40384,)\n",
      "[info] y_val.mean : -0.39550429582595825\n",
      "[info] fold : 1\n",
      "[info] X_trn.shape : (161533, 499)\n",
      "[info] y_trn.shape : (161533,)\n",
      "[info] y_trn.mean : -0.39050015807151794\n",
      "[info] X_val.shape : (40384, 499)\n",
      "[info] y_val.shape : (40384,)\n",
      "[info] y_val.mean : -0.4061805009841919\n",
      "[info] fold : 2\n",
      "[info] X_trn.shape : (161534, 499)\n",
      "[info] y_trn.shape : (161534,)\n",
      "[info] y_trn.mean : -0.38485121726989746\n",
      "[info] X_val.shape : (40383, 499)\n",
      "[info] y_val.shape : (40383,)\n",
      "[info] y_val.mean : -0.42877712845802307\n",
      "[info] fold : 3\n",
      "[info] X_trn.shape : (161534, 499)\n",
      "[info] y_trn.shape : (161534,)\n",
      "[info] y_trn.mean : -0.4023605287075043\n",
      "[info] X_val.shape : (40383, 499)\n",
      "[info] y_val.shape : (40383,)\n",
      "[info] y_val.mean : -0.3587389886379242\n",
      "[info] fold : 4\n",
      "[info] X_trn.shape : (161534, 499)\n",
      "[info] y_trn.shape : (161534,)\n",
      "[info] y_trn.mean : -0.39730027318000793\n",
      "[info] X_val.shape : (40383, 499)\n",
      "[info] y_val.shape : (40383,)\n",
      "[info] y_val.mean : -0.3789801597595215\n"
     ]
    }
   ],
   "source": [
    "validator = KFoldValidator(id_train, X_train, y_train, id_test, X_test)\n",
    "validator.show_folds()"
   ]
  },
  {
   "cell_type": "markdown",
   "metadata": {},
   "source": [
    "# blend"
   ]
  },
  {
   "cell_type": "code",
   "execution_count": 41,
   "metadata": {},
   "outputs": [
    {
     "data": {
      "text/plain": [
       "<matplotlib.axes._subplots.AxesSubplot at 0x239a66d8518>"
      ]
     },
     "execution_count": 41,
     "metadata": {},
     "output_type": "execute_result"
    },
    {
     "data": {
      "image/png": "[encoded data removed]",
      "text/plain": [
       "<Figure size 432x288 with 1 Axes>"
      ]
     },
     "metadata": {
      "needs_background": "light"
     },
     "output_type": "display_data"
    }
   ],
   "source": [
    "oof_blend.oof.hist(bins=200)"
   ]
  },
  {
   "cell_type": "code",
   "execution_count": 42,
   "metadata": {},
   "outputs": [],
   "source": [
    "import numpy as np\n",
    "from sklearn.metrics import mean_squared_error\n",
    "\n",
    "def loss(target, pred):\n",
    "    return np.sqrt(mean_squared_error(target, pred))"
   ]
  },
  {
   "cell_type": "code",
   "execution_count": 43,
   "metadata": {},
   "outputs": [
    {
     "name": "stdout",
     "output_type": "stream",
     "text": [
      "[info] metrics : [3.8407729, 3.8772514, 3.954779, 3.6266341, 3.763578]\n",
      "[info] metrics.mean : 3.812602996826172\n",
      "[info] metrics.std : 0.11151217669248581\n"
     ]
    }
   ],
   "source": [
    "oof_nooutlier[\"oof\"] = oof_nooutlier[\"no-outlier-006\"]\n",
    "\n",
    "validator.validate_oof_df(oof_nooutlier, loss)\n",
    "validator.show_metric()"
   ]
  },
  {
   "cell_type": "code",
   "execution_count": 53,
   "metadata": {},
   "outputs": [],
   "source": [
    "model_name = \"blend-007\"\n",
    "\n",
    "oof_blend = oof_nooutlier.copy()\n",
    "oof_blend[\"oof\"] = oof_blend[\"no-outlier-006\"]\n",
    "\n",
    "oof_blend.loc[oof_outlier[\"outlier002\"] > 0.96, \"oof\"] = -33.21928"
   ]
  },
  {
   "cell_type": "code",
   "execution_count": 54,
   "metadata": {},
   "outputs": [
    {
     "name": "stdout",
     "output_type": "stream",
     "text": [
      "[info] metrics : [3.8407729, 3.8772514, 3.975481, 3.6266341, 3.7605898]\n",
      "[info] metrics.mean : 3.816145658493042\n",
      "[info] metrics.std : 0.11724268645048141\n"
     ]
    }
   ],
   "source": [
    "validator.validate_oof_df(oof_blend, loss)\n",
    "validator.show_metric()"
   ]
  },
  {
   "cell_type": "code",
   "execution_count": 57,
   "metadata": {},
   "outputs": [
    {
     "name": "stdout",
     "output_type": "stream",
     "text": [
      "[info] metrics : [3.6859305, 3.7088845, 3.7904081, 3.4864376, 3.60438]\n",
      "[info] metrics.mean : 3.655208110809326\n",
      "[info] metrics.std : 0.10312232375144958\n"
     ]
    }
   ],
   "source": [
    "validator.validate_oof(\"lgb001\", loss)\n",
    "validator.show_metric()"
   ]
  },
  {
   "cell_type": "code",
   "execution_count": 60,
   "metadata": {},
   "outputs": [
    {
     "name": "stdout",
     "output_type": "stream",
     "text": [
      "[info] metrics : [3.8127203157286798, 3.847898774575702, 3.9261532471088967, 3.598879366162936, 3.735526184720921]\n",
      "[info] metrics.mean : 3.7842355776594268\n",
      "[info] metrics.std : 0.11111663957050981\n",
      "[info] metrics : [3.787340700630309, 3.82120119617364, 3.9001184447601904, 3.574044694065162, 3.710050606399499]\n",
      "[info] metrics.mean : 3.7585511284057604\n",
      "[info] metrics.std : 0.11062558516721983\n",
      "[info] metrics : [3.764687883472475, 3.7972145314138896, 3.8767267771350813, 3.5521912095586874, 3.6872044003332545]\n",
      "[info] metrics.mean : 3.7356049603826778\n",
      "[info] metrics.std : 0.11003648579086722\n",
      "[info] metrics : [3.744811348774588, 3.775990443209176, 3.856026346379943, 3.5333742279109597, 3.667036711039378]\n",
      "[info] metrics.mean : 3.7154478154628094\n",
      "[info] metrics.std : 0.10934749794421819\n",
      "[info] metrics : [3.727755506533435, 3.7575757438164215, 3.838060697985239, 3.5176424791006546, 3.649591943336413]\n",
      "[info] metrics.mean : 3.698125274154433\n",
      "[info] metrics.std : 0.10855759334775941\n",
      "[info] metrics : [3.7135592220540454, 3.7420119090553836, 3.822868388642777, 3.505037505960544, 3.634909301221088]\n",
      "[info] metrics.mean : 3.6836772653867675\n",
      "[info] metrics.std : 0.10766662319976708\n",
      "[info] metrics : [3.7022553903732596, 3.7293346321014664, 3.8104825902203103, 3.495593133749335, 3.623022366177591]\n",
      "[info] metrics.mean : 3.6721376225243922\n",
      "[info] metrics.std : 0.10667537002926314\n",
      "[info] metrics : [3.6938705656839104, 3.7195734274987395, 3.8009307388957434, 3.489335026383904, 3.613958725002892]\n",
      "[info] metrics.mean : 3.663533696693038\n",
      "[info] metrics.std : 0.105585585010972\n",
      "[info] metrics : [3.6884246552067443, 3.712751295279869, 3.7942342378160574, 3.486280342584673, 3.607739656448059]\n",
      "[info] metrics.mean : 3.6578860374670805\n",
      "[info] metrics.std : 0.10440000907288911\n"
     ]
    }
   ],
   "source": [
    "for alpha in (0.1, 0.2, 0.3, 0.4, 0.5, 0.6, 0.7, 0.8, 0.9):\n",
    "    oof_blend2 = oof_lgb.copy()\n",
    "    oof_blend2[\"oof\"] = oof_lgb.lgb001 * alpha + oof_nooutlier[\"no-outlier-006\"] * (1 - alpha)\n",
    "\n",
    "    validator.validate_oof_df(oof_blend2, loss)\n",
    "    validator.show_metric()"
   ]
  }
 ],
 "metadata": {
  "kernelspec": {
   "display_name": "Python 3",
   "language": "python",
   "name": "python3"
  },
  "language_info": {
   "codemirror_mode": {
    "name": "ipython",
    "version": 3
   },
   "file_extension": ".py",
   "mimetype": "text/x-python",
   "name": "python",
   "nbconvert_exporter": "python",
   "pygments_lexer": "ipython3",
   "version": "3.6.6"
  },
  "toc": {
   "base_numbering": 1,
   "nav_menu": {},
   "number_sections": true,
   "sideBar": true,
   "skip_h1_title": false,
   "title_cell": "Table of Contents",
   "title_sidebar": "Contents",
   "toc_cell": false,
   "toc_position": {},
   "toc_section_display": true,
   "toc_window_display": true
  },
  "varInspector": {
   "cols": {
    "lenName": 16,
    "lenType": 16,
    "lenVar": 40
   },
   "kernels_config": {
    "python": {
     "delete_cmd_postfix": "",
     "delete_cmd_prefix": "del ",
     "library": "var_list.py",
     "varRefreshCmd": "print(var_dic_list())"
    },
    "r": {
     "delete_cmd_postfix": ") ",
     "delete_cmd_prefix": "rm(",
     "library": "var_list.r",
     "varRefreshCmd": "cat(var_dic_list()) "
    }
   },
   "types_to_exclude": [
    "module",
    "function",
    "builtin_function_or_method",
    "instance",
    "_Feature"
   ],
   "window_display": false
  }
 },
 "nbformat": 4,
 "nbformat_minor": 2
}
