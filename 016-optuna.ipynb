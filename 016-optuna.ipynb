{
 "cells": [
  {
   "cell_type": "code",
   "execution_count": 16,
   "metadata": {
    "ExecuteTime": {
     "end_time": "2019-02-17T10:26:27.942335Z",
     "start_time": "2019-02-17T10:26:27.938339Z"
    }
   },
   "outputs": [],
   "source": [
    "import pandas as pd\n",
    "import numpy as np"
   ]
  },
  {
   "cell_type": "code",
   "execution_count": 2,
   "metadata": {
    "ExecuteTime": {
     "end_time": "2019-02-17T10:11:52.702219Z",
     "start_time": "2019-02-17T10:11:52.635931Z"
    }
   },
   "outputs": [],
   "source": [
    "params = pd.read_csv(\"./models/optuna_result_lgbm.csv\")"
   ]
  },
  {
   "cell_type": "code",
   "execution_count": 15,
   "metadata": {
    "ExecuteTime": {
     "end_time": "2019-02-17T10:26:21.312711Z",
     "start_time": "2019-02-17T10:26:21.288647Z"
    },
    "scrolled": false
   },
   "outputs": [
    {
     "data": {
      "text/html": [
       "<div>\n",
       "<style scoped>\n",
       "    .dataframe tbody tr th:only-of-type {\n",
       "        vertical-align: middle;\n",
       "    }\n",
       "\n",
       "    .dataframe tbody tr th {\n",
       "        vertical-align: top;\n",
       "    }\n",
       "\n",
       "    .dataframe thead th {\n",
       "        text-align: right;\n",
       "    }\n",
       "</style>\n",
       "<table border=\"1\" class=\"dataframe\">\n",
       "  <thead>\n",
       "    <tr style=\"text-align: right;\">\n",
       "      <th></th>\n",
       "      <th>67</th>\n",
       "      <th>73</th>\n",
       "      <th>68</th>\n",
       "      <th>51</th>\n",
       "      <th>80</th>\n",
       "      <th>27</th>\n",
       "      <th>54</th>\n",
       "      <th>95</th>\n",
       "      <th>66</th>\n",
       "      <th>76</th>\n",
       "    </tr>\n",
       "  </thead>\n",
       "  <tbody>\n",
       "    <tr>\n",
       "      <th>Unnamed: 0</th>\n",
       "      <td>66</td>\n",
       "      <td>72</td>\n",
       "      <td>67</td>\n",
       "      <td>50</td>\n",
       "      <td>79</td>\n",
       "      <td>26</td>\n",
       "      <td>53</td>\n",
       "      <td>94</td>\n",
       "      <td>65</td>\n",
       "      <td>75</td>\n",
       "    </tr>\n",
       "    <tr>\n",
       "      <th>trial_id</th>\n",
       "      <td>66</td>\n",
       "      <td>72</td>\n",
       "      <td>67</td>\n",
       "      <td>50</td>\n",
       "      <td>79</td>\n",
       "      <td>26</td>\n",
       "      <td>53</td>\n",
       "      <td>94</td>\n",
       "      <td>65</td>\n",
       "      <td>75</td>\n",
       "    </tr>\n",
       "    <tr>\n",
       "      <th>state</th>\n",
       "      <td>TrialState.COMPLETE</td>\n",
       "      <td>TrialState.COMPLETE</td>\n",
       "      <td>TrialState.COMPLETE</td>\n",
       "      <td>TrialState.COMPLETE</td>\n",
       "      <td>TrialState.COMPLETE</td>\n",
       "      <td>TrialState.COMPLETE</td>\n",
       "      <td>TrialState.COMPLETE</td>\n",
       "      <td>TrialState.COMPLETE</td>\n",
       "      <td>TrialState.COMPLETE</td>\n",
       "      <td>TrialState.COMPLETE</td>\n",
       "    </tr>\n",
       "    <tr>\n",
       "      <th>value</th>\n",
       "      <td>3.64642</td>\n",
       "      <td>3.64871</td>\n",
       "      <td>3.64876</td>\n",
       "      <td>3.6489</td>\n",
       "      <td>3.64899</td>\n",
       "      <td>3.64902</td>\n",
       "      <td>3.6493</td>\n",
       "      <td>3.64947</td>\n",
       "      <td>3.64973</td>\n",
       "      <td>3.65002</td>\n",
       "    </tr>\n",
       "    <tr>\n",
       "      <th>datetime_start</th>\n",
       "      <td>2019-02-17 16:19:47.786190</td>\n",
       "      <td>2019-02-17 16:33:04.269614</td>\n",
       "      <td>2019-02-17 16:23:05.494807</td>\n",
       "      <td>2019-02-17 14:37:01.760488</td>\n",
       "      <td>2019-02-17 16:45:20.580450</td>\n",
       "      <td>2019-02-17 13:55:28.507213</td>\n",
       "      <td>2019-02-17 14:44:52.163226</td>\n",
       "      <td>2019-02-17 17:22:21.364238</td>\n",
       "      <td>2019-02-17 16:17:36.013881</td>\n",
       "      <td>2019-02-17 16:38:26.048030</td>\n",
       "    </tr>\n",
       "    <tr>\n",
       "      <th>datetime_complete</th>\n",
       "      <td>2019-02-17 16:23:05.480770</td>\n",
       "      <td>2019-02-17 16:34:42.770465</td>\n",
       "      <td>2019-02-17 16:25:01.314241</td>\n",
       "      <td>2019-02-17 14:39:32.835740</td>\n",
       "      <td>2019-02-17 16:47:30.985123</td>\n",
       "      <td>2019-02-17 13:57:27.435794</td>\n",
       "      <td>2019-02-17 14:47:02.326921</td>\n",
       "      <td>2019-02-17 17:25:09.605494</td>\n",
       "      <td>2019-02-17 16:19:47.778168</td>\n",
       "      <td>2019-02-17 16:40:20.389587</td>\n",
       "    </tr>\n",
       "    <tr>\n",
       "      <th>params</th>\n",
       "      <td>dart</td>\n",
       "      <td>dart</td>\n",
       "      <td>dart</td>\n",
       "      <td>dart</td>\n",
       "      <td>dart</td>\n",
       "      <td>gbdt</td>\n",
       "      <td>dart</td>\n",
       "      <td>dart</td>\n",
       "      <td>dart</td>\n",
       "      <td>dart</td>\n",
       "    </tr>\n",
       "    <tr>\n",
       "      <th>params.1</th>\n",
       "      <td>0.4466348858460175</td>\n",
       "      <td>0.28480693924359335</td>\n",
       "      <td>0.43192117891226495</td>\n",
       "      <td>0.2117200248548813</td>\n",
       "      <td>0.5786777784390849</td>\n",
       "      <td>0.41632094824625854</td>\n",
       "      <td>0.3648092727616755</td>\n",
       "      <td>0.46630153549831427</td>\n",
       "      <td>0.3724957681753266</td>\n",
       "      <td>0.4296903542538</td>\n",
       "    </tr>\n",
       "    <tr>\n",
       "      <th>params.2</th>\n",
       "      <td>0.32054153804374735</td>\n",
       "      <td>5.449739013492626e-08</td>\n",
       "      <td>0.00028299336748820235</td>\n",
       "      <td>0.008108894419221371</td>\n",
       "      <td>2.7049190397514295e-06</td>\n",
       "      <td>NaN</td>\n",
       "      <td>0.4675986282974919</td>\n",
       "      <td>0.003317014249759455</td>\n",
       "      <td>0.0023359469102389933</td>\n",
       "      <td>3.117476791988615e-08</td>\n",
       "    </tr>\n",
       "    <tr>\n",
       "      <th>params.3</th>\n",
       "      <td>8</td>\n",
       "      <td>8</td>\n",
       "      <td>9</td>\n",
       "      <td>11</td>\n",
       "      <td>10</td>\n",
       "      <td>7</td>\n",
       "      <td>11</td>\n",
       "      <td>9</td>\n",
       "      <td>11</td>\n",
       "      <td>6</td>\n",
       "    </tr>\n",
       "    <tr>\n",
       "      <th>params.4</th>\n",
       "      <td>24.931195884937555</td>\n",
       "      <td>20.177776616769016</td>\n",
       "      <td>23.681299985720305</td>\n",
       "      <td>4.436490509164819</td>\n",
       "      <td>17.56557277090844</td>\n",
       "      <td>32.275909671239106</td>\n",
       "      <td>2.9810247333750013</td>\n",
       "      <td>34.50043324123084</td>\n",
       "      <td>32.85059527864159</td>\n",
       "      <td>26.230028231534973</td>\n",
       "    </tr>\n",
       "    <tr>\n",
       "      <th>params.5</th>\n",
       "      <td>56</td>\n",
       "      <td>44</td>\n",
       "      <td>47</td>\n",
       "      <td>51</td>\n",
       "      <td>62</td>\n",
       "      <td>49</td>\n",
       "      <td>57</td>\n",
       "      <td>43</td>\n",
       "      <td>58</td>\n",
       "      <td>47</td>\n",
       "    </tr>\n",
       "    <tr>\n",
       "      <th>params.6</th>\n",
       "      <td>6.7925447931615</td>\n",
       "      <td>7.476918278297455</td>\n",
       "      <td>6.690677455958279</td>\n",
       "      <td>8.159396298084989</td>\n",
       "      <td>3.9282358050915342</td>\n",
       "      <td>0.01838982470686501</td>\n",
       "      <td>7.374649528560582</td>\n",
       "      <td>6.510078882774599</td>\n",
       "      <td>7.200975016713229</td>\n",
       "      <td>5.949727627885402</td>\n",
       "    </tr>\n",
       "    <tr>\n",
       "      <th>params.7</th>\n",
       "      <td>47</td>\n",
       "      <td>41</td>\n",
       "      <td>46</td>\n",
       "      <td>56</td>\n",
       "      <td>27</td>\n",
       "      <td>47</td>\n",
       "      <td>51</td>\n",
       "      <td>44</td>\n",
       "      <td>51</td>\n",
       "      <td>36</td>\n",
       "    </tr>\n",
       "    <tr>\n",
       "      <th>params.8</th>\n",
       "      <td>NaN</td>\n",
       "      <td>NaN</td>\n",
       "      <td>NaN</td>\n",
       "      <td>NaN</td>\n",
       "      <td>NaN</td>\n",
       "      <td>NaN</td>\n",
       "      <td>NaN</td>\n",
       "      <td>NaN</td>\n",
       "      <td>NaN</td>\n",
       "      <td>NaN</td>\n",
       "    </tr>\n",
       "    <tr>\n",
       "      <th>params.9</th>\n",
       "      <td>9.5851966350933</td>\n",
       "      <td>8.465201129881155</td>\n",
       "      <td>9.630310034694084</td>\n",
       "      <td>8.745267894069894</td>\n",
       "      <td>6.890885430927104</td>\n",
       "      <td>5.083238636834555</td>\n",
       "      <td>9.981697544079607</td>\n",
       "      <td>9.647644000876413</td>\n",
       "      <td>9.953652133131476</td>\n",
       "      <td>9.190864289415698</td>\n",
       "    </tr>\n",
       "    <tr>\n",
       "      <th>params.10</th>\n",
       "      <td>8.764006661408692</td>\n",
       "      <td>9.1450848409168</td>\n",
       "      <td>8.923409950599348</td>\n",
       "      <td>8.878191892601107</td>\n",
       "      <td>8.47617490808992</td>\n",
       "      <td>3.1205614939917825</td>\n",
       "      <td>7.586230987498871</td>\n",
       "      <td>8.81490584482535</td>\n",
       "      <td>7.879224101181374</td>\n",
       "      <td>9.67059960101893</td>\n",
       "    </tr>\n",
       "    <tr>\n",
       "      <th>params.11</th>\n",
       "      <td>0.8851986161403248</td>\n",
       "      <td>8.801547184456173e-08</td>\n",
       "      <td>1.560965753141308e-05</td>\n",
       "      <td>0.6865147703449516</td>\n",
       "      <td>1.1739409420236358e-06</td>\n",
       "      <td>NaN</td>\n",
       "      <td>0.9650203487719055</td>\n",
       "      <td>0.0005865015750678854</td>\n",
       "      <td>0.01841668740782687</td>\n",
       "      <td>1.4252028664954736e-08</td>\n",
       "    </tr>\n",
       "    <tr>\n",
       "      <th>params.12</th>\n",
       "      <td>0.5923203904544142</td>\n",
       "      <td>0.6043972842109744</td>\n",
       "      <td>0.5379880779382586</td>\n",
       "      <td>0.4723273955888827</td>\n",
       "      <td>0.5294449192855583</td>\n",
       "      <td>0.8295245323002144</td>\n",
       "      <td>0.5775113636941523</td>\n",
       "      <td>0.309311529767364</td>\n",
       "      <td>0.5726437344323636</td>\n",
       "      <td>0.5868027299189037</td>\n",
       "    </tr>\n",
       "    <tr>\n",
       "      <th>params.13</th>\n",
       "      <td>NaN</td>\n",
       "      <td>NaN</td>\n",
       "      <td>NaN</td>\n",
       "      <td>NaN</td>\n",
       "      <td>NaN</td>\n",
       "      <td>NaN</td>\n",
       "      <td>NaN</td>\n",
       "      <td>NaN</td>\n",
       "      <td>NaN</td>\n",
       "      <td>NaN</td>\n",
       "    </tr>\n",
       "  </tbody>\n",
       "</table>\n",
       "</div>"
      ],
      "text/plain": [
       "                                           67                          73  \\\n",
       "Unnamed: 0                                 66                          72   \n",
       "trial_id                                   66                          72   \n",
       "state                     TrialState.COMPLETE         TrialState.COMPLETE   \n",
       "value                                 3.64642                     3.64871   \n",
       "datetime_start     2019-02-17 16:19:47.786190  2019-02-17 16:33:04.269614   \n",
       "datetime_complete  2019-02-17 16:23:05.480770  2019-02-17 16:34:42.770465   \n",
       "params                                   dart                        dart   \n",
       "params.1                   0.4466348858460175         0.28480693924359335   \n",
       "params.2                  0.32054153804374735       5.449739013492626e-08   \n",
       "params.3                                    8                           8   \n",
       "params.4                   24.931195884937555          20.177776616769016   \n",
       "params.5                                   56                          44   \n",
       "params.6                      6.7925447931615           7.476918278297455   \n",
       "params.7                                   47                          41   \n",
       "params.8                                  NaN                         NaN   \n",
       "params.9                      9.5851966350933           8.465201129881155   \n",
       "params.10                   8.764006661408692             9.1450848409168   \n",
       "params.11                  0.8851986161403248       8.801547184456173e-08   \n",
       "params.12                  0.5923203904544142          0.6043972842109744   \n",
       "params.13                                 NaN                         NaN   \n",
       "\n",
       "                                           68                          51  \\\n",
       "Unnamed: 0                                 67                          50   \n",
       "trial_id                                   67                          50   \n",
       "state                     TrialState.COMPLETE         TrialState.COMPLETE   \n",
       "value                                 3.64876                      3.6489   \n",
       "datetime_start     2019-02-17 16:23:05.494807  2019-02-17 14:37:01.760488   \n",
       "datetime_complete  2019-02-17 16:25:01.314241  2019-02-17 14:39:32.835740   \n",
       "params                                   dart                        dart   \n",
       "params.1                  0.43192117891226495          0.2117200248548813   \n",
       "params.2               0.00028299336748820235        0.008108894419221371   \n",
       "params.3                                    9                          11   \n",
       "params.4                   23.681299985720305           4.436490509164819   \n",
       "params.5                                   47                          51   \n",
       "params.6                    6.690677455958279           8.159396298084989   \n",
       "params.7                                   46                          56   \n",
       "params.8                                  NaN                         NaN   \n",
       "params.9                    9.630310034694084           8.745267894069894   \n",
       "params.10                   8.923409950599348           8.878191892601107   \n",
       "params.11               1.560965753141308e-05          0.6865147703449516   \n",
       "params.12                  0.5379880779382586          0.4723273955888827   \n",
       "params.13                                 NaN                         NaN   \n",
       "\n",
       "                                           80                          27  \\\n",
       "Unnamed: 0                                 79                          26   \n",
       "trial_id                                   79                          26   \n",
       "state                     TrialState.COMPLETE         TrialState.COMPLETE   \n",
       "value                                 3.64899                     3.64902   \n",
       "datetime_start     2019-02-17 16:45:20.580450  2019-02-17 13:55:28.507213   \n",
       "datetime_complete  2019-02-17 16:47:30.985123  2019-02-17 13:57:27.435794   \n",
       "params                                   dart                        gbdt   \n",
       "params.1                   0.5786777784390849         0.41632094824625854   \n",
       "params.2               2.7049190397514295e-06                         NaN   \n",
       "params.3                                   10                           7   \n",
       "params.4                    17.56557277090844          32.275909671239106   \n",
       "params.5                                   62                          49   \n",
       "params.6                   3.9282358050915342         0.01838982470686501   \n",
       "params.7                                   27                          47   \n",
       "params.8                                  NaN                         NaN   \n",
       "params.9                    6.890885430927104           5.083238636834555   \n",
       "params.10                    8.47617490808992          3.1205614939917825   \n",
       "params.11              1.1739409420236358e-06                         NaN   \n",
       "params.12                  0.5294449192855583          0.8295245323002144   \n",
       "params.13                                 NaN                         NaN   \n",
       "\n",
       "                                           54                          95  \\\n",
       "Unnamed: 0                                 53                          94   \n",
       "trial_id                                   53                          94   \n",
       "state                     TrialState.COMPLETE         TrialState.COMPLETE   \n",
       "value                                  3.6493                     3.64947   \n",
       "datetime_start     2019-02-17 14:44:52.163226  2019-02-17 17:22:21.364238   \n",
       "datetime_complete  2019-02-17 14:47:02.326921  2019-02-17 17:25:09.605494   \n",
       "params                                   dart                        dart   \n",
       "params.1                   0.3648092727616755         0.46630153549831427   \n",
       "params.2                   0.4675986282974919        0.003317014249759455   \n",
       "params.3                                   11                           9   \n",
       "params.4                   2.9810247333750013           34.50043324123084   \n",
       "params.5                                   57                          43   \n",
       "params.6                    7.374649528560582           6.510078882774599   \n",
       "params.7                                   51                          44   \n",
       "params.8                                  NaN                         NaN   \n",
       "params.9                    9.981697544079607           9.647644000876413   \n",
       "params.10                   7.586230987498871            8.81490584482535   \n",
       "params.11                  0.9650203487719055       0.0005865015750678854   \n",
       "params.12                  0.5775113636941523           0.309311529767364   \n",
       "params.13                                 NaN                         NaN   \n",
       "\n",
       "                                           66                          76  \n",
       "Unnamed: 0                                 65                          75  \n",
       "trial_id                                   65                          75  \n",
       "state                     TrialState.COMPLETE         TrialState.COMPLETE  \n",
       "value                                 3.64973                     3.65002  \n",
       "datetime_start     2019-02-17 16:17:36.013881  2019-02-17 16:38:26.048030  \n",
       "datetime_complete  2019-02-17 16:19:47.778168  2019-02-17 16:40:20.389587  \n",
       "params                                   dart                        dart  \n",
       "params.1                   0.3724957681753266             0.4296903542538  \n",
       "params.2                0.0023359469102389933       3.117476791988615e-08  \n",
       "params.3                                   11                           6  \n",
       "params.4                    32.85059527864159          26.230028231534973  \n",
       "params.5                                   58                          47  \n",
       "params.6                    7.200975016713229           5.949727627885402  \n",
       "params.7                                   51                          36  \n",
       "params.8                                  NaN                         NaN  \n",
       "params.9                    9.953652133131476           9.190864289415698  \n",
       "params.10                   7.879224101181374            9.67059960101893  \n",
       "params.11                 0.01841668740782687      1.4252028664954736e-08  \n",
       "params.12                  0.5726437344323636          0.5868027299189037  \n",
       "params.13                                 NaN                         NaN  "
      ]
     },
     "execution_count": 15,
     "metadata": {},
     "output_type": "execute_result"
    }
   ],
   "source": [
    "params.sort_values(\"value\").head(10).T"
   ]
  },
  {
   "cell_type": "code",
   "execution_count": 27,
   "metadata": {
    "ExecuteTime": {
     "end_time": "2019-02-17T10:30:18.259742Z",
     "start_time": "2019-02-17T10:30:18.250747Z"
    }
   },
   "outputs": [],
   "source": [
    "best_params = pd.DataFrame()\n",
    "\n",
    "best_params[\"param_name\"] = params.loc[0]\n",
    "best_params[\"best_dart\"] = params.loc[67]\n",
    "best_params[\"best_gbdt\"] = params.loc[27]\n",
    "best_params[\"best_goss\"] =params.loc[86]"
   ]
  },
  {
   "cell_type": "code",
   "execution_count": 28,
   "metadata": {
    "ExecuteTime": {
     "end_time": "2019-02-17T10:30:19.686565Z",
     "start_time": "2019-02-17T10:30:19.674501Z"
    }
   },
   "outputs": [
    {
     "data": {
      "text/html": [
       "<div>\n",
       "<style scoped>\n",
       "    .dataframe tbody tr th:only-of-type {\n",
       "        vertical-align: middle;\n",
       "    }\n",
       "\n",
       "    .dataframe tbody tr th {\n",
       "        vertical-align: top;\n",
       "    }\n",
       "\n",
       "    .dataframe thead th {\n",
       "        text-align: right;\n",
       "    }\n",
       "</style>\n",
       "<table border=\"1\" class=\"dataframe\">\n",
       "  <thead>\n",
       "    <tr style=\"text-align: right;\">\n",
       "      <th></th>\n",
       "      <th>param_name</th>\n",
       "      <th>best_dart</th>\n",
       "      <th>best_gbdt</th>\n",
       "      <th>best_goss</th>\n",
       "    </tr>\n",
       "  </thead>\n",
       "  <tbody>\n",
       "    <tr>\n",
       "      <th>Unnamed: 0</th>\n",
       "      <td>NaN</td>\n",
       "      <td>66</td>\n",
       "      <td>26</td>\n",
       "      <td>85</td>\n",
       "    </tr>\n",
       "    <tr>\n",
       "      <th>trial_id</th>\n",
       "      <td>NaN</td>\n",
       "      <td>66</td>\n",
       "      <td>26</td>\n",
       "      <td>85</td>\n",
       "    </tr>\n",
       "    <tr>\n",
       "      <th>state</th>\n",
       "      <td>NaN</td>\n",
       "      <td>TrialState.COMPLETE</td>\n",
       "      <td>TrialState.COMPLETE</td>\n",
       "      <td>TrialState.COMPLETE</td>\n",
       "    </tr>\n",
       "    <tr>\n",
       "      <th>value</th>\n",
       "      <td>NaN</td>\n",
       "      <td>3.64642</td>\n",
       "      <td>3.64902</td>\n",
       "      <td>3.65049</td>\n",
       "    </tr>\n",
       "    <tr>\n",
       "      <th>datetime_start</th>\n",
       "      <td>NaN</td>\n",
       "      <td>2019-02-17 16:19:47.786190</td>\n",
       "      <td>2019-02-17 13:55:28.507213</td>\n",
       "      <td>2019-02-17 17:06:36.919501</td>\n",
       "    </tr>\n",
       "    <tr>\n",
       "      <th>datetime_complete</th>\n",
       "      <td>NaN</td>\n",
       "      <td>2019-02-17 16:23:05.480770</td>\n",
       "      <td>2019-02-17 13:57:27.435794</td>\n",
       "      <td>2019-02-17 17:08:56.639937</td>\n",
       "    </tr>\n",
       "    <tr>\n",
       "      <th>params</th>\n",
       "      <td>boosting</td>\n",
       "      <td>dart</td>\n",
       "      <td>gbdt</td>\n",
       "      <td>goss</td>\n",
       "    </tr>\n",
       "    <tr>\n",
       "      <th>params.1</th>\n",
       "      <td>colsample_bytree</td>\n",
       "      <td>0.4466348858460175</td>\n",
       "      <td>0.41632094824625854</td>\n",
       "      <td>0.5330282879842477</td>\n",
       "    </tr>\n",
       "    <tr>\n",
       "      <th>params.2</th>\n",
       "      <td>drop_rate</td>\n",
       "      <td>0.32054153804374735</td>\n",
       "      <td>NaN</td>\n",
       "      <td>NaN</td>\n",
       "    </tr>\n",
       "    <tr>\n",
       "      <th>params.3</th>\n",
       "      <td>max_depth</td>\n",
       "      <td>8</td>\n",
       "      <td>7</td>\n",
       "      <td>8</td>\n",
       "    </tr>\n",
       "    <tr>\n",
       "      <th>params.4</th>\n",
       "      <td>min_child_weight</td>\n",
       "      <td>24.931195884937555</td>\n",
       "      <td>32.275909671239106</td>\n",
       "      <td>30.930502988682182</td>\n",
       "    </tr>\n",
       "    <tr>\n",
       "      <th>params.5</th>\n",
       "      <td>min_data_in_leaf</td>\n",
       "      <td>56</td>\n",
       "      <td>49</td>\n",
       "      <td>42</td>\n",
       "    </tr>\n",
       "    <tr>\n",
       "      <th>params.6</th>\n",
       "      <td>min_split_gain</td>\n",
       "      <td>6.7925447931615</td>\n",
       "      <td>0.01838982470686501</td>\n",
       "      <td>4.013370646948248</td>\n",
       "    </tr>\n",
       "    <tr>\n",
       "      <th>params.7</th>\n",
       "      <td>num_leaves</td>\n",
       "      <td>47</td>\n",
       "      <td>47</td>\n",
       "      <td>47</td>\n",
       "    </tr>\n",
       "    <tr>\n",
       "      <th>params.8</th>\n",
       "      <td>other_rate</td>\n",
       "      <td>NaN</td>\n",
       "      <td>NaN</td>\n",
       "      <td>0.053771486100710475</td>\n",
       "    </tr>\n",
       "    <tr>\n",
       "      <th>params.9</th>\n",
       "      <td>reg_alpha</td>\n",
       "      <td>9.5851966350933</td>\n",
       "      <td>5.083238636834555</td>\n",
       "      <td>6.983021385722644</td>\n",
       "    </tr>\n",
       "    <tr>\n",
       "      <th>params.10</th>\n",
       "      <td>reg_lambda</td>\n",
       "      <td>8.764006661408692</td>\n",
       "      <td>3.1205614939917825</td>\n",
       "      <td>7.569817829200939</td>\n",
       "    </tr>\n",
       "    <tr>\n",
       "      <th>params.11</th>\n",
       "      <td>skip_drop</td>\n",
       "      <td>0.8851986161403248</td>\n",
       "      <td>NaN</td>\n",
       "      <td>NaN</td>\n",
       "    </tr>\n",
       "    <tr>\n",
       "      <th>params.12</th>\n",
       "      <td>subsample</td>\n",
       "      <td>0.5923203904544142</td>\n",
       "      <td>0.8295245323002144</td>\n",
       "      <td>0.17141916997479484</td>\n",
       "    </tr>\n",
       "    <tr>\n",
       "      <th>params.13</th>\n",
       "      <td>top_rate</td>\n",
       "      <td>NaN</td>\n",
       "      <td>NaN</td>\n",
       "      <td>0.8552992483146711</td>\n",
       "    </tr>\n",
       "  </tbody>\n",
       "</table>\n",
       "</div>"
      ],
      "text/plain": [
       "                         param_name                   best_dart  \\\n",
       "Unnamed: 0                      NaN                          66   \n",
       "trial_id                        NaN                          66   \n",
       "state                           NaN         TrialState.COMPLETE   \n",
       "value                           NaN                     3.64642   \n",
       "datetime_start                  NaN  2019-02-17 16:19:47.786190   \n",
       "datetime_complete               NaN  2019-02-17 16:23:05.480770   \n",
       "params                     boosting                        dart   \n",
       "params.1           colsample_bytree          0.4466348858460175   \n",
       "params.2                  drop_rate         0.32054153804374735   \n",
       "params.3                  max_depth                           8   \n",
       "params.4           min_child_weight          24.931195884937555   \n",
       "params.5           min_data_in_leaf                          56   \n",
       "params.6             min_split_gain             6.7925447931615   \n",
       "params.7                 num_leaves                          47   \n",
       "params.8                 other_rate                         NaN   \n",
       "params.9                  reg_alpha             9.5851966350933   \n",
       "params.10                reg_lambda           8.764006661408692   \n",
       "params.11                 skip_drop          0.8851986161403248   \n",
       "params.12                 subsample          0.5923203904544142   \n",
       "params.13                  top_rate                         NaN   \n",
       "\n",
       "                                    best_gbdt                   best_goss  \n",
       "Unnamed: 0                                 26                          85  \n",
       "trial_id                                   26                          85  \n",
       "state                     TrialState.COMPLETE         TrialState.COMPLETE  \n",
       "value                                 3.64902                     3.65049  \n",
       "datetime_start     2019-02-17 13:55:28.507213  2019-02-17 17:06:36.919501  \n",
       "datetime_complete  2019-02-17 13:57:27.435794  2019-02-17 17:08:56.639937  \n",
       "params                                   gbdt                        goss  \n",
       "params.1                  0.41632094824625854          0.5330282879842477  \n",
       "params.2                                  NaN                         NaN  \n",
       "params.3                                    7                           8  \n",
       "params.4                   32.275909671239106          30.930502988682182  \n",
       "params.5                                   49                          42  \n",
       "params.6                  0.01838982470686501           4.013370646948248  \n",
       "params.7                                   47                          47  \n",
       "params.8                                  NaN        0.053771486100710475  \n",
       "params.9                    5.083238636834555           6.983021385722644  \n",
       "params.10                  3.1205614939917825           7.569817829200939  \n",
       "params.11                                 NaN                         NaN  \n",
       "params.12                  0.8295245323002144         0.17141916997479484  \n",
       "params.13                                 NaN          0.8552992483146711  "
      ]
     },
     "execution_count": 28,
     "metadata": {},
     "output_type": "execute_result"
    }
   ],
   "source": [
    "best_params"
   ]
  },
  {
   "cell_type": "code",
   "execution_count": 24,
   "metadata": {
    "ExecuteTime": {
     "end_time": "2019-02-17T10:29:44.472922Z",
     "start_time": "2019-02-17T10:29:44.468911Z"
    }
   },
   "outputs": [
    {
     "name": "stdout",
     "output_type": "stream",
     "text": [
      "lgb_params.boosting_type = 'dart'\n",
      "lgb_params.colsample_bytree = 0.4466348858460175\n",
      "lgb_params.drop_rate = 0.32054153804374735\n",
      "lgb_params.max_depth = 8\n",
      "lgb_params.min_child_weight = 24.931195884937555\n",
      "lgb_params.min_data_in_leaf = 56\n",
      "lgb_params.min_split_gain = 6.7925447931615\n",
      "lgb_params.num_leaves = 47\n",
      "lgb_params.reg_alpha = 9.5851966350933\n",
      "lgb_params.reg_lambda = 8.764006661408692\n",
      "lgb_params.skip_drop = 0.8851986161403248\n",
      "lgb_params.subsample = 0.5923203904544142\n"
     ]
    }
   ],
   "source": [
    "for name, value in zip(best_params.param_name, best_params.best_dart):\n",
    "    if name == \"boosting\":\n",
    "        name = \"boosting_type\"\n",
    "        value = \"'{}'\".format(value)\n",
    "    line = \"lgb_params.{} = {}\".format(name, value)\n",
    "    if \"nan\" in line:\n",
    "        continue\n",
    "    print(line)"
   ]
  },
  {
   "cell_type": "code",
   "execution_count": 29,
   "metadata": {
    "ExecuteTime": {
     "end_time": "2019-02-17T10:30:22.083908Z",
     "start_time": "2019-02-17T10:30:22.078892Z"
    }
   },
   "outputs": [
    {
     "name": "stdout",
     "output_type": "stream",
     "text": [
      "lgb_params.boosting_type = 'gbdt'\n",
      "lgb_params.colsample_bytree = 0.41632094824625854\n",
      "lgb_params.max_depth = 7\n",
      "lgb_params.min_child_weight = 32.275909671239106\n",
      "lgb_params.min_data_in_leaf = 49\n",
      "lgb_params.min_split_gain = 0.01838982470686501\n",
      "lgb_params.num_leaves = 47\n",
      "lgb_params.reg_alpha = 5.083238636834555\n",
      "lgb_params.reg_lambda = 3.1205614939917825\n",
      "lgb_params.subsample = 0.8295245323002144\n"
     ]
    }
   ],
   "source": [
    "for name, value in zip(best_params.param_name, best_params.best_gbdt):\n",
    "    if name == \"boosting\":\n",
    "        name = \"boosting_type\"\n",
    "        value = \"'{}'\".format(value)\n",
    "    line = \"lgb_params.{} = {}\".format(name, value)\n",
    "    if \"nan\" in line:\n",
    "        continue\n",
    "    print(line)"
   ]
  },
  {
   "cell_type": "code",
   "execution_count": 30,
   "metadata": {
    "ExecuteTime": {
     "end_time": "2019-02-17T10:30:42.616490Z",
     "start_time": "2019-02-17T10:30:42.611476Z"
    }
   },
   "outputs": [
    {
     "name": "stdout",
     "output_type": "stream",
     "text": [
      "lgb_params.boosting_type = 'goss'\n",
      "lgb_params.colsample_bytree = 0.5330282879842477\n",
      "lgb_params.max_depth = 8\n",
      "lgb_params.min_child_weight = 30.930502988682182\n",
      "lgb_params.min_data_in_leaf = 42\n",
      "lgb_params.min_split_gain = 4.013370646948248\n",
      "lgb_params.num_leaves = 47\n",
      "lgb_params.other_rate = 0.053771486100710475\n",
      "lgb_params.reg_alpha = 6.983021385722644\n",
      "lgb_params.reg_lambda = 7.569817829200939\n",
      "lgb_params.subsample = 0.17141916997479484\n",
      "lgb_params.top_rate = 0.8552992483146711\n"
     ]
    }
   ],
   "source": [
    "for name, value in zip(best_params.param_name, best_params.best_goss):\n",
    "    if name == \"boosting\":\n",
    "        name = \"boosting_type\"\n",
    "        value = \"'{}'\".format(value)\n",
    "    line = \"lgb_params.{} = {}\".format(name, value)\n",
    "    if \"nan\" in line:\n",
    "        continue\n",
    "    print(line)"
   ]
  },
  {
   "cell_type": "code",
   "execution_count": 32,
   "metadata": {
    "ExecuteTime": {
     "end_time": "2019-02-17T12:04:00.653821Z",
     "start_time": "2019-02-17T12:04:00.301344Z"
    }
   },
   "outputs": [],
   "source": [
    "goss_pred = pd.read_csv(\"./data/submissions/lgb016_goss.csv\")\n",
    "gbdt_pred = pd.read_csv(\"./data/submissions/lgb016_gbdt.csv\")\n",
    "dart_pred = pd.read_csv(\"./data/submissions/lgb016_dart.csv\")"
   ]
  },
  {
   "cell_type": "code",
   "execution_count": 34,
   "metadata": {
    "ExecuteTime": {
     "end_time": "2019-02-17T12:05:02.967350Z",
     "start_time": "2019-02-17T12:05:02.928213Z"
    }
   },
   "outputs": [],
   "source": [
    "all_preds = pd.DataFrame()\n",
    "\n",
    "all_preds[\"goss\"] = goss_pred.set_index(\"card_id\").target\n",
    "all_preds[\"gbdt\"] = gbdt_pred.set_index(\"card_id\").target\n",
    "all_preds[\"dart\"] = dart_pred.set_index(\"card_id\").target"
   ]
  },
  {
   "cell_type": "code",
   "execution_count": 36,
   "metadata": {
    "ExecuteTime": {
     "end_time": "2019-02-17T12:05:15.114243Z",
     "start_time": "2019-02-17T12:05:15.096719Z"
    }
   },
   "outputs": [
    {
     "data": {
      "text/html": [
       "<div>\n",
       "<style scoped>\n",
       "    .dataframe tbody tr th:only-of-type {\n",
       "        vertical-align: middle;\n",
       "    }\n",
       "\n",
       "    .dataframe tbody tr th {\n",
       "        vertical-align: top;\n",
       "    }\n",
       "\n",
       "    .dataframe thead th {\n",
       "        text-align: right;\n",
       "    }\n",
       "</style>\n",
       "<table border=\"1\" class=\"dataframe\">\n",
       "  <thead>\n",
       "    <tr style=\"text-align: right;\">\n",
       "      <th></th>\n",
       "      <th>goss</th>\n",
       "      <th>gbdt</th>\n",
       "      <th>dart</th>\n",
       "    </tr>\n",
       "  </thead>\n",
       "  <tbody>\n",
       "    <tr>\n",
       "      <th>goss</th>\n",
       "      <td>1.000000</td>\n",
       "      <td>0.997427</td>\n",
       "      <td>0.994944</td>\n",
       "    </tr>\n",
       "    <tr>\n",
       "      <th>gbdt</th>\n",
       "      <td>0.997427</td>\n",
       "      <td>1.000000</td>\n",
       "      <td>0.995059</td>\n",
       "    </tr>\n",
       "    <tr>\n",
       "      <th>dart</th>\n",
       "      <td>0.994944</td>\n",
       "      <td>0.995059</td>\n",
       "      <td>1.000000</td>\n",
       "    </tr>\n",
       "  </tbody>\n",
       "</table>\n",
       "</div>"
      ],
      "text/plain": [
       "          goss      gbdt      dart\n",
       "goss  1.000000  0.997427  0.994944\n",
       "gbdt  0.997427  1.000000  0.995059\n",
       "dart  0.994944  0.995059  1.000000"
      ]
     },
     "execution_count": 36,
     "metadata": {},
     "output_type": "execute_result"
    }
   ],
   "source": [
    "all_preds.corr()"
   ]
  },
  {
   "cell_type": "code",
   "execution_count": 37,
   "metadata": {
    "ExecuteTime": {
     "end_time": "2019-02-17T14:12:51.873372Z",
     "start_time": "2019-02-17T14:12:51.485340Z"
    }
   },
   "outputs": [],
   "source": [
    "goss_pred = pd.read_csv(\"./data/submissions/lgb018_goss.csv\")\n",
    "gbdt_pred = pd.read_csv(\"./data/submissions/lgb018_gbdt.csv\")\n",
    "dart_pred = pd.read_csv(\"./data/submissions/lgb018_dart.csv\")"
   ]
  },
  {
   "cell_type": "code",
   "execution_count": 38,
   "metadata": {
    "ExecuteTime": {
     "end_time": "2019-02-17T14:13:00.364090Z",
     "start_time": "2019-02-17T14:13:00.322980Z"
    }
   },
   "outputs": [],
   "source": [
    "all_preds = pd.DataFrame()\n",
    "\n",
    "all_preds[\"goss\"] = goss_pred.set_index(\"card_id\").target\n",
    "all_preds[\"gbdt\"] = gbdt_pred.set_index(\"card_id\").target\n",
    "all_preds[\"dart\"] = dart_pred.set_index(\"card_id\").target"
   ]
  },
  {
   "cell_type": "code",
   "execution_count": 39,
   "metadata": {
    "ExecuteTime": {
     "end_time": "2019-02-17T14:13:06.472327Z",
     "start_time": "2019-02-17T14:13:06.452273Z"
    }
   },
   "outputs": [
    {
     "data": {
      "text/html": [
       "<div>\n",
       "<style scoped>\n",
       "    .dataframe tbody tr th:only-of-type {\n",
       "        vertical-align: middle;\n",
       "    }\n",
       "\n",
       "    .dataframe tbody tr th {\n",
       "        vertical-align: top;\n",
       "    }\n",
       "\n",
       "    .dataframe thead th {\n",
       "        text-align: right;\n",
       "    }\n",
       "</style>\n",
       "<table border=\"1\" class=\"dataframe\">\n",
       "  <thead>\n",
       "    <tr style=\"text-align: right;\">\n",
       "      <th></th>\n",
       "      <th>goss</th>\n",
       "      <th>gbdt</th>\n",
       "      <th>dart</th>\n",
       "    </tr>\n",
       "  </thead>\n",
       "  <tbody>\n",
       "    <tr>\n",
       "      <th>goss</th>\n",
       "      <td>1.000000</td>\n",
       "      <td>0.997391</td>\n",
       "      <td>0.995412</td>\n",
       "    </tr>\n",
       "    <tr>\n",
       "      <th>gbdt</th>\n",
       "      <td>0.997391</td>\n",
       "      <td>1.000000</td>\n",
       "      <td>0.995626</td>\n",
       "    </tr>\n",
       "    <tr>\n",
       "      <th>dart</th>\n",
       "      <td>0.995412</td>\n",
       "      <td>0.995626</td>\n",
       "      <td>1.000000</td>\n",
       "    </tr>\n",
       "  </tbody>\n",
       "</table>\n",
       "</div>"
      ],
      "text/plain": [
       "          goss      gbdt      dart\n",
       "goss  1.000000  0.997391  0.995412\n",
       "gbdt  0.997391  1.000000  0.995626\n",
       "dart  0.995412  0.995626  1.000000"
      ]
     },
     "execution_count": 39,
     "metadata": {},
     "output_type": "execute_result"
    }
   ],
   "source": [
    "all_preds.corr()"
   ]
  },
  {
   "cell_type": "code",
   "execution_count": 46,
   "metadata": {
    "ExecuteTime": {
     "end_time": "2019-02-17T14:15:19.241455Z",
     "start_time": "2019-02-17T14:15:18.428290Z"
    },
    "scrolled": false
   },
   "outputs": [],
   "source": [
    "all_preds.mean(axis=1).reset_index(name=\"target\").to_csv(\"./data/submissions/lgb018_blend.csv\", index=False)"
   ]
  },
  {
   "cell_type": "code",
   "execution_count": 76,
   "metadata": {
    "ExecuteTime": {
     "end_time": "2019-02-17T14:27:36.249946Z",
     "start_time": "2019-02-17T14:27:35.418768Z"
    }
   },
   "outputs": [],
   "source": [
    "all_preds = pd.DataFrame()\n",
    "\n",
    "goss_pred = pd.read_csv(\"./data/submissions/lgb016_goss.csv\")\n",
    "gbdt_pred = pd.read_csv(\"./data/submissions/lgb016_gbdt.csv\")\n",
    "dart_pred = pd.read_csv(\"./data/submissions/lgb016_dart.csv\")\n",
    "all_preds[\"goss016\"] = goss_pred.set_index(\"card_id\").target\n",
    "all_preds[\"gbdt016\"] = gbdt_pred.set_index(\"card_id\").target\n",
    "all_preds[\"dart016\"] = dart_pred.set_index(\"card_id\").target\n",
    "\n",
    "goss_pred = pd.read_csv(\"./data/submissions/lgb018_goss.csv\")\n",
    "gbdt_pred = pd.read_csv(\"./data/submissions/lgb018_gbdt.csv\")\n",
    "dart_pred = pd.read_csv(\"./data/submissions/lgb018_dart.csv\")\n",
    "all_preds[\"goss018\"] = goss_pred.set_index(\"card_id\").target\n",
    "all_preds[\"gbdt018\"] = gbdt_pred.set_index(\"card_id\").target\n",
    "all_preds[\"dart018\"] = dart_pred.set_index(\"card_id\").target\n",
    "\n",
    "blend010p = pd.read_csv(\"./data/submissions/blend010p.csv\")\n",
    "# all_preds[\"blend010\"] = blend010p.set_index(\"card_id\").target"
   ]
  },
  {
   "cell_type": "code",
   "execution_count": 77,
   "metadata": {
    "ExecuteTime": {
     "end_time": "2019-02-17T14:27:36.698139Z",
     "start_time": "2019-02-17T14:27:36.685102Z"
    },
    "scrolled": true
   },
   "outputs": [],
   "source": [
    "blend010p[\"target\"] = blend010p.target.values * 0.75 + all_preds.mean(axis=1).values * 0.25"
   ]
  },
  {
   "cell_type": "code",
   "execution_count": 67,
   "metadata": {
    "ExecuteTime": {
     "end_time": "2019-02-17T14:25:47.445703Z",
     "start_time": "2019-02-17T14:25:47.430694Z"
    }
   },
   "outputs": [
    {
     "data": {
      "text/plain": [
       "(123623,)"
      ]
     },
     "execution_count": 67,
     "metadata": {},
     "output_type": "execute_result"
    }
   ],
   "source": [
    "all_preds.mean(axis=1).shape"
   ]
  },
  {
   "cell_type": "code",
   "execution_count": 79,
   "metadata": {
    "ExecuteTime": {
     "end_time": "2019-02-17T14:28:06.037229Z",
     "start_time": "2019-02-17T14:28:05.549932Z"
    }
   },
   "outputs": [],
   "source": [
    "blend010p.to_csv(\"./data/submissions/blend018p.csv\", index=False)"
   ]
  }
 ],
 "metadata": {
  "kernelspec": {
   "display_name": "Python 3",
   "language": "python",
   "name": "python3"
  },
  "language_info": {
   "codemirror_mode": {
    "name": "ipython",
    "version": 3
   },
   "file_extension": ".py",
   "mimetype": "text/x-python",
   "name": "python",
   "nbconvert_exporter": "python",
   "pygments_lexer": "ipython3",
   "version": "3.6.6"
  },
  "toc": {
   "base_numbering": 1,
   "nav_menu": {},
   "number_sections": true,
   "sideBar": true,
   "skip_h1_title": false,
   "title_cell": "Table of Contents",
   "title_sidebar": "Contents",
   "toc_cell": false,
   "toc_position": {},
   "toc_section_display": true,
   "toc_window_display": false
  },
  "varInspector": {
   "cols": {
    "lenName": 16,
    "lenType": 16,
    "lenVar": 40
   },
   "kernels_config": {
    "python": {
     "delete_cmd_postfix": "",
     "delete_cmd_prefix": "del ",
     "library": "var_list.py",
     "varRefreshCmd": "print(var_dic_list())"
    },
    "r": {
     "delete_cmd_postfix": ") ",
     "delete_cmd_prefix": "rm(",
     "library": "var_list.r",
     "varRefreshCmd": "cat(var_dic_list()) "
    }
   },
   "types_to_exclude": [
    "module",
    "function",
    "builtin_function_or_method",
    "instance",
    "_Feature"
   ],
   "window_display": false
  }
 },
 "nbformat": 4,
 "nbformat_minor": 2
}
