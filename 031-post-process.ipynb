{
 "cells": [
  {
   "cell_type": "code",
   "execution_count": 1,
   "metadata": {
    "ExecuteTime": {
     "end_time": "2019-02-22T15:16:04.263828Z",
     "start_time": "2019-02-22T15:16:02.591384Z"
    }
   },
   "outputs": [],
   "source": [
    "import pandas as pd\n",
    "import gc\n",
    "\n",
    "pd.set_option('display.float_format', '{:.10f}'.format)\n",
    "import matplotlib.pyplot as plt\n",
    "%matplotlib inline"
   ]
  },
  {
   "cell_type": "code",
   "execution_count": 2,
   "metadata": {
    "ExecuteTime": {
     "end_time": "2019-02-22T15:16:04.887485Z",
     "start_time": "2019-02-22T15:16:04.267839Z"
    }
   },
   "outputs": [],
   "source": [
    "import numpy as np\n",
    "from sklearn.metrics import mean_squared_error\n",
    "\n",
    "def rmse(y_true, y_pred):\n",
    "    return np.sqrt(mean_squared_error(y_true, y_pred))"
   ]
  },
  {
   "cell_type": "markdown",
   "metadata": {},
   "source": [
    "# load"
   ]
  },
  {
   "cell_type": "code",
   "execution_count": 3,
   "metadata": {
    "ExecuteTime": {
     "end_time": "2019-02-22T15:17:13.582417Z",
     "start_time": "2019-02-22T15:16:04.890494Z"
    }
   },
   "outputs": [],
   "source": [
    "train = pd.read_csv('./data/train.csv')\n",
    "historical_transactions = pd.read_csv('./data/historical_transactions.csv')\n",
    "new_merchant_transactions = pd.read_csv('./data/new_merchant_transactions.csv')"
   ]
  },
  {
   "cell_type": "code",
   "execution_count": 4,
   "metadata": {
    "ExecuteTime": {
     "end_time": "2019-02-22T15:17:19.490146Z",
     "start_time": "2019-02-22T15:17:13.585422Z"
    }
   },
   "outputs": [],
   "source": [
    "all_transactions = pd.concat([historical_transactions, new_merchant_transactions], axis=0)"
   ]
  },
  {
   "cell_type": "code",
   "execution_count": 5,
   "metadata": {
    "ExecuteTime": {
     "end_time": "2019-02-22T15:18:35.399906Z",
     "start_time": "2019-02-22T15:17:19.493131Z"
    }
   },
   "outputs": [
    {
     "data": {
      "text/plain": [
       "authorized_flag                2\n",
       "card_id                   325540\n",
       "city_id                      308\n",
       "category_1                     2\n",
       "installments                  15\n",
       "category_3                     3\n",
       "merchant_category_id         331\n",
       "merchant_id               334633\n",
       "month_lag                     16\n",
       "purchase_amount           221246\n",
       "purchase_date           17717516\n",
       "category_2                     5\n",
       "state_id                      25\n",
       "subsector_id                  41\n",
       "dtype: int64"
      ]
     },
     "execution_count": 5,
     "metadata": {},
     "output_type": "execute_result"
    }
   ],
   "source": [
    "all_transactions.nunique()"
   ]
  },
  {
   "cell_type": "markdown",
   "metadata": {},
   "source": [
    "# m_count & c_count"
   ]
  },
  {
   "cell_type": "code",
   "execution_count": 6,
   "metadata": {
    "ExecuteTime": {
     "end_time": "2019-02-22T15:18:47.765737Z",
     "start_time": "2019-02-22T15:18:35.403917Z"
    }
   },
   "outputs": [],
   "source": [
    "c_m = all_transactions[[\"card_id\", \"merchant_id\"]].drop_duplicates([\"card_id\", \"merchant_id\"])"
   ]
  },
  {
   "cell_type": "code",
   "execution_count": 7,
   "metadata": {
    "ExecuteTime": {
     "end_time": "2019-02-22T15:18:47.777772Z",
     "start_time": "2019-02-22T15:18:47.767741Z"
    }
   },
   "outputs": [
    {
     "data": {
      "text/plain": [
       "(1630, 6)"
      ]
     },
     "execution_count": 7,
     "metadata": {},
     "output_type": "execute_result"
    }
   ],
   "source": [
    "train[train.target == 0].shape"
   ]
  },
  {
   "cell_type": "code",
   "execution_count": 8,
   "metadata": {
    "ExecuteTime": {
     "end_time": "2019-02-22T15:18:54.862604Z",
     "start_time": "2019-02-22T15:18:47.780776Z"
    }
   },
   "outputs": [],
   "source": [
    "m_count = c_m.groupby(\"card_id\").size()\n",
    "c_count = c_m.groupby(\"merchant_id\").size()"
   ]
  },
  {
   "cell_type": "code",
   "execution_count": 9,
   "metadata": {
    "ExecuteTime": {
     "end_time": "2019-02-22T15:18:54.874665Z",
     "start_time": "2019-02-22T15:18:54.864607Z"
    }
   },
   "outputs": [
    {
     "data": {
      "text/plain": [
       "39627"
      ]
     },
     "execution_count": 9,
     "metadata": {},
     "output_type": "execute_result"
    }
   ],
   "source": [
    "(c_count < 2).sum()"
   ]
  },
  {
   "cell_type": "code",
   "execution_count": 10,
   "metadata": {
    "ExecuteTime": {
     "end_time": "2019-02-22T15:18:54.891680Z",
     "start_time": "2019-02-22T15:18:54.876640Z"
    }
   },
   "outputs": [
    {
     "data": {
      "text/plain": [
       "1696"
      ]
     },
     "execution_count": 10,
     "metadata": {},
     "output_type": "execute_result"
    }
   ],
   "source": [
    "(m_count < 2).sum()"
   ]
  },
  {
   "cell_type": "code",
   "execution_count": 11,
   "metadata": {
    "ExecuteTime": {
     "end_time": "2019-02-22T15:18:55.203522Z",
     "start_time": "2019-02-22T15:18:54.893686Z"
    }
   },
   "outputs": [
    {
     "data": {
      "text/plain": [
       "<matplotlib.axes._subplots.AxesSubplot at 0x1c2ec287c50>"
      ]
     },
     "execution_count": 11,
     "metadata": {},
     "output_type": "execute_result"
    },
    {
     "data": {
      "image/png": "[encoded data removed]",
      "text/plain": [
       "<Figure size 432x288 with 1 Axes>"
      ]
     },
     "metadata": {
      "needs_background": "light"
     },
     "output_type": "display_data"
    }
   ],
   "source": [
    "c_count.hist(bins=50)"
   ]
  },
  {
   "cell_type": "code",
   "execution_count": 12,
   "metadata": {
    "ExecuteTime": {
     "end_time": "2019-02-22T15:18:55.473228Z",
     "start_time": "2019-02-22T15:18:55.206517Z"
    }
   },
   "outputs": [
    {
     "data": {
      "text/plain": [
       "<matplotlib.axes._subplots.AxesSubplot at 0x1bf83b2aeb8>"
      ]
     },
     "execution_count": 12,
     "metadata": {},
     "output_type": "execute_result"
    },
    {
     "data": {
      "image/png": "[encoded data removed]",
      "text/plain": [
       "<Figure size 432x288 with 1 Axes>"
      ]
     },
     "metadata": {
      "needs_background": "light"
     },
     "output_type": "display_data"
    }
   ],
   "source": [
    "m_count.hist(bins=50)"
   ]
  },
  {
   "cell_type": "code",
   "execution_count": 13,
   "metadata": {
    "ExecuteTime": {
     "end_time": "2019-02-22T15:18:55.715897Z",
     "start_time": "2019-02-22T15:18:55.475231Z"
    }
   },
   "outputs": [],
   "source": [
    "train[\"m_count\"] = train.card_id.map(m_count)"
   ]
  },
  {
   "cell_type": "code",
   "execution_count": 14,
   "metadata": {
    "ExecuteTime": {
     "end_time": "2019-02-22T15:18:55.969551Z",
     "start_time": "2019-02-22T15:18:55.717895Z"
    }
   },
   "outputs": [
    {
     "data": {
      "text/plain": [
       "<matplotlib.axes._subplots.AxesSubplot at 0x1bf873344a8>"
      ]
     },
     "execution_count": 14,
     "metadata": {},
     "output_type": "execute_result"
    },
    {
     "data": {
      "image/png": "[encoded data removed]",
      "text/plain": [
       "<Figure size 432x288 with 1 Axes>"
      ]
     },
     "metadata": {
      "needs_background": "light"
     },
     "output_type": "display_data"
    }
   ],
   "source": [
    "train[train.target == 0].m_count.hist(bins=50)"
   ]
  },
  {
   "cell_type": "code",
   "execution_count": 15,
   "metadata": {
    "ExecuteTime": {
     "end_time": "2019-02-22T15:18:56.207201Z",
     "start_time": "2019-02-22T15:18:55.971552Z"
    }
   },
   "outputs": [
    {
     "data": {
      "text/plain": [
       "<matplotlib.axes._subplots.AxesSubplot at 0x1bf857d06a0>"
      ]
     },
     "execution_count": 15,
     "metadata": {},
     "output_type": "execute_result"
    },
    {
     "data": {
      "image/png": "[encoded data removed]",
      "text/plain": [
       "<Figure size 432x288 with 1 Axes>"
      ]
     },
     "metadata": {
      "needs_background": "light"
     },
     "output_type": "display_data"
    }
   ],
   "source": [
    "train[train.m_count == 1].target.hist(bins=50)"
   ]
  },
  {
   "cell_type": "code",
   "execution_count": 16,
   "metadata": {
    "ExecuteTime": {
     "end_time": "2019-02-22T15:18:56.232281Z",
     "start_time": "2019-02-22T15:18:56.209182Z"
    }
   },
   "outputs": [
    {
     "name": "stdout",
     "output_type": "stream",
     "text": [
      "1630\n",
      "1035\n",
      "456\n"
     ]
    }
   ],
   "source": [
    "print((train.target == 0).sum())\n",
    "print((train.m_count == 1).sum())\n",
    "print(((train.target == 0) & (train.m_count == 1)).sum())"
   ]
  },
  {
   "cell_type": "markdown",
   "metadata": {},
   "source": [
    "# post-process"
   ]
  },
  {
   "cell_type": "code",
   "execution_count": 17,
   "metadata": {
    "ExecuteTime": {
     "end_time": "2019-02-22T15:18:57.313129Z",
     "start_time": "2019-02-22T15:18:56.234251Z"
    }
   },
   "outputs": [],
   "source": [
    "from data_io import load_submission\n",
    "\n",
    "submission = load_submission(\"blend029p\")\n",
    "submission.loc[submission.card_id.isin(m_count[m_count == 1].index), \"target\"] = 0\n",
    "submission.to_csv(\"./data/submissions/blend029p-post.csv\", index=False)"
   ]
  },
  {
   "cell_type": "code",
   "execution_count": 18,
   "metadata": {
    "ExecuteTime": {
     "end_time": "2019-02-22T15:18:57.726255Z",
     "start_time": "2019-02-22T15:18:57.316126Z"
    }
   },
   "outputs": [
    {
     "data": {
      "text/plain": [
       "<matplotlib.axes._subplots.AxesSubplot at 0x1c2ec287080>"
      ]
     },
     "execution_count": 18,
     "metadata": {},
     "output_type": "execute_result"
    },
    {
     "data": {
      "image/png": "[encoded data removed]",
      "text/plain": [
       "<Figure size 432x288 with 1 Axes>"
      ]
     },
     "metadata": {
      "needs_background": "light"
     },
     "output_type": "display_data"
    }
   ],
   "source": [
    "submission.target.hist(bins=100)"
   ]
  },
  {
   "cell_type": "markdown",
   "metadata": {},
   "source": [
    "# special-merchant-ids"
   ]
  },
  {
   "cell_type": "code",
   "execution_count": 19,
   "metadata": {
    "ExecuteTime": {
     "end_time": "2019-02-22T15:18:57.737246Z",
     "start_time": "2019-02-22T15:18:57.728220Z"
    }
   },
   "outputs": [],
   "source": [
    "train[\"outlier\"] = (train.target < -30).astype(int)\n",
    "train[\"zero\"] = (train.target == 0).astype(int)"
   ]
  },
  {
   "cell_type": "code",
   "execution_count": 20,
   "metadata": {
    "ExecuteTime": {
     "end_time": "2019-02-22T15:19:09.243865Z",
     "start_time": "2019-02-22T15:18:57.739252Z"
    }
   },
   "outputs": [],
   "source": [
    "c_m[\"c_count\"] = c_m.merchant_id.map(c_count)\n",
    "c_m[\"m_count\"] = c_m.card_id.map(m_count)\n",
    "c_m[\"zero\"] = c_m.card_id.map(train.set_index(\"card_id\").zero)\n",
    "c_m[\"outlier\"] = c_m.card_id.map(train.set_index(\"card_id\").outlier)\n",
    "c_m[\"is_train\"] = 0\n",
    "c_m.loc[c_m.card_id.isin(train.card_id), \"is_train\"] = 1"
   ]
  },
  {
   "cell_type": "code",
   "execution_count": 21,
   "metadata": {
    "ExecuteTime": {
     "end_time": "2019-02-22T15:19:09.268900Z",
     "start_time": "2019-02-22T15:19:09.245839Z"
    }
   },
   "outputs": [
    {
     "data": {
      "text/html": [
       "<div>\n",
       "<style scoped>\n",
       "    .dataframe tbody tr th:only-of-type {\n",
       "        vertical-align: middle;\n",
       "    }\n",
       "\n",
       "    .dataframe tbody tr th {\n",
       "        vertical-align: top;\n",
       "    }\n",
       "\n",
       "    .dataframe thead th {\n",
       "        text-align: right;\n",
       "    }\n",
       "</style>\n",
       "<table border=\"1\" class=\"dataframe\">\n",
       "  <thead>\n",
       "    <tr style=\"text-align: right;\">\n",
       "      <th></th>\n",
       "      <th>card_id</th>\n",
       "      <th>merchant_id</th>\n",
       "      <th>c_count</th>\n",
       "      <th>m_count</th>\n",
       "      <th>zero</th>\n",
       "      <th>outlier</th>\n",
       "      <th>is_train</th>\n",
       "    </tr>\n",
       "  </thead>\n",
       "  <tbody>\n",
       "    <tr>\n",
       "      <th>0</th>\n",
       "      <td>C_ID_4e6213e9bc</td>\n",
       "      <td>M_ID_e020e9b302</td>\n",
       "      <td>5422.0000000000</td>\n",
       "      <td>58</td>\n",
       "      <td>nan</td>\n",
       "      <td>nan</td>\n",
       "      <td>0</td>\n",
       "    </tr>\n",
       "    <tr>\n",
       "      <th>1</th>\n",
       "      <td>C_ID_4e6213e9bc</td>\n",
       "      <td>M_ID_86ec983688</td>\n",
       "      <td>5980.0000000000</td>\n",
       "      <td>58</td>\n",
       "      <td>nan</td>\n",
       "      <td>nan</td>\n",
       "      <td>0</td>\n",
       "    </tr>\n",
       "    <tr>\n",
       "      <th>2</th>\n",
       "      <td>C_ID_4e6213e9bc</td>\n",
       "      <td>M_ID_979ed661fc</td>\n",
       "      <td>402.0000000000</td>\n",
       "      <td>58</td>\n",
       "      <td>nan</td>\n",
       "      <td>nan</td>\n",
       "      <td>0</td>\n",
       "    </tr>\n",
       "    <tr>\n",
       "      <th>3</th>\n",
       "      <td>C_ID_4e6213e9bc</td>\n",
       "      <td>M_ID_e6d5ae8ea6</td>\n",
       "      <td>60.0000000000</td>\n",
       "      <td>58</td>\n",
       "      <td>nan</td>\n",
       "      <td>nan</td>\n",
       "      <td>0</td>\n",
       "    </tr>\n",
       "    <tr>\n",
       "      <th>5</th>\n",
       "      <td>C_ID_4e6213e9bc</td>\n",
       "      <td>M_ID_50af771f8d</td>\n",
       "      <td>1023.0000000000</td>\n",
       "      <td>58</td>\n",
       "      <td>nan</td>\n",
       "      <td>nan</td>\n",
       "      <td>0</td>\n",
       "    </tr>\n",
       "  </tbody>\n",
       "</table>\n",
       "</div>"
      ],
      "text/plain": [
       "           card_id      merchant_id         c_count  m_count  zero  outlier  \\\n",
       "0  C_ID_4e6213e9bc  M_ID_e020e9b302 5422.0000000000       58   nan      nan   \n",
       "1  C_ID_4e6213e9bc  M_ID_86ec983688 5980.0000000000       58   nan      nan   \n",
       "2  C_ID_4e6213e9bc  M_ID_979ed661fc  402.0000000000       58   nan      nan   \n",
       "3  C_ID_4e6213e9bc  M_ID_e6d5ae8ea6   60.0000000000       58   nan      nan   \n",
       "5  C_ID_4e6213e9bc  M_ID_50af771f8d 1023.0000000000       58   nan      nan   \n",
       "\n",
       "   is_train  \n",
       "0         0  \n",
       "1         0  \n",
       "2         0  \n",
       "3         0  \n",
       "5         0  "
      ]
     },
     "execution_count": 21,
     "metadata": {},
     "output_type": "execute_result"
    }
   ],
   "source": [
    "c_m.head()"
   ]
  },
  {
   "cell_type": "code",
   "execution_count": 22,
   "metadata": {
    "ExecuteTime": {
     "end_time": "2019-02-22T15:19:09.363152Z",
     "start_time": "2019-02-22T15:19:09.270918Z"
    },
    "scrolled": false
   },
   "outputs": [
    {
     "data": {
      "text/html": [
       "<div>\n",
       "<style scoped>\n",
       "    .dataframe tbody tr th:only-of-type {\n",
       "        vertical-align: middle;\n",
       "    }\n",
       "\n",
       "    .dataframe tbody tr th {\n",
       "        vertical-align: top;\n",
       "    }\n",
       "\n",
       "    .dataframe thead th {\n",
       "        text-align: right;\n",
       "    }\n",
       "</style>\n",
       "<table border=\"1\" class=\"dataframe\">\n",
       "  <thead>\n",
       "    <tr style=\"text-align: right;\">\n",
       "      <th></th>\n",
       "      <th>card_id</th>\n",
       "      <th>merchant_id</th>\n",
       "      <th>c_count</th>\n",
       "      <th>m_count</th>\n",
       "      <th>zero</th>\n",
       "      <th>outlier</th>\n",
       "      <th>is_train</th>\n",
       "    </tr>\n",
       "  </thead>\n",
       "  <tbody>\n",
       "    <tr>\n",
       "      <th>2077431</th>\n",
       "      <td>C_ID_49f0655e15</td>\n",
       "      <td>M_ID_b574941e3a</td>\n",
       "      <td>867</td>\n",
       "      <td>1</td>\n",
       "      <td>1</td>\n",
       "      <td>0</td>\n",
       "      <td>1</td>\n",
       "    </tr>\n",
       "    <tr>\n",
       "      <th>4163811</th>\n",
       "      <td>C_ID_ba26c0f556</td>\n",
       "      <td>M_ID_fc7d7969c3</td>\n",
       "      <td>30827</td>\n",
       "      <td>1</td>\n",
       "      <td>1</td>\n",
       "      <td>0</td>\n",
       "      <td>1</td>\n",
       "    </tr>\n",
       "    <tr>\n",
       "      <th>4900251</th>\n",
       "      <td>C_ID_ee05c2b113</td>\n",
       "      <td>M_ID_fc7d7969c3</td>\n",
       "      <td>30827</td>\n",
       "      <td>1</td>\n",
       "      <td>1</td>\n",
       "      <td>0</td>\n",
       "      <td>1</td>\n",
       "    </tr>\n",
       "    <tr>\n",
       "      <th>6397377</th>\n",
       "      <td>C_ID_01d30a308d</td>\n",
       "      <td>M_ID_1fe05656cb</td>\n",
       "      <td>351</td>\n",
       "      <td>1</td>\n",
       "      <td>1</td>\n",
       "      <td>0</td>\n",
       "      <td>1</td>\n",
       "    </tr>\n",
       "    <tr>\n",
       "      <th>8154940</th>\n",
       "      <td>C_ID_89c23b109c</td>\n",
       "      <td>M_ID_00a6ca8a8a</td>\n",
       "      <td>239115</td>\n",
       "      <td>1</td>\n",
       "      <td>1</td>\n",
       "      <td>0</td>\n",
       "      <td>1</td>\n",
       "    </tr>\n",
       "  </tbody>\n",
       "</table>\n",
       "</div>"
      ],
      "text/plain": [
       "                 card_id      merchant_id  c_count  m_count  zero  outlier  \\\n",
       "2077431  C_ID_49f0655e15  M_ID_b574941e3a      867        1     1        0   \n",
       "4163811  C_ID_ba26c0f556  M_ID_fc7d7969c3    30827        1     1        0   \n",
       "4900251  C_ID_ee05c2b113  M_ID_fc7d7969c3    30827        1     1        0   \n",
       "6397377  C_ID_01d30a308d  M_ID_1fe05656cb      351        1     1        0   \n",
       "8154940  C_ID_89c23b109c  M_ID_00a6ca8a8a   239115        1     1        0   \n",
       "\n",
       "         is_train  \n",
       "2077431         1  \n",
       "4163811         1  \n",
       "4900251         1  \n",
       "6397377         1  \n",
       "8154940         1  "
      ]
     },
     "execution_count": 22,
     "metadata": {},
     "output_type": "execute_result"
    }
   ],
   "source": [
    "pd.set_option('display.float_format', '{:.0f}'.format)\n",
    "c_m[(c_m.zero==1) & (c_m.m_count == 1)].head()"
   ]
  },
  {
   "cell_type": "code",
   "execution_count": 23,
   "metadata": {
    "ExecuteTime": {
     "end_time": "2019-02-22T15:19:09.444368Z",
     "start_time": "2019-02-22T15:19:09.365156Z"
    }
   },
   "outputs": [],
   "source": [
    "part = c_m[(c_m.m_count == 1) & (c_m.is_train == 1)]\n"
   ]
  },
  {
   "cell_type": "markdown",
   "metadata": {},
   "source": [
    "## find-zero"
   ]
  },
  {
   "cell_type": "code",
   "execution_count": 24,
   "metadata": {
    "ExecuteTime": {
     "end_time": "2019-02-22T15:19:20.074653Z",
     "start_time": "2019-02-22T15:19:09.446374Z"
    }
   },
   "outputs": [
    {
     "name": "stdout",
     "output_type": "stream",
     "text": [
      "select by m_count only\n",
      "1 zero.prob 0.4405797101449275 1035 / 1696\n",
      "2 zero.prob 0.23326359832635984 1912 / 3060\n",
      "3 zero.prob 0.11959521619135234 3261 / 5364\n",
      "4 zero.prob 0.06559571619812583 5976 / 9680\n",
      "5 zero.prob 0.04118773946360153 10440 / 16760\n",
      "\n",
      "select by m_count & merchant_id\n",
      "merchant_ids: 36 / 222\n"
     ]
    },
    {
     "data": {
      "image/png": "[encoded data removed]",
      "text/plain": [
       "<Figure size 432x288 with 1 Axes>"
      ]
     },
     "metadata": {
      "needs_background": "light"
     },
     "output_type": "display_data"
    },
    {
     "name": "stdout",
     "output_type": "stream",
     "text": [
      "1 zero.prob 0.9384615384615385 65 / 100\n",
      "2 zero.prob 0.5185185185185185 81 / 118\n",
      "3 zero.prob 0.34285714285714286 70 / 114\n",
      "4 zero.prob 0.21212121212121213 66 / 115\n",
      "5 zero.prob 0.12371134020618557 97 / 152\n",
      "\n",
      "select by merchant_id only\n",
      "merchant_ids: 128 / 313541\n"
     ]
    },
    {
     "data": {
      "image/png": "[encoded data removed]",
      "text/plain": [
       "<Figure size 432x288 with 1 Axes>"
      ]
     },
     "metadata": {
      "needs_background": "light"
     },
     "output_type": "display_data"
    },
    {
     "name": "stdout",
     "output_type": "stream",
     "text": [
      "5 zero.prob 1.0 129 / 211\n"
     ]
    }
   ],
   "source": [
    "col = \"zero\"\n",
    "\n",
    "print(\"select by m_count only\")\n",
    "for i in range(5):\n",
    "    th = i + 1\n",
    "    part = c_m[(c_m.m_count == th) & (c_m.is_train == 1)]\n",
    "    a = part[col].mean()\n",
    "    b = part.shape[0]\n",
    "    c = c_m[(c_m.m_count == th)].shape[0]\n",
    "    print(th, col + \".prob\", a, b, \"/\", c)\n",
    "\n",
    "print(\"\")\n",
    "print(\"select by m_count & merchant_id\")\n",
    "part = c_m[(c_m.m_count == 1) & (c_m.is_train == 1)]\n",
    "candidates = part.groupby(\"merchant_id\")[col].mean().sort_values()\n",
    "print(\"merchant_ids:\", (candidates > .8).sum(), \"/\", candidates.shape[0])\n",
    "candidates.hist(bins=50)\n",
    "plt.show()\n",
    "\n",
    "for i in range(5):\n",
    "    th = i + 1\n",
    "    part = c_m[(c_m.m_count == th) & (c_m.is_train == 1)]\n",
    "    a = part[part.merchant_id.isin(candidates[candidates > .8].index)][col].mean()\n",
    "    b = part[part.merchant_id.isin(candidates[candidates > .8].index)].shape[0]\n",
    "    c = c_m[(c_m.m_count == th) & c_m.merchant_id.isin(candidates[candidates > .8].index)].shape[0]\n",
    "    print(th, col + \".prob\", a, b, \"/\", c)\n",
    "    \n",
    "print(\"\")\n",
    "print(\"select by merchant_id only\")\n",
    "part = c_m[(c_m.is_train == 1)]\n",
    "candidates = part.groupby(\"merchant_id\")[col].mean().sort_values()\n",
    "print(\"merchant_ids:\", (candidates > .8).sum(), \"/\", candidates.shape[0])\n",
    "candidates.hist(bins=50)\n",
    "plt.show()\n",
    "\n",
    "a = part[part.merchant_id.isin(candidates[candidates > .8].index)][col].mean()\n",
    "b = part[part.merchant_id.isin(candidates[candidates > .8].index)].shape[0]\n",
    "c = c_m[c_m.merchant_id.isin(candidates[candidates > .8].index)].shape[0]\n",
    "\n",
    "print(th, col + \".prob\", a, b, \"/\", c)"
   ]
  },
  {
   "cell_type": "markdown",
   "metadata": {},
   "source": [
    "## find-outlier"
   ]
  },
  {
   "cell_type": "code",
   "execution_count": 25,
   "metadata": {
    "ExecuteTime": {
     "end_time": "2019-02-22T15:19:31.407756Z",
     "start_time": "2019-02-22T15:19:20.077634Z"
    }
   },
   "outputs": [
    {
     "name": "stdout",
     "output_type": "stream",
     "text": [
      "select by m_count only\n",
      "1 outlier.prob 0.01642512077294686 1035 / 1696\n",
      "2 outlier.prob 0.014644351464435146 1912 / 3060\n",
      "3 outlier.prob 0.011039558417663294 3261 / 5364\n",
      "4 outlier.prob 0.013386880856760375 5976 / 9680\n",
      "5 outlier.prob 0.011973180076628353 10440 / 16760\n",
      "\n",
      "select by m_count & merchant_id\n",
      "merchant_ids: 3 / 222\n"
     ]
    },
    {
     "data": {
      "image/png": "[encoded data removed]",
      "text/plain": [
       "<Figure size 432x288 with 1 Axes>"
      ]
     },
     "metadata": {
      "needs_background": "light"
     },
     "output_type": "display_data"
    },
    {
     "name": "stdout",
     "output_type": "stream",
     "text": [
      "1 outlier.prob 1.0 3 / 4\n",
      "2 outlier.prob 0.0 2 / 2\n",
      "3 outlier.prob 0.0 2 / 3\n",
      "4 outlier.prob 0.0 1 / 3\n",
      "5 outlier.prob 0.14285714285714285 7 / 12\n",
      "\n",
      "select by merchant_id only\n",
      "merchant_ids: 478 / 313541\n"
     ]
    },
    {
     "data": {
      "image/png": "[encoded data removed]",
      "text/plain": [
       "<Figure size 432x288 with 1 Axes>"
      ]
     },
     "metadata": {
      "needs_background": "light"
     },
     "output_type": "display_data"
    },
    {
     "name": "stdout",
     "output_type": "stream",
     "text": [
      "5 outlier.prob 1.0 480 / 865\n"
     ]
    }
   ],
   "source": [
    "col = \"outlier\"\n",
    "\n",
    "print(\"select by m_count only\")\n",
    "for i in range(5):\n",
    "    th = i + 1\n",
    "    part = c_m[(c_m.m_count == th) & (c_m.is_train == 1)]\n",
    "    a = part[col].mean()\n",
    "    b = part.shape[0]\n",
    "    c = c_m[(c_m.m_count == th)].shape[0]\n",
    "    print(th, col + \".prob\", a, b, \"/\", c)\n",
    "\n",
    "print(\"\")\n",
    "print(\"select by m_count & merchant_id\")\n",
    "part = c_m[(c_m.m_count == 1) & (c_m.is_train == 1)]\n",
    "candidates = part.groupby(\"merchant_id\")[col].mean().sort_values()\n",
    "print(\"merchant_ids:\", (candidates > .8).sum(), \"/\", candidates.shape[0])\n",
    "candidates.hist(bins=50)\n",
    "plt.show()\n",
    "\n",
    "for i in range(5):\n",
    "    th = i + 1\n",
    "    part = c_m[(c_m.m_count == th) & (c_m.is_train == 1)]\n",
    "    a = part[part.merchant_id.isin(candidates[candidates > .8].index)][col].mean()\n",
    "    b = part[part.merchant_id.isin(candidates[candidates > .8].index)].shape[0]\n",
    "    c = c_m[(c_m.m_count == th) & c_m.merchant_id.isin(candidates[candidates > .8].index)].shape[0]\n",
    "    print(th, col + \".prob\", a, b, \"/\", c)\n",
    "    \n",
    "print(\"\")\n",
    "print(\"select by merchant_id only\")\n",
    "part = c_m[(c_m.is_train == 1)]\n",
    "candidates = part.groupby(\"merchant_id\")[col].mean().sort_values()\n",
    "print(\"merchant_ids:\", (candidates > .8).sum(), \"/\", candidates.shape[0])\n",
    "candidates.hist(bins=50)\n",
    "plt.show()\n",
    "\n",
    "a = part[part.merchant_id.isin(candidates[candidates > .8].index)][col].mean()\n",
    "b = part[part.merchant_id.isin(candidates[candidates > .8].index)].shape[0]\n",
    "c = c_m[c_m.merchant_id.isin(candidates[candidates > .8].index)].shape[0]\n",
    "\n",
    "print(th, col + \".prob\", a, b, \"/\", c)"
   ]
  },
  {
   "cell_type": "markdown",
   "metadata": {},
   "source": [
    "# special-merchant-features"
   ]
  },
  {
   "cell_type": "markdown",
   "metadata": {
    "ExecuteTime": {
     "end_time": "2019-02-20T01:54:28.048018Z",
     "start_time": "2019-02-20T01:54:28.042988Z"
    }
   },
   "source": [
    "1. zero_with_count_1 ~ 5\n",
    "2. zero_merchant_only\n",
    "3. outlier_merchant_only"
   ]
  },
  {
   "cell_type": "code",
   "execution_count": 26,
   "metadata": {
    "ExecuteTime": {
     "end_time": "2019-02-22T15:19:31.413770Z",
     "start_time": "2019-02-22T15:19:31.410774Z"
    }
   },
   "outputs": [],
   "source": [
    "from data_io import load_train, load_test"
   ]
  },
  {
   "cell_type": "code",
   "execution_count": 27,
   "metadata": {
    "ExecuteTime": {
     "end_time": "2019-02-22T15:19:31.562165Z",
     "start_time": "2019-02-22T15:19:31.415786Z"
    }
   },
   "outputs": [
    {
     "data": {
      "text/html": [
       "<div>\n",
       "<style scoped>\n",
       "    .dataframe tbody tr th:only-of-type {\n",
       "        vertical-align: middle;\n",
       "    }\n",
       "\n",
       "    .dataframe tbody tr th {\n",
       "        vertical-align: top;\n",
       "    }\n",
       "\n",
       "    .dataframe thead th {\n",
       "        text-align: right;\n",
       "    }\n",
       "</style>\n",
       "<table border=\"1\" class=\"dataframe\">\n",
       "  <thead>\n",
       "    <tr style=\"text-align: right;\">\n",
       "      <th></th>\n",
       "      <th>card_id</th>\n",
       "      <th>feature_1</th>\n",
       "      <th>feature_2</th>\n",
       "      <th>feature_3</th>\n",
       "      <th>first_active_month</th>\n",
       "      <th>target</th>\n",
       "    </tr>\n",
       "  </thead>\n",
       "  <tbody>\n",
       "    <tr>\n",
       "      <th>0</th>\n",
       "      <td>C_ID_92a2005557</td>\n",
       "      <td>5</td>\n",
       "      <td>2</td>\n",
       "      <td>1</td>\n",
       "      <td>2017-06</td>\n",
       "      <td>-1</td>\n",
       "    </tr>\n",
       "    <tr>\n",
       "      <th>1</th>\n",
       "      <td>C_ID_3d0044924f</td>\n",
       "      <td>4</td>\n",
       "      <td>1</td>\n",
       "      <td>0</td>\n",
       "      <td>2017-01</td>\n",
       "      <td>0</td>\n",
       "    </tr>\n",
       "    <tr>\n",
       "      <th>2</th>\n",
       "      <td>C_ID_d639edf6cd</td>\n",
       "      <td>2</td>\n",
       "      <td>2</td>\n",
       "      <td>0</td>\n",
       "      <td>2016-08</td>\n",
       "      <td>1</td>\n",
       "    </tr>\n",
       "    <tr>\n",
       "      <th>3</th>\n",
       "      <td>C_ID_186d6a6901</td>\n",
       "      <td>4</td>\n",
       "      <td>3</td>\n",
       "      <td>0</td>\n",
       "      <td>2017-09</td>\n",
       "      <td>0</td>\n",
       "    </tr>\n",
       "    <tr>\n",
       "      <th>4</th>\n",
       "      <td>C_ID_cdbd2c0db2</td>\n",
       "      <td>1</td>\n",
       "      <td>3</td>\n",
       "      <td>0</td>\n",
       "      <td>2017-11</td>\n",
       "      <td>-0</td>\n",
       "    </tr>\n",
       "  </tbody>\n",
       "</table>\n",
       "</div>"
      ],
      "text/plain": [
       "           card_id  feature_1  feature_2  feature_3 first_active_month  target\n",
       "0  C_ID_92a2005557          5          2          1            2017-06      -1\n",
       "1  C_ID_3d0044924f          4          1          0            2017-01       0\n",
       "2  C_ID_d639edf6cd          2          2          0            2016-08       1\n",
       "3  C_ID_186d6a6901          4          3          0            2017-09       0\n",
       "4  C_ID_cdbd2c0db2          1          3          0            2017-11      -0"
      ]
     },
     "execution_count": 27,
     "metadata": {},
     "output_type": "execute_result"
    }
   ],
   "source": [
    "train_test = pd.concat([load_train(), load_test()])\n",
    "train_test.head()"
   ]
  },
  {
   "cell_type": "code",
   "execution_count": 28,
   "metadata": {
    "ExecuteTime": {
     "end_time": "2019-02-22T15:19:31.603273Z",
     "start_time": "2019-02-22T15:19:31.564172Z"
    }
   },
   "outputs": [],
   "source": [
    "train_test = train_test[[\"card_id\", \"target\"]]"
   ]
  },
  {
   "cell_type": "code",
   "execution_count": 29,
   "metadata": {
    "ExecuteTime": {
     "end_time": "2019-02-22T15:19:37.619296Z",
     "start_time": "2019-02-22T15:19:31.606282Z"
    }
   },
   "outputs": [
    {
     "name": "stdout",
     "output_type": "stream",
     "text": [
      "\n",
      "select by merchant_id only\n",
      "merchant_ids: 128 / 313541\n"
     ]
    },
    {
     "data": {
      "image/png": "[encoded data removed]",
      "text/plain": [
       "<Figure size 432x288 with 1 Axes>"
      ]
     },
     "metadata": {
      "needs_background": "light"
     },
     "output_type": "display_data"
    },
    {
     "name": "stdout",
     "output_type": "stream",
     "text": [
      "5 zero.prob 1.0 99 / 180\n"
     ]
    }
   ],
   "source": [
    "col = \"zero\"\n",
    "\n",
    "print(\"\")\n",
    "print(\"select by merchant_id only\")\n",
    "part = c_m[(c_m.is_train == 1)]\n",
    "candidates = part.groupby(\"merchant_id\")[col].mean().sort_values()\n",
    "print(\"merchant_ids:\", (candidates > .8).sum(), \"/\", candidates.shape[0])\n",
    "candidates.hist(bins=50)\n",
    "plt.show()\n",
    "\n",
    "a = part[part.merchant_id.isin(candidates[candidates > .8].index)][col].mean()\n",
    "b = part[part.merchant_id.isin(candidates[candidates > .8].index)].card_id.nunique()\n",
    "c = c_m[c_m.merchant_id.isin(candidates[candidates > .8].index)].card_id.nunique()\n",
    "\n",
    "print(th, col + \".prob\", a, b, \"/\", c)"
   ]
  },
  {
   "cell_type": "code",
   "execution_count": 30,
   "metadata": {
    "ExecuteTime": {
     "end_time": "2019-02-22T15:20:05.114361Z",
     "start_time": "2019-02-22T15:19:37.621272Z"
    }
   },
   "outputs": [
    {
     "name": "stdout",
     "output_type": "stream",
     "text": [
      "select zero\n",
      "select by m_count & merchant_id\n",
      "1 zero.prob 0.9384615384615385 65 / 100\n",
      "2 zero.prob 0.9910714285714286 101 / 128\n",
      "3 zero.prob 1.0 68 / 85\n",
      "4 zero.prob 1.0 70 / 88\n",
      "5 zero.prob 1.0 72 / 97\n",
      "6 zero.prob 1.0 39 / 50\n",
      "7 zero.prob 1.0 48 / 65\n",
      "8 zero.prob 1.0 45 / 58\n",
      "9 zero.prob 1.0 38 / 60\n",
      "10 zero.prob 1.0 28 / 39\n",
      "10 15 zero.prob 1.0 108 / 208\n",
      "15 20 zero.prob 1.0 73 / 152\n",
      "20 30 zero.prob 1.0 66 / 165\n",
      "30 50 zero.prob 1.0 51 / 124\n",
      "50 100 zero.prob 1.0 40 / 88\n",
      "100 99999 zero.prob 1.0 13 / 45\n",
      "\n",
      "select by merchant_id only\n",
      "10 zero.prob 1.0 99 / 180\n"
     ]
    }
   ],
   "source": [
    "train_test = pd.concat([load_train(), load_test()])\n",
    "train_test = train_test[[\"card_id\", \"target\"]]\n",
    "\n",
    "col = \"zero\"\n",
    "\n",
    "print(\"select {}\".format(col))\n",
    "print(\"select by m_count & merchant_id\")\n",
    "\n",
    "for i in range(10):\n",
    "    th = i + 1\n",
    "    count_cond = (c_m.m_count == th)\n",
    "    part = c_m[count_cond & (c_m.is_train == 1)]\n",
    "    candidates = part.groupby(\"merchant_id\")[col].mean().sort_values()\n",
    "    # print(\"merchant_ids:\", (candidates > .8).sum(), \"/\", candidates.shape[0])\n",
    "    # candidates.hist(bins=50)\n",
    "    # plt.show()\n",
    "    a = part[part.merchant_id.isin(candidates[candidates > .8].index)][col].mean()\n",
    "    b = part[part.merchant_id.isin(candidates[candidates > .8].index)].card_id.nunique()\n",
    "    marked = c_m[count_cond & c_m.merchant_id.isin(candidates[candidates > .8].index)]\n",
    "    c = marked.card_id.nunique()\n",
    "    print(th, col + \".prob\", a, b, \"/\", c)\n",
    "    \n",
    "    col_name = \"{}_with_count{}\".format(col, th)\n",
    "    train_test[col_name] = 0\n",
    "    train_test.loc[train_test.card_id.isin(marked.card_id.unique()), col_name] = 1\n",
    "    \n",
    "    \n",
    "for l, r in ((10, 15), (15, 20), (20, 30), (30, 50), (50, 100), (100, 99999)):\n",
    "    count_cond = (c_m.m_count > l) & (c_m.m_count <= r)\n",
    "    part = c_m[count_cond & (c_m.is_train == 1)]\n",
    "    candidates = part.groupby(\"merchant_id\")[col].mean().sort_values()\n",
    "    # print(\"merchant_ids:\", (candidates > .8).sum(), \"/\", candidates.shape[0])\n",
    "    # candidates.hist(bins=50)\n",
    "    # plt.show()\n",
    "    a = part[part.merchant_id.isin(candidates[candidates > .8].index)][col].mean()\n",
    "    b = part[part.merchant_id.isin(candidates[candidates > .8].index)].card_id.nunique()\n",
    "    marked = c_m[count_cond & c_m.merchant_id.isin(candidates[candidates > .8].index)]\n",
    "    c = marked.card_id.nunique()\n",
    "    print(l, r, col + \".prob\", a, b, \"/\", c)\n",
    "    \n",
    "    col_name = \"{}_with_count{}to{}\".format(col, l, r)\n",
    "    train_test[col_name] = 0\n",
    "    train_test.loc[train_test.card_id.isin(marked.card_id.unique()), col_name] = 1\n",
    "\n",
    "print(\"\")\n",
    "print(\"select by merchant_id only\")\n",
    "part = c_m[(c_m.is_train == 1)]\n",
    "candidates = part.groupby(\"merchant_id\")[col].mean().sort_values()\n",
    "# print(\"merchant_ids:\", (candidates > .8).sum(), \"/\", candidates.shape[0])\n",
    "# candidates.hist(bins=50)\n",
    "# plt.show()\n",
    "\n",
    "a = part[part.merchant_id.isin(candidates[candidates > .8].index)][col].mean()\n",
    "b = part[part.merchant_id.isin(candidates[candidates > .8].index)].card_id.nunique()\n",
    "marked = c_m[c_m.merchant_id.isin(candidates[candidates > .8].index)]\n",
    "c = marked.card_id.nunique()\n",
    "\n",
    "print(th, col + \".prob\", a, b, \"/\", c)\n",
    "col_name = \"{}_merchant_only\".format(col)\n",
    "train_test[col_name] = 0\n",
    "train_test.loc[train_test.card_id.isin(marked.card_id.unique()), col_name] = 1"
   ]
  },
  {
   "cell_type": "code",
   "execution_count": 31,
   "metadata": {
    "ExecuteTime": {
     "end_time": "2019-02-22T15:20:05.161484Z",
     "start_time": "2019-02-22T15:20:05.117369Z"
    }
   },
   "outputs": [],
   "source": [
    "def mark_rules(train_test, col, confidence=10):\n",
    "    global c_m\n",
    "    print(\"select {}\".format(col))\n",
    "    print(\"select by m_count & merchant_id\")\n",
    "\n",
    "    c_m = c_m[c_m.c_count > confidence]\n",
    "    \n",
    "    for i in range(2):\n",
    "        th = i + 1\n",
    "        count_cond = (c_m.m_count == th)\n",
    "        part = c_m[count_cond & (c_m.is_train == 1)]\n",
    "        candidates = part.groupby(\"merchant_id\")[col].mean().sort_values()\n",
    "        # print(\"merchant_ids:\", (candidates > .8).sum(), \"/\", candidates.shape[0])\n",
    "        # candidates.hist(bins=50)\n",
    "        # plt.show()\n",
    "        a = part[part.merchant_id.isin(candidates[candidates > .8].index)][col].mean()\n",
    "        b = part[part.merchant_id.isin(candidates[candidates > .8].index)].card_id.nunique()\n",
    "        marked = c_m[count_cond & c_m.merchant_id.isin(candidates[candidates > .8].index)]\n",
    "        c = marked.card_id.nunique()\n",
    "        print(th, col + \".prob\", a, b, \"/\", c)\n",
    "\n",
    "        col_name = \"{}_with_count{}\".format(col, th)\n",
    "        train_test[col_name] = 0\n",
    "        train_test.loc[train_test.card_id.isin(marked.card_id.unique()), col_name] = 1\n",
    "\n",
    "\n",
    "    for l, r in ((3, 10), (10, 15), (15, 20), (20, 30)):\n",
    "        count_cond = (c_m.m_count > l) & (c_m.m_count <= r)\n",
    "        part = c_m[count_cond & (c_m.is_train == 1)]\n",
    "        candidates = part.groupby(\"merchant_id\")[col].mean().sort_values()\n",
    "        # print(\"merchant_ids:\", (candidates > .8).sum(), \"/\", candidates.shape[0])\n",
    "        # candidates.hist(bins=50)\n",
    "        # plt.show()\n",
    "        a = part[part.merchant_id.isin(candidates[candidates > .8].index)][col].mean()\n",
    "        b = part[part.merchant_id.isin(candidates[candidates > .8].index)].card_id.nunique()\n",
    "        marked = c_m[count_cond & c_m.merchant_id.isin(candidates[candidates > .8].index)]\n",
    "        c = marked.card_id.nunique()\n",
    "        print(l, r, col + \".prob\", a, b, \"/\", c)\n",
    "\n",
    "        col_name = \"{}_with_count{}to{}\".format(col, l, r)\n",
    "        train_test[col_name] = 0\n",
    "        train_test.loc[train_test.card_id.isin(marked.card_id.unique()), col_name] = 1\n",
    "\n",
    "    print(\"\")\n",
    "    print(\"select by merchant_id only\")\n",
    "    part = c_m[(c_m.is_train == 1)]\n",
    "    candidates = part.groupby(\"merchant_id\")[col].mean().sort_values()\n",
    "    # print(\"merchant_ids:\", (candidates > .8).sum(), \"/\", candidates.shape[0])\n",
    "    # candidates.hist(bins=50)\n",
    "    # plt.show()\n",
    "\n",
    "    a = part[part.merchant_id.isin(candidates[candidates > .8].index)][col].mean()\n",
    "    b = part[part.merchant_id.isin(candidates[candidates > .8].index)].card_id.nunique()\n",
    "    marked = c_m[c_m.merchant_id.isin(candidates[candidates > .8].index)]\n",
    "    c = marked.card_id.nunique()\n",
    "\n",
    "    print(th, col + \".prob\", a, b, \"/\", c)\n",
    "    col_name = \"{}_merchant_only\".format(col)\n",
    "    train_test[col_name] = 0\n",
    "    train_test.loc[train_test.card_id.isin(marked.card_id.unique()), col_name] = 1\n",
    "    return train_test"
   ]
  },
  {
   "cell_type": "code",
   "execution_count": 32,
   "metadata": {
    "ExecuteTime": {
     "end_time": "2019-02-22T15:20:21.673381Z",
     "start_time": "2019-02-22T15:20:05.165497Z"
    }
   },
   "outputs": [
    {
     "name": "stdout",
     "output_type": "stream",
     "text": [
      "select zero\n",
      "select by m_count & merchant_id\n",
      "1 zero.prob 0.9298245614035088 57 / 92\n",
      "2 zero.prob 0.9861111111111112 68 / 95\n",
      "3 10 zero.prob 1.0 124 / 192\n",
      "10 15 zero.prob 1.0 52 / 107\n",
      "15 20 zero.prob 1.0 36 / 85\n",
      "20 30 zero.prob 1.0 12 / 27\n",
      "\n",
      "select by merchant_id only\n",
      "2 zero.prob nan 0 / 0\n",
      "select outlier\n",
      "select by m_count & merchant_id\n",
      "1 outlier.prob 1.0 2 / 3\n",
      "2 outlier.prob 1.0 3 / 3\n",
      "3 10 outlier.prob 1.0 89 / 157\n",
      "10 15 outlier.prob 1.0 84 / 190\n",
      "15 20 outlier.prob 1.0 66 / 167\n",
      "20 30 outlier.prob 1.0 30 / 94\n",
      "\n",
      "select by merchant_id only\n",
      "2 outlier.prob nan 0 / 0\n"
     ]
    }
   ],
   "source": [
    "train_test = pd.concat([load_train(), load_test()])\n",
    "train_test = train_test[[\"card_id\", \"target\"]]\n",
    "train_test = mark_rules(train_test, \"zero\", 50)\n",
    "train_test = mark_rules(train_test, \"outlier\", 50)"
   ]
  },
  {
   "cell_type": "code",
   "execution_count": 33,
   "metadata": {
    "ExecuteTime": {
     "end_time": "2019-02-22T15:20:21.681403Z",
     "start_time": "2019-02-22T15:20:21.676389Z"
    }
   },
   "outputs": [
    {
     "data": {
      "text/plain": [
       "(325540,)"
      ]
     },
     "execution_count": 33,
     "metadata": {},
     "output_type": "execute_result"
    }
   ],
   "source": [
    "m_count.shape"
   ]
  },
  {
   "cell_type": "code",
   "execution_count": 34,
   "metadata": {
    "ExecuteTime": {
     "end_time": "2019-02-22T15:20:21.708473Z",
     "start_time": "2019-02-22T15:20:21.684434Z"
    }
   },
   "outputs": [
    {
     "data": {
      "text/plain": [
       "1007"
      ]
     },
     "execution_count": 34,
     "metadata": {},
     "output_type": "execute_result"
    }
   ],
   "source": [
    "(c_count > 1000).sum()"
   ]
  },
  {
   "cell_type": "code",
   "execution_count": 35,
   "metadata": {
    "ExecuteTime": {
     "end_time": "2019-02-22T15:20:21.731537Z",
     "start_time": "2019-02-22T15:20:21.711481Z"
    }
   },
   "outputs": [
    {
     "data": {
      "text/plain": [
       "19402"
      ]
     },
     "execution_count": 35,
     "metadata": {},
     "output_type": "execute_result"
    }
   ],
   "source": [
    "((c_count < 1000) & (c_count > 100)).sum()"
   ]
  },
  {
   "cell_type": "code",
   "execution_count": 36,
   "metadata": {
    "ExecuteTime": {
     "end_time": "2019-02-22T15:20:21.744569Z",
     "start_time": "2019-02-22T15:20:21.733541Z"
    }
   },
   "outputs": [
    {
     "data": {
      "text/plain": [
       "31138"
      ]
     },
     "execution_count": 36,
     "metadata": {},
     "output_type": "execute_result"
    }
   ],
   "source": [
    "(m_count < 10).sum()"
   ]
  },
  {
   "cell_type": "code",
   "execution_count": 37,
   "metadata": {
    "ExecuteTime": {
     "end_time": "2019-02-22T15:20:22.231891Z",
     "start_time": "2019-02-22T15:20:21.747578Z"
    }
   },
   "outputs": [
    {
     "data": {
      "text/plain": [
       "<matplotlib.axes._subplots.AxesSubplot at 0x1c103087128>"
      ]
     },
     "execution_count": 37,
     "metadata": {},
     "output_type": "execute_result"
    },
    {
     "data": {
      "image/png": "[encoded data removed]",
      "text/plain": [
       "<Figure size 432x288 with 1 Axes>"
      ]
     },
     "metadata": {
      "needs_background": "light"
     },
     "output_type": "display_data"
    }
   ],
   "source": [
    "c_count[(c_count < 1000) & (c_count > 100)].hist(bins=150)"
   ]
  },
  {
   "cell_type": "code",
   "execution_count": 38,
   "metadata": {
    "ExecuteTime": {
     "end_time": "2019-02-22T15:20:22.237906Z",
     "start_time": "2019-02-22T15:20:22.234875Z"
    }
   },
   "outputs": [],
   "source": [
    "zero_columns = [col for col in train_test.columns if col.startswith(\"zero\")] \n",
    "outlier_columns = [col for col in train_test.columns if col.startswith(\"outlier\")] "
   ]
  },
  {
   "cell_type": "code",
   "execution_count": 39,
   "metadata": {
    "ExecuteTime": {
     "end_time": "2019-02-22T15:20:22.534671Z",
     "start_time": "2019-02-22T15:20:22.239885Z"
    }
   },
   "outputs": [
    {
     "name": "stdout",
     "output_type": "stream",
     "text": [
      "344\n",
      "349\n",
      "349\n",
      "598\n",
      "274\n",
      "274\n",
      "274\n",
      "614\n"
     ]
    }
   ],
   "source": [
    "print((train_test[train_test.target == 0][zero_columns].sum(axis=1) > 0).sum())\n",
    "print((train_test[train_test.target.notnull()][zero_columns].sum(axis=1) > 0).sum())\n",
    "print((train_test[train_test.target.notnull()][zero_columns].sum(axis=1) > 0).sum())\n",
    "print((train_test[zero_columns].sum(axis=1) > 0).sum())\n",
    "\n",
    "print((train_test[train_test.target < -30][outlier_columns].sum(axis=1) > 0).sum())\n",
    "print((train_test[train_test.target.notnull()][outlier_columns].sum(axis=1) > 0).sum())\n",
    "print((train_test[train_test.target.notnull()][outlier_columns].sum(axis=1) > 0).sum())\n",
    "print((train_test[outlier_columns].sum(axis=1) > 0).sum())"
   ]
  },
  {
   "cell_type": "code",
   "execution_count": 40,
   "metadata": {
    "ExecuteTime": {
     "end_time": "2019-02-22T15:20:22.631927Z",
     "start_time": "2019-02-22T15:20:22.540686Z"
    }
   },
   "outputs": [],
   "source": [
    "train_test[\"zero_mark\"] = (train_test[zero_columns].sum(axis=1) > 0).astype(int)\n",
    "train_test[\"outlier_mark\"] = (train_test[outlier_columns].sum(axis=1) > 0).astype(int)"
   ]
  },
  {
   "cell_type": "code",
   "execution_count": 41,
   "metadata": {
    "ExecuteTime": {
     "end_time": "2019-02-22T15:20:22.640953Z",
     "start_time": "2019-02-22T15:20:22.635939Z"
    }
   },
   "outputs": [],
   "source": [
    "from data_io import features_downcast, save_dataframe32"
   ]
  },
  {
   "cell_type": "code",
   "execution_count": 42,
   "metadata": {
    "ExecuteTime": {
     "end_time": "2019-02-22T15:20:22.676047Z",
     "start_time": "2019-02-22T15:20:22.644964Z"
    }
   },
   "outputs": [
    {
     "data": {
      "text/html": [
       "<div>\n",
       "<style scoped>\n",
       "    .dataframe tbody tr th:only-of-type {\n",
       "        vertical-align: middle;\n",
       "    }\n",
       "\n",
       "    .dataframe tbody tr th {\n",
       "        vertical-align: top;\n",
       "    }\n",
       "\n",
       "    .dataframe thead th {\n",
       "        text-align: right;\n",
       "    }\n",
       "</style>\n",
       "<table border=\"1\" class=\"dataframe\">\n",
       "  <thead>\n",
       "    <tr style=\"text-align: right;\">\n",
       "      <th></th>\n",
       "      <th>card_id</th>\n",
       "      <th>zero_with_count1</th>\n",
       "      <th>zero_with_count2</th>\n",
       "      <th>zero_with_count3to10</th>\n",
       "      <th>zero_with_count10to15</th>\n",
       "      <th>zero_with_count15to20</th>\n",
       "      <th>zero_with_count20to30</th>\n",
       "      <th>zero_merchant_only</th>\n",
       "      <th>outlier_with_count1</th>\n",
       "      <th>outlier_with_count2</th>\n",
       "      <th>outlier_with_count3to10</th>\n",
       "      <th>outlier_with_count10to15</th>\n",
       "      <th>outlier_with_count15to20</th>\n",
       "      <th>outlier_with_count20to30</th>\n",
       "      <th>outlier_merchant_only</th>\n",
       "      <th>zero_mark</th>\n",
       "      <th>outlier_mark</th>\n",
       "    </tr>\n",
       "  </thead>\n",
       "  <tbody>\n",
       "    <tr>\n",
       "      <th>0</th>\n",
       "      <td>C_ID_92a2005557</td>\n",
       "      <td>0</td>\n",
       "      <td>0</td>\n",
       "      <td>0</td>\n",
       "      <td>0</td>\n",
       "      <td>0</td>\n",
       "      <td>0</td>\n",
       "      <td>0</td>\n",
       "      <td>0</td>\n",
       "      <td>0</td>\n",
       "      <td>0</td>\n",
       "      <td>0</td>\n",
       "      <td>0</td>\n",
       "      <td>0</td>\n",
       "      <td>0</td>\n",
       "      <td>0</td>\n",
       "      <td>0</td>\n",
       "    </tr>\n",
       "    <tr>\n",
       "      <th>1</th>\n",
       "      <td>C_ID_3d0044924f</td>\n",
       "      <td>0</td>\n",
       "      <td>0</td>\n",
       "      <td>0</td>\n",
       "      <td>0</td>\n",
       "      <td>0</td>\n",
       "      <td>0</td>\n",
       "      <td>0</td>\n",
       "      <td>0</td>\n",
       "      <td>0</td>\n",
       "      <td>0</td>\n",
       "      <td>0</td>\n",
       "      <td>0</td>\n",
       "      <td>0</td>\n",
       "      <td>0</td>\n",
       "      <td>0</td>\n",
       "      <td>0</td>\n",
       "    </tr>\n",
       "    <tr>\n",
       "      <th>2</th>\n",
       "      <td>C_ID_d639edf6cd</td>\n",
       "      <td>0</td>\n",
       "      <td>0</td>\n",
       "      <td>0</td>\n",
       "      <td>0</td>\n",
       "      <td>0</td>\n",
       "      <td>0</td>\n",
       "      <td>0</td>\n",
       "      <td>0</td>\n",
       "      <td>0</td>\n",
       "      <td>0</td>\n",
       "      <td>0</td>\n",
       "      <td>0</td>\n",
       "      <td>0</td>\n",
       "      <td>0</td>\n",
       "      <td>0</td>\n",
       "      <td>0</td>\n",
       "    </tr>\n",
       "    <tr>\n",
       "      <th>3</th>\n",
       "      <td>C_ID_186d6a6901</td>\n",
       "      <td>0</td>\n",
       "      <td>0</td>\n",
       "      <td>0</td>\n",
       "      <td>0</td>\n",
       "      <td>0</td>\n",
       "      <td>0</td>\n",
       "      <td>0</td>\n",
       "      <td>0</td>\n",
       "      <td>0</td>\n",
       "      <td>0</td>\n",
       "      <td>0</td>\n",
       "      <td>0</td>\n",
       "      <td>0</td>\n",
       "      <td>0</td>\n",
       "      <td>0</td>\n",
       "      <td>0</td>\n",
       "    </tr>\n",
       "    <tr>\n",
       "      <th>4</th>\n",
       "      <td>C_ID_cdbd2c0db2</td>\n",
       "      <td>0</td>\n",
       "      <td>0</td>\n",
       "      <td>0</td>\n",
       "      <td>0</td>\n",
       "      <td>0</td>\n",
       "      <td>0</td>\n",
       "      <td>0</td>\n",
       "      <td>0</td>\n",
       "      <td>0</td>\n",
       "      <td>0</td>\n",
       "      <td>0</td>\n",
       "      <td>0</td>\n",
       "      <td>0</td>\n",
       "      <td>0</td>\n",
       "      <td>0</td>\n",
       "      <td>0</td>\n",
       "    </tr>\n",
       "  </tbody>\n",
       "</table>\n",
       "</div>"
      ],
      "text/plain": [
       "           card_id  zero_with_count1  zero_with_count2  zero_with_count3to10  \\\n",
       "0  C_ID_92a2005557                 0                 0                     0   \n",
       "1  C_ID_3d0044924f                 0                 0                     0   \n",
       "2  C_ID_d639edf6cd                 0                 0                     0   \n",
       "3  C_ID_186d6a6901                 0                 0                     0   \n",
       "4  C_ID_cdbd2c0db2                 0                 0                     0   \n",
       "\n",
       "   zero_with_count10to15  zero_with_count15to20  zero_with_count20to30  \\\n",
       "0                      0                      0                      0   \n",
       "1                      0                      0                      0   \n",
       "2                      0                      0                      0   \n",
       "3                      0                      0                      0   \n",
       "4                      0                      0                      0   \n",
       "\n",
       "   zero_merchant_only  outlier_with_count1  outlier_with_count2  \\\n",
       "0                   0                    0                    0   \n",
       "1                   0                    0                    0   \n",
       "2                   0                    0                    0   \n",
       "3                   0                    0                    0   \n",
       "4                   0                    0                    0   \n",
       "\n",
       "   outlier_with_count3to10  outlier_with_count10to15  \\\n",
       "0                        0                         0   \n",
       "1                        0                         0   \n",
       "2                        0                         0   \n",
       "3                        0                         0   \n",
       "4                        0                         0   \n",
       "\n",
       "   outlier_with_count15to20  outlier_with_count20to30  outlier_merchant_only  \\\n",
       "0                         0                         0                      0   \n",
       "1                         0                         0                      0   \n",
       "2                         0                         0                      0   \n",
       "3                         0                         0                      0   \n",
       "4                         0                         0                      0   \n",
       "\n",
       "   zero_mark  outlier_mark  \n",
       "0          0             0  \n",
       "1          0             0  \n",
       "2          0             0  \n",
       "3          0             0  \n",
       "4          0             0  "
      ]
     },
     "execution_count": 42,
     "metadata": {},
     "output_type": "execute_result"
    }
   ],
   "source": [
    "train_test.head().drop(\"target\", axis=1)"
   ]
  },
  {
   "cell_type": "code",
   "execution_count": 43,
   "metadata": {
    "ExecuteTime": {
     "end_time": "2019-02-22T15:20:22.731191Z",
     "start_time": "2019-02-22T15:20:22.678051Z"
    }
   },
   "outputs": [
    {
     "data": {
      "text/plain": [
       "zero_with_count1          92\n",
       "zero_with_count2          95\n",
       "zero_with_count3to10     192\n",
       "zero_with_count10to15    107\n",
       "zero_with_count15to20     85\n",
       "zero_with_count20to30     27\n",
       "zero_merchant_only         0\n",
       "dtype: int64"
      ]
     },
     "execution_count": 43,
     "metadata": {},
     "output_type": "execute_result"
    }
   ],
   "source": [
    "train_test[zero_columns].sum()"
   ]
  },
  {
   "cell_type": "code",
   "execution_count": 44,
   "metadata": {
    "ExecuteTime": {
     "end_time": "2019-02-22T15:20:22.775312Z",
     "start_time": "2019-02-22T15:20:22.734203Z"
    }
   },
   "outputs": [
    {
     "data": {
      "text/plain": [
       "outlier_with_count1           3\n",
       "outlier_with_count2           3\n",
       "outlier_with_count3to10     157\n",
       "outlier_with_count10to15    190\n",
       "outlier_with_count15to20    167\n",
       "outlier_with_count20to30     94\n",
       "outlier_merchant_only         0\n",
       "dtype: int64"
      ]
     },
     "execution_count": 44,
     "metadata": {},
     "output_type": "execute_result"
    }
   ],
   "source": [
    "train_test[outlier_columns].sum()"
   ]
  },
  {
   "cell_type": "code",
   "execution_count": 45,
   "metadata": {
    "ExecuteTime": {
     "end_time": "2019-02-22T15:20:23.594488Z",
     "start_time": "2019-02-22T15:20:22.777317Z"
    }
   },
   "outputs": [],
   "source": [
    "save_dataframe32(features_downcast(\"magic\"),\n",
    "                 train_test.head().drop(\"target\", axis=1),\n",
    "                 keep=[\"card_id\"])"
   ]
  },
  {
   "cell_type": "code",
   "execution_count": 46,
   "metadata": {
    "ExecuteTime": {
     "end_time": "2019-02-22T15:20:23.614541Z",
     "start_time": "2019-02-22T15:20:23.597496Z"
    }
   },
   "outputs": [
    {
     "data": {
      "text/html": [
       "<div>\n",
       "<style scoped>\n",
       "    .dataframe tbody tr th:only-of-type {\n",
       "        vertical-align: middle;\n",
       "    }\n",
       "\n",
       "    .dataframe tbody tr th {\n",
       "        vertical-align: top;\n",
       "    }\n",
       "\n",
       "    .dataframe thead th {\n",
       "        text-align: right;\n",
       "    }\n",
       "</style>\n",
       "<table border=\"1\" class=\"dataframe\">\n",
       "  <thead>\n",
       "    <tr style=\"text-align: right;\">\n",
       "      <th></th>\n",
       "      <th>card_id</th>\n",
       "      <th>target</th>\n",
       "      <th>zero_with_count1</th>\n",
       "      <th>zero_with_count2</th>\n",
       "      <th>zero_with_count3to10</th>\n",
       "      <th>zero_with_count10to15</th>\n",
       "      <th>zero_with_count15to20</th>\n",
       "      <th>zero_with_count20to30</th>\n",
       "      <th>zero_merchant_only</th>\n",
       "      <th>outlier_with_count1</th>\n",
       "      <th>outlier_with_count2</th>\n",
       "      <th>outlier_with_count3to10</th>\n",
       "      <th>outlier_with_count10to15</th>\n",
       "      <th>outlier_with_count15to20</th>\n",
       "      <th>outlier_with_count20to30</th>\n",
       "      <th>outlier_merchant_only</th>\n",
       "      <th>zero_mark</th>\n",
       "      <th>outlier_mark</th>\n",
       "    </tr>\n",
       "  </thead>\n",
       "  <tbody>\n",
       "    <tr>\n",
       "      <th>0</th>\n",
       "      <td>C_ID_92a2005557</td>\n",
       "      <td>-0.82</td>\n",
       "      <td>0</td>\n",
       "      <td>0</td>\n",
       "      <td>0</td>\n",
       "      <td>0</td>\n",
       "      <td>0</td>\n",
       "      <td>0</td>\n",
       "      <td>0</td>\n",
       "      <td>0</td>\n",
       "      <td>0</td>\n",
       "      <td>0</td>\n",
       "      <td>0</td>\n",
       "      <td>0</td>\n",
       "      <td>0</td>\n",
       "      <td>0</td>\n",
       "      <td>0</td>\n",
       "      <td>0</td>\n",
       "    </tr>\n",
       "    <tr>\n",
       "      <th>1</th>\n",
       "      <td>C_ID_3d0044924f</td>\n",
       "      <td>0.39</td>\n",
       "      <td>0</td>\n",
       "      <td>0</td>\n",
       "      <td>0</td>\n",
       "      <td>0</td>\n",
       "      <td>0</td>\n",
       "      <td>0</td>\n",
       "      <td>0</td>\n",
       "      <td>0</td>\n",
       "      <td>0</td>\n",
       "      <td>0</td>\n",
       "      <td>0</td>\n",
       "      <td>0</td>\n",
       "      <td>0</td>\n",
       "      <td>0</td>\n",
       "      <td>0</td>\n",
       "      <td>0</td>\n",
       "    </tr>\n",
       "    <tr>\n",
       "      <th>2</th>\n",
       "      <td>C_ID_d639edf6cd</td>\n",
       "      <td>0.69</td>\n",
       "      <td>0</td>\n",
       "      <td>0</td>\n",
       "      <td>0</td>\n",
       "      <td>0</td>\n",
       "      <td>0</td>\n",
       "      <td>0</td>\n",
       "      <td>0</td>\n",
       "      <td>0</td>\n",
       "      <td>0</td>\n",
       "      <td>0</td>\n",
       "      <td>0</td>\n",
       "      <td>0</td>\n",
       "      <td>0</td>\n",
       "      <td>0</td>\n",
       "      <td>0</td>\n",
       "      <td>0</td>\n",
       "    </tr>\n",
       "    <tr>\n",
       "      <th>3</th>\n",
       "      <td>C_ID_186d6a6901</td>\n",
       "      <td>0.14</td>\n",
       "      <td>0</td>\n",
       "      <td>0</td>\n",
       "      <td>0</td>\n",
       "      <td>0</td>\n",
       "      <td>0</td>\n",
       "      <td>0</td>\n",
       "      <td>0</td>\n",
       "      <td>0</td>\n",
       "      <td>0</td>\n",
       "      <td>0</td>\n",
       "      <td>0</td>\n",
       "      <td>0</td>\n",
       "      <td>0</td>\n",
       "      <td>0</td>\n",
       "      <td>0</td>\n",
       "      <td>0</td>\n",
       "    </tr>\n",
       "    <tr>\n",
       "      <th>4</th>\n",
       "      <td>C_ID_cdbd2c0db2</td>\n",
       "      <td>-0.16</td>\n",
       "      <td>0</td>\n",
       "      <td>0</td>\n",
       "      <td>0</td>\n",
       "      <td>0</td>\n",
       "      <td>0</td>\n",
       "      <td>0</td>\n",
       "      <td>0</td>\n",
       "      <td>0</td>\n",
       "      <td>0</td>\n",
       "      <td>0</td>\n",
       "      <td>0</td>\n",
       "      <td>0</td>\n",
       "      <td>0</td>\n",
       "      <td>0</td>\n",
       "      <td>0</td>\n",
       "      <td>0</td>\n",
       "    </tr>\n",
       "  </tbody>\n",
       "</table>\n",
       "</div>"
      ],
      "text/plain": [
       "           card_id  target  zero_with_count1  zero_with_count2  \\\n",
       "0  C_ID_92a2005557   -0.82                 0                 0   \n",
       "1  C_ID_3d0044924f    0.39                 0                 0   \n",
       "2  C_ID_d639edf6cd    0.69                 0                 0   \n",
       "3  C_ID_186d6a6901    0.14                 0                 0   \n",
       "4  C_ID_cdbd2c0db2   -0.16                 0                 0   \n",
       "\n",
       "   zero_with_count3to10  zero_with_count10to15  zero_with_count15to20  \\\n",
       "0                     0                      0                      0   \n",
       "1                     0                      0                      0   \n",
       "2                     0                      0                      0   \n",
       "3                     0                      0                      0   \n",
       "4                     0                      0                      0   \n",
       "\n",
       "   zero_with_count20to30  zero_merchant_only  outlier_with_count1  \\\n",
       "0                      0                   0                    0   \n",
       "1                      0                   0                    0   \n",
       "2                      0                   0                    0   \n",
       "3                      0                   0                    0   \n",
       "4                      0                   0                    0   \n",
       "\n",
       "   outlier_with_count2  outlier_with_count3to10  outlier_with_count10to15  \\\n",
       "0                    0                        0                         0   \n",
       "1                    0                        0                         0   \n",
       "2                    0                        0                         0   \n",
       "3                    0                        0                         0   \n",
       "4                    0                        0                         0   \n",
       "\n",
       "   outlier_with_count15to20  outlier_with_count20to30  outlier_merchant_only  \\\n",
       "0                         0                         0                      0   \n",
       "1                         0                         0                      0   \n",
       "2                         0                         0                      0   \n",
       "3                         0                         0                      0   \n",
       "4                         0                         0                      0   \n",
       "\n",
       "   zero_mark  outlier_mark  \n",
       "0          0             0  \n",
       "1          0             0  \n",
       "2          0             0  \n",
       "3          0             0  \n",
       "4          0             0  "
      ]
     },
     "execution_count": 46,
     "metadata": {},
     "output_type": "execute_result"
    }
   ],
   "source": [
    "pd.set_option('display.float_format', '{:.2f}'.format)\n",
    "train_test.head()"
   ]
  },
  {
   "cell_type": "markdown",
   "metadata": {},
   "source": [
    "# post-process"
   ]
  },
  {
   "cell_type": "code",
   "execution_count": null,
   "metadata": {
    "ExecuteTime": {
     "end_time": "2019-02-22T15:20:24.417399Z",
     "start_time": "2019-02-22T15:16:03.171Z"
    }
   },
   "outputs": [],
   "source": [
    "from data_io import load_submission\n",
    "\n",
    "submission = load_submission(\"blend029p\")\n",
    "submission.loc[submission.card_id.isin(train_test[train_test.zero_mark == 1].card_id), \"target\"] = 0\n",
    "submission.loc[submission.card_id.isin(train_test[train_test.outlier_mark == 1].card_id), \"target\"] = -33.21928\n",
    "submission.to_csv(\"./data/submissions/blend029p-post-retry.csv\", index=False)"
   ]
  },
  {
   "cell_type": "code",
   "execution_count": null,
   "metadata": {
    "ExecuteTime": {
     "end_time": "2019-02-22T15:20:24.418404Z",
     "start_time": "2019-02-22T15:16:03.182Z"
    }
   },
   "outputs": [],
   "source": [
    "submission.target.hist(bins=250)"
   ]
  },
  {
   "cell_type": "code",
   "execution_count": null,
   "metadata": {
    "ExecuteTime": {
     "end_time": "2019-02-22T15:20:24.420409Z",
     "start_time": "2019-02-22T15:16:03.194Z"
    }
   },
   "outputs": [],
   "source": [
    "train_test[train_test.zero_mark == 1].target.hist(bins=5)"
   ]
  },
  {
   "cell_type": "code",
   "execution_count": null,
   "metadata": {
    "ExecuteTime": {
     "end_time": "2019-02-22T15:20:24.420409Z",
     "start_time": "2019-02-22T15:16:03.207Z"
    }
   },
   "outputs": [],
   "source": [
    "train_test[train_test.outlier_mark == 1].target.hist(bins=5)"
   ]
  },
  {
   "cell_type": "code",
   "execution_count": null,
   "metadata": {
    "ExecuteTime": {
     "end_time": "2019-02-22T15:20:24.422424Z",
     "start_time": "2019-02-22T15:16:03.223Z"
    }
   },
   "outputs": [],
   "source": [
    "from data_io import load_submission\n",
    "\n",
    "submission = load_submission(\"blend029p\")\n",
    "submission.loc[submission.card_id.isin(train_test[train_test.zero_mark == 1].card_id), \"target\"] = 0\n",
    "# submission.loc[submission.card_id.isin(train_test[train_test.outlier_mark == 1].card_id), \"target\"] = -33.21928\n",
    "submission.to_csv(\"./data/submissions/blend029p-post-zero.csv\", index=False)"
   ]
  },
  {
   "cell_type": "code",
   "execution_count": null,
   "metadata": {
    "ExecuteTime": {
     "end_time": "2019-02-22T15:20:24.424458Z",
     "start_time": "2019-02-22T15:16:03.236Z"
    }
   },
   "outputs": [],
   "source": [
    "submission.target.hist(bins=50)"
   ]
  },
  {
   "cell_type": "code",
   "execution_count": null,
   "metadata": {
    "ExecuteTime": {
     "end_time": "2019-02-22T15:20:24.426424Z",
     "start_time": "2019-02-22T15:16:03.246Z"
    }
   },
   "outputs": [],
   "source": [
    "outlier_columns"
   ]
  },
  {
   "cell_type": "code",
   "execution_count": null,
   "metadata": {
    "ExecuteTime": {
     "end_time": "2019-02-22T15:20:24.427426Z",
     "start_time": "2019-02-22T15:16:03.257Z"
    }
   },
   "outputs": [],
   "source": [
    "from data_io import load_submission\n",
    "\n",
    "mark_as_zero = train_test[(train_test.zero_merchant_only == 1) | (train_test.zero_with_count1 == 1)].card_id\n",
    "mark_as_outlier = train_test[(train_test.outlier_merchant_only == 1) | (train_test.outlier_with_count1 == 1)].card_id\n",
    "\n",
    "submission = load_submission(\"blend029p\")\n",
    "print(\"mark as zero\", submission.card_id.isin(mark_as_zero).sum())\n",
    "print(\"mark as outlier\",submission.card_id.isin(mark_as_outlier).sum())\n",
    "\n",
    "submission.loc[submission.card_id.isin(mark_as_zero), \"target\"] = 0\n",
    "# submission.loc[submission.card_id.isin(mark_as_outlier), \"target\"] = -33.21928\n",
    "submission.to_csv(\"./data/submissions/blend029p-post-less2-zero.csv\", index=False)"
   ]
  },
  {
   "cell_type": "code",
   "execution_count": null,
   "metadata": {
    "ExecuteTime": {
     "end_time": "2019-02-22T15:20:24.428429Z",
     "start_time": "2019-02-22T15:16:03.272Z"
    }
   },
   "outputs": [],
   "source": [
    "train_test.head()"
   ]
  },
  {
   "cell_type": "code",
   "execution_count": null,
   "metadata": {
    "ExecuteTime": {
     "end_time": "2019-02-22T15:20:24.429432Z",
     "start_time": "2019-02-22T15:16:03.288Z"
    }
   },
   "outputs": [],
   "source": [
    "train_test[(train_test.zero_mark == 1) & train_test.target.isnull()].card_id.nunique()"
   ]
  },
  {
   "cell_type": "code",
   "execution_count": null,
   "metadata": {
    "ExecuteTime": {
     "end_time": "2019-02-22T15:20:24.431436Z",
     "start_time": "2019-02-22T15:16:03.303Z"
    }
   },
   "outputs": [],
   "source": [
    "train_test[(train_test.zero_mark == 1) & train_test.card_id.isin(submission.card_id)].card_id.nunique()"
   ]
  },
  {
   "cell_type": "code",
   "execution_count": null,
   "metadata": {
    "ExecuteTime": {
     "end_time": "2019-02-22T15:20:24.432440Z",
     "start_time": "2019-02-22T15:16:03.313Z"
    }
   },
   "outputs": [],
   "source": [
    "train_test[train_test.zero_mark == 1].card_id.nunique()"
   ]
  },
  {
   "cell_type": "code",
   "execution_count": null,
   "metadata": {
    "ExecuteTime": {
     "end_time": "2019-02-22T15:20:24.433458Z",
     "start_time": "2019-02-22T15:16:03.322Z"
    }
   },
   "outputs": [],
   "source": [
    "from data_io import load_submission\n",
    "\n",
    "mark_as_zero = train_test[train_test.zero_mark == 1].card_id\n",
    "mark_as_outlier = train_test[train_test.outlier_mark == 1].card_id\n",
    "\n",
    "submission = load_submission(\"blend029p\")\n",
    "print(\"mark as zero\", submission.card_id.isin(mark_as_zero).sum())\n",
    "print(\"mark as outlier\",submission.card_id.isin(mark_as_outlier).sum())\n",
    "\n",
    "submission.loc[submission.card_id.isin(mark_as_zero), \"target\"] = 0\n",
    "submission.loc[submission.card_id.isin(mark_as_outlier), \"target\"] = -33.21928\n",
    "submission.to_csv(\"./data/submissions/blend029p-post-less2.csv\", index=False)"
   ]
  },
  {
   "cell_type": "markdown",
   "metadata": {},
   "source": [
    "# sparse matrix & transform\n",
    "\n",
    "1. NMF\n",
    "2. kernelPCA with consine\n",
    "3. isomap"
   ]
  },
  {
   "cell_type": "code",
   "execution_count": null,
   "metadata": {
    "ExecuteTime": {
     "end_time": "2019-02-22T15:20:24.434445Z",
     "start_time": "2019-02-22T15:16:03.335Z"
    }
   },
   "outputs": [],
   "source": [
    "(c_count > 50).sum()"
   ]
  },
  {
   "cell_type": "markdown",
   "metadata": {},
   "source": [
    "# nmf"
   ]
  },
  {
   "cell_type": "code",
   "execution_count": 48,
   "metadata": {
    "ExecuteTime": {
     "end_time": "2019-02-22T15:21:50.122259Z",
     "start_time": "2019-02-22T15:21:50.119261Z"
    }
   },
   "outputs": [],
   "source": [
    "from sklearn.preprocessing import LabelEncoder"
   ]
  },
  {
   "cell_type": "code",
   "execution_count": 49,
   "metadata": {
    "ExecuteTime": {
     "end_time": "2019-02-22T15:22:33.883580Z",
     "start_time": "2019-02-22T15:21:51.300377Z"
    }
   },
   "outputs": [],
   "source": [
    "c_ecd = LabelEncoder()\n",
    "c_m[\"c_code\"] = c_ecd.fit_transform(c_m.card_id)\n",
    "m_ecd = LabelEncoder()\n",
    "c_m[\"m_code\"] = m_ecd.fit_transform(c_m.merchant_id)"
   ]
  },
  {
   "cell_type": "code",
   "execution_count": null,
   "metadata": {
    "ExecuteTime": {
     "end_time": "2019-02-22T15:22:33.943740Z",
     "start_time": "2019-02-22T15:21:53.728Z"
    }
   },
   "outputs": [],
   "source": [
    "c_m.head()"
   ]
  },
  {
   "cell_type": "code",
   "execution_count": 50,
   "metadata": {
    "ExecuteTime": {
     "end_time": "2019-02-22T15:23:58.970488Z",
     "start_time": "2019-02-22T15:23:58.967477Z"
    }
   },
   "outputs": [],
   "source": [
    "from scipy.sparse import csr_matrix"
   ]
  },
  {
   "cell_type": "code",
   "execution_count": 51,
   "metadata": {
    "ExecuteTime": {
     "end_time": "2019-02-22T15:24:04.363791Z",
     "start_time": "2019-02-22T15:24:04.358794Z"
    }
   },
   "outputs": [
    {
     "data": {
      "text/plain": [
       "(325311, 44550)"
      ]
     },
     "execution_count": 51,
     "metadata": {},
     "output_type": "execute_result"
    }
   ],
   "source": [
    "len(c_ecd.classes_), len(m_ecd.classes_)"
   ]
  },
  {
   "cell_type": "code",
   "execution_count": 52,
   "metadata": {
    "ExecuteTime": {
     "end_time": "2019-02-22T15:24:10.035903Z",
     "start_time": "2019-02-22T15:24:09.654856Z"
    }
   },
   "outputs": [
    {
     "data": {
      "text/plain": [
       "array([[ 99745,  39047],\n",
       "       [ 99745,  23582],\n",
       "       [ 99745,  26518],\n",
       "       ...,\n",
       "       [240887,  27057],\n",
       "       [244425,  11365],\n",
       "       [215064,  37669]], dtype=int64)"
      ]
     },
     "execution_count": 52,
     "metadata": {},
     "output_type": "execute_result"
    }
   ],
   "source": [
    "c_m[[\"c_code\", \"m_code\"]].values"
   ]
  },
  {
   "cell_type": "code",
   "execution_count": 53,
   "metadata": {
    "ExecuteTime": {
     "end_time": "2019-02-22T15:24:15.956636Z",
     "start_time": "2019-02-22T15:24:15.345986Z"
    }
   },
   "outputs": [],
   "source": [
    "c_m_mat = csr_matrix(\n",
    "    (np.ones(c_m.shape[0]), (c_m.c_code.values, c_m.m_code.values)),\n",
    "    shape=(len(c_ecd.classes_), len(m_ecd.classes_))\n",
    ")"
   ]
  },
  {
   "cell_type": "code",
   "execution_count": null,
   "metadata": {
    "ExecuteTime": {
     "end_time": "2019-02-22T15:22:34.169348Z",
     "start_time": "2019-02-22T15:21:59.166Z"
    }
   },
   "outputs": [],
   "source": [
    "# from sklearn.decomposition import NMF\n",
    "\n",
    "model = NMF(n_components=100, init='random', random_state=0, n_jobs=-1)\n",
    "nmf100 = model.fit_transform(c_m_mat')\n",
    "nmf100_df = pd.DataFrame(data=nmf100, columns=[\"nmf100_{}\".format(i) for i in range(100)])\n",
    "nmf100_df = nmf100_df.reset_index()\n",
    "nmf100_df[\"card_id\"] = c_ecd.inverse_transform(nmf100_df[\"index\"])\n",
    "\n",
    "save_dataframe32(features_downcast(\"nmf100\"),\n",
    "                 nmf100_df.drop(\"index\", axis=1),\n",
    "                 keep=[\"card_id\"])"
   ]
  },
  {
   "cell_type": "code",
   "execution_count": null,
   "metadata": {
    "ExecuteTime": {
     "end_time": "2019-02-22T15:22:34.213457Z",
     "start_time": "2019-02-22T15:22:02.190Z"
    }
   },
   "outputs": [],
   "source": [
    "help(c_ecd)"
   ]
  },
  {
   "cell_type": "code",
   "execution_count": 54,
   "metadata": {
    "ExecuteTime": {
     "end_time": "2019-02-22T15:24:27.973556Z",
     "start_time": "2019-02-22T15:24:27.968567Z"
    }
   },
   "outputs": [
    {
     "data": {
      "text/plain": [
       "(325311, 44550)"
      ]
     },
     "execution_count": 54,
     "metadata": {},
     "output_type": "execute_result"
    }
   ],
   "source": [
    "c_m_mat.shape"
   ]
  },
  {
   "cell_type": "code",
   "execution_count": 60,
   "metadata": {
    "ExecuteTime": {
     "end_time": "2019-02-22T15:40:32.480160Z",
     "start_time": "2019-02-22T15:40:32.470131Z"
    }
   },
   "outputs": [
    {
     "name": "stdout",
     "output_type": "stream",
     "text": [
      "Help on class SparsePCA in module sklearn.decomposition.sparse_pca:\n",
      "\n",
      "class SparsePCA(sklearn.base.BaseEstimator, sklearn.base.TransformerMixin)\n",
      " |  Sparse Principal Components Analysis (SparsePCA)\n",
      " |  \n",
      " |  Finds the set of sparse components that can optimally reconstruct\n",
      " |  the data.  The amount of sparseness is controllable by the coefficient\n",
      " |  of the L1 penalty, given by the parameter alpha.\n",
      " |  \n",
      " |  Read more in the :ref:`User Guide <SparsePCA>`.\n",
      " |  \n",
      " |  Parameters\n",
      " |  ----------\n",
      " |  n_components : int,\n",
      " |      Number of sparse atoms to extract.\n",
      " |  \n",
      " |  alpha : float,\n",
      " |      Sparsity controlling parameter. Higher values lead to sparser\n",
      " |      components.\n",
      " |  \n",
      " |  ridge_alpha : float,\n",
      " |      Amount of ridge shrinkage to apply in order to improve\n",
      " |      conditioning when calling the transform method.\n",
      " |  \n",
      " |  max_iter : int,\n",
      " |      Maximum number of iterations to perform.\n",
      " |  \n",
      " |  tol : float,\n",
      " |      Tolerance for the stopping condition.\n",
      " |  \n",
      " |  method : {'lars', 'cd'}\n",
      " |      lars: uses the least angle regression method to solve the lasso problem\n",
      " |      (linear_model.lars_path)\n",
      " |      cd: uses the coordinate descent method to compute the\n",
      " |      Lasso solution (linear_model.Lasso). Lars will be faster if\n",
      " |      the estimated components are sparse.\n",
      " |  \n",
      " |  n_jobs : int,\n",
      " |      Number of parallel jobs to run.\n",
      " |  \n",
      " |  U_init : array of shape (n_samples, n_components),\n",
      " |      Initial values for the loadings for warm restart scenarios.\n",
      " |  \n",
      " |  V_init : array of shape (n_components, n_features),\n",
      " |      Initial values for the components for warm restart scenarios.\n",
      " |  \n",
      " |  verbose : int\n",
      " |      Controls the verbosity; the higher, the more messages. Defaults to 0.\n",
      " |  \n",
      " |  random_state : int, RandomState instance or None, optional (default=None)\n",
      " |      If int, random_state is the seed used by the random number generator;\n",
      " |      If RandomState instance, random_state is the random number generator;\n",
      " |      If None, the random number generator is the RandomState instance used\n",
      " |      by `np.random`.\n",
      " |  \n",
      " |  Attributes\n",
      " |  ----------\n",
      " |  components_ : array, [n_components, n_features]\n",
      " |      Sparse components extracted from the data.\n",
      " |  \n",
      " |  error_ : array\n",
      " |      Vector of errors at each iteration.\n",
      " |  \n",
      " |  n_iter_ : int\n",
      " |      Number of iterations run.\n",
      " |  \n",
      " |  See also\n",
      " |  --------\n",
      " |  PCA\n",
      " |  MiniBatchSparsePCA\n",
      " |  DictionaryLearning\n",
      " |  \n",
      " |  Method resolution order:\n",
      " |      SparsePCA\n",
      " |      sklearn.base.BaseEstimator\n",
      " |      sklearn.base.TransformerMixin\n",
      " |      builtins.object\n",
      " |  \n",
      " |  Methods defined here:\n",
      " |  \n",
      " |  __init__(self, n_components=None, alpha=1, ridge_alpha=0.01, max_iter=1000, tol=1e-08, method='lars', n_jobs=1, U_init=None, V_init=None, verbose=False, random_state=None)\n",
      " |      Initialize self.  See help(type(self)) for accurate signature.\n",
      " |  \n",
      " |  fit(self, X, y=None)\n",
      " |      Fit the model from data in X.\n",
      " |      \n",
      " |      Parameters\n",
      " |      ----------\n",
      " |      X : array-like, shape (n_samples, n_features)\n",
      " |          Training vector, where n_samples in the number of samples\n",
      " |          and n_features is the number of features.\n",
      " |      \n",
      " |      y : Ignored.\n",
      " |      \n",
      " |      Returns\n",
      " |      -------\n",
      " |      self : object\n",
      " |          Returns the instance itself.\n",
      " |  \n",
      " |  transform(self, X, ridge_alpha='deprecated')\n",
      " |      Least Squares projection of the data onto the sparse components.\n",
      " |      \n",
      " |      To avoid instability issues in case the system is under-determined,\n",
      " |      regularization can be applied (Ridge regression) via the\n",
      " |      `ridge_alpha` parameter.\n",
      " |      \n",
      " |      Note that Sparse PCA components orthogonality is not enforced as in PCA\n",
      " |      hence one cannot use a simple linear projection.\n",
      " |      \n",
      " |      Parameters\n",
      " |      ----------\n",
      " |      X : array of shape (n_samples, n_features)\n",
      " |          Test data to be transformed, must have the same number of\n",
      " |          features as the data used to train the model.\n",
      " |      \n",
      " |      ridge_alpha : float, default: 0.01\n",
      " |          Amount of ridge shrinkage to apply in order to improve\n",
      " |          conditioning.\n",
      " |      \n",
      " |          .. deprecated:: 0.19\n",
      " |             This parameter will be removed in 0.21.\n",
      " |             Specify ``ridge_alpha`` in the ``SparsePCA`` constructor.\n",
      " |      \n",
      " |      Returns\n",
      " |      -------\n",
      " |      X_new array, shape (n_samples, n_components)\n",
      " |          Transformed data.\n",
      " |  \n",
      " |  ----------------------------------------------------------------------\n",
      " |  Methods inherited from sklearn.base.BaseEstimator:\n",
      " |  \n",
      " |  __getstate__(self)\n",
      " |  \n",
      " |  __repr__(self)\n",
      " |      Return repr(self).\n",
      " |  \n",
      " |  __setstate__(self, state)\n",
      " |  \n",
      " |  get_params(self, deep=True)\n",
      " |      Get parameters for this estimator.\n",
      " |      \n",
      " |      Parameters\n",
      " |      ----------\n",
      " |      deep : boolean, optional\n",
      " |          If True, will return the parameters for this estimator and\n",
      " |          contained subobjects that are estimators.\n",
      " |      \n",
      " |      Returns\n",
      " |      -------\n",
      " |      params : mapping of string to any\n",
      " |          Parameter names mapped to their values.\n",
      " |  \n",
      " |  set_params(self, **params)\n",
      " |      Set the parameters of this estimator.\n",
      " |      \n",
      " |      The method works on simple estimators as well as on nested objects\n",
      " |      (such as pipelines). The latter have parameters of the form\n",
      " |      ``<component>__<parameter>`` so that it's possible to update each\n",
      " |      component of a nested object.\n",
      " |      \n",
      " |      Returns\n",
      " |      -------\n",
      " |      self\n",
      " |  \n",
      " |  ----------------------------------------------------------------------\n",
      " |  Data descriptors inherited from sklearn.base.BaseEstimator:\n",
      " |  \n",
      " |  __dict__\n",
      " |      dictionary for instance variables (if defined)\n",
      " |  \n",
      " |  __weakref__\n",
      " |      list of weak references to the object (if defined)\n",
      " |  \n",
      " |  ----------------------------------------------------------------------\n",
      " |  Methods inherited from sklearn.base.TransformerMixin:\n",
      " |  \n",
      " |  fit_transform(self, X, y=None, **fit_params)\n",
      " |      Fit to data, then transform it.\n",
      " |      \n",
      " |      Fits transformer to X and y with optional parameters fit_params\n",
      " |      and returns a transformed version of X.\n",
      " |      \n",
      " |      Parameters\n",
      " |      ----------\n",
      " |      X : numpy array of shape [n_samples, n_features]\n",
      " |          Training set.\n",
      " |      \n",
      " |      y : numpy array of shape [n_samples]\n",
      " |          Target values.\n",
      " |      \n",
      " |      Returns\n",
      " |      -------\n",
      " |      X_new : numpy array of shape [n_samples, n_features_new]\n",
      " |          Transformed array.\n",
      "\n"
     ]
    }
   ],
   "source": [
    "help(SparsePCA)"
   ]
  },
  {
   "cell_type": "markdown",
   "metadata": {},
   "source": [
    "# fastICA"
   ]
  },
  {
   "cell_type": "code",
   "execution_count": 76,
   "metadata": {
    "ExecuteTime": {
     "end_time": "2019-02-22T15:52:07.687043Z",
     "start_time": "2019-02-22T15:52:07.639943Z"
    }
   },
   "outputs": [
    {
     "data": {
      "text/plain": [
       "0"
      ]
     },
     "execution_count": 76,
     "metadata": {},
     "output_type": "execute_result"
    }
   ],
   "source": [
    "import gc\n",
    "gc.collect()"
   ]
  },
  {
   "cell_type": "code",
   "execution_count": 78,
   "metadata": {
    "ExecuteTime": {
     "end_time": "2019-02-22T15:53:17.256320Z",
     "start_time": "2019-02-22T15:53:17.134928Z"
    }
   },
   "outputs": [],
   "source": [
    "c_m_sample = c_m_mat[:5000].toarray()"
   ]
  },
  {
   "cell_type": "code",
   "execution_count": 79,
   "metadata": {
    "ExecuteTime": {
     "end_time": "2019-02-22T15:55:27.784245Z",
     "start_time": "2019-02-22T15:53:26.421618Z"
    }
   },
   "outputs": [
    {
     "data": {
      "text/plain": [
       "FastICA(algorithm='parallel', fun='logcosh', fun_args=None, max_iter=200,\n",
       "    n_components=50, random_state=None, tol=0.0001, w_init=None,\n",
       "    whiten=True)"
      ]
     },
     "execution_count": 79,
     "metadata": {},
     "output_type": "execute_result"
    }
   ],
   "source": [
    "from sklearn.decomposition import FastICA\n",
    "\n",
    "transformer = FastICA(n_components=50)\n",
    "transformer.fit(c_m_sample)"
   ]
  },
  {
   "cell_type": "code",
   "execution_count": 82,
   "metadata": {
    "ExecuteTime": {
     "end_time": "2019-02-22T15:57:16.774764Z",
     "start_time": "2019-02-22T15:57:16.768720Z"
    }
   },
   "outputs": [
    {
     "data": {
      "text/plain": [
       "32.5311"
      ]
     },
     "execution_count": 82,
     "metadata": {},
     "output_type": "execute_result"
    }
   ],
   "source": [
    "c_m_mat.shape[0] / 10000"
   ]
  },
  {
   "cell_type": "code",
   "execution_count": 86,
   "metadata": {
    "ExecuteTime": {
     "end_time": "2019-02-22T15:59:35.481031Z",
     "start_time": "2019-02-22T15:59:35.477054Z"
    }
   },
   "outputs": [
    {
     "data": {
      "text/plain": [
       "33.0"
      ]
     },
     "execution_count": 86,
     "metadata": {},
     "output_type": "execute_result"
    }
   ],
   "source": [
    "int(np.ceil(c_m_mat.shape[0] / batch_size))"
   ]
  },
  {
   "cell_type": "code",
   "execution_count": 88,
   "metadata": {
    "ExecuteTime": {
     "end_time": "2019-02-22T16:06:21.892005Z",
     "start_time": "2019-02-22T16:02:53.764201Z"
    }
   },
   "outputs": [
    {
     "name": "stdout",
     "output_type": "stream",
     "text": [
      "0 10000\n",
      "10000 20000\n",
      "20000 30000\n",
      "30000 40000\n",
      "40000 50000\n",
      "50000 60000\n",
      "60000 70000\n",
      "70000 80000\n",
      "80000 90000\n",
      "90000 100000\n",
      "100000 110000\n",
      "110000 120000\n",
      "120000 130000\n",
      "130000 140000\n",
      "140000 150000\n",
      "150000 160000\n",
      "160000 170000\n",
      "170000 180000\n",
      "180000 190000\n",
      "190000 200000\n",
      "200000 210000\n",
      "210000 220000\n",
      "220000 230000\n",
      "230000 240000\n",
      "240000 250000\n",
      "250000 260000\n",
      "260000 270000\n",
      "270000 280000\n",
      "280000 290000\n",
      "290000 300000\n",
      "300000 310000\n",
      "310000 320000\n",
      "320000 330000\n"
     ]
    }
   ],
   "source": [
    "batch_size = 10000\n",
    "\n",
    "data_stack = []\n",
    "for i in range(int(np.ceil(c_m_mat.shape[0] / batch_size))):\n",
    "    l_cut, r_cut = i * batch_size, (i + 1) * batch_size\n",
    "    print(l_cut, r_cut)\n",
    "    \n",
    "    part = c_m_mat[l_cut:r_cut].toarray()\n",
    "    data_stack.append(transformer.transform(part))\n",
    "    del part\n",
    "    gc.collect()\n",
    "\n",
    "transformed = np.vstack(data_stack)"
   ]
  },
  {
   "cell_type": "code",
   "execution_count": 97,
   "metadata": {
    "ExecuteTime": {
     "end_time": "2019-02-22T16:15:48.671384Z",
     "start_time": "2019-02-22T16:15:48.666370Z"
    }
   },
   "outputs": [],
   "source": [
    "def batch_transform(c_m_mat, transformer, batch_size=10000):\n",
    "    data_stack = []\n",
    "    for i in range(int(np.ceil(c_m_mat.shape[0] / batch_size))):\n",
    "        l_cut, r_cut = i * batch_size, (i + 1) * batch_size\n",
    "        print(l_cut, r_cut)\n",
    "\n",
    "        part = c_m_mat[l_cut:r_cut].toarray()\n",
    "        data_stack.append(transformer.transform(part))\n",
    "        del part\n",
    "        gc.collect()\n",
    "\n",
    "    transformed = np.vstack(data_stack)\n",
    "    return transformed"
   ]
  },
  {
   "cell_type": "code",
   "execution_count": 92,
   "metadata": {
    "ExecuteTime": {
     "end_time": "2019-02-22T16:09:40.998815Z",
     "start_time": "2019-02-22T16:09:40.993802Z"
    }
   },
   "outputs": [],
   "source": [
    "def save_transformed_data(nmf100, name, c_ecd):\n",
    "    print(nmf100.shape)\n",
    "    nmf100_df = pd.DataFrame(data=nmf100, columns=[\"{}_{}\".format(name, i) for i in range(nmf100.shape[1])])\n",
    "    nmf100_df = nmf100_df.reset_index()\n",
    "    nmf100_df[\"card_id\"] = c_ecd.inverse_transform(nmf100_df[\"index\"])\n",
    "\n",
    "    save_dataframe32(features_downcast(name),\n",
    "                     nmf100_df.drop(\"index\", axis=1),\n",
    "                     keep=[\"card_id\"])"
   ]
  },
  {
   "cell_type": "code",
   "execution_count": 93,
   "metadata": {
    "ExecuteTime": {
     "end_time": "2019-02-22T16:09:55.793173Z",
     "start_time": "2019-02-22T16:09:50.655486Z"
    }
   },
   "outputs": [
    {
     "name": "stdout",
     "output_type": "stream",
     "text": [
      "(325311, 50)\n"
     ]
    }
   ],
   "source": [
    "save_transformed_data(transformed, \"fastica50\", c_ecd)"
   ]
  },
  {
   "cell_type": "code",
   "execution_count": 95,
   "metadata": {
    "ExecuteTime": {
     "end_time": "2019-02-22T16:14:04.440265Z",
     "start_time": "2019-02-22T16:13:09.113217Z"
    }
   },
   "outputs": [
    {
     "data": {
      "text/plain": [
       "KernelPCA(alpha=1.0, coef0=1, copy_X=True, degree=3, eigen_solver='auto',\n",
       "     fit_inverse_transform=False, gamma=None, kernel='cosine',\n",
       "     kernel_params=None, max_iter=None, n_components=50, n_jobs=-1,\n",
       "     random_state=None, remove_zero_eig=False, tol=0)"
      ]
     },
     "execution_count": 95,
     "metadata": {},
     "output_type": "execute_result"
    }
   ],
   "source": [
    "from sklearn.decomposition import KernelPCA\n",
    "\n",
    "transformer = KernelPCA(n_components=50, kernel=\"cosine\", n_jobs=-1)\n",
    "transformer.fit(c_m_sample)"
   ]
  },
  {
   "cell_type": "code",
   "execution_count": 98,
   "metadata": {
    "ExecuteTime": {
     "end_time": "2019-02-22T16:58:09.924647Z",
     "start_time": "2019-02-22T16:15:58.262881Z"
    }
   },
   "outputs": [
    {
     "name": "stdout",
     "output_type": "stream",
     "text": [
      "0 10000\n",
      "10000 20000\n",
      "20000 30000\n",
      "30000 40000\n",
      "40000 50000\n",
      "50000 60000\n",
      "60000 70000\n",
      "70000 80000\n",
      "80000 90000\n",
      "90000 100000\n",
      "100000 110000\n",
      "110000 120000\n",
      "120000 130000\n",
      "130000 140000\n",
      "140000 150000\n",
      "150000 160000\n",
      "160000 170000\n",
      "170000 180000\n",
      "180000 190000\n",
      "190000 200000\n",
      "200000 210000\n",
      "210000 220000\n",
      "220000 230000\n",
      "230000 240000\n",
      "240000 250000\n",
      "250000 260000\n",
      "260000 270000\n",
      "270000 280000\n",
      "280000 290000\n",
      "290000 300000\n",
      "300000 310000\n",
      "310000 320000\n",
      "320000 330000\n",
      "(325311, 50)\n"
     ]
    }
   ],
   "source": [
    "transformed = batch_transform(c_m_mat, transformer, batch_size=10000)\n",
    "save_transformed_data(transformed, \"kernelpca\", c_ecd)"
   ]
  }
 ],
 "metadata": {
  "kernelspec": {
   "display_name": "Python 3",
   "language": "python",
   "name": "python3"
  },
  "language_info": {
   "codemirror_mode": {
    "name": "ipython",
    "version": 3
   },
   "file_extension": ".py",
   "mimetype": "text/x-python",
   "name": "python",
   "nbconvert_exporter": "python",
   "pygments_lexer": "ipython3",
   "version": "3.6.6"
  },
  "toc": {
   "base_numbering": 1,
   "nav_menu": {},
   "number_sections": true,
   "sideBar": true,
   "skip_h1_title": false,
   "title_cell": "Table of Contents",
   "title_sidebar": "Contents",
   "toc_cell": false,
   "toc_position": {
    "height": "691.25px",
    "left": "171px",
    "top": "118.164px",
    "width": "322.734px"
   },
   "toc_section_display": true,
   "toc_window_display": true
  },
  "varInspector": {
   "cols": {
    "lenName": 16,
    "lenType": 16,
    "lenVar": 40
   },
   "kernels_config": {
    "python": {
     "delete_cmd_postfix": "",
     "delete_cmd_prefix": "del ",
     "library": "var_list.py",
     "varRefreshCmd": "print(var_dic_list())"
    },
    "r": {
     "delete_cmd_postfix": ") ",
     "delete_cmd_prefix": "rm(",
     "library": "var_list.r",
     "varRefreshCmd": "cat(var_dic_list()) "
    }
   },
   "position": {
    "height": "1104.41px",
    "left": "1129.23px",
    "right": "20px",
    "top": "73.9648px",
    "width": "800px"
   },
   "types_to_exclude": [
    "module",
    "function",
    "builtin_function_or_method",
    "instance",
    "_Feature"
   ],
   "window_display": false
  }
 },
 "nbformat": 4,
 "nbformat_minor": 2
}
