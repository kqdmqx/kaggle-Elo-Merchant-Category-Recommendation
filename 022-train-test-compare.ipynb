{
 "cells": [
  {
   "cell_type": "markdown",
   "metadata": {},
   "source": [
    "# load data"
   ]
  },
  {
   "cell_type": "code",
   "execution_count": 1,
   "metadata": {
    "ExecuteTime": {
     "end_time": "2019-02-18T03:22:18.026133Z",
     "start_time": "2019-02-18T03:21:35.602687Z"
    }
   },
   "outputs": [
    {
     "name": "stdout",
     "output_type": "stream",
     "text": [
      "train - done in 0s\n",
      "all_trans - done in 0s\n",
      "hist_trans - done in 6s\n",
      "new_trans - done in 8s\n",
      "newk - done in 1s\n",
      "psum - done in 1s\n",
      "monthly_pmax - done in 1s\n",
      "monthly_merchant_pmax - done in 1s\n",
      "main_merchant_count - done in 1s\n",
      "monthly_merchant_avg_std - done in 1s\n",
      "2019-02-18 11:21:58 train_predict_notebook019 >>> [info] train_data.shape : (201917, 1177)\n",
      "2019-02-18 11:21:58 train_predict_notebook019 >>> [info] train_data.head :    feature_1  feature_2  feature_3    target          card_id  fa_month  \\\n",
      "0        5.0        2.0        1.0 -0.820283  C_ID_92a2005557  201706.0   \n",
      "1        4.0        1.0        0.0  0.392913  C_ID_3d0044924f  201701.0   \n",
      "2        2.0        2.0        0.0  0.688056  C_ID_d639edf6cd  201608.0   \n",
      "3        4.0        3.0        0.0  0.142495  C_ID_186d6a6901  201709.0   \n",
      "4        1.0        3.0        0.0 -0.159749  C_ID_cdbd2c0db2  201711.0   \n",
      "\n",
      "   purchase_amount_sum_hist_trans  purchase_amount_mean_hist_trans  \\\n",
      "0                     -165.968735                        -0.638341   \n",
      "1                     -210.006332                        -0.600018   \n",
      "2                      -29.167391                        -0.678311   \n",
      "3                      -49.491364                        -0.642745   \n",
      "4                      -48.687656                        -0.366073   \n",
      "\n",
      "   purchase_amount_max_hist_trans  purchase_amount_min_hist_trans  \\\n",
      "0                        2.258394                       -0.739395   \n",
      "1                        4.630300                       -0.742400   \n",
      "2                       -0.145847                       -0.730138   \n",
      "3                        1.445596                       -0.740897   \n",
      "4                        7.193041                       -0.746156   \n",
      "\n",
      "                  ...                   ratio_4_lag1_monthly_merchant_avg_std  \\\n",
      "0                 ...                                                0.838850   \n",
      "1                 ...                                                1.198915   \n",
      "2                 ...                                                     NaN   \n",
      "3                 ...                                                0.628000   \n",
      "4                 ...                                                0.654410   \n",
      "\n",
      "   sum_1_lag1_monthly_merchant_avg_std  ratio_1_lag2_monthly_merchant_avg_std  \\\n",
      "0                             0.000000                                    inf   \n",
      "1                           129.429443                               0.356108   \n",
      "2                                  NaN                               0.139442   \n",
      "3                            31.392708                               0.327980   \n",
      "4                           132.356598                               1.713783   \n",
      "\n",
      "   sum_2_lag2_monthly_merchant_avg_std  ratio_2_lag2_monthly_merchant_avg_std  \\\n",
      "0                            42.624397                               0.799121   \n",
      "1                           175.520370                               0.960342   \n",
      "2                            64.346779                                    NaN   \n",
      "3                            41.688900                               0.327513   \n",
      "4                           359.187012                               1.349031   \n",
      "\n",
      "   sum_3_lag2_monthly_merchant_avg_std  ratio_3_lag2_monthly_merchant_avg_std  \\\n",
      "0                            95.963516                               0.758194   \n",
      "1                           228.859482                               0.821271   \n",
      "2                                  NaN                                    NaN   \n",
      "3                           137.585403                               0.708644   \n",
      "4                           493.085968                               1.634841   \n",
      "\n",
      "   sum_4_lag2_monthly_merchant_avg_std  ratio_4_lag2_monthly_merchant_avg_std  \\\n",
      "0                           169.192993                               0.609371   \n",
      "1                           324.755981                               0.978168   \n",
      "2                                  NaN                                    NaN   \n",
      "3                           204.449295                               0.301771   \n",
      "4                           528.441284                               1.610887   \n",
      "\n",
      "   sum_1_lag2_monthly_merchant_avg_std  \n",
      "0                            42.624397  \n",
      "1                            46.090923  \n",
      "2                             7.874598  \n",
      "3                            10.296194  \n",
      "4                           226.830429  \n",
      "\n",
      "[5 rows x 1177 columns]\n",
      "test - done in 0s\n",
      "all_trans - done in 0s\n",
      "hist_trans - done in 5s\n",
      "new_trans - done in 6s\n",
      "newk - done in 1s\n",
      "psum - done in 1s\n",
      "monthly_pmax - done in 1s\n",
      "monthly_merchant_pmax - done in 1s\n",
      "main_merchant_count - done in 1s\n",
      "monthly_merchant_avg_std - done in 1s\n"
     ]
    }
   ],
   "source": [
    "import addict\n",
    "import pandas as pd\n",
    "# from data_io import load_train_features, load_test_features\n",
    "from data_io import load_train_all_features, load_test_all_features\n",
    "from validator import KFoldValidator\n",
    "from models import LGBModel\n",
    "from my_logger import print_info, init_global_logger\n",
    "\n",
    "\n",
    "def encode_feature123(data, encoder, is_train=True):\n",
    "    if is_train:\n",
    "        data[\"outlier\"] = (data.target < -30)\n",
    "        encoder = addict.Dict()\n",
    "    for col in [\"feature_1\", \"feature_2\", \"feature_3\"]:\n",
    "        if is_train:\n",
    "            encoder[col] = data.groupby([col])['outlier'].mean()\n",
    "        data[col] = data[col].map(encoder[col])\n",
    "    return data, encoder\n",
    "\n",
    "\n",
    "model_name = \"notebook022\"\n",
    "init_global_logger(\"train_predict_\" + model_name)\n",
    "train_data = load_train_all_features()\n",
    "print_info(\"train_data.shape\", train_data.shape)\n",
    "print_info(\"train_data.head\", train_data.head())\n",
    "train_data, encoder_ = encode_feature123(train_data, None, is_train=True)\n",
    "\n",
    "# features = list(train_data.columns)\n",
    "# features.remove(\"outlier\")\n",
    "# features.remove(\"card_id\")\n",
    "# features.remove(\"target\")\n",
    "\n",
    "features = list(pd.read_csv(\"./models/lgb018.csv\").feature_name.values)\n",
    "\n",
    "test_data = load_test_all_features()\n",
    "test_data, encoder_ = encode_feature123(test_data, encoder_, is_train=False)"
   ]
  },
  {
   "cell_type": "code",
   "execution_count": 7,
   "metadata": {
    "ExecuteTime": {
     "end_time": "2019-02-18T03:27:46.463926Z",
     "start_time": "2019-02-18T03:27:46.456908Z"
    }
   },
   "outputs": [],
   "source": [
    "train_dtypes = train_data.dtypes\n",
    "features = list(train_dtypes[(train_dtypes == 'float32') | (train_dtypes == 'float64')].index)"
   ]
  },
  {
   "cell_type": "code",
   "execution_count": 13,
   "metadata": {
    "ExecuteTime": {
     "end_time": "2019-02-18T03:29:40.179423Z",
     "start_time": "2019-02-18T03:29:40.176445Z"
    }
   },
   "outputs": [],
   "source": [
    "features.remove(\"target\")"
   ]
  },
  {
   "cell_type": "code",
   "execution_count": 9,
   "metadata": {
    "ExecuteTime": {
     "end_time": "2019-02-18T03:28:11.162672Z",
     "start_time": "2019-02-18T03:28:11.148131Z"
    }
   },
   "outputs": [],
   "source": [
    "from tqdm import tqdm_notebook"
   ]
  },
  {
   "cell_type": "code",
   "execution_count": 14,
   "metadata": {
    "ExecuteTime": {
     "end_time": "2019-02-18T03:30:46.501098Z",
     "start_time": "2019-02-18T03:29:44.281885Z"
    }
   },
   "outputs": [
    {
     "data": {
      "application/vnd.jupyter.widget-view+json": {
       "model_id": "51d712d9a3d64847b5db9e8eca950b4e",
       "version_major": 2,
       "version_minor": 0
      },
      "text/plain": [
       "HBox(children=(IntProgress(value=0, max=1175), HTML(value='')))"
      ]
     },
     "metadata": {},
     "output_type": "display_data"
    },
    {
     "name": "stdout",
     "output_type": "stream",
     "text": [
      "\n"
     ]
    }
   ],
   "source": [
    "from scipy.stats import ks_2samp\n",
    "from tqdm import tqdm\n",
    "\n",
    "list_p_value =[]\n",
    "\n",
    "for ftr in tqdm_notebook(features):\n",
    "    list_p_value.append(ks_2samp(test_data[ftr] , train_data[ftr])[1])"
   ]
  },
  {
   "cell_type": "code",
   "execution_count": 15,
   "metadata": {
    "ExecuteTime": {
     "end_time": "2019-02-18T03:30:46.645083Z",
     "start_time": "2019-02-18T03:30:46.639036Z"
    }
   },
   "outputs": [],
   "source": [
    "train_test_cmp = pd.Series(list_p_value, index=features).sort_values() "
   ]
  },
  {
   "cell_type": "code",
   "execution_count": 21,
   "metadata": {
    "ExecuteTime": {
     "end_time": "2019-02-18T03:31:59.561601Z",
     "start_time": "2019-02-18T03:31:59.556588Z"
    }
   },
   "outputs": [],
   "source": [
    "discard = list(train_test_cmp[train_test_cmp < .1].index)"
   ]
  },
  {
   "cell_type": "code",
   "execution_count": 23,
   "metadata": {
    "ExecuteTime": {
     "end_time": "2019-02-18T03:38:20.837200Z",
     "start_time": "2019-02-18T03:38:20.831213Z"
    }
   },
   "outputs": [
    {
     "data": {
      "text/plain": [
       "['category_2_3.0_hist_trans',\n",
       " 'newk_amount_month_ratio_max',\n",
       " 'newk_duration_max',\n",
       " 'newk_duration_mean',\n",
       " 'newk_hist_amount_month_ratio_max',\n",
       " 'newk_hist_category_3_mean',\n",
       " 'newk_hist_installments_mean',\n",
       " 'newk_hist_price_max',\n",
       " 'newk_hist_price_mean',\n",
       " 'newk_hist_price_sum',\n",
       " 'newk_hist_purchase_amount_max',\n",
       " 'newk_installments_mean',\n",
       " 'newk_new_category_2_mean',\n",
       " 'newk_new_category_2_mean_mean',\n",
       " 'newk_new_duration_mean',\n",
       " 'newk_new_hour_mean',\n",
       " 'newk_new_hour_min',\n",
       " 'newk_new_price_mean',\n",
       " 'newk_new_purchase_amount_mean',\n",
       " 'newk_price_max',\n",
       " 'newk_price_mean',\n",
       " 'newk_price_total',\n",
       " 'newk_purchase_amount_max',\n",
       " 'newk_purchase_amount_mean',\n",
       " 'purchase_amount_max_hist_trans',\n",
       " 'purchase_amount_mean_new_trans',\n",
       " 'purchase_amount_sum_new_trans',\n",
       " 'ratio_1_lag-4_monthly_merchant_avg_std',\n",
       " 'ratio_1_lag0_psum',\n",
       " 'sum_1_lag-4_psum',\n",
       " 'sum_1_lag1_monthly_pmax',\n",
       " 'sum_1_lag2_monthly_merchant_pmax',\n",
       " 'sum_1_lag2_monthly_pmax',\n",
       " 'sum_2_lag-4_monthly_merchant_pmax',\n",
       " 'sum_2_lag1_monthly_merchant_pmax',\n",
       " 'sum_2_lag1_monthly_pmax',\n",
       " 'sum_2_lag2_psum',\n",
       " 'sum_3_lag1_monthly_merchant_avg_std',\n",
       " 'sum_3_lag1_monthly_pmax',\n",
       " 'sum_3_lag1_psum',\n",
       " 'sum_3_lag2_monthly_merchant_pmax',\n",
       " 'sum_3_lag2_monthly_pmax',\n",
       " 'sum_3_lag2_psum',\n",
       " 'sum_4_lag1_monthly_merchant_avg_std',\n",
       " 'sum_4_lag1_monthly_pmax',\n",
       " 'sum_4_lag1_psum',\n",
       " 'sum_4_lag2_monthly_merchant_pmax',\n",
       " 'sum_4_lag2_monthly_pmax',\n",
       " 'sum_4_lag2_psum']"
      ]
     },
     "execution_count": 23,
     "metadata": {},
     "output_type": "execute_result"
    }
   ],
   "source": [
    "sorted(discard)"
   ]
  }
 ],
 "metadata": {
  "kernelspec": {
   "display_name": "Python 3",
   "language": "python",
   "name": "python3"
  },
  "language_info": {
   "codemirror_mode": {
    "name": "ipython",
    "version": 3
   },
   "file_extension": ".py",
   "mimetype": "text/x-python",
   "name": "python",
   "nbconvert_exporter": "python",
   "pygments_lexer": "ipython3",
   "version": "3.6.6"
  },
  "toc": {
   "base_numbering": 1,
   "nav_menu": {},
   "number_sections": true,
   "sideBar": true,
   "skip_h1_title": false,
   "title_cell": "Table of Contents",
   "title_sidebar": "Contents",
   "toc_cell": false,
   "toc_position": {},
   "toc_section_display": true,
   "toc_window_display": true
  },
  "varInspector": {
   "cols": {
    "lenName": 16,
    "lenType": 16,
    "lenVar": 40
   },
   "kernels_config": {
    "python": {
     "delete_cmd_postfix": "",
     "delete_cmd_prefix": "del ",
     "library": "var_list.py",
     "varRefreshCmd": "print(var_dic_list())"
    },
    "r": {
     "delete_cmd_postfix": ") ",
     "delete_cmd_prefix": "rm(",
     "library": "var_list.r",
     "varRefreshCmd": "cat(var_dic_list()) "
    }
   },
   "types_to_exclude": [
    "module",
    "function",
    "builtin_function_or_method",
    "instance",
    "_Feature"
   ],
   "window_display": false
  }
 },
 "nbformat": 4,
 "nbformat_minor": 2
}
