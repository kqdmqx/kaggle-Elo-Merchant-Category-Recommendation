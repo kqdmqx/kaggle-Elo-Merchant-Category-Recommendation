{
 "cells": [
  {
   "cell_type": "markdown",
   "metadata": {},
   "source": [
    "# Monthly Payment Features"
   ]
  },
  {
   "cell_type": "code",
   "execution_count": 3,
   "metadata": {
    "ExecuteTime": {
     "end_time": "2019-02-15T09:30:00.970382Z",
     "start_time": "2019-02-15T09:30:00.965388Z"
    }
   },
   "outputs": [],
   "source": [
    "import numpy as np\n",
    "import pandas as pd\n",
    "import gc\n",
    "\n",
    "pd.set_option('display.float_format', '{:.10f}'.format)\n",
    "import matplotlib.pyplot as plt\n",
    "%matplotlib inline"
   ]
  },
  {
   "cell_type": "code",
   "execution_count": 2,
   "metadata": {
    "ExecuteTime": {
     "end_time": "2019-02-15T09:29:14.590346Z",
     "start_time": "2019-02-15T09:28:10.035816Z"
    }
   },
   "outputs": [],
   "source": [
    "train = pd.read_csv('./data/train.csv')\n",
    "historical_transactions = pd.read_csv('./data/historical_transactions.csv')\n",
    "new_merchant_transactions = pd.read_csv('./data/new_merchant_transactions.csv')"
   ]
  },
  {
   "cell_type": "code",
   "execution_count": 4,
   "metadata": {
    "ExecuteTime": {
     "end_time": "2019-02-15T09:30:13.377386Z",
     "start_time": "2019-02-15T09:30:07.446707Z"
    }
   },
   "outputs": [],
   "source": [
    "all_transactions = pd.concat([historical_transactions, new_merchant_transactions], axis=0)"
   ]
  },
  {
   "cell_type": "code",
   "execution_count": 5,
   "metadata": {
    "ExecuteTime": {
     "end_time": "2019-02-15T09:31:23.348009Z",
     "start_time": "2019-02-15T09:31:23.324972Z"
    }
   },
   "outputs": [
    {
     "data": {
      "text/html": [
       "<div>\n",
       "<style scoped>\n",
       "    .dataframe tbody tr th:only-of-type {\n",
       "        vertical-align: middle;\n",
       "    }\n",
       "\n",
       "    .dataframe tbody tr th {\n",
       "        vertical-align: top;\n",
       "    }\n",
       "\n",
       "    .dataframe thead th {\n",
       "        text-align: right;\n",
       "    }\n",
       "</style>\n",
       "<table border=\"1\" class=\"dataframe\">\n",
       "  <thead>\n",
       "    <tr style=\"text-align: right;\">\n",
       "      <th></th>\n",
       "      <th>authorized_flag</th>\n",
       "      <th>card_id</th>\n",
       "      <th>city_id</th>\n",
       "      <th>category_1</th>\n",
       "      <th>installments</th>\n",
       "      <th>category_3</th>\n",
       "      <th>merchant_category_id</th>\n",
       "      <th>merchant_id</th>\n",
       "      <th>month_lag</th>\n",
       "      <th>purchase_amount</th>\n",
       "      <th>purchase_date</th>\n",
       "      <th>category_2</th>\n",
       "      <th>state_id</th>\n",
       "      <th>subsector_id</th>\n",
       "    </tr>\n",
       "  </thead>\n",
       "  <tbody>\n",
       "    <tr>\n",
       "      <th>0</th>\n",
       "      <td>Y</td>\n",
       "      <td>C_ID_4e6213e9bc</td>\n",
       "      <td>88</td>\n",
       "      <td>N</td>\n",
       "      <td>0</td>\n",
       "      <td>A</td>\n",
       "      <td>80</td>\n",
       "      <td>M_ID_e020e9b302</td>\n",
       "      <td>-8</td>\n",
       "      <td>-0.7033309100</td>\n",
       "      <td>2017-06-25 15:33:07</td>\n",
       "      <td>1.0000000000</td>\n",
       "      <td>16</td>\n",
       "      <td>37</td>\n",
       "    </tr>\n",
       "    <tr>\n",
       "      <th>1</th>\n",
       "      <td>Y</td>\n",
       "      <td>C_ID_4e6213e9bc</td>\n",
       "      <td>88</td>\n",
       "      <td>N</td>\n",
       "      <td>0</td>\n",
       "      <td>A</td>\n",
       "      <td>367</td>\n",
       "      <td>M_ID_86ec983688</td>\n",
       "      <td>-7</td>\n",
       "      <td>-0.7331284800</td>\n",
       "      <td>2017-07-15 12:10:45</td>\n",
       "      <td>1.0000000000</td>\n",
       "      <td>16</td>\n",
       "      <td>16</td>\n",
       "    </tr>\n",
       "    <tr>\n",
       "      <th>2</th>\n",
       "      <td>Y</td>\n",
       "      <td>C_ID_4e6213e9bc</td>\n",
       "      <td>88</td>\n",
       "      <td>N</td>\n",
       "      <td>0</td>\n",
       "      <td>A</td>\n",
       "      <td>80</td>\n",
       "      <td>M_ID_979ed661fc</td>\n",
       "      <td>-6</td>\n",
       "      <td>-0.7203860000</td>\n",
       "      <td>2017-08-09 22:04:29</td>\n",
       "      <td>1.0000000000</td>\n",
       "      <td>16</td>\n",
       "      <td>37</td>\n",
       "    </tr>\n",
       "    <tr>\n",
       "      <th>3</th>\n",
       "      <td>Y</td>\n",
       "      <td>C_ID_4e6213e9bc</td>\n",
       "      <td>88</td>\n",
       "      <td>N</td>\n",
       "      <td>0</td>\n",
       "      <td>A</td>\n",
       "      <td>560</td>\n",
       "      <td>M_ID_e6d5ae8ea6</td>\n",
       "      <td>-5</td>\n",
       "      <td>-0.7353524100</td>\n",
       "      <td>2017-09-02 10:06:26</td>\n",
       "      <td>1.0000000000</td>\n",
       "      <td>16</td>\n",
       "      <td>34</td>\n",
       "    </tr>\n",
       "    <tr>\n",
       "      <th>4</th>\n",
       "      <td>Y</td>\n",
       "      <td>C_ID_4e6213e9bc</td>\n",
       "      <td>88</td>\n",
       "      <td>N</td>\n",
       "      <td>0</td>\n",
       "      <td>A</td>\n",
       "      <td>80</td>\n",
       "      <td>M_ID_e020e9b302</td>\n",
       "      <td>-11</td>\n",
       "      <td>-0.7228653800</td>\n",
       "      <td>2017-03-10 01:14:19</td>\n",
       "      <td>1.0000000000</td>\n",
       "      <td>16</td>\n",
       "      <td>37</td>\n",
       "    </tr>\n",
       "  </tbody>\n",
       "</table>\n",
       "</div>"
      ],
      "text/plain": [
       "  authorized_flag          card_id  city_id category_1  installments  \\\n",
       "0               Y  C_ID_4e6213e9bc       88          N             0   \n",
       "1               Y  C_ID_4e6213e9bc       88          N             0   \n",
       "2               Y  C_ID_4e6213e9bc       88          N             0   \n",
       "3               Y  C_ID_4e6213e9bc       88          N             0   \n",
       "4               Y  C_ID_4e6213e9bc       88          N             0   \n",
       "\n",
       "  category_3  merchant_category_id      merchant_id  month_lag  \\\n",
       "0          A                    80  M_ID_e020e9b302         -8   \n",
       "1          A                   367  M_ID_86ec983688         -7   \n",
       "2          A                    80  M_ID_979ed661fc         -6   \n",
       "3          A                   560  M_ID_e6d5ae8ea6         -5   \n",
       "4          A                    80  M_ID_e020e9b302        -11   \n",
       "\n",
       "   purchase_amount        purchase_date   category_2  state_id  subsector_id  \n",
       "0    -0.7033309100  2017-06-25 15:33:07 1.0000000000        16            37  \n",
       "1    -0.7331284800  2017-07-15 12:10:45 1.0000000000        16            16  \n",
       "2    -0.7203860000  2017-08-09 22:04:29 1.0000000000        16            37  \n",
       "3    -0.7353524100  2017-09-02 10:06:26 1.0000000000        16            34  \n",
       "4    -0.7228653800  2017-03-10 01:14:19 1.0000000000        16            37  "
      ]
     },
     "execution_count": 5,
     "metadata": {},
     "output_type": "execute_result"
    }
   ],
   "source": [
    "all_transactions.head()"
   ]
  },
  {
   "cell_type": "code",
   "execution_count": 10,
   "metadata": {
    "ExecuteTime": {
     "end_time": "2019-02-15T09:37:07.320544Z",
     "start_time": "2019-02-15T09:37:06.800069Z"
    }
   },
   "outputs": [],
   "source": [
    "def shift_round(col):\n",
    "    # shift_round: reverse normalization ?\n",
    "    # where are the two numbers come from ?\n",
    "    return np.round(col / 0.00150265118 + 497.06, 2)\n",
    "\n",
    "all_transactions[\"purchase_amount_new\"] = shift_round(all_transactions[\"purchase_amount\"])"
   ]
  },
  {
   "cell_type": "code",
   "execution_count": 6,
   "metadata": {
    "ExecuteTime": {
     "end_time": "2019-02-15T09:33:14.847993Z",
     "start_time": "2019-02-15T09:33:14.842982Z"
    }
   },
   "outputs": [
    {
     "data": {
      "text/plain": [
       "authorized_flag          object\n",
       "card_id                  object\n",
       "city_id                   int64\n",
       "category_1               object\n",
       "installments              int64\n",
       "category_3               object\n",
       "merchant_category_id      int64\n",
       "merchant_id              object\n",
       "month_lag                 int64\n",
       "purchase_amount         float64\n",
       "purchase_date            object\n",
       "category_2              float64\n",
       "state_id                  int64\n",
       "subsector_id              int64\n",
       "dtype: object"
      ]
     },
     "execution_count": 6,
     "metadata": {},
     "output_type": "execute_result"
    }
   ],
   "source": [
    "all_transactions.dtypes"
   ]
  },
  {
   "cell_type": "markdown",
   "metadata": {},
   "source": [
    "# monthly_payment"
   ]
  },
  {
   "cell_type": "code",
   "execution_count": 9,
   "metadata": {
    "ExecuteTime": {
     "end_time": "2019-02-15T09:36:56.567005Z",
     "start_time": "2019-02-15T09:36:43.342275Z"
    }
   },
   "outputs": [],
   "source": [
    "monthly_payment = (all_transactions.groupby([\"card_id\", \"month_lag\"])\n",
    "                                   .purchase_amount_new.sum()\n",
    "                                   .reset_index(name=\"monthly_pa\")\n",
    "                                   .sort_values([\"card_id\", \"month_lag\"]))"
   ]
  },
  {
   "cell_type": "code",
   "execution_count": 11,
   "metadata": {
    "ExecuteTime": {
     "end_time": "2019-02-15T09:37:11.504031Z",
     "start_time": "2019-02-15T09:37:11.495006Z"
    }
   },
   "outputs": [
    {
     "data": {
      "text/html": [
       "<div>\n",
       "<style scoped>\n",
       "    .dataframe tbody tr th:only-of-type {\n",
       "        vertical-align: middle;\n",
       "    }\n",
       "\n",
       "    .dataframe tbody tr th {\n",
       "        vertical-align: top;\n",
       "    }\n",
       "\n",
       "    .dataframe thead th {\n",
       "        text-align: right;\n",
       "    }\n",
       "</style>\n",
       "<table border=\"1\" class=\"dataframe\">\n",
       "  <thead>\n",
       "    <tr style=\"text-align: right;\">\n",
       "      <th></th>\n",
       "      <th>card_id</th>\n",
       "      <th>month_lag</th>\n",
       "      <th>monthly_pa</th>\n",
       "    </tr>\n",
       "  </thead>\n",
       "  <tbody>\n",
       "    <tr>\n",
       "      <th>0</th>\n",
       "      <td>C_ID_00007093c1</td>\n",
       "      <td>-12</td>\n",
       "      <td>1100.2000000000</td>\n",
       "    </tr>\n",
       "    <tr>\n",
       "      <th>1</th>\n",
       "      <td>C_ID_00007093c1</td>\n",
       "      <td>-11</td>\n",
       "      <td>1168.9000000000</td>\n",
       "    </tr>\n",
       "    <tr>\n",
       "      <th>2</th>\n",
       "      <td>C_ID_00007093c1</td>\n",
       "      <td>-10</td>\n",
       "      <td>1633.2500000000</td>\n",
       "    </tr>\n",
       "    <tr>\n",
       "      <th>3</th>\n",
       "      <td>C_ID_00007093c1</td>\n",
       "      <td>-9</td>\n",
       "      <td>2691.1300000000</td>\n",
       "    </tr>\n",
       "    <tr>\n",
       "      <th>4</th>\n",
       "      <td>C_ID_00007093c1</td>\n",
       "      <td>-8</td>\n",
       "      <td>2876.6300000000</td>\n",
       "    </tr>\n",
       "  </tbody>\n",
       "</table>\n",
       "</div>"
      ],
      "text/plain": [
       "           card_id  month_lag      monthly_pa\n",
       "0  C_ID_00007093c1        -12 1100.2000000000\n",
       "1  C_ID_00007093c1        -11 1168.9000000000\n",
       "2  C_ID_00007093c1        -10 1633.2500000000\n",
       "3  C_ID_00007093c1         -9 2691.1300000000\n",
       "4  C_ID_00007093c1         -8 2876.6300000000"
      ]
     },
     "execution_count": 11,
     "metadata": {},
     "output_type": "execute_result"
    }
   ],
   "source": [
    "monthly_payment.head()"
   ]
  },
  {
   "cell_type": "markdown",
   "metadata": {},
   "source": [
    "# psum with rolling ratio"
   ]
  },
  {
   "cell_type": "code",
   "execution_count": 35,
   "metadata": {
    "ExecuteTime": {
     "end_time": "2019-02-15T10:07:22.128857Z",
     "start_time": "2019-02-15T10:07:22.043674Z"
    }
   },
   "outputs": [],
   "source": [
    "part = monthly_payment[:10000].copy()\n",
    "\n",
    "part[\"ratio_1\"] = part.rolling(window=2).monthly_pa.apply(lambda x: x[1] / x[0], raw=True)\n",
    "part[\"lag_offset\"] = part.rolling(window=2).month_lag.apply(lambda x: x[-1] - x[0], raw=True)\n",
    "part.loc[part.lag_offset < 0, \"ratio_1\"] = np.NaN\n",
    "del part[\"lag_offset\"]\n",
    "\n",
    "for i in range(3):\n",
    "    window_size = i + 2\n",
    "    sum_col = \"sum_{}\".format(window_size)\n",
    "    ratio_col = \"ratio_{}\".format(window_size)\n",
    "    part[\"lag_offset\"] = part.rolling(window=window_size).month_lag.apply(lambda x: x[-1] - x[0], raw=True)\n",
    "    part[sum_col] = part.rolling(window=window_size).monthly_pa.sum()\n",
    "    part.loc[part.lag_offset < 0, sum_col] = np.NaN\n",
    "    part[ratio_col] = part.rolling(window=2)[sum_col].apply(lambda x: x[1] / x[0], raw=True)\n",
    "    part.loc[part.lag_offset < 0, ratio_col] = np.NaN\n",
    "    del part[\"lag_offset\"]\n",
    "\n",
    "part[\"sum_1\"] = part.monthly_pa"
   ]
  },
  {
   "cell_type": "code",
   "execution_count": 47,
   "metadata": {
    "ExecuteTime": {
     "end_time": "2019-02-15T10:14:13.457000Z",
     "start_time": "2019-02-15T10:14:13.374718Z"
    }
   },
   "outputs": [
    {
     "name": "stderr",
     "output_type": "stream",
     "text": [
      "C:\\Users\\admin\\AppData\\Local\\conda\\conda\\envs\\py36\\lib\\site-packages\\ipykernel_launcher.py:6: FutureWarning: Sorting because non-concatenation axis is not aligned. A future version\n",
      "of pandas will change to not sort by default.\n",
      "\n",
      "To accept the future behavior, pass 'sort=False'.\n",
      "\n",
      "To retain the current behavior and silence the warning, pass 'sort=True'.\n",
      "\n",
      "  \n"
     ]
    }
   ],
   "source": [
    "monthly_payment_features = pd.DataFrame()\n",
    "\n",
    "for month in range(15):\n",
    "    month_lag = month - 12\n",
    "    temp = part[part.month_lag == month_lag].set_index(\"card_id\").drop([\"month_lag\", \"monthly_pa\"], axis=1).rename(columns=lambda x: \"{}_lag{}\".format(x, month_lag))\n",
    "    monthly_payment_features = pd.concat([monthly_payment_features, temp], axis=1)"
   ]
  },
  {
   "cell_type": "code",
   "execution_count": 50,
   "metadata": {
    "ExecuteTime": {
     "end_time": "2019-02-15T10:15:36.330440Z",
     "start_time": "2019-02-15T10:15:36.323417Z"
    }
   },
   "outputs": [],
   "source": [
    "def calc_monthly_payment_features(part):\n",
    "    part[\"ratio_1\"] = part.rolling(window=2).monthly_pa.apply(lambda x: x[1] / x[0], raw=True)\n",
    "    part[\"lag_offset\"] = part.rolling(window=2).month_lag.apply(lambda x: x[-1] - x[0], raw=True)\n",
    "    part.loc[part.lag_offset < 0, \"ratio_1\"] = np.NaN\n",
    "    del part[\"lag_offset\"]\n",
    "\n",
    "    for i in range(3):\n",
    "        window_size = i + 2\n",
    "        sum_col = \"sum_{}\".format(window_size)\n",
    "        ratio_col = \"ratio_{}\".format(window_size)\n",
    "        part[\"lag_offset\"] = part.rolling(window=window_size).month_lag.apply(lambda x: x[-1] - x[0], raw=True)\n",
    "        part[sum_col] = part.rolling(window=window_size).monthly_pa.sum()\n",
    "        part.loc[part.lag_offset < 0, sum_col] = np.NaN\n",
    "        part[ratio_col] = part.rolling(window=2)[sum_col].apply(lambda x: x[1] / x[0], raw=True)\n",
    "        part.loc[part.lag_offset < 0, ratio_col] = np.NaN\n",
    "        del part[\"lag_offset\"]\n",
    "\n",
    "    part[\"sum_1\"] = part.monthly_pa\n",
    "    \n",
    "    monthly_payment_features = pd.DataFrame()\n",
    "\n",
    "    for month in range(15):\n",
    "        month_lag = month - 12\n",
    "        temp = part[part.month_lag == month_lag].set_index(\"card_id\").drop([\"month_lag\", \"monthly_pa\"], axis=1).rename(columns=lambda x: \"{}_lag{}\".format(x, month_lag))\n",
    "        monthly_payment_features = pd.concat([monthly_payment_features, temp], axis=1)\n",
    "    return monthly_payment_features"
   ]
  },
  {
   "cell_type": "code",
   "execution_count": 51,
   "metadata": {
    "ExecuteTime": {
     "end_time": "2019-02-15T10:16:22.547393Z",
     "start_time": "2019-02-15T10:15:57.572505Z"
    }
   },
   "outputs": [
    {
     "name": "stderr",
     "output_type": "stream",
     "text": [
      "C:\\Users\\admin\\AppData\\Local\\conda\\conda\\envs\\py36\\lib\\site-packages\\ipykernel_launcher.py:25: FutureWarning: Sorting because non-concatenation axis is not aligned. A future version\n",
      "of pandas will change to not sort by default.\n",
      "\n",
      "To accept the future behavior, pass 'sort=False'.\n",
      "\n",
      "To retain the current behavior and silence the warning, pass 'sort=True'.\n",
      "\n"
     ]
    }
   ],
   "source": [
    "features_df = calc_monthly_payment_features(monthly_payment)"
   ]
  },
  {
   "cell_type": "code",
   "execution_count": 52,
   "metadata": {
    "ExecuteTime": {
     "end_time": "2019-02-15T10:16:22.906300Z",
     "start_time": "2019-02-15T10:16:22.902288Z"
    }
   },
   "outputs": [
    {
     "data": {
      "text/plain": [
       "(325540, 120)"
      ]
     },
     "execution_count": 52,
     "metadata": {},
     "output_type": "execute_result"
    }
   ],
   "source": [
    "features_df.shape"
   ]
  },
  {
   "cell_type": "code",
   "execution_count": 54,
   "metadata": {
    "ExecuteTime": {
     "end_time": "2019-02-15T11:26:53.304523Z",
     "start_time": "2019-02-15T11:26:53.075891Z"
    }
   },
   "outputs": [
    {
     "data": {
      "text/plain": [
       "325540"
      ]
     },
     "execution_count": 54,
     "metadata": {},
     "output_type": "execute_result"
    }
   ],
   "source": [
    "features_df.index.nunique()"
   ]
  },
  {
   "cell_type": "code",
   "execution_count": 55,
   "metadata": {
    "ExecuteTime": {
     "end_time": "2019-02-15T11:27:12.195749Z",
     "start_time": "2019-02-15T11:27:11.744548Z"
    }
   },
   "outputs": [
    {
     "data": {
      "text/html": [
       "<div>\n",
       "<style scoped>\n",
       "    .dataframe tbody tr th:only-of-type {\n",
       "        vertical-align: middle;\n",
       "    }\n",
       "\n",
       "    .dataframe tbody tr th {\n",
       "        vertical-align: top;\n",
       "    }\n",
       "\n",
       "    .dataframe thead th {\n",
       "        text-align: right;\n",
       "    }\n",
       "</style>\n",
       "<table border=\"1\" class=\"dataframe\">\n",
       "  <thead>\n",
       "    <tr style=\"text-align: right;\">\n",
       "      <th></th>\n",
       "      <th>index</th>\n",
       "      <th>ratio_1_lag-12</th>\n",
       "      <th>sum_2_lag-12</th>\n",
       "      <th>ratio_2_lag-12</th>\n",
       "      <th>sum_3_lag-12</th>\n",
       "      <th>ratio_3_lag-12</th>\n",
       "      <th>sum_4_lag-12</th>\n",
       "      <th>ratio_4_lag-12</th>\n",
       "      <th>sum_1_lag-12</th>\n",
       "      <th>ratio_1_lag-11</th>\n",
       "      <th>...</th>\n",
       "      <th>ratio_4_lag1</th>\n",
       "      <th>sum_1_lag1</th>\n",
       "      <th>ratio_1_lag2</th>\n",
       "      <th>sum_2_lag2</th>\n",
       "      <th>ratio_2_lag2</th>\n",
       "      <th>sum_3_lag2</th>\n",
       "      <th>ratio_3_lag2</th>\n",
       "      <th>sum_4_lag2</th>\n",
       "      <th>ratio_4_lag2</th>\n",
       "      <th>sum_1_lag2</th>\n",
       "    </tr>\n",
       "  </thead>\n",
       "  <tbody>\n",
       "    <tr>\n",
       "      <th>0</th>\n",
       "      <td>C_ID_00007093c1</td>\n",
       "      <td>nan</td>\n",
       "      <td>nan</td>\n",
       "      <td>nan</td>\n",
       "      <td>nan</td>\n",
       "      <td>nan</td>\n",
       "      <td>nan</td>\n",
       "      <td>nan</td>\n",
       "      <td>1100.2000000000</td>\n",
       "      <td>1.0624431921</td>\n",
       "      <td>...</td>\n",
       "      <td>nan</td>\n",
       "      <td>nan</td>\n",
       "      <td>0.0609357516</td>\n",
       "      <td>1915.1800000000</td>\n",
       "      <td>0.6401494767</td>\n",
       "      <td>3101.7700000000</td>\n",
       "      <td>0.6232220680</td>\n",
       "      <td>5086.9900000000</td>\n",
       "      <td>0.8596896526</td>\n",
       "      <td>110.0000000000</td>\n",
       "    </tr>\n",
       "    <tr>\n",
       "      <th>1</th>\n",
       "      <td>C_ID_0001238066</td>\n",
       "      <td>nan</td>\n",
       "      <td>nan</td>\n",
       "      <td>nan</td>\n",
       "      <td>nan</td>\n",
       "      <td>nan</td>\n",
       "      <td>nan</td>\n",
       "      <td>nan</td>\n",
       "      <td>nan</td>\n",
       "      <td>nan</td>\n",
       "      <td>...</td>\n",
       "      <td>1.0106644286</td>\n",
       "      <td>1957.9800000000</td>\n",
       "      <td>0.5531261811</td>\n",
       "      <td>3040.9900000000</td>\n",
       "      <td>0.7649134722</td>\n",
       "      <td>5058.6100000000</td>\n",
       "      <td>0.6435448455</td>\n",
       "      <td>8943.5500000000</td>\n",
       "      <td>0.7464322765</td>\n",
       "      <td>1083.0100000000</td>\n",
       "    </tr>\n",
       "    <tr>\n",
       "      <th>2</th>\n",
       "      <td>C_ID_0001506ef0</td>\n",
       "      <td>3.6172549020</td>\n",
       "      <td>235.4800000000</td>\n",
       "      <td>nan</td>\n",
       "      <td>nan</td>\n",
       "      <td>nan</td>\n",
       "      <td>nan</td>\n",
       "      <td>nan</td>\n",
       "      <td>184.4800000000</td>\n",
       "      <td>1.5531764961</td>\n",
       "      <td>...</td>\n",
       "      <td>0.8128161412</td>\n",
       "      <td>30.9200000000</td>\n",
       "      <td>nan</td>\n",
       "      <td>nan</td>\n",
       "      <td>nan</td>\n",
       "      <td>nan</td>\n",
       "      <td>nan</td>\n",
       "      <td>nan</td>\n",
       "      <td>nan</td>\n",
       "      <td>nan</td>\n",
       "    </tr>\n",
       "    <tr>\n",
       "      <th>3</th>\n",
       "      <td>C_ID_0001793786</td>\n",
       "      <td>nan</td>\n",
       "      <td>nan</td>\n",
       "      <td>nan</td>\n",
       "      <td>nan</td>\n",
       "      <td>nan</td>\n",
       "      <td>nan</td>\n",
       "      <td>nan</td>\n",
       "      <td>nan</td>\n",
       "      <td>nan</td>\n",
       "      <td>...</td>\n",
       "      <td>0.9461002596</td>\n",
       "      <td>11552.9000000000</td>\n",
       "      <td>0.3205385661</td>\n",
       "      <td>15256.0500000000</td>\n",
       "      <td>0.8553875051</td>\n",
       "      <td>21538.4000000000</td>\n",
       "      <td>0.6572342177</td>\n",
       "      <td>36474.4200000000</td>\n",
       "      <td>0.8591347557</td>\n",
       "      <td>3703.1500000000</td>\n",
       "    </tr>\n",
       "    <tr>\n",
       "      <th>4</th>\n",
       "      <td>C_ID_000183fdda</td>\n",
       "      <td>nan</td>\n",
       "      <td>nan</td>\n",
       "      <td>nan</td>\n",
       "      <td>nan</td>\n",
       "      <td>nan</td>\n",
       "      <td>nan</td>\n",
       "      <td>nan</td>\n",
       "      <td>nan</td>\n",
       "      <td>nan</td>\n",
       "      <td>...</td>\n",
       "      <td>0.9121978247</td>\n",
       "      <td>575.2800000000</td>\n",
       "      <td>0.8800584063</td>\n",
       "      <td>1081.5600000000</td>\n",
       "      <td>0.2647391430</td>\n",
       "      <td>4591.6600000000</td>\n",
       "      <td>0.3543535386</td>\n",
       "      <td>13464.1300000000</td>\n",
       "      <td>0.7795910545</td>\n",
       "      <td>506.2800000000</td>\n",
       "    </tr>\n",
       "  </tbody>\n",
       "</table>\n",
       "<p>5 rows × 121 columns</p>\n",
       "</div>"
      ],
      "text/plain": [
       "             index  ratio_1_lag-12   sum_2_lag-12  ratio_2_lag-12  \\\n",
       "0  C_ID_00007093c1             nan            nan             nan   \n",
       "1  C_ID_0001238066             nan            nan             nan   \n",
       "2  C_ID_0001506ef0    3.6172549020 235.4800000000             nan   \n",
       "3  C_ID_0001793786             nan            nan             nan   \n",
       "4  C_ID_000183fdda             nan            nan             nan   \n",
       "\n",
       "   sum_3_lag-12  ratio_3_lag-12  sum_4_lag-12  ratio_4_lag-12    sum_1_lag-12  \\\n",
       "0           nan             nan           nan             nan 1100.2000000000   \n",
       "1           nan             nan           nan             nan             nan   \n",
       "2           nan             nan           nan             nan  184.4800000000   \n",
       "3           nan             nan           nan             nan             nan   \n",
       "4           nan             nan           nan             nan             nan   \n",
       "\n",
       "   ratio_1_lag-11       ...        ratio_4_lag1       sum_1_lag1  \\\n",
       "0    1.0624431921       ...                 nan              nan   \n",
       "1             nan       ...        1.0106644286  1957.9800000000   \n",
       "2    1.5531764961       ...        0.8128161412    30.9200000000   \n",
       "3             nan       ...        0.9461002596 11552.9000000000   \n",
       "4             nan       ...        0.9121978247   575.2800000000   \n",
       "\n",
       "   ratio_1_lag2       sum_2_lag2  ratio_2_lag2       sum_3_lag2  ratio_3_lag2  \\\n",
       "0  0.0609357516  1915.1800000000  0.6401494767  3101.7700000000  0.6232220680   \n",
       "1  0.5531261811  3040.9900000000  0.7649134722  5058.6100000000  0.6435448455   \n",
       "2           nan              nan           nan              nan           nan   \n",
       "3  0.3205385661 15256.0500000000  0.8553875051 21538.4000000000  0.6572342177   \n",
       "4  0.8800584063  1081.5600000000  0.2647391430  4591.6600000000  0.3543535386   \n",
       "\n",
       "        sum_4_lag2  ratio_4_lag2      sum_1_lag2  \n",
       "0  5086.9900000000  0.8596896526  110.0000000000  \n",
       "1  8943.5500000000  0.7464322765 1083.0100000000  \n",
       "2              nan           nan             nan  \n",
       "3 36474.4200000000  0.8591347557 3703.1500000000  \n",
       "4 13464.1300000000  0.7795910545  506.2800000000  \n",
       "\n",
       "[5 rows x 121 columns]"
      ]
     },
     "execution_count": 55,
     "metadata": {},
     "output_type": "execute_result"
    }
   ],
   "source": [
    "features_df.reset_index().head()"
   ]
  },
  {
   "cell_type": "code",
   "execution_count": 58,
   "metadata": {
    "ExecuteTime": {
     "end_time": "2019-02-15T11:28:02.992869Z",
     "start_time": "2019-02-15T11:28:02.989887Z"
    }
   },
   "outputs": [],
   "source": [
    "from data_io import features_downcast\n",
    "from downcast import save_dataframe32, load_dataframe32"
   ]
  },
  {
   "cell_type": "code",
   "execution_count": 59,
   "metadata": {
    "ExecuteTime": {
     "end_time": "2019-02-15T11:28:16.220083Z",
     "start_time": "2019-02-15T11:28:16.215062Z"
    }
   },
   "outputs": [
    {
     "data": {
      "text/plain": [
       "<function downcast.save_dataframe32(path, dataframe, keep=[])>"
      ]
     },
     "execution_count": 59,
     "metadata": {},
     "output_type": "execute_result"
    }
   ],
   "source": [
    "save_dataframe32"
   ]
  },
  {
   "cell_type": "code",
   "execution_count": 61,
   "metadata": {
    "ExecuteTime": {
     "end_time": "2019-02-15T11:29:51.991974Z",
     "start_time": "2019-02-15T11:29:37.778167Z"
    }
   },
   "outputs": [],
   "source": [
    "save_dataframe32(features_downcast(\"monthly_psum\"), features_df.reset_index().rename(columns={\"index\":\"card_id\"}), keep=[\"card_id\"])"
   ]
  },
  {
   "cell_type": "markdown",
   "metadata": {},
   "source": [
    "# next"
   ]
  },
  {
   "cell_type": "markdown",
   "metadata": {},
   "source": [
    "1. pmax with rolling ratio\n",
    "2. c-m std\n",
    "3. m std\n",
    "4. max-m count\n",
    "5. max-m count/ month count\n",
    "6. max-m std"
   ]
  }
 ],
 "metadata": {
  "kernelspec": {
   "display_name": "Python 3",
   "language": "python",
   "name": "python3"
  },
  "language_info": {
   "codemirror_mode": {
    "name": "ipython",
    "version": 3
   },
   "file_extension": ".py",
   "mimetype": "text/x-python",
   "name": "python",
   "nbconvert_exporter": "python",
   "pygments_lexer": "ipython3",
   "version": "3.6.6"
  },
  "toc": {
   "base_numbering": 1,
   "nav_menu": {},
   "number_sections": true,
   "sideBar": true,
   "skip_h1_title": false,
   "title_cell": "Table of Contents",
   "title_sidebar": "Contents",
   "toc_cell": false,
   "toc_position": {},
   "toc_section_display": true,
   "toc_window_display": true
  },
  "varInspector": {
   "cols": {
    "lenName": 16,
    "lenType": 16,
    "lenVar": 40
   },
   "kernels_config": {
    "python": {
     "delete_cmd_postfix": "",
     "delete_cmd_prefix": "del ",
     "library": "var_list.py",
     "varRefreshCmd": "print(var_dic_list())"
    },
    "r": {
     "delete_cmd_postfix": ") ",
     "delete_cmd_prefix": "rm(",
     "library": "var_list.r",
     "varRefreshCmd": "cat(var_dic_list()) "
    }
   },
   "oldHeight": 328.965,
   "position": {
    "height": "351.465px",
    "left": "550.723px",
    "right": "20px",
    "top": "62.9492px",
    "width": "733.477px"
   },
   "types_to_exclude": [
    "module",
    "function",
    "builtin_function_or_method",
    "instance",
    "_Feature"
   ],
   "varInspector_section_display": "block",
   "window_display": false
  }
 },
 "nbformat": 4,
 "nbformat_minor": 2
}
