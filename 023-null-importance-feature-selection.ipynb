{
 "cells": [
  {
   "cell_type": "markdown",
   "metadata": {},
   "source": [
    "# null importance: feature selection"
   ]
  },
  {
   "cell_type": "code",
   "execution_count": 1,
   "metadata": {
    "ExecuteTime": {
     "end_time": "2019-02-18T15:57:05.763999Z",
     "start_time": "2019-02-18T15:57:04.020874Z"
    }
   },
   "outputs": [],
   "source": [
    "import pandas as pd\n",
    "import numpy as np\n",
    "import glob\n",
    "import pickle as pkl\n",
    "from models import load_model\n",
    "import matplotlib.pyplot as plt\n",
    "import seaborn as sns\n",
    "\n",
    "%matplotlib inline"
   ]
  },
  {
   "cell_type": "code",
   "execution_count": 2,
   "metadata": {
    "ExecuteTime": {
     "end_time": "2019-02-18T15:57:05.771518Z",
     "start_time": "2019-02-18T15:57:05.766506Z"
    }
   },
   "outputs": [],
   "source": [
    "def get_feature_importance(model):\n",
    "    # return np.log1p(model.estimator.feature_importance(importance_type='gain', iteration=model.estimator.best_iteration))\n",
    "    return model.estimator.feature_importance(importance_type='gain', iteration=model.estimator.best_iteration)"
   ]
  },
  {
   "cell_type": "code",
   "execution_count": 3,
   "metadata": {
    "ExecuteTime": {
     "end_time": "2019-02-18T15:57:06.209549Z",
     "start_time": "2019-02-18T15:57:05.775026Z"
    }
   },
   "outputs": [
    {
     "name": "stdout",
     "output_type": "stream",
     "text": [
      "[info] load lgbmodel : ./models/lgb024_dart_0.pkl\n",
      "[info] load lgbmodel : ./models/lgb024_dart_1.pkl\n",
      "[info] load lgbmodel : ./models/lgb024_dart_2.pkl\n",
      "[info] load lgbmodel : ./models/lgb024_dart_3.pkl\n",
      "[info] load lgbmodel : ./models/lgb024_dart_4.pkl\n",
      "[info] load lgbmodel : ./models/lgb024_dart_5.pkl\n"
     ]
    }
   ],
   "source": [
    "model_name = \"lgb024_dart\"\n",
    "\n",
    "feature_importance_df = pd.DataFrame()\n",
    "for i in range(6):\n",
    "    part = pd.read_csv(\"./models/lgb024.csv\")\n",
    "    model = load_model(\"./models/{}_{}.pkl\".format(model_name, i))\n",
    "\n",
    "    part[\"fi\"] = get_feature_importance(model)\n",
    "    feature_importance_df = pd.concat([feature_importance_df, part], axis=0)"
   ]
  },
  {
   "cell_type": "code",
   "execution_count": 4,
   "metadata": {
    "ExecuteTime": {
     "end_time": "2019-02-18T15:57:06.217069Z",
     "start_time": "2019-02-18T15:57:06.212056Z"
    }
   },
   "outputs": [],
   "source": [
    "def load_lgb_if(model_name, nsplit, features_fn):\n",
    "    feature_importance_df = pd.DataFrame()\n",
    "    for i in range(nsplit):\n",
    "        part = pd.read_csv(features_fn)\n",
    "        model = load_model(\"./models/{}_{}.pkl\".format(model_name, i))\n",
    "\n",
    "        part[\"fi\"] = get_feature_importance(model)\n",
    "        feature_importance_df = pd.concat([feature_importance_df, part], axis=0)\n",
    "    return feature_importance_df"
   ]
  },
  {
   "cell_type": "code",
   "execution_count": 5,
   "metadata": {
    "ExecuteTime": {
     "end_time": "2019-02-18T15:57:06.648215Z",
     "start_time": "2019-02-18T15:57:06.220078Z"
    }
   },
   "outputs": [
    {
     "name": "stdout",
     "output_type": "stream",
     "text": [
      "[info] load lgbmodel : ./models/lgb024_dart_0.pkl\n",
      "[info] load lgbmodel : ./models/lgb024_dart_1.pkl\n",
      "[info] load lgbmodel : ./models/lgb024_dart_2.pkl\n",
      "[info] load lgbmodel : ./models/lgb024_dart_3.pkl\n",
      "[info] load lgbmodel : ./models/lgb024_dart_4.pkl\n",
      "[info] load lgbmodel : ./models/lgb024_dart_5.pkl\n",
      "[info] load lgbmodel : ./models/lgb024_dart_null_0.pkl\n",
      "[info] load lgbmodel : ./models/lgb024_dart_null_1.pkl\n",
      "[info] load lgbmodel : ./models/lgb024_dart_null_2.pkl\n",
      "[info] load lgbmodel : ./models/lgb024_dart_null_3.pkl\n",
      "[info] load lgbmodel : ./models/lgb024_dart_null_4.pkl\n",
      "[info] load lgbmodel : ./models/lgb024_dart_null_5.pkl\n"
     ]
    }
   ],
   "source": [
    "nsplit = 6\n",
    "features_fn = \"./models/lgb024.csv\"\n",
    "\n",
    "fi024 = load_lgb_if(\"lgb024_dart\", nsplit, features_fn)\n",
    "fi024_null = load_lgb_if(\"lgb024_dart_null\", nsplit, features_fn)"
   ]
  },
  {
   "cell_type": "code",
   "execution_count": 6,
   "metadata": {
    "ExecuteTime": {
     "end_time": "2019-02-18T15:57:06.681804Z",
     "start_time": "2019-02-18T15:57:06.651725Z"
    }
   },
   "outputs": [],
   "source": [
    "avg_fi_cmp = pd.DataFrame()\n",
    "avg_fi_cmp[\"fi\"] = fi024.groupby(\"feature_name\").fi.mean()\n",
    "avg_fi_cmp[\"fi_null\"] = fi024_null.groupby(\"feature_name\").fi.mean()\n",
    "avg_fi_cmp[\"fi_complex\"] = (avg_fi_cmp.fi + 1) / (avg_fi_cmp.fi_null + 1)\n",
    "\n",
    "for col in avg_fi_cmp.columns:\n",
    "    avg_fi_cmp[col] = np.log1p(avg_fi_cmp[col])"
   ]
  },
  {
   "cell_type": "code",
   "execution_count": 7,
   "metadata": {
    "ExecuteTime": {
     "end_time": "2019-02-18T15:57:06.703863Z",
     "start_time": "2019-02-18T15:57:06.684315Z"
    }
   },
   "outputs": [
    {
     "data": {
      "text/html": [
       "<div>\n",
       "<style scoped>\n",
       "    .dataframe tbody tr th:only-of-type {\n",
       "        vertical-align: middle;\n",
       "    }\n",
       "\n",
       "    .dataframe tbody tr th {\n",
       "        vertical-align: top;\n",
       "    }\n",
       "\n",
       "    .dataframe thead th {\n",
       "        text-align: right;\n",
       "    }\n",
       "</style>\n",
       "<table border=\"1\" class=\"dataframe\">\n",
       "  <thead>\n",
       "    <tr style=\"text-align: right;\">\n",
       "      <th></th>\n",
       "      <th>fi</th>\n",
       "      <th>fi_null</th>\n",
       "      <th>fi_complex</th>\n",
       "    </tr>\n",
       "    <tr>\n",
       "      <th>feature_name</th>\n",
       "      <th></th>\n",
       "      <th></th>\n",
       "      <th></th>\n",
       "    </tr>\n",
       "  </thead>\n",
       "  <tbody>\n",
       "    <tr>\n",
       "      <th>ratio_4_lag-8_monthly_pmax</th>\n",
       "      <td>6.068515</td>\n",
       "      <td>0.000000</td>\n",
       "      <td>6.070827</td>\n",
       "    </tr>\n",
       "    <tr>\n",
       "      <th>subsector_id_25_new_trans</th>\n",
       "      <td>6.090227</td>\n",
       "      <td>0.000000</td>\n",
       "      <td>6.092489</td>\n",
       "    </tr>\n",
       "    <tr>\n",
       "      <th>merchant_category_id_518_hist_trans</th>\n",
       "      <td>6.141092</td>\n",
       "      <td>0.000000</td>\n",
       "      <td>6.143243</td>\n",
       "    </tr>\n",
       "    <tr>\n",
       "      <th>sum_2_lag-5_monthly_merchant_pmax</th>\n",
       "      <td>9.887139</td>\n",
       "      <td>3.700697</td>\n",
       "      <td>6.188497</td>\n",
       "    </tr>\n",
       "    <tr>\n",
       "      <th>newk_hist_amount_month_ratio_var</th>\n",
       "      <td>10.802240</td>\n",
       "      <td>4.615653</td>\n",
       "      <td>6.188641</td>\n",
       "    </tr>\n",
       "    <tr>\n",
       "      <th>merchant_category_id_511_hist_trans</th>\n",
       "      <td>10.002280</td>\n",
       "      <td>3.792428</td>\n",
       "      <td>6.211859</td>\n",
       "    </tr>\n",
       "    <tr>\n",
       "      <th>purchase_hour_15_new_trans</th>\n",
       "      <td>6.218428</td>\n",
       "      <td>0.000000</td>\n",
       "      <td>6.220418</td>\n",
       "    </tr>\n",
       "    <tr>\n",
       "      <th>newk_hist_purchase_date_uptonow</th>\n",
       "      <td>11.883630</td>\n",
       "      <td>5.660688</td>\n",
       "      <td>6.224924</td>\n",
       "    </tr>\n",
       "    <tr>\n",
       "      <th>newk_feature_2</th>\n",
       "      <td>6.227426</td>\n",
       "      <td>0.000000</td>\n",
       "      <td>6.229398</td>\n",
       "    </tr>\n",
       "    <tr>\n",
       "      <th>newk_hist_category_3_mean_mean</th>\n",
       "      <td>10.283770</td>\n",
       "      <td>4.055953</td>\n",
       "      <td>6.229789</td>\n",
       "    </tr>\n",
       "    <tr>\n",
       "      <th>state_id_10_hist_trans</th>\n",
       "      <td>6.235160</td>\n",
       "      <td>0.000000</td>\n",
       "      <td>6.237117</td>\n",
       "    </tr>\n",
       "    <tr>\n",
       "      <th>purchase_month_201802_new_trans</th>\n",
       "      <td>9.996292</td>\n",
       "      <td>3.760390</td>\n",
       "      <td>6.237858</td>\n",
       "    </tr>\n",
       "    <tr>\n",
       "      <th>newk_new_category_3_mean_mean</th>\n",
       "      <td>11.132901</td>\n",
       "      <td>4.881818</td>\n",
       "      <td>6.253009</td>\n",
       "    </tr>\n",
       "    <tr>\n",
       "      <th>ratio_4_lag1_psum</th>\n",
       "      <td>11.925098</td>\n",
       "      <td>5.669836</td>\n",
       "      <td>6.257180</td>\n",
       "    </tr>\n",
       "    <tr>\n",
       "      <th>purchase_hour_13_new_trans</th>\n",
       "      <td>6.316685</td>\n",
       "      <td>0.000000</td>\n",
       "      <td>6.318489</td>\n",
       "    </tr>\n",
       "    <tr>\n",
       "      <th>ratio_2_lag1_psum</th>\n",
       "      <td>12.014187</td>\n",
       "      <td>5.689675</td>\n",
       "      <td>6.326302</td>\n",
       "    </tr>\n",
       "    <tr>\n",
       "      <th>installments_sum_hist_trans</th>\n",
       "      <td>11.349496</td>\n",
       "      <td>5.022393</td>\n",
       "      <td>6.328889</td>\n",
       "    </tr>\n",
       "    <tr>\n",
       "      <th>subsector_id_classes_hist_trans</th>\n",
       "      <td>10.700470</td>\n",
       "      <td>4.372866</td>\n",
       "      <td>6.329389</td>\n",
       "    </tr>\n",
       "    <tr>\n",
       "      <th>category_1_N_hist_trans</th>\n",
       "      <td>11.070458</td>\n",
       "      <td>4.717312</td>\n",
       "      <td>6.354886</td>\n",
       "    </tr>\n",
       "    <tr>\n",
       "      <th>newk_new_purchase_amount_var</th>\n",
       "      <td>9.730202</td>\n",
       "      <td>3.366347</td>\n",
       "      <td>6.365576</td>\n",
       "    </tr>\n",
       "  </tbody>\n",
       "</table>\n",
       "</div>"
      ],
      "text/plain": [
       "                                            fi   fi_null  fi_complex\n",
       "feature_name                                                        \n",
       "ratio_4_lag-8_monthly_pmax            6.068515  0.000000    6.070827\n",
       "subsector_id_25_new_trans             6.090227  0.000000    6.092489\n",
       "merchant_category_id_518_hist_trans   6.141092  0.000000    6.143243\n",
       "sum_2_lag-5_monthly_merchant_pmax     9.887139  3.700697    6.188497\n",
       "newk_hist_amount_month_ratio_var     10.802240  4.615653    6.188641\n",
       "merchant_category_id_511_hist_trans  10.002280  3.792428    6.211859\n",
       "purchase_hour_15_new_trans            6.218428  0.000000    6.220418\n",
       "newk_hist_purchase_date_uptonow      11.883630  5.660688    6.224924\n",
       "newk_feature_2                        6.227426  0.000000    6.229398\n",
       "newk_hist_category_3_mean_mean       10.283770  4.055953    6.229789\n",
       "state_id_10_hist_trans                6.235160  0.000000    6.237117\n",
       "purchase_month_201802_new_trans       9.996292  3.760390    6.237858\n",
       "newk_new_category_3_mean_mean        11.132901  4.881818    6.253009\n",
       "ratio_4_lag1_psum                    11.925098  5.669836    6.257180\n",
       "purchase_hour_13_new_trans            6.316685  0.000000    6.318489\n",
       "ratio_2_lag1_psum                    12.014187  5.689675    6.326302\n",
       "installments_sum_hist_trans          11.349496  5.022393    6.328889\n",
       "subsector_id_classes_hist_trans      10.700470  4.372866    6.329389\n",
       "category_1_N_hist_trans              11.070458  4.717312    6.354886\n",
       "newk_new_purchase_amount_var          9.730202  3.366347    6.365576"
      ]
     },
     "execution_count": 7,
     "metadata": {},
     "output_type": "execute_result"
    }
   ],
   "source": [
    "avg_fi_cmp.sort_values(\"fi_complex\").tail(150).head(20)"
   ]
  },
  {
   "cell_type": "code",
   "execution_count": 8,
   "metadata": {
    "ExecuteTime": {
     "end_time": "2019-02-18T15:57:07.034245Z",
     "start_time": "2019-02-18T15:57:06.706371Z"
    }
   },
   "outputs": [
    {
     "data": {
      "text/plain": [
       "<matplotlib.axes._subplots.AxesSubplot at 0x1a2921497b8>"
      ]
     },
     "execution_count": 8,
     "metadata": {},
     "output_type": "execute_result"
    },
    {
     "data": {
      "image/png": "[encoded data removed]",
      "text/plain": [
       "<Figure size 432x288 with 1 Axes>"
      ]
     },
     "metadata": {
      "needs_background": "light"
     },
     "output_type": "display_data"
    }
   ],
   "source": [
    "avg_fi_cmp.fi.hist(bins=50)"
   ]
  },
  {
   "cell_type": "code",
   "execution_count": 9,
   "metadata": {
    "ExecuteTime": {
     "end_time": "2019-02-18T15:57:07.336045Z",
     "start_time": "2019-02-18T15:57:07.037250Z"
    }
   },
   "outputs": [
    {
     "data": {
      "text/plain": [
       "<matplotlib.axes._subplots.AxesSubplot at 0x1a29250e4a8>"
      ]
     },
     "execution_count": 9,
     "metadata": {},
     "output_type": "execute_result"
    },
    {
     "data": {
      "image/png": "[encoded data removed]",
      "text/plain": [
       "<Figure size 432x288 with 1 Axes>"
      ]
     },
     "metadata": {
      "needs_background": "light"
     },
     "output_type": "display_data"
    }
   ],
   "source": [
    "avg_fi_cmp.fi_null.hist(bins=50)"
   ]
  },
  {
   "cell_type": "code",
   "execution_count": 10,
   "metadata": {
    "ExecuteTime": {
     "end_time": "2019-02-18T15:57:07.640355Z",
     "start_time": "2019-02-18T15:57:07.339084Z"
    }
   },
   "outputs": [
    {
     "data": {
      "text/plain": [
       "<matplotlib.axes._subplots.AxesSubplot at 0x1a2925da7f0>"
      ]
     },
     "execution_count": 10,
     "metadata": {},
     "output_type": "execute_result"
    },
    {
     "data": {
      "image/png": "[encoded data removed]",
      "text/plain": [
       "<Figure size 432x288 with 1 Axes>"
      ]
     },
     "metadata": {
      "needs_background": "light"
     },
     "output_type": "display_data"
    }
   ],
   "source": [
    "avg_fi_cmp.fi_complex.hist(bins=50)"
   ]
  },
  {
   "cell_type": "code",
   "execution_count": 11,
   "metadata": {
    "ExecuteTime": {
     "end_time": "2019-02-18T15:57:08.099074Z",
     "start_time": "2019-02-18T15:57:07.643362Z"
    }
   },
   "outputs": [],
   "source": [
    "avg_fi_cmp[avg_fi_cmp.fi_complex > 2].to_csv(\"./models/lgb025.csv\")"
   ]
  },
  {
   "cell_type": "code",
   "execution_count": 17,
   "metadata": {
    "ExecuteTime": {
     "end_time": "2019-02-18T16:00:21.749288Z",
     "start_time": "2019-02-18T16:00:21.736772Z"
    }
   },
   "outputs": [
    {
     "data": {
      "text/html": [
       "<div>\n",
       "<style scoped>\n",
       "    .dataframe tbody tr th:only-of-type {\n",
       "        vertical-align: middle;\n",
       "    }\n",
       "\n",
       "    .dataframe tbody tr th {\n",
       "        vertical-align: top;\n",
       "    }\n",
       "\n",
       "    .dataframe thead th {\n",
       "        text-align: right;\n",
       "    }\n",
       "</style>\n",
       "<table border=\"1\" class=\"dataframe\">\n",
       "  <thead>\n",
       "    <tr style=\"text-align: right;\">\n",
       "      <th></th>\n",
       "      <th>feature_name</th>\n",
       "      <th>fi</th>\n",
       "      <th>fi_null</th>\n",
       "      <th>fi_complex</th>\n",
       "    </tr>\n",
       "  </thead>\n",
       "  <tbody>\n",
       "  </tbody>\n",
       "</table>\n",
       "</div>"
      ],
      "text/plain": [
       "Empty DataFrame\n",
       "Columns: [feature_name, fi, fi_null, fi_complex]\n",
       "Index: []"
      ]
     },
     "execution_count": 17,
     "metadata": {},
     "output_type": "execute_result"
    }
   ],
   "source": [
    "avg_fi_cmp = avg_fi_cmp.reset_index()\n",
    "avg_fi_cmp[avg_fi_cmp.feature_name.apply(lambda x: x.endswith(\"abs\"))].sort_values(\"fi_complex\")"
   ]
  },
  {
   "cell_type": "code",
   "execution_count": 16,
   "metadata": {
    "ExecuteTime": {
     "end_time": "2019-02-18T15:59:07.513992Z",
     "start_time": "2019-02-18T15:59:07.494445Z"
    },
    "scrolled": false
   },
   "outputs": [
    {
     "data": {
      "text/html": [
       "<div>\n",
       "<style scoped>\n",
       "    .dataframe tbody tr th:only-of-type {\n",
       "        vertical-align: middle;\n",
       "    }\n",
       "\n",
       "    .dataframe tbody tr th {\n",
       "        vertical-align: top;\n",
       "    }\n",
       "\n",
       "    .dataframe thead th {\n",
       "        text-align: right;\n",
       "    }\n",
       "</style>\n",
       "<table border=\"1\" class=\"dataframe\">\n",
       "  <thead>\n",
       "    <tr style=\"text-align: right;\">\n",
       "      <th></th>\n",
       "      <th>fi</th>\n",
       "      <th>fi_null</th>\n",
       "      <th>fi_complex</th>\n",
       "    </tr>\n",
       "    <tr>\n",
       "      <th>feature_name</th>\n",
       "      <th></th>\n",
       "      <th></th>\n",
       "      <th></th>\n",
       "    </tr>\n",
       "  </thead>\n",
       "  <tbody>\n",
       "    <tr>\n",
       "      <th>sum_3_lag-10_monthly_merchant_avg_std</th>\n",
       "      <td>6.724606</td>\n",
       "      <td>0.000000</td>\n",
       "      <td>6.725806</td>\n",
       "    </tr>\n",
       "    <tr>\n",
       "      <th>merchant_category_id_703_hist_trans</th>\n",
       "      <td>6.724955</td>\n",
       "      <td>0.000000</td>\n",
       "      <td>6.726155</td>\n",
       "    </tr>\n",
       "    <tr>\n",
       "      <th>newk_new_month_lag_mean</th>\n",
       "      <td>12.548647</td>\n",
       "      <td>5.785717</td>\n",
       "      <td>6.764085</td>\n",
       "    </tr>\n",
       "    <tr>\n",
       "      <th>month_lag_-12_hist_trans</th>\n",
       "      <td>6.791892</td>\n",
       "      <td>0.000000</td>\n",
       "      <td>6.793014</td>\n",
       "    </tr>\n",
       "    <tr>\n",
       "      <th>newk_new_installments_max</th>\n",
       "      <td>6.793050</td>\n",
       "      <td>0.000000</td>\n",
       "      <td>6.794170</td>\n",
       "    </tr>\n",
       "    <tr>\n",
       "      <th>sum_4_lag-2_monthly_pmax</th>\n",
       "      <td>10.849602</td>\n",
       "      <td>4.050187</td>\n",
       "      <td>6.800529</td>\n",
       "    </tr>\n",
       "    <tr>\n",
       "      <th>newk_new_purchase_date_diff</th>\n",
       "      <td>13.035421</td>\n",
       "      <td>6.234161</td>\n",
       "      <td>6.802371</td>\n",
       "    </tr>\n",
       "    <tr>\n",
       "      <th>installments_max_new_trans</th>\n",
       "      <td>6.873908</td>\n",
       "      <td>0.000000</td>\n",
       "      <td>6.874942</td>\n",
       "    </tr>\n",
       "    <tr>\n",
       "      <th>newk_new_weekofyear_max</th>\n",
       "      <td>11.156920</td>\n",
       "      <td>4.262870</td>\n",
       "      <td>6.895064</td>\n",
       "    </tr>\n",
       "    <tr>\n",
       "      <th>merchant_category_id_309_hist_trans</th>\n",
       "      <td>6.900946</td>\n",
       "      <td>0.000000</td>\n",
       "      <td>6.901952</td>\n",
       "    </tr>\n",
       "    <tr>\n",
       "      <th>subsector_id_21_new_trans</th>\n",
       "      <td>6.933554</td>\n",
       "      <td>0.000000</td>\n",
       "      <td>6.934528</td>\n",
       "    </tr>\n",
       "    <tr>\n",
       "      <th>merchant_category_id_360_hist_trans</th>\n",
       "      <td>6.947373</td>\n",
       "      <td>0.000000</td>\n",
       "      <td>6.948334</td>\n",
       "    </tr>\n",
       "    <tr>\n",
       "      <th>merchant_category_id_879_new_trans</th>\n",
       "      <td>6.953450</td>\n",
       "      <td>0.000000</td>\n",
       "      <td>6.954405</td>\n",
       "    </tr>\n",
       "    <tr>\n",
       "      <th>subsector_id_35_hist_trans</th>\n",
       "      <td>7.001851</td>\n",
       "      <td>0.000000</td>\n",
       "      <td>7.002760</td>\n",
       "    </tr>\n",
       "    <tr>\n",
       "      <th>merchant_category_id_222_hist_trans</th>\n",
       "      <td>7.024872</td>\n",
       "      <td>0.000000</td>\n",
       "      <td>7.025761</td>\n",
       "    </tr>\n",
       "    <tr>\n",
       "      <th>category_1_Y_new_trans</th>\n",
       "      <td>10.976623</td>\n",
       "      <td>3.932636</td>\n",
       "      <td>7.044859</td>\n",
       "    </tr>\n",
       "    <tr>\n",
       "      <th>merchant_category_id_307_new_trans</th>\n",
       "      <td>7.062522</td>\n",
       "      <td>0.000000</td>\n",
       "      <td>7.063379</td>\n",
       "    </tr>\n",
       "    <tr>\n",
       "      <th>newk_new_purchase_amount_max</th>\n",
       "      <td>11.436366</td>\n",
       "      <td>4.371901</td>\n",
       "      <td>7.065320</td>\n",
       "    </tr>\n",
       "    <tr>\n",
       "      <th>newk_hist_duration_min</th>\n",
       "      <td>14.278042</td>\n",
       "      <td>7.210074</td>\n",
       "      <td>7.068819</td>\n",
       "    </tr>\n",
       "    <tr>\n",
       "      <th>purchase_month_201804_new_trans</th>\n",
       "      <td>7.095351</td>\n",
       "      <td>0.000000</td>\n",
       "      <td>7.096180</td>\n",
       "    </tr>\n",
       "    <tr>\n",
       "      <th>purchase_month_min_hist_trans</th>\n",
       "      <td>7.117193</td>\n",
       "      <td>0.000000</td>\n",
       "      <td>7.118004</td>\n",
       "    </tr>\n",
       "    <tr>\n",
       "      <th>merchant_category_id_842_hist_trans</th>\n",
       "      <td>7.148863</td>\n",
       "      <td>0.000000</td>\n",
       "      <td>7.149648</td>\n",
       "    </tr>\n",
       "    <tr>\n",
       "      <th>category_3_classes_hist_trans</th>\n",
       "      <td>7.175510</td>\n",
       "      <td>0.000000</td>\n",
       "      <td>7.176275</td>\n",
       "    </tr>\n",
       "    <tr>\n",
       "      <th>newk_new_category_1_mean</th>\n",
       "      <td>12.327965</td>\n",
       "      <td>5.029000</td>\n",
       "      <td>7.299641</td>\n",
       "    </tr>\n",
       "    <tr>\n",
       "      <th>newk_new_duration_max</th>\n",
       "      <td>12.142162</td>\n",
       "      <td>4.820503</td>\n",
       "      <td>7.322319</td>\n",
       "    </tr>\n",
       "    <tr>\n",
       "      <th>merchant_category_id_130_hist_trans</th>\n",
       "      <td>7.351677</td>\n",
       "      <td>0.000000</td>\n",
       "      <td>7.352318</td>\n",
       "    </tr>\n",
       "    <tr>\n",
       "      <th>newk_hist_month_min</th>\n",
       "      <td>7.432293</td>\n",
       "      <td>0.000000</td>\n",
       "      <td>7.432885</td>\n",
       "    </tr>\n",
       "    <tr>\n",
       "      <th>city_id_283_hist_trans</th>\n",
       "      <td>7.455797</td>\n",
       "      <td>0.000000</td>\n",
       "      <td>7.456374</td>\n",
       "    </tr>\n",
       "    <tr>\n",
       "      <th>merchant_category_id_839_hist_trans</th>\n",
       "      <td>7.464407</td>\n",
       "      <td>0.000000</td>\n",
       "      <td>7.464980</td>\n",
       "    </tr>\n",
       "    <tr>\n",
       "      <th>newk_new_amount_month_ratio_max</th>\n",
       "      <td>13.008071</td>\n",
       "      <td>5.529171</td>\n",
       "      <td>7.479464</td>\n",
       "    </tr>\n",
       "    <tr>\n",
       "      <th>...</th>\n",
       "      <td>...</td>\n",
       "      <td>...</td>\n",
       "      <td>...</td>\n",
       "    </tr>\n",
       "    <tr>\n",
       "      <th>newk_new_month_min</th>\n",
       "      <td>9.055453</td>\n",
       "      <td>0.000000</td>\n",
       "      <td>9.055570</td>\n",
       "    </tr>\n",
       "    <tr>\n",
       "      <th>category_3_B_new_trans</th>\n",
       "      <td>9.058986</td>\n",
       "      <td>0.000000</td>\n",
       "      <td>9.059103</td>\n",
       "    </tr>\n",
       "    <tr>\n",
       "      <th>city_id_classes_hist_trans</th>\n",
       "      <td>9.093652</td>\n",
       "      <td>0.000000</td>\n",
       "      <td>9.093764</td>\n",
       "    </tr>\n",
       "    <tr>\n",
       "      <th>ratio_1_lag-8_monthly_merchant_pmax</th>\n",
       "      <td>9.095276</td>\n",
       "      <td>0.000000</td>\n",
       "      <td>9.095389</td>\n",
       "    </tr>\n",
       "    <tr>\n",
       "      <th>category_1_Y_hist_trans</th>\n",
       "      <td>14.176615</td>\n",
       "      <td>5.006093</td>\n",
       "      <td>9.170626</td>\n",
       "    </tr>\n",
       "    <tr>\n",
       "      <th>newk_hist_day_nunique</th>\n",
       "      <td>9.254701</td>\n",
       "      <td>0.000000</td>\n",
       "      <td>9.254796</td>\n",
       "    </tr>\n",
       "    <tr>\n",
       "      <th>feature_1</th>\n",
       "      <td>9.310776</td>\n",
       "      <td>0.000000</td>\n",
       "      <td>9.310867</td>\n",
       "    </tr>\n",
       "    <tr>\n",
       "      <th>month_lag_max_new_trans</th>\n",
       "      <td>9.414201</td>\n",
       "      <td>0.000000</td>\n",
       "      <td>9.414283</td>\n",
       "    </tr>\n",
       "    <tr>\n",
       "      <th>purchase_month_min_new_trans</th>\n",
       "      <td>9.448719</td>\n",
       "      <td>0.000000</td>\n",
       "      <td>9.448798</td>\n",
       "    </tr>\n",
       "    <tr>\n",
       "      <th>month_lag_-4_hist_trans</th>\n",
       "      <td>9.451325</td>\n",
       "      <td>0.000000</td>\n",
       "      <td>9.451403</td>\n",
       "    </tr>\n",
       "    <tr>\n",
       "      <th>newk_new_Black_Friday_2017_mean</th>\n",
       "      <td>9.608481</td>\n",
       "      <td>0.000000</td>\n",
       "      <td>9.608548</td>\n",
       "    </tr>\n",
       "    <tr>\n",
       "      <th>newk_new_weekofyear_nunique</th>\n",
       "      <td>9.612398</td>\n",
       "      <td>0.000000</td>\n",
       "      <td>9.612465</td>\n",
       "    </tr>\n",
       "    <tr>\n",
       "      <th>purchase_hour_5_hist_trans</th>\n",
       "      <td>9.656386</td>\n",
       "      <td>0.000000</td>\n",
       "      <td>9.656450</td>\n",
       "    </tr>\n",
       "    <tr>\n",
       "      <th>installments_0_new_trans</th>\n",
       "      <td>9.690522</td>\n",
       "      <td>0.000000</td>\n",
       "      <td>9.690584</td>\n",
       "    </tr>\n",
       "    <tr>\n",
       "      <th>purchase_month_max_hist_trans</th>\n",
       "      <td>9.724701</td>\n",
       "      <td>0.000000</td>\n",
       "      <td>9.724761</td>\n",
       "    </tr>\n",
       "    <tr>\n",
       "      <th>sum_2_lag-5_psum</th>\n",
       "      <td>9.834182</td>\n",
       "      <td>0.000000</td>\n",
       "      <td>9.834236</td>\n",
       "    </tr>\n",
       "    <tr>\n",
       "      <th>newk_new_month_max</th>\n",
       "      <td>9.858798</td>\n",
       "      <td>0.000000</td>\n",
       "      <td>9.858850</td>\n",
       "    </tr>\n",
       "    <tr>\n",
       "      <th>purchase_month_201710_new_trans</th>\n",
       "      <td>9.886181</td>\n",
       "      <td>0.000000</td>\n",
       "      <td>9.886231</td>\n",
       "    </tr>\n",
       "    <tr>\n",
       "      <th>newk_new_installments_mean</th>\n",
       "      <td>9.941865</td>\n",
       "      <td>0.000000</td>\n",
       "      <td>9.941913</td>\n",
       "    </tr>\n",
       "    <tr>\n",
       "      <th>subsector_id_22_hist_trans</th>\n",
       "      <td>9.994942</td>\n",
       "      <td>0.000000</td>\n",
       "      <td>9.994988</td>\n",
       "    </tr>\n",
       "    <tr>\n",
       "      <th>newk_new_Christmas_Day_2017_mean</th>\n",
       "      <td>10.053604</td>\n",
       "      <td>0.000000</td>\n",
       "      <td>10.053647</td>\n",
       "    </tr>\n",
       "    <tr>\n",
       "      <th>purchase_month_201712_new_trans</th>\n",
       "      <td>10.587464</td>\n",
       "      <td>0.000000</td>\n",
       "      <td>10.587489</td>\n",
       "    </tr>\n",
       "    <tr>\n",
       "      <th>newk_hist_month_nunique</th>\n",
       "      <td>11.009282</td>\n",
       "      <td>0.000000</td>\n",
       "      <td>11.009299</td>\n",
       "    </tr>\n",
       "    <tr>\n",
       "      <th>category_3_A_new_trans</th>\n",
       "      <td>11.010074</td>\n",
       "      <td>0.000000</td>\n",
       "      <td>11.010090</td>\n",
       "    </tr>\n",
       "    <tr>\n",
       "      <th>purchase_month_classes_hist_trans</th>\n",
       "      <td>11.188337</td>\n",
       "      <td>0.000000</td>\n",
       "      <td>11.188351</td>\n",
       "    </tr>\n",
       "    <tr>\n",
       "      <th>merchant_category_id_755_hist_trans</th>\n",
       "      <td>11.801567</td>\n",
       "      <td>0.000000</td>\n",
       "      <td>11.801574</td>\n",
       "    </tr>\n",
       "    <tr>\n",
       "      <th>newk_hist_month_diff_max</th>\n",
       "      <td>12.368925</td>\n",
       "      <td>0.000000</td>\n",
       "      <td>12.368929</td>\n",
       "    </tr>\n",
       "    <tr>\n",
       "      <th>month_lag_classes_hist_trans</th>\n",
       "      <td>12.542416</td>\n",
       "      <td>0.000000</td>\n",
       "      <td>12.542419</td>\n",
       "    </tr>\n",
       "    <tr>\n",
       "      <th>newk_hist_month_diff_min</th>\n",
       "      <td>12.807233</td>\n",
       "      <td>0.000000</td>\n",
       "      <td>12.807236</td>\n",
       "    </tr>\n",
       "    <tr>\n",
       "      <th>month_lag_main_merchant_count</th>\n",
       "      <td>13.386255</td>\n",
       "      <td>0.000000</td>\n",
       "      <td>13.386257</td>\n",
       "    </tr>\n",
       "  </tbody>\n",
       "</table>\n",
       "<p>100 rows × 3 columns</p>\n",
       "</div>"
      ],
      "text/plain": [
       "                                              fi   fi_null  fi_complex\n",
       "feature_name                                                          \n",
       "sum_3_lag-10_monthly_merchant_avg_std   6.724606  0.000000    6.725806\n",
       "merchant_category_id_703_hist_trans     6.724955  0.000000    6.726155\n",
       "newk_new_month_lag_mean                12.548647  5.785717    6.764085\n",
       "month_lag_-12_hist_trans                6.791892  0.000000    6.793014\n",
       "newk_new_installments_max               6.793050  0.000000    6.794170\n",
       "sum_4_lag-2_monthly_pmax               10.849602  4.050187    6.800529\n",
       "newk_new_purchase_date_diff            13.035421  6.234161    6.802371\n",
       "installments_max_new_trans              6.873908  0.000000    6.874942\n",
       "newk_new_weekofyear_max                11.156920  4.262870    6.895064\n",
       "merchant_category_id_309_hist_trans     6.900946  0.000000    6.901952\n",
       "subsector_id_21_new_trans               6.933554  0.000000    6.934528\n",
       "merchant_category_id_360_hist_trans     6.947373  0.000000    6.948334\n",
       "merchant_category_id_879_new_trans      6.953450  0.000000    6.954405\n",
       "subsector_id_35_hist_trans              7.001851  0.000000    7.002760\n",
       "merchant_category_id_222_hist_trans     7.024872  0.000000    7.025761\n",
       "category_1_Y_new_trans                 10.976623  3.932636    7.044859\n",
       "merchant_category_id_307_new_trans      7.062522  0.000000    7.063379\n",
       "newk_new_purchase_amount_max           11.436366  4.371901    7.065320\n",
       "newk_hist_duration_min                 14.278042  7.210074    7.068819\n",
       "purchase_month_201804_new_trans         7.095351  0.000000    7.096180\n",
       "purchase_month_min_hist_trans           7.117193  0.000000    7.118004\n",
       "merchant_category_id_842_hist_trans     7.148863  0.000000    7.149648\n",
       "category_3_classes_hist_trans           7.175510  0.000000    7.176275\n",
       "newk_new_category_1_mean               12.327965  5.029000    7.299641\n",
       "newk_new_duration_max                  12.142162  4.820503    7.322319\n",
       "merchant_category_id_130_hist_trans     7.351677  0.000000    7.352318\n",
       "newk_hist_month_min                     7.432293  0.000000    7.432885\n",
       "city_id_283_hist_trans                  7.455797  0.000000    7.456374\n",
       "merchant_category_id_839_hist_trans     7.464407  0.000000    7.464980\n",
       "newk_new_amount_month_ratio_max        13.008071  5.529171    7.479464\n",
       "...                                          ...       ...         ...\n",
       "newk_new_month_min                      9.055453  0.000000    9.055570\n",
       "category_3_B_new_trans                  9.058986  0.000000    9.059103\n",
       "city_id_classes_hist_trans              9.093652  0.000000    9.093764\n",
       "ratio_1_lag-8_monthly_merchant_pmax     9.095276  0.000000    9.095389\n",
       "category_1_Y_hist_trans                14.176615  5.006093    9.170626\n",
       "newk_hist_day_nunique                   9.254701  0.000000    9.254796\n",
       "feature_1                               9.310776  0.000000    9.310867\n",
       "month_lag_max_new_trans                 9.414201  0.000000    9.414283\n",
       "purchase_month_min_new_trans            9.448719  0.000000    9.448798\n",
       "month_lag_-4_hist_trans                 9.451325  0.000000    9.451403\n",
       "newk_new_Black_Friday_2017_mean         9.608481  0.000000    9.608548\n",
       "newk_new_weekofyear_nunique             9.612398  0.000000    9.612465\n",
       "purchase_hour_5_hist_trans              9.656386  0.000000    9.656450\n",
       "installments_0_new_trans                9.690522  0.000000    9.690584\n",
       "purchase_month_max_hist_trans           9.724701  0.000000    9.724761\n",
       "sum_2_lag-5_psum                        9.834182  0.000000    9.834236\n",
       "newk_new_month_max                      9.858798  0.000000    9.858850\n",
       "purchase_month_201710_new_trans         9.886181  0.000000    9.886231\n",
       "newk_new_installments_mean              9.941865  0.000000    9.941913\n",
       "subsector_id_22_hist_trans              9.994942  0.000000    9.994988\n",
       "newk_new_Christmas_Day_2017_mean       10.053604  0.000000   10.053647\n",
       "purchase_month_201712_new_trans        10.587464  0.000000   10.587489\n",
       "newk_hist_month_nunique                11.009282  0.000000   11.009299\n",
       "category_3_A_new_trans                 11.010074  0.000000   11.010090\n",
       "purchase_month_classes_hist_trans      11.188337  0.000000   11.188351\n",
       "merchant_category_id_755_hist_trans    11.801567  0.000000   11.801574\n",
       "newk_hist_month_diff_max               12.368925  0.000000   12.368929\n",
       "month_lag_classes_hist_trans           12.542416  0.000000   12.542419\n",
       "newk_hist_month_diff_min               12.807233  0.000000   12.807236\n",
       "month_lag_main_merchant_count          13.386255  0.000000   13.386257\n",
       "\n",
       "[100 rows x 3 columns]"
      ]
     },
     "execution_count": 16,
     "metadata": {},
     "output_type": "execute_result"
    }
   ],
   "source": [
    "avg_fi_cmp.sort_values(\"fi_complex\").tail(100)"
   ]
  }
 ],
 "metadata": {
  "kernelspec": {
   "display_name": "Python 3",
   "language": "python",
   "name": "python3"
  },
  "language_info": {
   "codemirror_mode": {
    "name": "ipython",
    "version": 3
   },
   "file_extension": ".py",
   "mimetype": "text/x-python",
   "name": "python",
   "nbconvert_exporter": "python",
   "pygments_lexer": "ipython3",
   "version": "3.6.6"
  },
  "toc": {
   "base_numbering": 1,
   "nav_menu": {},
   "number_sections": true,
   "sideBar": true,
   "skip_h1_title": false,
   "title_cell": "Table of Contents",
   "title_sidebar": "Contents",
   "toc_cell": false,
   "toc_position": {},
   "toc_section_display": true,
   "toc_window_display": false
  },
  "varInspector": {
   "cols": {
    "lenName": 16,
    "lenType": 16,
    "lenVar": 40
   },
   "kernels_config": {
    "python": {
     "delete_cmd_postfix": "",
     "delete_cmd_prefix": "del ",
     "library": "var_list.py",
     "varRefreshCmd": "print(var_dic_list())"
    },
    "r": {
     "delete_cmd_postfix": ") ",
     "delete_cmd_prefix": "rm(",
     "library": "var_list.r",
     "varRefreshCmd": "cat(var_dic_list()) "
    }
   },
   "types_to_exclude": [
    "module",
    "function",
    "builtin_function_or_method",
    "instance",
    "_Feature"
   ],
   "window_display": false
  }
 },
 "nbformat": 4,
 "nbformat_minor": 2
}
