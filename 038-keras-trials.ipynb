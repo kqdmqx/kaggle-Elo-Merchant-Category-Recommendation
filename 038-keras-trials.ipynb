{
 "cells": [
  {
   "cell_type": "code",
   "execution_count": 1,
   "metadata": {
    "ExecuteTime": {
     "end_time": "2019-02-25T10:05:32.740355Z",
     "start_time": "2019-02-25T10:05:26.715284Z"
    }
   },
   "outputs": [
    {
     "name": "stderr",
     "output_type": "stream",
     "text": [
      "Using TensorFlow backend.\n"
     ]
    }
   ],
   "source": [
    "import addict\n",
    "import numpy as np\n",
    "from utils import save_obj, load_obj\n",
    "from my_logger import Timer, print_info\n",
    "from sklearn.metrics import mean_squared_error\n",
    "from keras.preprocessing.text import Tokenizer\n",
    "from keras.preprocessing.sequence import pad_sequences\n",
    "from keras.layers import Dense, Input, CuDNNLSTM, Embedding, Dropout, Activation, CuDNNGRU, Conv1D, BatchNormalization\n",
    "from keras.layers import Bidirectional, GlobalMaxPool1D, Conv2D, GlobalAveragePooling2D, Reshape, Multiply, Lambda\n",
    "from keras.models import Model\n",
    "from keras.models import load_model as load_model_keras\n",
    "from keras import initializers, regularizers, constraints, optimizers, layers\n",
    "from keras.optimizers import Adam\n",
    "from keras.callbacks import EarlyStopping, ModelCheckpoint, ReduceLROnPlateau, CSVLogger\n",
    "from sklearn.preprocessing import StandardScaler\n",
    "import time"
   ]
  },
  {
   "cell_type": "code",
   "execution_count": 2,
   "metadata": {
    "ExecuteTime": {
     "end_time": "2019-02-25T10:05:32.748384Z",
     "start_time": "2019-02-25T10:05:32.742334Z"
    }
   },
   "outputs": [],
   "source": [
    "from data_io import load_train\n",
    "from data_io import features_downcast\n",
    "from downcast import load_dataframe32"
   ]
  },
  {
   "cell_type": "markdown",
   "metadata": {},
   "source": [
    "# load data"
   ]
  },
  {
   "cell_type": "code",
   "execution_count": 3,
   "metadata": {
    "ExecuteTime": {
     "end_time": "2019-02-25T10:05:33.678824Z",
     "start_time": "2019-02-25T10:05:32.750355Z"
    }
   },
   "outputs": [],
   "source": [
    "main_m_code16 = load_dataframe32(features_downcast(\"main_m_code16\"))\n",
    "main_m_value16 = load_dataframe32(features_downcast(\"main_m_value16\"))\n",
    "topk_m_code150 = load_dataframe32(features_downcast(\"topk_m_code150\"))\n",
    "topk_m_value150 = load_dataframe32(features_downcast(\"topk_m_value150\"))"
   ]
  },
  {
   "cell_type": "code",
   "execution_count": 4,
   "metadata": {
    "ExecuteTime": {
     "end_time": "2019-02-25T10:05:33.725948Z",
     "start_time": "2019-02-25T10:05:33.680830Z"
    }
   },
   "outputs": [
    {
     "data": {
      "text/html": [
       "<div>\n",
       "<style scoped>\n",
       "    .dataframe tbody tr th:only-of-type {\n",
       "        vertical-align: middle;\n",
       "    }\n",
       "\n",
       "    .dataframe tbody tr th {\n",
       "        vertical-align: top;\n",
       "    }\n",
       "\n",
       "    .dataframe thead th {\n",
       "        text-align: right;\n",
       "    }\n",
       "</style>\n",
       "<table border=\"1\" class=\"dataframe\">\n",
       "  <thead>\n",
       "    <tr style=\"text-align: right;\">\n",
       "      <th></th>\n",
       "      <th>0</th>\n",
       "      <th>1</th>\n",
       "      <th>2</th>\n",
       "      <th>3</th>\n",
       "      <th>4</th>\n",
       "    </tr>\n",
       "  </thead>\n",
       "  <tbody>\n",
       "    <tr>\n",
       "      <th>main_m_lag12</th>\n",
       "      <td>193598</td>\n",
       "      <td>13012</td>\n",
       "      <td>232546</td>\n",
       "      <td>0</td>\n",
       "      <td>18933</td>\n",
       "    </tr>\n",
       "    <tr>\n",
       "      <th>main_m_lag13</th>\n",
       "      <td>173571</td>\n",
       "      <td>273815</td>\n",
       "      <td>232546</td>\n",
       "      <td>0</td>\n",
       "      <td>148211</td>\n",
       "    </tr>\n",
       "    <tr>\n",
       "      <th>main_m_lag14</th>\n",
       "      <td>0</td>\n",
       "      <td>216501</td>\n",
       "      <td>224019</td>\n",
       "      <td>0</td>\n",
       "      <td>90518</td>\n",
       "    </tr>\n",
       "    <tr>\n",
       "      <th>main_m_lag15</th>\n",
       "      <td>855</td>\n",
       "      <td>200595</td>\n",
       "      <td>0</td>\n",
       "      <td>0</td>\n",
       "      <td>78198</td>\n",
       "    </tr>\n",
       "    <tr>\n",
       "      <th>card_id</th>\n",
       "      <td>C_ID_00007093c1</td>\n",
       "      <td>C_ID_0001238066</td>\n",
       "      <td>C_ID_0001506ef0</td>\n",
       "      <td>C_ID_0001793786</td>\n",
       "      <td>C_ID_000183fdda</td>\n",
       "    </tr>\n",
       "  </tbody>\n",
       "</table>\n",
       "</div>"
      ],
      "text/plain": [
       "                            0                1                2  \\\n",
       "main_m_lag12           193598            13012           232546   \n",
       "main_m_lag13           173571           273815           232546   \n",
       "main_m_lag14                0           216501           224019   \n",
       "main_m_lag15              855           200595                0   \n",
       "card_id       C_ID_00007093c1  C_ID_0001238066  C_ID_0001506ef0   \n",
       "\n",
       "                            3                4  \n",
       "main_m_lag12                0            18933  \n",
       "main_m_lag13                0           148211  \n",
       "main_m_lag14                0            90518  \n",
       "main_m_lag15                0            78198  \n",
       "card_id       C_ID_0001793786  C_ID_000183fdda  "
      ]
     },
     "execution_count": 4,
     "metadata": {},
     "output_type": "execute_result"
    }
   ],
   "source": [
    "main_m_code16.head().T.tail()"
   ]
  },
  {
   "cell_type": "code",
   "execution_count": 5,
   "metadata": {
    "ExecuteTime": {
     "end_time": "2019-02-25T10:05:33.742994Z",
     "start_time": "2019-02-25T10:05:33.727953Z"
    }
   },
   "outputs": [
    {
     "data": {
      "text/html": [
       "<div>\n",
       "<style scoped>\n",
       "    .dataframe tbody tr th:only-of-type {\n",
       "        vertical-align: middle;\n",
       "    }\n",
       "\n",
       "    .dataframe tbody tr th {\n",
       "        vertical-align: top;\n",
       "    }\n",
       "\n",
       "    .dataframe thead th {\n",
       "        text-align: right;\n",
       "    }\n",
       "</style>\n",
       "<table border=\"1\" class=\"dataframe\">\n",
       "  <thead>\n",
       "    <tr style=\"text-align: right;\">\n",
       "      <th></th>\n",
       "      <th>0</th>\n",
       "      <th>1</th>\n",
       "      <th>2</th>\n",
       "      <th>3</th>\n",
       "      <th>4</th>\n",
       "    </tr>\n",
       "  </thead>\n",
       "  <tbody>\n",
       "    <tr>\n",
       "      <th>main_m_lag12</th>\n",
       "      <td>430</td>\n",
       "      <td>1008.22</td>\n",
       "      <td>1100</td>\n",
       "      <td>0</td>\n",
       "      <td>2337</td>\n",
       "    </tr>\n",
       "    <tr>\n",
       "      <th>main_m_lag13</th>\n",
       "      <td>500</td>\n",
       "      <td>771.83</td>\n",
       "      <td>1491</td>\n",
       "      <td>0</td>\n",
       "      <td>1374.93</td>\n",
       "    </tr>\n",
       "    <tr>\n",
       "      <th>main_m_lag14</th>\n",
       "      <td>0</td>\n",
       "      <td>444.94</td>\n",
       "      <td>9.92</td>\n",
       "      <td>0</td>\n",
       "      <td>191.2</td>\n",
       "    </tr>\n",
       "    <tr>\n",
       "      <th>main_m_lag15</th>\n",
       "      <td>60</td>\n",
       "      <td>250</td>\n",
       "      <td>0</td>\n",
       "      <td>0</td>\n",
       "      <td>425.4</td>\n",
       "    </tr>\n",
       "    <tr>\n",
       "      <th>card_id</th>\n",
       "      <td>C_ID_00007093c1</td>\n",
       "      <td>C_ID_0001238066</td>\n",
       "      <td>C_ID_0001506ef0</td>\n",
       "      <td>C_ID_0001793786</td>\n",
       "      <td>C_ID_000183fdda</td>\n",
       "    </tr>\n",
       "  </tbody>\n",
       "</table>\n",
       "</div>"
      ],
      "text/plain": [
       "                            0                1                2  \\\n",
       "main_m_lag12              430          1008.22             1100   \n",
       "main_m_lag13              500           771.83             1491   \n",
       "main_m_lag14                0           444.94             9.92   \n",
       "main_m_lag15               60              250                0   \n",
       "card_id       C_ID_00007093c1  C_ID_0001238066  C_ID_0001506ef0   \n",
       "\n",
       "                            3                4  \n",
       "main_m_lag12                0             2337  \n",
       "main_m_lag13                0          1374.93  \n",
       "main_m_lag14                0            191.2  \n",
       "main_m_lag15                0            425.4  \n",
       "card_id       C_ID_0001793786  C_ID_000183fdda  "
      ]
     },
     "execution_count": 5,
     "metadata": {},
     "output_type": "execute_result"
    }
   ],
   "source": [
    "main_m_value16.head().T.tail()"
   ]
  },
  {
   "cell_type": "code",
   "execution_count": 6,
   "metadata": {
    "ExecuteTime": {
     "end_time": "2019-02-25T10:05:33.767058Z",
     "start_time": "2019-02-25T10:05:33.746002Z"
    },
    "scrolled": false
   },
   "outputs": [
    {
     "data": {
      "text/html": [
       "<div>\n",
       "<style scoped>\n",
       "    .dataframe tbody tr th:only-of-type {\n",
       "        vertical-align: middle;\n",
       "    }\n",
       "\n",
       "    .dataframe tbody tr th {\n",
       "        vertical-align: top;\n",
       "    }\n",
       "\n",
       "    .dataframe thead th {\n",
       "        text-align: right;\n",
       "    }\n",
       "</style>\n",
       "<table border=\"1\" class=\"dataframe\">\n",
       "  <thead>\n",
       "    <tr style=\"text-align: right;\">\n",
       "      <th></th>\n",
       "      <th>0</th>\n",
       "      <th>1</th>\n",
       "      <th>2</th>\n",
       "      <th>3</th>\n",
       "      <th>4</th>\n",
       "    </tr>\n",
       "  </thead>\n",
       "  <tbody>\n",
       "    <tr>\n",
       "      <th>m_code_rank147</th>\n",
       "      <td>0</td>\n",
       "      <td>0</td>\n",
       "      <td>0</td>\n",
       "      <td>283388</td>\n",
       "      <td>0</td>\n",
       "    </tr>\n",
       "    <tr>\n",
       "      <th>m_code_rank148</th>\n",
       "      <td>0</td>\n",
       "      <td>0</td>\n",
       "      <td>0</td>\n",
       "      <td>54335</td>\n",
       "      <td>0</td>\n",
       "    </tr>\n",
       "    <tr>\n",
       "      <th>m_code_rank149</th>\n",
       "      <td>0</td>\n",
       "      <td>0</td>\n",
       "      <td>0</td>\n",
       "      <td>259109</td>\n",
       "      <td>0</td>\n",
       "    </tr>\n",
       "    <tr>\n",
       "      <th>m_code_rank150</th>\n",
       "      <td>0</td>\n",
       "      <td>0</td>\n",
       "      <td>0</td>\n",
       "      <td>330051</td>\n",
       "      <td>0</td>\n",
       "    </tr>\n",
       "    <tr>\n",
       "      <th>card_id</th>\n",
       "      <td>C_ID_00007093c1</td>\n",
       "      <td>C_ID_0001238066</td>\n",
       "      <td>C_ID_0001506ef0</td>\n",
       "      <td>C_ID_0001793786</td>\n",
       "      <td>C_ID_000183fdda</td>\n",
       "    </tr>\n",
       "  </tbody>\n",
       "</table>\n",
       "</div>"
      ],
      "text/plain": [
       "                              0                1                2  \\\n",
       "m_code_rank147                0                0                0   \n",
       "m_code_rank148                0                0                0   \n",
       "m_code_rank149                0                0                0   \n",
       "m_code_rank150                0                0                0   \n",
       "card_id         C_ID_00007093c1  C_ID_0001238066  C_ID_0001506ef0   \n",
       "\n",
       "                              3                4  \n",
       "m_code_rank147           283388                0  \n",
       "m_code_rank148            54335                0  \n",
       "m_code_rank149           259109                0  \n",
       "m_code_rank150           330051                0  \n",
       "card_id         C_ID_0001793786  C_ID_000183fdda  "
      ]
     },
     "execution_count": 6,
     "metadata": {},
     "output_type": "execute_result"
    }
   ],
   "source": [
    "topk_m_code150.head().T.tail()"
   ]
  },
  {
   "cell_type": "code",
   "execution_count": 7,
   "metadata": {
    "ExecuteTime": {
     "end_time": "2019-02-25T10:05:33.797142Z",
     "start_time": "2019-02-25T10:05:33.769063Z"
    }
   },
   "outputs": [
    {
     "data": {
      "text/html": [
       "<div>\n",
       "<style scoped>\n",
       "    .dataframe tbody tr th:only-of-type {\n",
       "        vertical-align: middle;\n",
       "    }\n",
       "\n",
       "    .dataframe tbody tr th {\n",
       "        vertical-align: top;\n",
       "    }\n",
       "\n",
       "    .dataframe thead th {\n",
       "        text-align: right;\n",
       "    }\n",
       "</style>\n",
       "<table border=\"1\" class=\"dataframe\">\n",
       "  <thead>\n",
       "    <tr style=\"text-align: right;\">\n",
       "      <th></th>\n",
       "      <th>0</th>\n",
       "      <th>1</th>\n",
       "      <th>2</th>\n",
       "      <th>3</th>\n",
       "      <th>4</th>\n",
       "    </tr>\n",
       "  </thead>\n",
       "  <tbody>\n",
       "    <tr>\n",
       "      <th>m_value_rank147</th>\n",
       "      <td>0</td>\n",
       "      <td>0</td>\n",
       "      <td>0</td>\n",
       "      <td>13.5</td>\n",
       "      <td>0</td>\n",
       "    </tr>\n",
       "    <tr>\n",
       "      <th>m_value_rank148</th>\n",
       "      <td>0</td>\n",
       "      <td>0</td>\n",
       "      <td>0</td>\n",
       "      <td>6</td>\n",
       "      <td>0</td>\n",
       "    </tr>\n",
       "    <tr>\n",
       "      <th>m_value_rank149</th>\n",
       "      <td>0</td>\n",
       "      <td>0</td>\n",
       "      <td>0</td>\n",
       "      <td>6</td>\n",
       "      <td>0</td>\n",
       "    </tr>\n",
       "    <tr>\n",
       "      <th>m_value_rank150</th>\n",
       "      <td>0</td>\n",
       "      <td>0</td>\n",
       "      <td>0</td>\n",
       "      <td>2</td>\n",
       "      <td>0</td>\n",
       "    </tr>\n",
       "    <tr>\n",
       "      <th>card_id</th>\n",
       "      <td>C_ID_00007093c1</td>\n",
       "      <td>C_ID_0001238066</td>\n",
       "      <td>C_ID_0001506ef0</td>\n",
       "      <td>C_ID_0001793786</td>\n",
       "      <td>C_ID_000183fdda</td>\n",
       "    </tr>\n",
       "  </tbody>\n",
       "</table>\n",
       "</div>"
      ],
      "text/plain": [
       "                               0                1                2  \\\n",
       "m_value_rank147                0                0                0   \n",
       "m_value_rank148                0                0                0   \n",
       "m_value_rank149                0                0                0   \n",
       "m_value_rank150                0                0                0   \n",
       "card_id          C_ID_00007093c1  C_ID_0001238066  C_ID_0001506ef0   \n",
       "\n",
       "                               3                4  \n",
       "m_value_rank147             13.5                0  \n",
       "m_value_rank148                6                0  \n",
       "m_value_rank149                6                0  \n",
       "m_value_rank150                2                0  \n",
       "card_id          C_ID_0001793786  C_ID_000183fdda  "
      ]
     },
     "execution_count": 7,
     "metadata": {},
     "output_type": "execute_result"
    }
   ],
   "source": [
    "topk_m_value150.head().T.tail()"
   ]
  },
  {
   "cell_type": "code",
   "execution_count": 8,
   "metadata": {
    "ExecuteTime": {
     "end_time": "2019-02-25T10:05:33.877353Z",
     "start_time": "2019-02-25T10:05:33.801149Z"
    }
   },
   "outputs": [],
   "source": [
    "train = load_train()\n",
    "\n",
    "train_part = train[:20000]\n",
    "valid_part = train[10000:20000]"
   ]
  },
  {
   "cell_type": "code",
   "execution_count": 9,
   "metadata": {
    "ExecuteTime": {
     "end_time": "2019-02-25T10:05:36.840215Z",
     "start_time": "2019-02-25T10:05:33.880360Z"
    }
   },
   "outputs": [
    {
     "name": "stdout",
     "output_type": "stream",
     "text": [
      "main_m_code16\n",
      "(325540, 17)\n",
      "(325540, 17)\n",
      "main_m_value16\n",
      "(325540, 17)\n",
      "(325540, 17)\n",
      "topk_m_code150\n",
      "(325540, 151)\n",
      "(325540, 151)\n",
      "topk_m_value150\n",
      "(325540, 151)\n",
      "(325540, 151)\n"
     ]
    }
   ],
   "source": [
    "from data_io import rename_columns\n",
    "\n",
    "for name in (\"main_m_code16\",\n",
    "             \"main_m_value16\",\n",
    "             \"topk_m_code150\",\n",
    "             \"topk_m_value150\"):\n",
    "    part = load_dataframe32(features_downcast(name))\n",
    "    print(name)\n",
    "    print(part.shape)\n",
    "    part = rename_columns(part, name)\n",
    "    print(part.shape)\n",
    "    train_part = train_part.merge(part, how=\"left\", left_on=\"card_id\", right_on=\"card_id\")\n",
    "    valid_part = valid_part.merge(part, how=\"left\", left_on=\"card_id\", right_on=\"card_id\")"
   ]
  },
  {
   "cell_type": "code",
   "execution_count": 10,
   "metadata": {
    "ExecuteTime": {
     "end_time": "2019-02-25T10:05:36.869298Z",
     "start_time": "2019-02-25T10:05:36.842247Z"
    }
   },
   "outputs": [
    {
     "data": {
      "text/html": [
       "<div>\n",
       "<style scoped>\n",
       "    .dataframe tbody tr th:only-of-type {\n",
       "        vertical-align: middle;\n",
       "    }\n",
       "\n",
       "    .dataframe tbody tr th {\n",
       "        vertical-align: top;\n",
       "    }\n",
       "\n",
       "    .dataframe thead th {\n",
       "        text-align: right;\n",
       "    }\n",
       "</style>\n",
       "<table border=\"1\" class=\"dataframe\">\n",
       "  <thead>\n",
       "    <tr style=\"text-align: right;\">\n",
       "      <th></th>\n",
       "      <th>feature_1</th>\n",
       "      <th>feature_2</th>\n",
       "      <th>feature_3</th>\n",
       "      <th>target</th>\n",
       "      <th>first_active_month</th>\n",
       "      <th>card_id</th>\n",
       "      <th>main_m_lag0_main_m_code16</th>\n",
       "      <th>main_m_lag1_main_m_code16</th>\n",
       "      <th>main_m_lag2_main_m_code16</th>\n",
       "      <th>main_m_lag3_main_m_code16</th>\n",
       "      <th>...</th>\n",
       "      <th>m_value_rank141_topk_m_value150</th>\n",
       "      <th>m_value_rank142_topk_m_value150</th>\n",
       "      <th>m_value_rank143_topk_m_value150</th>\n",
       "      <th>m_value_rank144_topk_m_value150</th>\n",
       "      <th>m_value_rank145_topk_m_value150</th>\n",
       "      <th>m_value_rank146_topk_m_value150</th>\n",
       "      <th>m_value_rank147_topk_m_value150</th>\n",
       "      <th>m_value_rank148_topk_m_value150</th>\n",
       "      <th>m_value_rank149_topk_m_value150</th>\n",
       "      <th>m_value_rank150_topk_m_value150</th>\n",
       "    </tr>\n",
       "  </thead>\n",
       "  <tbody>\n",
       "    <tr>\n",
       "      <th>0</th>\n",
       "      <td>5.0</td>\n",
       "      <td>2.0</td>\n",
       "      <td>1.0</td>\n",
       "      <td>-0.820283</td>\n",
       "      <td>2017-06</td>\n",
       "      <td>C_ID_92a2005557</td>\n",
       "      <td>0</td>\n",
       "      <td>0</td>\n",
       "      <td>0</td>\n",
       "      <td>0</td>\n",
       "      <td>...</td>\n",
       "      <td>0.0</td>\n",
       "      <td>0.0</td>\n",
       "      <td>0.0</td>\n",
       "      <td>0.0</td>\n",
       "      <td>0.0</td>\n",
       "      <td>0.00</td>\n",
       "      <td>0.0</td>\n",
       "      <td>0.0</td>\n",
       "      <td>0.0</td>\n",
       "      <td>0.0</td>\n",
       "    </tr>\n",
       "    <tr>\n",
       "      <th>1</th>\n",
       "      <td>4.0</td>\n",
       "      <td>1.0</td>\n",
       "      <td>0.0</td>\n",
       "      <td>0.392913</td>\n",
       "      <td>2017-01</td>\n",
       "      <td>C_ID_3d0044924f</td>\n",
       "      <td>46728</td>\n",
       "      <td>102082</td>\n",
       "      <td>121630</td>\n",
       "      <td>297903</td>\n",
       "      <td>...</td>\n",
       "      <td>8.7</td>\n",
       "      <td>8.0</td>\n",
       "      <td>8.0</td>\n",
       "      <td>7.0</td>\n",
       "      <td>5.0</td>\n",
       "      <td>4.99</td>\n",
       "      <td>4.0</td>\n",
       "      <td>3.0</td>\n",
       "      <td>0.0</td>\n",
       "      <td>0.0</td>\n",
       "    </tr>\n",
       "    <tr>\n",
       "      <th>2</th>\n",
       "      <td>2.0</td>\n",
       "      <td>2.0</td>\n",
       "      <td>0.0</td>\n",
       "      <td>0.688056</td>\n",
       "      <td>2016-08</td>\n",
       "      <td>C_ID_d639edf6cd</td>\n",
       "      <td>112442</td>\n",
       "      <td>112442</td>\n",
       "      <td>30590</td>\n",
       "      <td>112442</td>\n",
       "      <td>...</td>\n",
       "      <td>0.0</td>\n",
       "      <td>0.0</td>\n",
       "      <td>0.0</td>\n",
       "      <td>0.0</td>\n",
       "      <td>0.0</td>\n",
       "      <td>0.00</td>\n",
       "      <td>0.0</td>\n",
       "      <td>0.0</td>\n",
       "      <td>0.0</td>\n",
       "      <td>0.0</td>\n",
       "    </tr>\n",
       "    <tr>\n",
       "      <th>3</th>\n",
       "      <td>4.0</td>\n",
       "      <td>3.0</td>\n",
       "      <td>0.0</td>\n",
       "      <td>0.142495</td>\n",
       "      <td>2017-09</td>\n",
       "      <td>C_ID_186d6a6901</td>\n",
       "      <td>0</td>\n",
       "      <td>0</td>\n",
       "      <td>0</td>\n",
       "      <td>0</td>\n",
       "      <td>...</td>\n",
       "      <td>0.0</td>\n",
       "      <td>0.0</td>\n",
       "      <td>0.0</td>\n",
       "      <td>0.0</td>\n",
       "      <td>0.0</td>\n",
       "      <td>0.00</td>\n",
       "      <td>0.0</td>\n",
       "      <td>0.0</td>\n",
       "      <td>0.0</td>\n",
       "      <td>0.0</td>\n",
       "    </tr>\n",
       "    <tr>\n",
       "      <th>4</th>\n",
       "      <td>1.0</td>\n",
       "      <td>3.0</td>\n",
       "      <td>0.0</td>\n",
       "      <td>-0.159749</td>\n",
       "      <td>2017-11</td>\n",
       "      <td>C_ID_cdbd2c0db2</td>\n",
       "      <td>0</td>\n",
       "      <td>0</td>\n",
       "      <td>0</td>\n",
       "      <td>0</td>\n",
       "      <td>...</td>\n",
       "      <td>0.0</td>\n",
       "      <td>0.0</td>\n",
       "      <td>0.0</td>\n",
       "      <td>0.0</td>\n",
       "      <td>0.0</td>\n",
       "      <td>0.00</td>\n",
       "      <td>0.0</td>\n",
       "      <td>0.0</td>\n",
       "      <td>0.0</td>\n",
       "      <td>0.0</td>\n",
       "    </tr>\n",
       "  </tbody>\n",
       "</table>\n",
       "<p>5 rows × 338 columns</p>\n",
       "</div>"
      ],
      "text/plain": [
       "   feature_1  feature_2  feature_3    target first_active_month  \\\n",
       "0        5.0        2.0        1.0 -0.820283            2017-06   \n",
       "1        4.0        1.0        0.0  0.392913            2017-01   \n",
       "2        2.0        2.0        0.0  0.688056            2016-08   \n",
       "3        4.0        3.0        0.0  0.142495            2017-09   \n",
       "4        1.0        3.0        0.0 -0.159749            2017-11   \n",
       "\n",
       "           card_id  main_m_lag0_main_m_code16  main_m_lag1_main_m_code16  \\\n",
       "0  C_ID_92a2005557                          0                          0   \n",
       "1  C_ID_3d0044924f                      46728                     102082   \n",
       "2  C_ID_d639edf6cd                     112442                     112442   \n",
       "3  C_ID_186d6a6901                          0                          0   \n",
       "4  C_ID_cdbd2c0db2                          0                          0   \n",
       "\n",
       "   main_m_lag2_main_m_code16  main_m_lag3_main_m_code16  \\\n",
       "0                          0                          0   \n",
       "1                     121630                     297903   \n",
       "2                      30590                     112442   \n",
       "3                          0                          0   \n",
       "4                          0                          0   \n",
       "\n",
       "                ...                 m_value_rank141_topk_m_value150  \\\n",
       "0               ...                                             0.0   \n",
       "1               ...                                             8.7   \n",
       "2               ...                                             0.0   \n",
       "3               ...                                             0.0   \n",
       "4               ...                                             0.0   \n",
       "\n",
       "   m_value_rank142_topk_m_value150  m_value_rank143_topk_m_value150  \\\n",
       "0                              0.0                              0.0   \n",
       "1                              8.0                              8.0   \n",
       "2                              0.0                              0.0   \n",
       "3                              0.0                              0.0   \n",
       "4                              0.0                              0.0   \n",
       "\n",
       "   m_value_rank144_topk_m_value150  m_value_rank145_topk_m_value150  \\\n",
       "0                              0.0                              0.0   \n",
       "1                              7.0                              5.0   \n",
       "2                              0.0                              0.0   \n",
       "3                              0.0                              0.0   \n",
       "4                              0.0                              0.0   \n",
       "\n",
       "   m_value_rank146_topk_m_value150  m_value_rank147_topk_m_value150  \\\n",
       "0                             0.00                              0.0   \n",
       "1                             4.99                              4.0   \n",
       "2                             0.00                              0.0   \n",
       "3                             0.00                              0.0   \n",
       "4                             0.00                              0.0   \n",
       "\n",
       "   m_value_rank148_topk_m_value150  m_value_rank149_topk_m_value150  \\\n",
       "0                              0.0                              0.0   \n",
       "1                              3.0                              0.0   \n",
       "2                              0.0                              0.0   \n",
       "3                              0.0                              0.0   \n",
       "4                              0.0                              0.0   \n",
       "\n",
       "   m_value_rank150_topk_m_value150  \n",
       "0                              0.0  \n",
       "1                              0.0  \n",
       "2                              0.0  \n",
       "3                              0.0  \n",
       "4                              0.0  \n",
       "\n",
       "[5 rows x 338 columns]"
      ]
     },
     "execution_count": 10,
     "metadata": {},
     "output_type": "execute_result"
    }
   ],
   "source": [
    "train_part.head()"
   ]
  },
  {
   "cell_type": "markdown",
   "metadata": {
    "ExecuteTime": {
     "end_time": "2019-02-25T09:41:53.718924Z",
     "start_time": "2019-02-25T09:41:53.715917Z"
    }
   },
   "source": [
    "# X_train & X_valid"
   ]
  },
  {
   "cell_type": "code",
   "execution_count": 11,
   "metadata": {
    "ExecuteTime": {
     "end_time": "2019-02-25T10:05:36.949512Z",
     "start_time": "2019-02-25T10:05:36.871299Z"
    }
   },
   "outputs": [],
   "source": [
    "def get_columns(data, name):\n",
    "    return [col for col in data.columns if col.endswith(name)]\n",
    "\n",
    "columns_m_code16 = get_columns(train_part, \"main_m_code16\")\n",
    "columns_m_values16 = get_columns(train_part, \"main_m_value16\")\n",
    "columns_topk_m_code150 = get_columns(train_part, \"topk_m_code150\")\n",
    "columns_topk_m_value150 = get_columns(train_part, \"topk_m_value150\")\n",
    "\n",
    "names = (\"main_m_code16\",\n",
    "         \"main_m_value16\",\n",
    "         \"topk_m_code150\",\n",
    "         \"topk_m_value150\")\n",
    "\n",
    "X_train = {\n",
    "    name: train_part[get_columns(train_part, name)].values\n",
    "    for name in names\n",
    "}\n",
    "\n",
    "y_train = train_part.target.values\n",
    "\n",
    "X_valid = {\n",
    "    name: valid_part[get_columns(train_part, name)].values\n",
    "    for name in names\n",
    "}\n",
    "\n",
    "y_valid = valid_part.target.values"
   ]
  },
  {
   "cell_type": "markdown",
   "metadata": {},
   "source": [
    "# model structure"
   ]
  },
  {
   "cell_type": "code",
   "execution_count": 16,
   "metadata": {
    "ExecuteTime": {
     "end_time": "2019-02-25T10:07:09.889616Z",
     "start_time": "2019-02-25T10:07:09.884604Z"
    }
   },
   "outputs": [],
   "source": [
    "import addict\n",
    "import numpy as np\n",
    "from utils import save_obj, load_obj\n",
    "from my_logger import Timer, print_info\n",
    "from sklearn.metrics import mean_squared_error\n",
    "from keras.preprocessing.text import Tokenizer\n",
    "from keras.preprocessing.sequence import pad_sequences\n",
    "from keras.layers import Dense, Input, CuDNNLSTM, Embedding, Dropout, Activation, CuDNNGRU, Conv1D, BatchNormalization\n",
    "from keras.layers import Bidirectional, GlobalMaxPool1D, Conv2D, GlobalAveragePooling2D, Reshape, Multiply, Lambda, Concatenate\n",
    "from keras.layers import RepeatVector, MaxPooling2D, Flatten\n",
    "from keras.models import Model\n",
    "from keras.models import load_model as load_model_keras\n",
    "from keras import initializers, regularizers, constraints, optimizers, layers\n",
    "from keras.optimizers import Adam\n",
    "from keras.callbacks import EarlyStopping, ModelCheckpoint, ReduceLROnPlateau, CSVLogger\n",
    "from sklearn.preprocessing import StandardScaler\n",
    "import time"
   ]
  },
  {
   "cell_type": "code",
   "execution_count": 17,
   "metadata": {
    "ExecuteTime": {
     "end_time": "2019-02-25T10:11:30.624757Z",
     "start_time": "2019-02-25T10:11:30.214590Z"
    }
   },
   "outputs": [],
   "source": [
    "max_features = 440000\n",
    "embed_size = 256\n",
    "\n",
    "main_code = Input((16,), name=\"main_m_code16\")\n",
    "topk_code = Input((150,), name=\"topk_m_code150\")\n",
    "main_value = Input((16,), name=\"main_m_value16\")\n",
    "topk_value = Input((150,), name=\"topk_m_value150\")\n",
    "\n",
    "ebd_layer = Embedding(max_features, embed_size)\n",
    "main_ebd = ebd_layer(main_code)\n",
    "topk_ebd = ebd_layer(topk_code)\n",
    "con_ebd = Concatenate(axis=1)([main_ebd, topk_ebd])\n",
    "con_ebd = Reshape((166, embed_size, 1))(con_ebd)\n",
    "con_ebd = BatchNormalization()(con_ebd)\n",
    "conv = Conv2D(64, (5, 5))(con_ebd)\n",
    "conv = Activation(\"relu\")(conv)\n",
    "conv = MaxPooling2D((5, 5))(conv)\n",
    "conv = BatchNormalization()(conv)\n",
    "conv = Conv2D(32, (3, 3))(conv)\n",
    "conv = Activation(\"relu\")(conv)\n",
    "flat_code = Flatten()(conv)\n",
    "\n",
    "main_dense = Dense(8, activation=\"sigmoid\")(main_value)\n",
    "topk_dense = Dense(64, activation=\"sigmoid\")(topk_value)\n",
    "con_dense = Concatenate()([main_dense, topk_dense, flat_code])\n",
    "con_dense = Dense(64, activation=\"relu\")(con_dense)\n",
    "con_dense = Dense(1, activation=\"linear\")(con_dense)\n",
    "\n",
    "model = Model(inputs=[main_code, topk_code, main_value, topk_value], outputs=con_dense)"
   ]
  },
  {
   "cell_type": "code",
   "execution_count": 18,
   "metadata": {
    "ExecuteTime": {
     "end_time": "2019-02-25T10:11:31.907087Z",
     "start_time": "2019-02-25T10:11:31.901096Z"
    }
   },
   "outputs": [
    {
     "name": "stdout",
     "output_type": "stream",
     "text": [
      "__________________________________________________________________________________________________\n",
      "Layer (type)                    Output Shape         Param #     Connected to                     \n",
      "==================================================================================================\n",
      "main_m_code16 (InputLayer)      (None, 16)           0                                            \n",
      "__________________________________________________________________________________________________\n",
      "topk_m_code150 (InputLayer)     (None, 150)          0                                            \n",
      "__________________________________________________________________________________________________\n",
      "embedding_2 (Embedding)         multiple             112640000   main_m_code16[0][0]              \n",
      "                                                                 topk_m_code150[0][0]             \n",
      "__________________________________________________________________________________________________\n",
      "concatenate_2 (Concatenate)     (None, 166, 256)     0           embedding_2[0][0]                \n",
      "                                                                 embedding_2[1][0]                \n",
      "__________________________________________________________________________________________________\n",
      "reshape_2 (Reshape)             (None, 166, 256, 1)  0           concatenate_2[0][0]              \n",
      "__________________________________________________________________________________________________\n",
      "batch_normalization_3 (BatchNor (None, 166, 256, 1)  4           reshape_2[0][0]                  \n",
      "__________________________________________________________________________________________________\n",
      "conv2d_3 (Conv2D)               (None, 162, 252, 64) 1664        batch_normalization_3[0][0]      \n",
      "__________________________________________________________________________________________________\n",
      "activation_3 (Activation)       (None, 162, 252, 64) 0           conv2d_3[0][0]                   \n",
      "__________________________________________________________________________________________________\n",
      "max_pooling2d_2 (MaxPooling2D)  (None, 32, 50, 64)   0           activation_3[0][0]               \n",
      "__________________________________________________________________________________________________\n",
      "batch_normalization_4 (BatchNor (None, 32, 50, 64)   256         max_pooling2d_2[0][0]            \n",
      "__________________________________________________________________________________________________\n",
      "conv2d_4 (Conv2D)               (None, 30, 48, 32)   18464       batch_normalization_4[0][0]      \n",
      "__________________________________________________________________________________________________\n",
      "main_m_value16 (InputLayer)     (None, 16)           0                                            \n",
      "__________________________________________________________________________________________________\n",
      "topk_m_value150 (InputLayer)    (None, 150)          0                                            \n",
      "__________________________________________________________________________________________________\n",
      "activation_4 (Activation)       (None, 30, 48, 32)   0           conv2d_4[0][0]                   \n",
      "__________________________________________________________________________________________________\n",
      "dense_1 (Dense)                 (None, 8)            136         main_m_value16[0][0]             \n",
      "__________________________________________________________________________________________________\n",
      "dense_2 (Dense)                 (None, 64)           9664        topk_m_value150[0][0]            \n",
      "__________________________________________________________________________________________________\n",
      "flatten_1 (Flatten)             (None, 46080)        0           activation_4[0][0]               \n",
      "__________________________________________________________________________________________________\n",
      "concatenate_3 (Concatenate)     (None, 46152)        0           dense_1[0][0]                    \n",
      "                                                                 dense_2[0][0]                    \n",
      "                                                                 flatten_1[0][0]                  \n",
      "__________________________________________________________________________________________________\n",
      "dense_3 (Dense)                 (None, 64)           2953792     concatenate_3[0][0]              \n",
      "__________________________________________________________________________________________________\n",
      "dense_4 (Dense)                 (None, 1)            65          dense_3[0][0]                    \n",
      "==================================================================================================\n",
      "Total params: 115,624,045\n",
      "Trainable params: 115,623,915\n",
      "Non-trainable params: 130\n",
      "__________________________________________________________________________________________________\n"
     ]
    }
   ],
   "source": [
    "model.summary()"
   ]
  },
  {
   "cell_type": "code",
   "execution_count": 19,
   "metadata": {
    "ExecuteTime": {
     "end_time": "2019-02-25T10:12:09.899020Z",
     "start_time": "2019-02-25T10:12:09.839832Z"
    }
   },
   "outputs": [],
   "source": [
    "model.compile(loss='mean_squared_error', optimizer=\"adam\", metrics=['mean_squared_error'])"
   ]
  },
  {
   "cell_type": "markdown",
   "metadata": {},
   "source": [
    "# trainning"
   ]
  },
  {
   "cell_type": "code",
   "execution_count": 28,
   "metadata": {
    "ExecuteTime": {
     "end_time": "2019-02-25T10:16:32.367188Z",
     "start_time": "2019-02-25T10:16:32.361173Z"
    }
   },
   "outputs": [],
   "source": [
    "def get_curdate():\n",
    "    return time.strftime('%Y%m%d_%H%M%S', time.localtime(time.time()))\n",
    "\n",
    "model_name = \"notebook038\"\n",
    "metric_name = \"val_mean_squared_error\"\n",
    "batch_size = 64  # 512\n",
    "epochs = 50  # 5\n",
    "cur_time = get_curdate()\n",
    "model_filepath = \"./keras_temp/{}_{}.h5\".format(model_name, cur_time)\n",
    "log_filepath = \"./keras_temp/{}_{}.csv\".format(model_name, cur_time)\n",
    "# X_train = pad_sequences(X_train, maxlen=maxlen, padding=\"pre\", truncating=\"pre\")\n",
    "# X_valid = pad_sequences(X_valid, maxlen=maxlen, padding=\"pre\", truncating=\"pre\")\n",
    "\n",
    "# print_info(\"keras_params\", keras_params)\n",
    "# print_info(\"keras_params.num_boost_round\", keras_params.num_boost_round)\n",
    "# print_info(\"keras_params.early_stopping_rounds\", keras_params.early_stopping_rounds)\n",
    "# print_info(\"keras_params.verbose_eval\", keras_params.verbose_eval)\n",
    "\n",
    "early_stopping = EarlyStopping(monitor=metric_name, mode='min', patience=10, verbose=1)\n",
    "model_checkpoint = ModelCheckpoint(model_filepath, monitor=metric_name, mode='min', save_best_only=True, verbose=1)\n",
    "reduce_lr = ReduceLROnPlateau(monitor=metric_name, mode='min', factor=0.5, patience=5, min_lr=0.000005, verbose=1)  # patience=5, factor=0.2\n",
    "model_logger = CSVLogger(log_filepath, separator=',', append=False)"
   ]
  },
  {
   "cell_type": "code",
   "execution_count": 29,
   "metadata": {
    "ExecuteTime": {
     "end_time": "2019-02-25T10:57:33.134789Z",
     "start_time": "2019-02-25T10:16:34.965094Z"
    }
   },
   "outputs": [
    {
     "name": "stdout",
     "output_type": "stream",
     "text": [
      "Train on 20000 samples, validate on 10000 samples\n",
      "Epoch 1/50\n",
      "\n",
      "Epoch 00001: val_mean_squared_error improved from inf to 14.52244, saving model to ./keras_temp/notebook038_20190225_181632.h5\n",
      "Epoch 2/50\n",
      "\n",
      "Epoch 00002: val_mean_squared_error improved from 14.52244 to 14.49120, saving model to ./keras_temp/notebook038_20190225_181632.h5\n",
      "Epoch 3/50\n",
      "\n",
      "Epoch 00003: val_mean_squared_error improved from 14.49120 to 14.46098, saving model to ./keras_temp/notebook038_20190225_181632.h5\n",
      "Epoch 4/50\n",
      "\n",
      "Epoch 00004: val_mean_squared_error improved from 14.46098 to 14.43747, saving model to ./keras_temp/notebook038_20190225_181632.h5\n",
      "Epoch 5/50\n",
      "\n",
      "Epoch 00005: val_mean_squared_error improved from 14.43747 to 14.42164, saving model to ./keras_temp/notebook038_20190225_181632.h5\n",
      "Epoch 6/50\n",
      "\n",
      "Epoch 00006: val_mean_squared_error improved from 14.42164 to 14.41160, saving model to ./keras_temp/notebook038_20190225_181632.h5\n",
      "Epoch 7/50\n",
      "\n",
      "Epoch 00007: val_mean_squared_error improved from 14.41160 to 14.40600, saving model to ./keras_temp/notebook038_20190225_181632.h5\n",
      "Epoch 8/50\n",
      "\n",
      "Epoch 00008: val_mean_squared_error improved from 14.40600 to 14.40408, saving model to ./keras_temp/notebook038_20190225_181632.h5\n",
      "Epoch 9/50\n",
      "\n",
      "Epoch 00009: val_mean_squared_error improved from 14.40408 to 14.40286, saving model to ./keras_temp/notebook038_20190225_181632.h5\n",
      "Epoch 10/50\n",
      "\n",
      "Epoch 00010: val_mean_squared_error improved from 14.40286 to 14.40258, saving model to ./keras_temp/notebook038_20190225_181632.h5\n",
      "Epoch 11/50\n",
      "\n",
      "Epoch 00011: val_mean_squared_error improved from 14.40258 to 14.40245, saving model to ./keras_temp/notebook038_20190225_181632.h5\n",
      "Epoch 12/50\n",
      "\n",
      "Epoch 00012: val_mean_squared_error improved from 14.40245 to 14.40241, saving model to ./keras_temp/notebook038_20190225_181632.h5\n",
      "Epoch 13/50\n",
      "\n",
      "Epoch 00013: val_mean_squared_error improved from 14.40241 to 14.40236, saving model to ./keras_temp/notebook038_20190225_181632.h5\n",
      "Epoch 14/50\n",
      "\n",
      "Epoch 00014: val_mean_squared_error did not improve from 14.40236\n",
      "Epoch 15/50\n",
      "\n",
      "Epoch 00015: val_mean_squared_error improved from 14.40236 to 14.40234, saving model to ./keras_temp/notebook038_20190225_181632.h5\n",
      "Epoch 16/50\n",
      "\n",
      "Epoch 00016: val_mean_squared_error did not improve from 14.40234\n",
      "Epoch 17/50\n",
      "\n",
      "Epoch 00017: val_mean_squared_error did not improve from 14.40234\n",
      "Epoch 18/50\n",
      "\n",
      "Epoch 00018: val_mean_squared_error did not improve from 14.40234\n",
      "Epoch 19/50\n",
      "\n",
      "Epoch 00019: val_mean_squared_error improved from 14.40234 to 14.40234, saving model to ./keras_temp/notebook038_20190225_181632.h5\n",
      "Epoch 20/50\n",
      "\n",
      "Epoch 00020: ReduceLROnPlateau reducing learning rate to 0.0005000000237487257.\n",
      "\n",
      "Epoch 00020: val_mean_squared_error improved from 14.40234 to 14.40233, saving model to ./keras_temp/notebook038_20190225_181632.h5\n",
      "Epoch 21/50\n",
      "\n",
      "Epoch 00021: val_mean_squared_error did not improve from 14.40233\n",
      "Epoch 22/50\n",
      "\n",
      "Epoch 00022: val_mean_squared_error did not improve from 14.40233\n",
      "Epoch 23/50\n",
      "\n",
      "Epoch 00023: val_mean_squared_error did not improve from 14.40233\n",
      "Epoch 24/50\n",
      "\n",
      "Epoch 00024: val_mean_squared_error did not improve from 14.40233\n",
      "Epoch 25/50\n",
      "\n",
      "Epoch 00025: ReduceLROnPlateau reducing learning rate to 0.0002500000118743628.\n",
      "\n",
      "Epoch 00025: val_mean_squared_error did not improve from 14.40233\n",
      "Epoch 26/50\n",
      "\n",
      "Epoch 00026: val_mean_squared_error did not improve from 14.40233\n",
      "Epoch 27/50\n",
      "\n",
      "Epoch 00027: val_mean_squared_error did not improve from 14.40233\n",
      "Epoch 28/50\n",
      "\n",
      "Epoch 00028: val_mean_squared_error did not improve from 14.40233\n",
      "Epoch 29/50\n",
      "\n",
      "Epoch 00029: val_mean_squared_error did not improve from 14.40233\n",
      "Epoch 30/50\n",
      "\n",
      "Epoch 00030: ReduceLROnPlateau reducing learning rate to 0.0001250000059371814.\n",
      "\n",
      "Epoch 00030: val_mean_squared_error did not improve from 14.40233\n",
      "Epoch 00030: early stopping\n"
     ]
    },
    {
     "data": {
      "text/plain": [
       "<keras.callbacks.History at 0x123c7b55b00>"
      ]
     },
     "execution_count": 29,
     "metadata": {},
     "output_type": "execute_result"
    }
   ],
   "source": [
    "model.fit(X_train, y_train,\n",
    "          batch_size=batch_size,\n",
    "          epochs=epochs,\n",
    "          validation_data=(X_valid, y_valid),\n",
    "          callbacks=[early_stopping, reduce_lr, model_checkpoint, model_logger],\n",
    "          verbose=20)"
   ]
  }
 ],
 "metadata": {
  "kernelspec": {
   "display_name": "Python 3",
   "language": "python",
   "name": "python3"
  },
  "language_info": {
   "codemirror_mode": {
    "name": "ipython",
    "version": 3
   },
   "file_extension": ".py",
   "mimetype": "text/x-python",
   "name": "python",
   "nbconvert_exporter": "python",
   "pygments_lexer": "ipython3",
   "version": "3.6.6"
  },
  "toc": {
   "base_numbering": 1,
   "nav_menu": {},
   "number_sections": true,
   "sideBar": true,
   "skip_h1_title": false,
   "title_cell": "Table of Contents",
   "title_sidebar": "Contents",
   "toc_cell": false,
   "toc_position": {},
   "toc_section_display": true,
   "toc_window_display": true
  },
  "varInspector": {
   "cols": {
    "lenName": 16,
    "lenType": 16,
    "lenVar": 40
   },
   "kernels_config": {
    "python": {
     "delete_cmd_postfix": "",
     "delete_cmd_prefix": "del ",
     "library": "var_list.py",
     "varRefreshCmd": "print(var_dic_list())"
    },
    "r": {
     "delete_cmd_postfix": ") ",
     "delete_cmd_prefix": "rm(",
     "library": "var_list.r",
     "varRefreshCmd": "cat(var_dic_list()) "
    }
   },
   "types_to_exclude": [
    "module",
    "function",
    "builtin_function_or_method",
    "instance",
    "_Feature"
   ],
   "window_display": false
  }
 },
 "nbformat": 4,
 "nbformat_minor": 2
}
